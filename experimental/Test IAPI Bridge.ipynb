{
 "cells": [
  {
   "cell_type": "markdown",
   "metadata": {},
   "source": [
    "# IAPI Bridge Test"
   ]
  },
  {
   "cell_type": "markdown",
   "metadata": {},
   "source": [
    "Stand-alone codes using Pythonnet to connect to IAPI"
   ]
  },
  {
   "cell_type": "code",
   "execution_count": 1,
   "metadata": {},
   "outputs": [],
   "source": [
    "%matplotlib inline\n",
    "%load_ext autoreload\n",
    "%autoreload 2"
   ]
  },
  {
   "cell_type": "code",
   "execution_count": 2,
   "metadata": {},
   "outputs": [],
   "source": [
    "import sys\n",
    "import os\n",
    "import glob\n",
    "import datetime\n",
    "import time\n",
    "from pathlib import Path\n",
    "\n",
    "from IPython import display\n",
    "import pylab as plt\n",
    "import numpy as np\n",
    "import clr\n",
    "import atexit"
   ]
  },
  {
   "cell_type": "markdown",
   "metadata": {},
   "source": [
    "## Calling the IAPI Bridge from Python"
   ]
  },
  {
   "cell_type": "markdown",
   "metadata": {},
   "source": [
    "### Load our custom assembly"
   ]
  },
  {
   "cell_type": "code",
   "execution_count": 3,
   "metadata": {},
   "outputs": [],
   "source": [
    "ref_dir = 'C:\\\\Users\\\\joewa\\\\Work\\\\git\\\\vimms\\\\Interface\\\\FusionLibrary\\\\bin\\\\Debug\\\\netstandard2.0'\n",
    "if ref_dir not in sys.path:\n",
    "    sys.path.append(ref_dir)"
   ]
  },
  {
   "cell_type": "code",
   "execution_count": 4,
   "metadata": {},
   "outputs": [
    {
     "name": "stdout",
     "output_type": "stream",
     "text": [
      "C:\\Users\\joewa\\Work\\git\\vimms\\Interface\\FusionLibrary\\bin\\Debug\\netstandard2.0\\FusionLibrary.dll\n"
     ]
    }
   ],
   "source": [
    "print(clr.FindAssembly('FusionLibrary'))"
   ]
  },
  {
   "cell_type": "code",
   "execution_count": 5,
   "metadata": {},
   "outputs": [
    {
     "data": {
      "text/plain": [
       "['mscorlib',\n",
       " 'clrmodule',\n",
       " 'Python.Runtime',\n",
       " 'System.Core',\n",
       " 'System.Configuration',\n",
       " 'System.Xml',\n",
       " 'System',\n",
       " '__CodeGenerator_Assembly',\n",
       " 'e__NativeCall_Assembly']"
      ]
     },
     "execution_count": 5,
     "metadata": {},
     "output_type": "execute_result"
    }
   ],
   "source": [
    "list(clr.ListAssemblies(False))"
   ]
  },
  {
   "cell_type": "code",
   "execution_count": 6,
   "metadata": {},
   "outputs": [],
   "source": [
    "ref = clr.AddReference('FusionLibrary')"
   ]
  },
  {
   "cell_type": "code",
   "execution_count": 7,
   "metadata": {},
   "outputs": [
    {
     "data": {
      "text/plain": [
       "['mscorlib',\n",
       " 'clrmodule',\n",
       " 'Python.Runtime',\n",
       " 'System.Core',\n",
       " 'System.Configuration',\n",
       " 'System.Xml',\n",
       " 'System',\n",
       " '__CodeGenerator_Assembly',\n",
       " 'e__NativeCall_Assembly',\n",
       " 'FusionLibrary',\n",
       " 'netstandard',\n",
       " 'Fusion.API-1.0',\n",
       " 'API-2.0',\n",
       " 'Spectrum-1.0']"
      ]
     },
     "execution_count": 7,
     "metadata": {},
     "output_type": "execute_result"
    }
   ],
   "source": [
    "list(clr.ListAssemblies(False))"
   ]
  },
  {
   "cell_type": "markdown",
   "metadata": {},
   "source": [
    "### Create FusionBridge"
   ]
  },
  {
   "cell_type": "markdown",
   "metadata": {},
   "source": [
    "Below codes generate a bunch of custom scans"
   ]
  },
  {
   "cell_type": "code",
   "execution_count": 8,
   "metadata": {},
   "outputs": [],
   "source": [
    "from FusionLibrary import FusionBridge"
   ]
  },
  {
   "cell_type": "code",
   "execution_count": 9,
   "metadata": {},
   "outputs": [],
   "source": [
    "filename = 'C:\\\\Users\\\\joewa\\\\University of Glasgow\\\\Vinny Davies - CLDS Metabolomics Project\\\\Data\\\\multibeers_urine_data\\\\beers\\\\fragmentation\\\\mzML\\\\Beer_multibeers_1_T10_POS.mzML'\n",
    "# filename = None # to connect to the actual machine"
   ]
  },
  {
   "cell_type": "code",
   "execution_count": 10,
   "metadata": {},
   "outputs": [],
   "source": [
    "def scan_handler(scan):\n",
    "    print('Received scan %s -- %d peaks' % (scan.Header['Scan'], scan.CentroidCount))\n",
    "    \n",
    "def state_changed_handler(state):\n",
    "    print('state_change_handler is called')\n",
    "\n",
    "class CustomScanHandler(object):\n",
    "    def __init__(self, fusion_bridge, start_mz, end_mz, isolation_width, collision_energy):\n",
    "        self.start_mz = start_mz\n",
    "        self.end_mz = end_mz\n",
    "        self.isolation_width = isolation_width\n",
    "        self.collision_energy = collision_energy\n",
    "        self.precursor_mass = self.start_mz\n",
    "        self.fusion_bridge = fusion_bridge\n",
    "            \n",
    "    def step(self):\n",
    "        print('custom_scan_handler called')\n",
    "        if self.precursor_mass < self.end_mz:\n",
    "            self.precursor_mass += 0.02\n",
    "            self.fusion_bridge.CreateCustomScan(self.precursor_mass, self.isolation_width, self.collision_energy, 2)"
   ]
  },
  {
   "cell_type": "code",
   "execution_count": 11,
   "metadata": {},
   "outputs": [],
   "source": [
    "start_mz = 524.0\n",
    "end_mz = 524.5\n",
    "isolation_width = 0.7\n",
    "collision_energy = 35"
   ]
  },
  {
   "cell_type": "code",
   "execution_count": 12,
   "metadata": {},
   "outputs": [
    {
     "name": "stdout",
     "output_type": "stream",
     "text": [
      "custom_scan_handler called\n",
      "custom_scan_handler called\n",
      "custom_scan_handler called\n",
      "custom_scan_handler called\n",
      "custom_scan_handler called\n",
      "custom_scan_handler called\n",
      "custom_scan_handler called\n",
      "custom_scan_handler called\n",
      "custom_scan_handler called\n",
      "custom_scan_handler called\n",
      "custom_scan_handler called\n",
      "custom_scan_handler called\n",
      "custom_scan_handler called\n",
      "custom_scan_handler called\n",
      "custom_scan_handler called\n",
      "custom_scan_handler called\n",
      "custom_scan_handler called\n",
      "custom_scan_handler called\n",
      "custom_scan_handler called\n",
      "custom_scan_handler called\n",
      "custom_scan_handler called\n",
      "custom_scan_handler called\n",
      "custom_scan_handler called\n",
      "custom_scan_handler called\n",
      "custom_scan_handler called\n",
      "custom_scan_handler called\n",
      "custom_scan_handler called\n",
      "Received scan 2 -- 16 peaks\n",
      "Received scan 3 -- 20 peaks\n",
      "Received scan 4 -- 22 peaks\n",
      "Received scan 5 -- 14 peaks\n",
      "Received scan 6 -- 18 peaks\n",
      "Received scan 7 -- 33 peaks\n",
      "Received scan 8 -- 8 peaks\n",
      "Received scan 9 -- 13 peaks\n",
      "Received scan 10 -- 11 peaks\n",
      "Received scan 11 -- 2514 peaks\n",
      "Received scan 12 -- 23 peaks\n",
      "Received scan 13 -- 30 peaks\n",
      "Received scan 14 -- 5 peaks\n",
      "Received scan 15 -- 12 peaks\n",
      "Received scan 16 -- 17 peaks\n",
      "Received scan 17 -- 20 peaks\n",
      "Received scan 18 -- 27 peaks\n",
      "Received scan 19 -- 4 peaks\n",
      "Received scan 20 -- 20 peaks\n",
      "Received scan 21 -- 7 peaks\n",
      "Received scan 22 -- 1782 peaks\n",
      "Received scan 23 -- 12 peaks\n",
      "Received scan 24 -- 9 peaks\n",
      "Received scan 25 -- 17 peaks\n",
      "Received scan 26 -- 11 peaks\n",
      "Received scan 27 -- 14 peaks\n",
      "Received scan 28 -- 1748 peaks\n",
      "Received scan 29 -- 21 peaks\n",
      "Received scan 30 -- 17 peaks\n",
      "Received scan 31 -- 18 peaks\n",
      "Received scan 32 -- 1731 peaks\n",
      "Received scan 33 -- 1730 peaks\n",
      "Received scan 34 -- 8 peaks\n",
      "Received scan 35 -- 20 peaks\n",
      "Received scan 36 -- 1607 peaks\n",
      "Received scan 37 -- 1589 peaks\n",
      "Received scan 38 -- 1657 peaks\n",
      "Received scan 39 -- 10 peaks\n",
      "Received scan 40 -- 8 peaks\n",
      "Received scan 41 -- 18 peaks\n",
      "Received scan 42 -- 1527 peaks\n",
      "Received scan 43 -- 1623 peaks\n",
      "Received scan 44 -- 13 peaks\n",
      "Received scan 45 -- 11 peaks\n",
      "Received scan 46 -- 18 peaks\n",
      "Received scan 47 -- 18 peaks\n",
      "Received scan 48 -- 17 peaks\n",
      "Received scan 49 -- 1389 peaks\n",
      "Received scan 50 -- 1510 peaks\n",
      "Received scan 51 -- 1496 peaks\n",
      "Received scan 52 -- 1552 peaks\n",
      "Received scan 53 -- 1550 peaks\n",
      "Received scan 54 -- 1420 peaks\n",
      "Received scan 55 -- 1584 peaks\n",
      "Received scan 56 -- 1482 peaks\n",
      "Received scan 57 -- 1563 peaks\n",
      "Received scan 58 -- 1488 peaks\n",
      "Received scan 59 -- 1452 peaks\n",
      "Received scan 60 -- 1587 peaks\n",
      "Received scan 61 -- 1429 peaks\n",
      "Received scan 62 -- 1551 peaks\n",
      "Received scan 63 -- 1510 peaks\n",
      "Received scan 64 -- 1564 peaks\n",
      "Received scan 65 -- 1403 peaks\n",
      "Received scan 66 -- 1514 peaks\n",
      "Received scan 67 -- 1611 peaks\n",
      "Received scan 68 -- 1511 peaks\n",
      "Received scan 69 -- 1500 peaks\n",
      "Received scan 70 -- 1492 peaks\n",
      "Received scan 71 -- 1527 peaks\n",
      "Received scan 72 -- 1482 peaks\n",
      "Received scan 73 -- 1466 peaks\n",
      "Received scan 74 -- 1498 peaks\n",
      "Received scan 75 -- 1556 peaks\n",
      "Received scan 76 -- 15 peaks\n",
      "Received scan 77 -- 1526 peaks\n",
      "Received scan 78 -- 22 peaks\n",
      "Received scan 79 -- 20 peaks\n",
      "Received scan 80 -- 1576 peaks\n",
      "Received scan 81 -- 17 peaks\n",
      "Received scan 82 -- 35 peaks\n",
      "Received scan 83 -- 16 peaks\n",
      "Received scan 84 -- 1537 peaks\n",
      "Received scan 85 -- 17 peaks\n",
      "Received scan 86 -- 11 peaks\n",
      "Received scan 87 -- 19 peaks\n",
      "Received scan 88 -- 1541 peaks\n",
      "Received scan 89 -- 4 peaks\n",
      "Received scan 90 -- 13 peaks\n",
      "Received scan 91 -- 24 peaks\n",
      "Received scan 92 -- 15 peaks\n",
      "Received scan 93 -- 1574 peaks\n",
      "Received scan 94 -- 6 peaks\n",
      "Received scan 95 -- 23 peaks\n",
      "Received scan 96 -- 1528 peaks\n",
      "Received scan 97 -- 16 peaks\n",
      "Received scan 98 -- 19 peaks\n",
      "Received scan 99 -- 1551 peaks\n",
      "Received scan 100 -- 11 peaks\n",
      "Received scan 101 -- 17 peaks\n",
      "Received scan 102 -- 1564 peaks\n",
      "Received scan 103 -- 14 peaks\n",
      "Received scan 104 -- 14 peaks\n",
      "Received scan 105 -- 34 peaks\n",
      "Received scan 106 -- 8 peaks\n",
      "Received scan 107 -- 1565 peaks\n",
      "Received scan 108 -- 12 peaks\n",
      "Received scan 109 -- 15 peaks\n",
      "Received scan 110 -- 1510 peaks\n",
      "Received scan 111 -- 1605 peaks\n",
      "Received scan 112 -- 1590 peaks\n",
      "Received scan 113 -- 1579 peaks\n",
      "Received scan 114 -- 27 peaks\n",
      "Received scan 115 -- 1507 peaks\n",
      "Received scan 116 -- 1572 peaks\n",
      "Received scan 117 -- 1471 peaks\n",
      "Received scan 118 -- 18 peaks\n",
      "Received scan 119 -- 1615 peaks\n",
      "Received scan 120 -- 1608 peaks\n",
      "Received scan 121 -- 9 peaks\n",
      "Received scan 122 -- 16 peaks\n",
      "Received scan 123 -- 1532 peaks\n",
      "Received scan 124 -- 1575 peaks\n",
      "Received scan 125 -- 1503 peaks\n",
      "Received scan 126 -- 1560 peaks\n",
      "Received scan 127 -- 1657 peaks\n",
      "Received scan 128 -- 1510 peaks\n",
      "Received scan 129 -- 16 peaks\n",
      "Received scan 130 -- 1602 peaks\n",
      "Received scan 131 -- 1531 peaks\n",
      "Received scan 132 -- 1607 peaks\n",
      "Received scan 133 -- 1489 peaks\n",
      "Received scan 134 -- 1558 peaks\n",
      "Received scan 135 -- 1493 peaks\n",
      "Received scan 136 -- 1549 peaks\n",
      "Received scan 137 -- 1535 peaks\n",
      "Received scan 138 -- 1513 peaks\n",
      "Received scan 139 -- 1500 peaks\n",
      "Received scan 140 -- 1519 peaks\n",
      "Received scan 141 -- 1478 peaks\n",
      "Received scan 142 -- 1466 peaks\n",
      "Received scan 143 -- 10 peaks\n",
      "Received scan 144 -- 1527 peaks\n",
      "Received scan 145 -- 1533 peaks\n"
     ]
    }
   ],
   "source": [
    "fusion_bridge = FusionBridge(filename)\n",
    "atexit.register(fusion_bridge.CloseDown)\n",
    "\n",
    "# create event handlers\n",
    "scan_handler_delegate = FusionBridge.UserScanArriveDelegate(scan_handler)\n",
    "state_changed_delegate = FusionBridge.UserStateChangedDelegate(state_changed_handler)\n",
    "scan_handler = CustomScanHandler(fusion_bridge, start_mz, end_mz, isolation_width, collision_energy)\n",
    "custom_scan_delegate = FusionBridge.UserCreateCustomScanDelegate(scan_handler.step)\n",
    "\n",
    "fusion_bridge.SetEventHandlers(scan_handler_delegate, state_changed_delegate, custom_scan_delegate)\n",
    "fusion_bridge.CreateCustomScan(start_mz, isolation_width, collision_energy, 2)"
   ]
  }
 ],
 "metadata": {
  "kernelspec": {
   "display_name": "Python 3",
   "language": "python",
   "name": "python3"
  },
  "language_info": {
   "codemirror_mode": {
    "name": "ipython",
    "version": 3
   },
   "file_extension": ".py",
   "mimetype": "text/x-python",
   "name": "python",
   "nbconvert_exporter": "python",
   "pygments_lexer": "ipython3",
   "version": "3.7.3"
  }
 },
 "nbformat": 4,
 "nbformat_minor": 4
}
