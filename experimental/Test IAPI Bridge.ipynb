{
 "cells": [
  {
   "cell_type": "markdown",
   "metadata": {},
   "source": [
    "# IAPI Bridge Test"
   ]
  },
  {
   "cell_type": "markdown",
   "metadata": {},
   "source": [
    "Stand-alone codes using Pythonnet to connect to IAPI"
   ]
  },
  {
   "cell_type": "code",
   "execution_count": 1,
   "metadata": {},
   "outputs": [],
   "source": [
    "%matplotlib inline\n",
    "%load_ext autoreload\n",
    "%autoreload 2"
   ]
  },
  {
   "cell_type": "code",
   "execution_count": 2,
   "metadata": {},
   "outputs": [],
   "source": [
    "import sys\n",
    "import os\n",
    "import glob\n",
    "import datetime\n",
    "import time\n",
    "from pathlib import Path\n",
    "\n",
    "from IPython import display\n",
    "import pylab as plt\n",
    "import numpy as np\n",
    "import clr\n",
    "import atexit"
   ]
  },
  {
   "cell_type": "code",
   "execution_count": 3,
   "metadata": {},
   "outputs": [],
   "source": [
    "import sys\n",
    "sys.path.append('C:\\\\Users\\\\joewa\\\\Work\\\\git\\\\vimms')\n",
    "sys.path.append('C:\\\\Users\\\\Vinny\\\\work\\\\vimms')\n",
    "\n",
    "from vimms.Common import *"
   ]
  },
  {
   "cell_type": "markdown",
   "metadata": {},
   "source": [
    "## Calling the IAPI Bridge from Python"
   ]
  },
  {
   "cell_type": "markdown",
   "metadata": {},
   "source": [
    "### Load our custom assembly"
   ]
  },
  {
   "cell_type": "code",
   "execution_count": 4,
   "metadata": {},
   "outputs": [],
   "source": [
    "ref_dir = 'C:\\\\Users\\\\joewa\\\\Work\\\\git\\\\vimms\\\\Interface\\\\FusionLibrary\\\\bin\\\\Debug\\\\netstandard2.0'\n",
    "if ref_dir not in sys.path:\n",
    "    sys.path.append(ref_dir)"
   ]
  },
  {
   "cell_type": "code",
   "execution_count": 5,
   "metadata": {},
   "outputs": [
    {
     "name": "stdout",
     "output_type": "stream",
     "text": [
      "C:\\Users\\joewa\\Work\\git\\vimms\\Interface\\FusionLibrary\\bin\\Debug\\netstandard2.0\\FusionLibrary.dll\n"
     ]
    }
   ],
   "source": [
    "print(clr.FindAssembly('FusionLibrary'))"
   ]
  },
  {
   "cell_type": "code",
   "execution_count": 6,
   "metadata": {},
   "outputs": [
    {
     "data": {
      "text/plain": [
       "['mscorlib',\n",
       " 'clrmodule',\n",
       " 'Python.Runtime',\n",
       " 'System.Core',\n",
       " 'System.Configuration',\n",
       " 'System.Xml',\n",
       " 'System',\n",
       " '__CodeGenerator_Assembly',\n",
       " 'e__NativeCall_Assembly']"
      ]
     },
     "execution_count": 6,
     "metadata": {},
     "output_type": "execute_result"
    }
   ],
   "source": [
    "list(clr.ListAssemblies(False))"
   ]
  },
  {
   "cell_type": "code",
   "execution_count": 7,
   "metadata": {},
   "outputs": [],
   "source": [
    "ref = clr.AddReference('FusionLibrary')"
   ]
  },
  {
   "cell_type": "code",
   "execution_count": 8,
   "metadata": {},
   "outputs": [
    {
     "data": {
      "text/plain": [
       "['mscorlib',\n",
       " 'clrmodule',\n",
       " 'Python.Runtime',\n",
       " 'System.Core',\n",
       " 'System.Configuration',\n",
       " 'System.Xml',\n",
       " 'System',\n",
       " '__CodeGenerator_Assembly',\n",
       " 'e__NativeCall_Assembly',\n",
       " 'FusionLibrary',\n",
       " 'netstandard',\n",
       " 'Fusion.API-1.0',\n",
       " 'API-2.0',\n",
       " 'Spectrum-1.0']"
      ]
     },
     "execution_count": 8,
     "metadata": {},
     "output_type": "execute_result"
    }
   ],
   "source": [
    "list(clr.ListAssemblies(False))"
   ]
  },
  {
   "cell_type": "markdown",
   "metadata": {},
   "source": [
    "### Create FusionBridge"
   ]
  },
  {
   "cell_type": "markdown",
   "metadata": {},
   "source": [
    "Below codes generate a bunch of custom scans"
   ]
  },
  {
   "cell_type": "code",
   "execution_count": 9,
   "metadata": {},
   "outputs": [],
   "source": [
    "from FusionLibrary import FusionBridge"
   ]
  },
  {
   "cell_type": "code",
   "execution_count": 10,
   "metadata": {},
   "outputs": [],
   "source": [
    "filename = 'C:\\\\Users\\\\joewa\\\\University of Glasgow\\\\Vinny Davies - CLDS Metabolomics Project\\\\Data\\\\multibeers_urine_data\\\\beers\\\\fragmentation\\\\mzML\\\\Beer_multibeers_1_T10_POS.mzML'\n",
    "# filename = None # to connect to the actual machine"
   ]
  },
  {
   "cell_type": "code",
   "execution_count": 11,
   "metadata": {},
   "outputs": [],
   "source": [
    "def scan_handler(scan):\n",
    "    print('Received scan %s -- %d peaks' % (scan.Header['Scan'], scan.CentroidCount))\n",
    "    \n",
    "def state_changed_handler(state):\n",
    "    print('state_change_handler is called')\n",
    "\n",
    "class CustomScanHandler(object):\n",
    "    def __init__(self, fusion_bridge, start_mz, end_mz, isolation_width, collision_energy, ms_level, polarity, first_mass, last_mass, single_processing_delay):\n",
    "        self.start_mz = start_mz\n",
    "        self.end_mz = end_mz\n",
    "        self.isolation_width = isolation_width\n",
    "        self.collision_energy = collision_energy\n",
    "        self.ms_level = ms_level\n",
    "        self.polarity = polarity\n",
    "        self.first_mass = first_mass\n",
    "        self.last_mass = last_mass\n",
    "        self.single_processing_delay = single_processing_delay        \n",
    "        self.precursor_mass = self.start_mz\n",
    "        self.fusion_bridge = fusion_bridge\n",
    "        self.running_number = 100000\n",
    "            \n",
    "    def step(self):\n",
    "        if self.precursor_mass < self.end_mz:\n",
    "            print('custom_scan_handler called for precursor_mass %f' % self.precursor_mass)\n",
    "            self.fusion_bridge.CreateCustomScan(self.running_number, self.precursor_mass, self.isolation_width, self.collision_energy, self.ms_level, self.polarity, \n",
    "                                                self.first_mass, self.last_mass, self.single_processing_delay)\n",
    "            self.precursor_mass += 0.02\n",
    "            self.running_number += 1"
   ]
  },
  {
   "cell_type": "code",
   "execution_count": 12,
   "metadata": {},
   "outputs": [],
   "source": [
    "start_mz = 524.0\n",
    "end_mz = 525.0\n",
    "\n",
    "# custom scan parameters\n",
    "isolation_width = 0.7\n",
    "collision_energy = 35.0\n",
    "ms_level = 2\n",
    "polarity = POSITIVE\n",
    "first_mass = 50.0\n",
    "last_mass = 600.0\n",
    "single_processing_delay = 0.50"
   ]
  },
  {
   "cell_type": "code",
   "execution_count": 13,
   "metadata": {},
   "outputs": [
    {
     "data": {
      "text/plain": [
       "True"
      ]
     },
     "execution_count": 13,
     "metadata": {},
     "output_type": "execute_result"
    }
   ],
   "source": [
    "show_console_logs = True\n",
    "log_dir='C:\\\\Xcalibur\\\\data\\\\Joe\\\\logs'\n",
    "fusion_bridge = FusionBridge(filename, log_dir, show_console_logs)\n",
    "atexit.register(fusion_bridge.CloseDown)\n",
    "\n",
    "# create event handlers\n",
    "scan_handler_delegate = FusionBridge.UserScanArriveDelegate(scan_handler)\n",
    "state_changed_delegate = FusionBridge.UserStateChangedDelegate(state_changed_handler)\n",
    "scan_handler = CustomScanHandler(fusion_bridge, start_mz, end_mz, isolation_width, collision_energy, ms_level, polarity, first_mass, last_mass, single_processing_delay)\n",
    "custom_scan_delegate = FusionBridge.UserCreateCustomScanDelegate(scan_handler.step)\n",
    "\n",
    "fusion_bridge.SetEventHandlers(scan_handler_delegate, state_changed_delegate, custom_scan_delegate)\n",
    "fusion_bridge.CreateCustomScan(scan_handler.running_number, scan_handler.precursor_mass, isolation_width, collision_energy, ms_level, polarity, first_mass, last_mass, single_processing_delay)"
   ]
  },
  {
   "cell_type": "code",
   "execution_count": 14,
   "metadata": {},
   "outputs": [
    {
     "name": "stdout",
     "output_type": "stream",
     "text": [
      "Received scan 2 -- 16 peaks\n",
      "custom_scan_handler called for precursor_mass 524.000000\n",
      "Received scan 3 -- 20 peaks\n",
      "custom_scan_handler called for precursor_mass 524.020000\n",
      "Received scan 4 -- 22 peaks\n",
      "custom_scan_handler called for precursor_mass 524.040000\n",
      "Received scan 5 -- 14 peaks\n",
      "custom_scan_handler called for precursor_mass 524.060000\n",
      "Received scan 6 -- 18 peaks\n",
      "custom_scan_handler called for precursor_mass 524.080000\n",
      "Received scan 7 -- 33 peaks\n"
     ]
    }
   ],
   "source": [
    "fusion_bridge.CloseDown()"
   ]
  }
 ],
 "metadata": {
  "kernelspec": {
   "display_name": "Python 3",
   "language": "python",
   "name": "python3"
  },
  "language_info": {
   "codemirror_mode": {
    "name": "ipython",
    "version": 3
   },
   "file_extension": ".py",
   "mimetype": "text/x-python",
   "name": "python",
   "nbconvert_exporter": "python",
   "pygments_lexer": "ipython3",
   "version": "3.7.3"
  }
 },
 "nbformat": 4,
 "nbformat_minor": 4
}
