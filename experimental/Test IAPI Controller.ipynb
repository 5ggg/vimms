{
 "cells": [
  {
   "cell_type": "markdown",
   "metadata": {},
   "source": [
    "# IAPI Controller Demo"
   ]
  },
  {
   "cell_type": "markdown",
   "metadata": {},
   "source": [
    "This notebook to demonstrate how we can use pythonnet (http://pythonnet.github.io/) to call Thermo's Instrument Application Programming Interface\n",
    " (https://github.com/thermofisherlsms/iapi) libraries from Python and uses a controller to handle the scans."
   ]
  },
  {
   "cell_type": "code",
   "execution_count": 1,
   "metadata": {},
   "outputs": [],
   "source": [
    "%matplotlib inline\n",
    "%load_ext autoreload\n",
    "%autoreload 2"
   ]
  },
  {
   "cell_type": "code",
   "execution_count": 2,
   "metadata": {},
   "outputs": [],
   "source": [
    "import sys\n",
    "import os\n",
    "import glob\n",
    "import datetime\n",
    "import time\n",
    "from pathlib import Path\n",
    "\n",
    "from IPython import display\n",
    "import pylab as plt\n",
    "import numpy as np\n",
    "\n",
    "import clr"
   ]
  },
  {
   "cell_type": "code",
   "execution_count": 3,
   "metadata": {},
   "outputs": [],
   "source": [
    "ref_dir = 'C:\\\\Users\\\\joewa\\\\Work\\\\git\\\\vimms\\\\Interface\\\\IAPI_Assembly\\\\bin\\\\Debug\\\\netstandard2.0'"
   ]
  },
  {
   "cell_type": "markdown",
   "metadata": {},
   "source": [
    "### Test IAPI Connection"
   ]
  },
  {
   "cell_type": "code",
   "execution_count": 4,
   "metadata": {},
   "outputs": [],
   "source": [
    "# add IAPI .dll location to Python path.\n",
    "if ref_dir not in sys.path:\n",
    "    sys.path.append(ref_dir)\n",
    "\n",
    "# make sure IAPI assemblies can be found\n",
    "assert clr.FindAssembly('IAPI_Assembly') is not None\n",
    "ref = clr.AddReference('IAPI_Assembly')"
   ]
  },
  {
   "cell_type": "code",
   "execution_count": 5,
   "metadata": {},
   "outputs": [],
   "source": [
    "from IAPI_Assembly import FusionBridge"
   ]
  },
  {
   "cell_type": "code",
   "execution_count": 6,
   "metadata": {},
   "outputs": [
    {
     "ename": "FactoryException",
     "evalue": "Registry key (Software\\Thermo Instruments\\TNG\\\\) not found.  is not installed on this machine.\n   at Thermo.TNG.Factory.RegistryHelper.GetProgramPath(String instrumentModel, String version)\r\n   at Thermo.TNG.Factory.Factory`1.GetContainer()\r\n   at Thermo.TNG.Factory.Factory`1.Create(Object[] args)\r\n   at IAPI_Assembly.FusionBridge..ctor()",
     "output_type": "error",
     "traceback": [
      "\u001b[1;31m---------------------------------------------------------------------------\u001b[0m",
      "\u001b[1;31mFactoryException\u001b[0m                          Traceback (most recent call last)",
      "\u001b[1;32m<ipython-input-6-015ce340c149>\u001b[0m in \u001b[0;36m<module>\u001b[1;34m\u001b[0m\n\u001b[1;32m----> 1\u001b[1;33m \u001b[0mfusionBridge\u001b[0m \u001b[1;33m=\u001b[0m \u001b[0mFusionBridge\u001b[0m\u001b[1;33m(\u001b[0m\u001b[1;33m)\u001b[0m\u001b[1;33m\u001b[0m\u001b[1;33m\u001b[0m\u001b[0m\n\u001b[0m",
      "\u001b[1;31mFactoryException\u001b[0m: Registry key (Software\\Thermo Instruments\\TNG\\\\) not found.  is not installed on this machine.\n   at Thermo.TNG.Factory.RegistryHelper.GetProgramPath(String instrumentModel, String version)\r\n   at Thermo.TNG.Factory.Factory`1.GetContainer()\r\n   at Thermo.TNG.Factory.Factory`1.Create(Object[] args)\r\n   at IAPI_Assembly.FusionBridge..ctor()"
     ]
    }
   ],
   "source": [
    "fusionBridge = FusionBridge()"
   ]
  },
  {
   "cell_type": "markdown",
   "metadata": {},
   "source": [
    "### Test IAPI Controller"
   ]
  },
  {
   "cell_type": "code",
   "execution_count": null,
   "metadata": {},
   "outputs": [],
   "source": [
    "import sys\n",
    "sys.path.append('C:\\\\Users\\\\joewa\\\\Work\\\\git\\\\vimms')\n",
    "sys.path.append('C:\\\\Users\\\\Vinny\\\\work\\\\vimms')\n",
    "\n",
    "from vimms.MassSpec import IndependentMassSpectrometer, IAPIMassSpectrometer\n",
    "from vimms.Controller import IdleController, SimpleMs1Controller, TopNController\n",
    "from vimms.Environment import Environment, IAPIEnvironment\n",
    "from vimms.Common import *"
   ]
  },
  {
   "cell_type": "code",
   "execution_count": null,
   "metadata": {},
   "outputs": [],
   "source": [
    "set_log_level_debug()"
   ]
  },
  {
   "cell_type": "code",
   "execution_count": null,
   "metadata": {},
   "outputs": [],
   "source": [
    "filename = 'C:\\\\Users\\\\joewa\\\\University of Glasgow\\\\Vinny Davies - CLDS Metabolomics Project\\\\Data\\\\multibeers_urine_data\\\\beers\\\\fullscan\\\\mzML\\\\Beer_multibeers_1_fullscan1.mzML'"
   ]
  },
  {
   "cell_type": "code",
   "execution_count": null,
   "metadata": {},
   "outputs": [],
   "source": [
    "mass_spec = IAPIMassSpectrometer(POSITIVE, ref_dir, filename)\n",
    "controller = IdleController()"
   ]
  },
  {
   "cell_type": "code",
   "execution_count": null,
   "metadata": {},
   "outputs": [],
   "source": [
    "env = IAPIEnvironment(mass_spec, controller, 20, progress_bar=False)\n",
    "env.default_scan_params = None\n",
    "env.run()"
   ]
  },
  {
   "cell_type": "code",
   "execution_count": null,
   "metadata": {},
   "outputs": [],
   "source": [
    "out_dir = Path(os.getcwd(), 'results')\n",
    "env.write_mzML(out_dir, 'iapi_test.mzML')"
   ]
  },
  {
   "cell_type": "code",
   "execution_count": null,
   "metadata": {},
   "outputs": [],
   "source": []
  }
 ],
 "metadata": {
  "kernelspec": {
   "display_name": "Python 3",
   "language": "python",
   "name": "python3"
  },
  "language_info": {
   "codemirror_mode": {
    "name": "ipython",
    "version": 3
   },
   "file_extension": ".py",
   "mimetype": "text/x-python",
   "name": "python",
   "nbconvert_exporter": "python",
   "pygments_lexer": "ipython3",
   "version": "3.7.3"
  }
 },
 "nbformat": 4,
 "nbformat_minor": 4
}
