{
 "cells": [
  {
   "cell_type": "markdown",
   "metadata": {},
   "source": [
    "# IAPI Controller Demo"
   ]
  },
  {
   "cell_type": "markdown",
   "metadata": {},
   "source": [
    "This notebook to demonstrate how we can use pythonnet (http://pythonnet.github.io/) to call Thermo's Instrument Application Programming Interface\n",
    " (https://github.com/thermofisherlsms/iapi) libraries from Python and uses a controller to handle the scans."
   ]
  },
  {
   "cell_type": "code",
   "execution_count": 1,
   "metadata": {},
   "outputs": [],
   "source": [
    "%matplotlib inline\n",
    "%load_ext autoreload\n",
    "%autoreload 2"
   ]
  },
  {
   "cell_type": "code",
   "execution_count": 2,
   "metadata": {},
   "outputs": [],
   "source": [
    "import sys\n",
    "import os\n",
    "import glob\n",
    "import datetime\n",
    "import time\n",
    "from pathlib import Path\n",
    "\n",
    "from IPython import display\n",
    "import pylab as plt\n",
    "import numpy as np\n",
    "import clr"
   ]
  },
  {
   "cell_type": "markdown",
   "metadata": {},
   "source": [
    "### Test IAPI Mass Spec and Controllers"
   ]
  },
  {
   "cell_type": "code",
   "execution_count": 3,
   "metadata": {},
   "outputs": [],
   "source": [
    "import sys\n",
    "sys.path.append('C:\\\\Users\\\\joewa\\\\Work\\\\git\\\\vimms')\n",
    "sys.path.append('C:\\\\Users\\\\Vinny\\\\work\\\\vimms')\n",
    "\n",
    "from vimms.MassSpec import IndependentMassSpectrometer, IAPIMassSpectrometer\n",
    "from vimms.Controller import IdleController, SimpleMs1Controller, TopNController\n",
    "from vimms.Environment import Environment, IAPIEnvironment\n",
    "from vimms.Common import *"
   ]
  },
  {
   "cell_type": "code",
   "execution_count": 4,
   "metadata": {
    "jupyter": {
     "source_hidden": true
    }
   },
   "outputs": [],
   "source": [
    "ref_dir = 'C:\\\\Users\\\\joewa\\\\Work\\\\git\\\\vimms\\\\Interface\\\\FusionLibrary\\\\bin\\\\Debug\\\\netstandard2.0'"
   ]
  },
  {
   "cell_type": "code",
   "execution_count": 5,
   "metadata": {},
   "outputs": [],
   "source": [
    "filename = 'C:\\\\Users\\\\joewa\\\\University of Glasgow\\\\Vinny Davies - CLDS Metabolomics Project\\\\Data\\\\multibeers_urine_data\\\\beers\\\\fragmentation\\\\mzML\\\\Beer_multibeers_1_T10_POS.mzML'"
   ]
  },
  {
   "cell_type": "code",
   "execution_count": 6,
   "metadata": {},
   "outputs": [],
   "source": [
    "mass_spec = IAPIMassSpectrometer(POSITIVE, ref_dir, filename)\n",
    "controller = IdleController()"
   ]
  },
  {
   "cell_type": "code",
   "execution_count": 7,
   "metadata": {},
   "outputs": [],
   "source": [
    "pbar = False\n",
    "if pbar:\n",
    "    set_log_level_warning()\n",
    "else:\n",
    "    set_log_level_debug()"
   ]
  },
  {
   "cell_type": "code",
   "execution_count": 8,
   "metadata": {},
   "outputs": [
    {
     "name": "stderr",
     "output_type": "stream",
     "text": [
      "INFO   : IAPIEnvironment                : Initialising environment with mass spec <vimms.MassSpec.IAPIMassSpectrometer object at 0x000001F9E29CEAC8> and controller <vimms.Controller.IdleController object at 0x000001F9E29CEA90>\n",
      "DEBUG  : IAPIMassSpectrometer           : FusionBridge initialising\n",
      "DEBUG  : IAPIMassSpectrometer           : Attaching event handlers\n",
      "INFO   : IdleController                 : Time 0.025686 Received Scan 9 num_peaks=13 rt=0.03 ms_level=2\n",
      "INFO   : IdleController                 : Time 0.027901 Received Scan 10 num_peaks=11 rt=0.03 ms_level=2\n",
      "INFO   : IdleController                 : Time 0.030041 Received Scan 11 num_peaks=2514 rt=0.03 ms_level=1\n",
      "INFO   : IdleController                 : Time 0.034564 Received Scan 12 num_peaks=23 rt=0.03 ms_level=2\n",
      "INFO   : IdleController                 : Time 0.036788 Received Scan 13 num_peaks=30 rt=0.04 ms_level=2\n",
      "INFO   : IdleController                 : Time 0.038305 Received Scan 14 num_peaks=5 rt=0.04 ms_level=2\n",
      "INFO   : IdleController                 : Time 0.040532 Received Scan 15 num_peaks=12 rt=0.04 ms_level=2\n",
      "INFO   : IdleController                 : Time 0.042759 Received Scan 16 num_peaks=17 rt=0.04 ms_level=2\n",
      "INFO   : IdleController                 : Time 0.044984 Received Scan 17 num_peaks=20 rt=0.04 ms_level=2\n",
      "INFO   : IdleController                 : Time 0.047211 Received Scan 18 num_peaks=27 rt=0.05 ms_level=2\n",
      "INFO   : IdleController                 : Time 0.049420 Received Scan 19 num_peaks=4 rt=0.05 ms_level=2\n",
      "INFO   : IdleController                 : Time 0.051646 Received Scan 20 num_peaks=20 rt=0.05 ms_level=2\n",
      "INFO   : IdleController                 : Time 0.053857 Received Scan 21 num_peaks=7 rt=0.05 ms_level=2\n",
      "INFO   : IdleController                 : Time 0.056416 Received Scan 22 num_peaks=1782 rt=0.06 ms_level=1\n",
      "INFO   : IdleController                 : Time 0.060924 Received Scan 23 num_peaks=12 rt=0.06 ms_level=2\n",
      "INFO   : IdleController                 : Time 0.063151 Received Scan 24 num_peaks=9 rt=0.06 ms_level=2\n",
      "INFO   : IdleController                 : Time 0.065378 Received Scan 25 num_peaks=17 rt=0.07 ms_level=2\n",
      "INFO   : IdleController                 : Time 0.067636 Received Scan 26 num_peaks=11 rt=0.07 ms_level=2\n",
      "INFO   : IdleController                 : Time 0.069899 Received Scan 27 num_peaks=14 rt=0.07 ms_level=2\n",
      "INFO   : IdleController                 : Time 0.071104 Received Scan 28 num_peaks=1748 rt=0.07 ms_level=1\n",
      "INFO   : IdleController                 : Time 0.075614 Received Scan 29 num_peaks=21 rt=0.08 ms_level=2\n",
      "INFO   : IdleController                 : Time 0.077842 Received Scan 30 num_peaks=17 rt=0.08 ms_level=2\n",
      "INFO   : IdleController                 : Time 0.080053 Received Scan 31 num_peaks=18 rt=0.08 ms_level=2\n",
      "INFO   : IdleController                 : Time 0.081258 Received Scan 32 num_peaks=1731 rt=0.08 ms_level=1\n",
      "INFO   : IdleController                 : Time 0.087430 Received Scan 33 num_peaks=1730 rt=0.09 ms_level=1\n",
      "INFO   : IdleController                 : Time 0.092830 Received Scan 34 num_peaks=8 rt=0.09 ms_level=2\n",
      "INFO   : IdleController                 : Time 0.095740 Received Scan 35 num_peaks=20 rt=0.10 ms_level=2\n",
      "INFO   : IdleController                 : Time 0.096945 Received Scan 36 num_peaks=1607 rt=0.10 ms_level=1\n",
      "INFO   : IdleController                 : Time 0.103070 Received Scan 37 num_peaks=1589 rt=0.10 ms_level=1\n",
      "INFO   : IdleController                 : Time 0.107526 Received Scan 38 num_peaks=1657 rt=0.11 ms_level=1\n",
      "INFO   : IdleController                 : Time 0.112037 Received Scan 39 num_peaks=10 rt=0.11 ms_level=2\n",
      "INFO   : IdleController                 : Time 0.114244 Received Scan 40 num_peaks=8 rt=0.11 ms_level=2\n",
      "INFO   : IdleController                 : Time 0.116507 Received Scan 41 num_peaks=18 rt=0.12 ms_level=2\n",
      "INFO   : IdleController                 : Time 0.117714 Received Scan 42 num_peaks=1527 rt=0.12 ms_level=1\n",
      "INFO   : IdleController                 : Time 0.123803 Received Scan 43 num_peaks=1623 rt=0.12 ms_level=1\n",
      "DEBUG  : IAPIMassSpectrometer           : Acquisition stream is closing!\n",
      "DEBUG  : IAPIMassSpectrometer           : Unregistering event handlers\n",
      "DEBUG  : IAPIMassSpectrometer           : Closing fusion bridge\n",
      "DEBUG  : IAPIEnvironment                : Written results\\iapi_test.mzML\n"
     ]
    }
   ],
   "source": [
    "env = IAPIEnvironment(mass_spec, controller, 10, progress_bar=pbar, out_dir='results', out_file='iapi_test.mzML')\n",
    "env.default_scan_params = None\n",
    "env.run()"
   ]
  },
  {
   "cell_type": "code",
   "execution_count": null,
   "metadata": {},
   "outputs": [],
   "source": []
  }
 ],
 "metadata": {
  "kernelspec": {
   "display_name": "Python 3",
   "language": "python",
   "name": "python3"
  },
  "language_info": {
   "codemirror_mode": {
    "name": "ipython",
    "version": 3
   },
   "file_extension": ".py",
   "mimetype": "text/x-python",
   "name": "python",
   "nbconvert_exporter": "python",
   "pygments_lexer": "ipython3",
   "version": "3.7.3"
  }
 },
 "nbformat": 4,
 "nbformat_minor": 4
}
