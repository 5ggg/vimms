{
 "cells": [
  {
   "cell_type": "markdown",
   "metadata": {},
   "source": [
    "# IAPI Controller Demo"
   ]
  },
  {
   "cell_type": "markdown",
   "metadata": {},
   "source": [
    "This notebook to demonstrate how we can use pythonnet (http://pythonnet.github.io/) to call Thermo's Instrument Application Programming Interface\n",
    " (https://github.com/thermofisherlsms/iapi) libraries from Python and uses a controller to handle the scans."
   ]
  },
  {
   "cell_type": "code",
   "execution_count": 1,
   "metadata": {},
   "outputs": [],
   "source": [
    "%matplotlib inline\n",
    "%load_ext autoreload\n",
    "%autoreload 2"
   ]
  },
  {
   "cell_type": "code",
   "execution_count": 2,
   "metadata": {},
   "outputs": [],
   "source": [
    "import sys\n",
    "import os\n",
    "import glob\n",
    "import datetime\n",
    "import time\n",
    "from pathlib import Path"
   ]
  },
  {
   "cell_type": "code",
   "execution_count": 3,
   "metadata": {},
   "outputs": [],
   "source": [
    "import sys\n",
    "sys.path.append('C:\\\\Users\\\\joewa\\\\Work\\\\git\\\\vimms')\n",
    "sys.path.append('C:\\\\Users\\\\Vinny\\\\work\\\\vimms')\n",
    "sys.path.append('C:\\\\Users\\\\Orbitrap Fusion\\\\vimms')\n",
    "\n",
    "\n",
    "from vimms.MassSpec import IndependentMassSpectrometer, IAPIMassSpectrometer\n",
    "from vimms.Controller import IdleController, SimpleMs1Controller, TopNController, RoiController, HybridController\n",
    "from vimms.Environment import Environment, IAPIEnvironment\n",
    "from vimms.Common import *"
   ]
  },
  {
   "cell_type": "code",
   "execution_count": 4,
   "metadata": {},
   "outputs": [],
   "source": [
    "ref_dir = 'C:\\\\Users\\\\joewa\\\\Work\\\\git\\\\vimms\\\\Interface\\\\FusionLibrary\\\\bin\\\\Debug\\\\netstandard2.0'\n",
    "if ref_dir not in sys.path:\n",
    "    sys.path.append(ref_dir)"
   ]
  },
  {
   "cell_type": "code",
   "execution_count": 5,
   "metadata": {},
   "outputs": [],
   "source": [
    "sys.path.append('C:\\\\Users\\\\Orbitrap Fusion\\\\vimms\\\\Interface\\\\FusionLibrary\\\\bin\\\\Debug\\\\netstandard2.0')"
   ]
  },
  {
   "cell_type": "code",
   "execution_count": 6,
   "metadata": {},
   "outputs": [],
   "source": [
    "# filename = 'C:\\\\Users\\\\joewa\\\\University of Glasgow\\\\Vinny Davies - CLDS Metabolomics Project\\\\Data\\\\multibeers_urine_data\\\\beers\\\\fragmentation\\\\mzML\\\\Beer_multibeers_1_T10_POS.mzML'\n",
    "# show_console_logs = True"
   ]
  },
  {
   "cell_type": "code",
   "execution_count": 7,
   "metadata": {},
   "outputs": [],
   "source": [
    "filename = None\n",
    "show_console_logs = False"
   ]
  },
  {
   "cell_type": "markdown",
   "metadata": {},
   "source": [
    "## Test with Top-N Controller"
   ]
  },
  {
   "cell_type": "markdown",
   "metadata": {},
   "source": [
    "### Verbose mode"
   ]
  },
  {
   "cell_type": "code",
   "execution_count": 8,
   "metadata": {},
   "outputs": [],
   "source": [
    "ionisation_mode = POSITIVE\n",
    "N = 10\n",
    "isolation_width = 1\n",
    "mz_tol = 10\n",
    "rt_tol = 15\n",
    "min_ms1_intensity = 1.75E5\n",
    "controller = TopNController(ionisation_mode, N, isolation_width, mz_tol, rt_tol, min_ms1_intensity)"
   ]
  },
  {
   "cell_type": "code",
   "execution_count": 9,
   "metadata": {},
   "outputs": [
    {
     "name": "stderr",
     "output_type": "stream",
     "text": [
      "2020-01-20 12:35:56.064 | DEBUG    | vimms.MassSpec:__init__:651 - AddReference: FusionLibrary, Version=1.0.0.0, Culture=neutral, PublicKeyToken=null\n",
      "2020-01-20 12:35:56.071 | DEBUG    | vimms.MassSpec:__init__:654 - ListAssemblies: ['mscorlib', 'clrmodule', 'Python.Runtime', 'System.Core', 'System.Configuration', 'System.Xml', 'System', '__CodeGenerator_Assembly', 'e__NativeCall_Assembly', 'FusionLibrary', 'netstandard', 'Fusion.API-1.0', 'API-2.0', 'Spectrum-1.0']\n"
     ]
    }
   ],
   "source": [
    "mass_spec = IAPIMassSpectrometer(ionisation_mode, ref_dir, filename=filename, show_console_logs=show_console_logs)"
   ]
  },
  {
   "cell_type": "code",
   "execution_count": 10,
   "metadata": {},
   "outputs": [],
   "source": [
    "pbar = False\n",
    "set_log_level_debug()\n",
    "max_time = 5"
   ]
  },
  {
   "cell_type": "code",
   "execution_count": 11,
   "metadata": {},
   "outputs": [
    {
     "name": "stderr",
     "output_type": "stream",
     "text": [
      "2020-01-20 12:35:57.619 | INFO     | vimms.Controller:handle_acquisition_open:169 - Acquisition open\n",
      "2020-01-20 12:35:57.620 | DEBUG    | vimms.MassSpec:run:673 - FusionBridge initialising\n",
      "2020-01-20 12:35:59.741 | DEBUG    | vimms.MassSpec:run:679 - Attaching event handlers\n",
      "2020-01-20 12:35:59.747 | DEBUG    | vimms.MassSpec:_send_custom_scan:767 - Sending custom scan 100000 with parameters ScanParameters {'ms_level': 1, 'isolation_windows': [[(50.0, 1000.0)]], 'isolation_width': 0.7, 'collision_energy': 25, 'polarity': 'Positive', 'first_mass': 50.0, 'last_mass': 1000.0}\n",
      "2020-01-20 12:35:59.893 | DEBUG    | vimms.MassSpec:_send_custom_scan:777 - Successfully sent custom scan 100000\n",
      "2020-01-20 12:36:00.228 | DEBUG    | vimms.MassSpec:_send_custom_scan:767 - Sending custom scan 100001 with parameters ScanParameters {'ms_level': 1, 'isolation_windows': [[(50.0, 1000.0)]], 'isolation_width': 0.7, 'collision_energy': 25, 'polarity': 'Positive', 'first_mass': 50.0, 'last_mass': 1000.0}\n",
      "2020-01-20 12:36:00.236 | DEBUG    | vimms.MassSpec:_send_custom_scan:777 - Successfully sent custom scan 100001\n",
      "2020-01-20 12:36:00.947 | DEBUG    | vimms.MassSpec:_send_custom_scan:767 - Sending custom scan 100002 with parameters ScanParameters {'ms_level': 1, 'isolation_windows': [[(50.0, 1000.0)]], 'isolation_width': 0.7, 'collision_energy': 25, 'polarity': 'Positive', 'first_mass': 50.0, 'last_mass': 1000.0}\n",
      "2020-01-20 12:36:00.967 | DEBUG    | vimms.MassSpec:_send_custom_scan:777 - Successfully sent custom scan 100002\n",
      "2020-01-20 12:36:01.148 | INFO     | vimms.Controller:handle_scan:45 - Time 0.219740 Received Scan 100000 num_peaks=245 rt=0.22 ms_level=1\n",
      "2020-01-20 12:36:01.153 | DEBUG    | vimms.Controller:_process_scan:192 - Time 0.219740 Top-10 ions have been selected\n",
      "2020-01-20 12:36:01.947 | DEBUG    | vimms.MassSpec:_send_custom_scan:767 - Sending custom scan 100003 with parameters ScanParameters {'ms_level': 2, 'precursor_mz': Precursor mz 74.096664 intensity 51062012.000000 charge 1 scan_id 100000, 'isolation_width': 1, 'dew_mz_tol': 10, 'dew_rt_tol': 15, 'collision_energy': 25, 'polarity': 'Positive', 'first_mass': 50.0, 'last_mass': 600.0}\n",
      "2020-01-20 12:36:01.955 | DEBUG    | vimms.MassSpec:_send_custom_scan:777 - Successfully sent custom scan 100003\n",
      "2020-01-20 12:36:02.164 | INFO     | vimms.Controller:handle_scan:45 - Time 0.237205 Received Scan 100001 num_peaks=197 rt=0.24 ms_level=1\n",
      "2020-01-20 12:36:02.168 | DEBUG    | vimms.Controller:_process_scan:192 - Time 0.237205 Top-10 ions have been selected\n",
      "2020-01-20 12:36:02.948 | DEBUG    | vimms.MassSpec:_send_custom_scan:767 - Sending custom scan 100004 with parameters ScanParameters {'ms_level': 2, 'precursor_mz': Precursor mz 195.087845 intensity 26509058.000000 charge 1 scan_id 100000, 'isolation_width': 1, 'dew_mz_tol': 10, 'dew_rt_tol': 15, 'collision_energy': 25, 'polarity': 'Positive', 'first_mass': 50.0, 'last_mass': 600.0}\n",
      "2020-01-20 12:36:02.954 | DEBUG    | vimms.MassSpec:_send_custom_scan:777 - Successfully sent custom scan 100004\n",
      "2020-01-20 12:36:03.182 | DEBUG    | vimms.MassSpec:close:377 - Acquisition stream is closing!\n",
      "2020-01-20 12:36:03.192 | INFO     | vimms.Controller:handle_acquisition_closing:172 - Acquisition closing\n",
      "2020-01-20 12:36:03.193 | DEBUG    | vimms.MassSpec:close:379 - Unregistering event handlers\n",
      "2020-01-20 12:36:03.194 | WARNING  | vimms.MassSpec:close:726 - Closing fusion bridge\n",
      "2020-01-20 12:36:03.198 | DEBUG    | vimms.Environment:write_mzML:143 - Writing mzML file to results\\iapi_test.mzML\n",
      "2020-01-20 12:36:04.012 | DEBUG    | vimms.Environment:write_mzML:150 - mzML file successfully written!\n"
     ]
    }
   ],
   "source": [
    "env = IAPIEnvironment(mass_spec, controller, max_time, progress_bar=pbar, out_dir='results', out_file='iapi_test.mzML')\n",
    "env.run()"
   ]
  },
  {
   "cell_type": "markdown",
   "metadata": {},
   "source": [
    "### Normal mode"
   ]
  },
  {
   "cell_type": "code",
   "execution_count": null,
   "metadata": {},
   "outputs": [],
   "source": [
    "ionisation_mode = POSITIVE\n",
    "N = 10\n",
    "isolation_width = 1\n",
    "mz_tol = 10\n",
    "rt_tol = 15\n",
    "min_ms1_intensity = 1.75E5\n",
    "controller = TopNController(ionisation_mode, N, isolation_width, mz_tol, rt_tol, min_ms1_intensity)"
   ]
  },
  {
   "cell_type": "code",
   "execution_count": null,
   "metadata": {},
   "outputs": [],
   "source": [
    "mass_spec = IAPIMassSpectrometer(ionisation_mode, ref_dir, filename=filename, show_console_logs=show_console_logs)"
   ]
  },
  {
   "cell_type": "code",
   "execution_count": null,
   "metadata": {},
   "outputs": [],
   "source": [
    "pbar = True\n",
    "set_log_level_warning()\n",
    "max_time = 300"
   ]
  },
  {
   "cell_type": "code",
   "execution_count": null,
   "metadata": {},
   "outputs": [],
   "source": [
    "env = IAPIEnvironment(mass_spec, controller, max_time, progress_bar=pbar, out_dir='results', out_file='iapi_test_TopN.mzML')\n",
    "env.run()"
   ]
  },
  {
   "cell_type": "markdown",
   "metadata": {},
   "source": [
    "## Test with ROI Controller"
   ]
  },
  {
   "cell_type": "code",
   "execution_count": null,
   "metadata": {},
   "outputs": [],
   "source": [
    "ionisation_mode = POSITIVE\n",
    "N = 10\n",
    "isolation_width = 1\n",
    "mz_tol = 10\n",
    "rt_tol = 15\n",
    "min_ms1_intensity = 1.75E5\n",
    "min_roi_intensity = 5000\n",
    "min_roi_length = 10\n",
    "score_method = 'Top N'\n",
    "\n",
    "controller = RoiController(ionisation_mode, isolation_width, mz_tol, min_ms1_intensity,\n",
    "                           min_roi_intensity, min_roi_length, score_method, N, rt_tol)"
   ]
  },
  {
   "cell_type": "code",
   "execution_count": null,
   "metadata": {},
   "outputs": [],
   "source": [
    "mass_spec = IAPIMassSpectrometer(ionisation_mode, ref_dir, filename=filename, show_console_logs=show_console_logs)"
   ]
  },
  {
   "cell_type": "code",
   "execution_count": null,
   "metadata": {},
   "outputs": [],
   "source": [
    "pbar = True\n",
    "set_log_level_warning()\n",
    "max_time = 300"
   ]
  },
  {
   "cell_type": "code",
   "execution_count": null,
   "metadata": {},
   "outputs": [],
   "source": [
    "env = IAPIEnvironment(mass_spec, controller, max_time, progress_bar=pbar, out_dir='results', out_file='iapi_test_ROI.mzML')\n",
    "env.run()"
   ]
  },
  {
   "cell_type": "markdown",
   "metadata": {},
   "source": [
    "## Test with Full Purity Controller"
   ]
  },
  {
   "cell_type": "code",
   "execution_count": null,
   "metadata": {},
   "outputs": [],
   "source": [
    "ionisation_mode = POSITIVE\n",
    "isolation_window = [1]   # the isolation window in Dalton around a selected precursor ion\n",
    "N = [5]\n",
    "rt_tol = [10]\n",
    "mz_tol = [10]\n",
    "min_ms1_intensity = 1.75E5\n",
    "scan_param_changepoints = None\n",
    "rt_range = [(0, 300)]"
   ]
  },
  {
   "cell_type": "code",
   "execution_count": null,
   "metadata": {},
   "outputs": [],
   "source": [
    "n_purity_scans = N[0]\n",
    "purity_shift = 0.2\n",
    "purity_threshold=1"
   ]
  },
  {
   "cell_type": "code",
   "execution_count": null,
   "metadata": {},
   "outputs": [],
   "source": [
    "# these settings change the Mass Spec type. They arent necessary to run the Top-N ROI Controller\n",
    "isolation_transition_window = 'gaussian'\n",
    "isolation_transition_window_params = [0.5]"
   ]
  },
  {
   "cell_type": "code",
   "execution_count": null,
   "metadata": {},
   "outputs": [],
   "source": [
    "purity_add_ms1 = True # this seems to be the broken bit\n",
    "purity_randomise = True"
   ]
  },
  {
   "cell_type": "code",
   "execution_count": null,
   "metadata": {},
   "outputs": [],
   "source": [
    "mass_spec = IAPIMassSpectrometer(ionisation_mode, ref_dir, filename=filename, show_console_logs=show_console_logs)"
   ]
  },
  {
   "cell_type": "code",
   "execution_count": null,
   "metadata": {},
   "outputs": [],
   "source": [
    "controller = HybridController(mass_spec, N, scan_param_changepoints, isolation_window, mz_tol, rt_tol, min_ms1_intensity, n_purity_scans, purity_shift, purity_threshold)"
   ]
  },
  {
   "cell_type": "code",
   "execution_count": null,
   "metadata": {},
   "outputs": [],
   "source": [
    "pbar = True\n",
    "set_log_level_warning()\n",
    "max_time = rt_range[0][1]"
   ]
  },
  {
   "cell_type": "code",
   "execution_count": null,
   "metadata": {},
   "outputs": [],
   "source": [
    "env = IAPIEnvironment(mass_spec, controller, max_time, progress_bar=pbar, out_dir='results', out_file='iapi_test_purity.mzML')\n",
    "env.run()"
   ]
  },
  {
   "cell_type": "code",
   "execution_count": null,
   "metadata": {},
   "outputs": [],
   "source": []
  }
 ],
 "metadata": {
  "kernelspec": {
   "display_name": "Python 3",
   "language": "python",
   "name": "python3"
  },
  "language_info": {
   "codemirror_mode": {
    "name": "ipython",
    "version": 3
   },
   "file_extension": ".py",
   "mimetype": "text/x-python",
   "name": "python",
   "nbconvert_exporter": "python",
   "pygments_lexer": "ipython3",
   "version": "3.7.6"
  }
 },
 "nbformat": 4,
 "nbformat_minor": 4
}
