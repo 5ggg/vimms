{
 "cells": [
  {
   "cell_type": "markdown",
   "metadata": {},
   "source": [
    "# IAPI Controller Demo"
   ]
  },
  {
   "cell_type": "markdown",
   "metadata": {},
   "source": [
    "This notebook to demonstrate how we can use pythonnet (http://pythonnet.github.io/) to call Thermo's Instrument Application Programming Interface\n",
    " (https://github.com/thermofisherlsms/iapi) libraries from Python and uses a controller to handle the scans."
   ]
  },
  {
   "cell_type": "code",
   "execution_count": 1,
   "metadata": {},
   "outputs": [],
   "source": [
    "%matplotlib inline\n",
    "%load_ext autoreload\n",
    "%autoreload 2"
   ]
  },
  {
   "cell_type": "code",
   "execution_count": 2,
   "metadata": {},
   "outputs": [],
   "source": [
    "import sys\n",
    "import os\n",
    "import glob\n",
    "import datetime\n",
    "import time\n",
    "from pathlib import Path\n",
    "\n",
    "from IPython import display\n",
    "import pylab as plt\n",
    "import numpy as np\n",
    "import clr"
   ]
  },
  {
   "cell_type": "markdown",
   "metadata": {},
   "source": [
    "### Test IAPI Mass Spec and Controllers"
   ]
  },
  {
   "cell_type": "code",
   "execution_count": 3,
   "metadata": {},
   "outputs": [],
   "source": [
    "import sys\n",
    "sys.path.append('C:\\\\Users\\\\joewa\\\\Work\\\\git\\\\vimms')\n",
    "sys.path.append('C:\\\\Users\\\\Vinny\\\\work\\\\vimms')\n",
    "\n",
    "from vimms.MassSpec import IndependentMassSpectrometer, IAPIMassSpectrometer\n",
    "from vimms.Controller import IdleController, SimpleMs1Controller, TopNController\n",
    "from vimms.Environment import Environment, IAPIEnvironment\n",
    "from vimms.Common import *"
   ]
  },
  {
   "cell_type": "code",
   "execution_count": 4,
   "metadata": {
    "jupyter": {
     "source_hidden": true
    }
   },
   "outputs": [],
   "source": [
    "ref_dir = 'C:\\\\Users\\\\joewa\\\\Work\\\\git\\\\vimms\\\\Interface\\\\FusionLibrary\\\\bin\\\\Debug\\\\netstandard2.0'"
   ]
  },
  {
   "cell_type": "code",
   "execution_count": 5,
   "metadata": {},
   "outputs": [],
   "source": [
    "filename = 'C:\\\\Users\\\\joewa\\\\University of Glasgow\\\\Vinny Davies - CLDS Metabolomics Project\\\\Data\\\\multibeers_urine_data\\\\beers\\\\fragmentation\\\\mzML\\\\Beer_multibeers_1_T10_POS.mzML'\n",
    "show_console_logs = False"
   ]
  },
  {
   "cell_type": "code",
   "execution_count": 6,
   "metadata": {},
   "outputs": [],
   "source": [
    "mass_spec = IAPIMassSpectrometer(POSITIVE, ref_dir, filename, show_console_logs)\n",
    "controller = IdleController()"
   ]
  },
  {
   "cell_type": "code",
   "execution_count": 7,
   "metadata": {},
   "outputs": [],
   "source": [
    "pbar = False\n",
    "if pbar:\n",
    "    set_log_level_warning()\n",
    "else:\n",
    "    set_log_level_debug()"
   ]
  },
  {
   "cell_type": "code",
   "execution_count": 8,
   "metadata": {},
   "outputs": [
    {
     "name": "stderr",
     "output_type": "stream",
     "text": [
      "INFO   : IAPIEnvironment                : Initialising environment with mass spec <vimms.MassSpec.IAPIMassSpectrometer object at 0x000001E8D319A6A0> and controller <vimms.Controller.IdleController object at 0x000001E8D16FE6D8>\n",
      "DEBUG  : IAPIMassSpectrometer           : FusionBridge initialising in DEBUG mode. Input mzML is C:\\Users\\joewa\\University of Glasgow\\Vinny Davies - CLDS Metabolomics Project\\Data\\multibeers_urine_data\\beers\\fragmentation\\mzML\\Beer_multibeers_1_T10_POS.mzML\n",
      "DEBUG  : IAPIMassSpectrometer           : Attaching event handlers\n",
      "INFO   : IdleController                 : Time 0.600548 Received Scan 2 num_peaks=16 rt=0.60 ms_level=2\n",
      "INFO   : IdleController                 : Time 0.735170 Received Scan 3 num_peaks=20 rt=0.74 ms_level=2\n",
      "INFO   : IdleController                 : Time 0.869291 Received Scan 4 num_peaks=22 rt=0.87 ms_level=2\n",
      "INFO   : IdleController                 : Time 1.002920 Received Scan 5 num_peaks=14 rt=1.00 ms_level=2\n",
      "INFO   : IdleController                 : Time 1.137540 Received Scan 6 num_peaks=18 rt=1.14 ms_level=2\n",
      "INFO   : IdleController                 : Time 1.275040 Received Scan 7 num_peaks=33 rt=1.28 ms_level=2\n",
      "INFO   : IdleController                 : Time 1.407680 Received Scan 8 num_peaks=8 rt=1.41 ms_level=2\n",
      "INFO   : IdleController                 : Time 1.541160 Received Scan 9 num_peaks=13 rt=1.54 ms_level=2\n",
      "INFO   : IdleController                 : Time 1.674040 Received Scan 10 num_peaks=11 rt=1.67 ms_level=2\n",
      "INFO   : IdleController                 : Time 1.802460 Received Scan 11 num_peaks=2514 rt=1.80 ms_level=1\n",
      "INFO   : IdleController                 : Time 2.073820 Received Scan 12 num_peaks=23 rt=2.07 ms_level=2\n",
      "INFO   : IdleController                 : Time 2.207290 Received Scan 13 num_peaks=30 rt=2.21 ms_level=2\n",
      "INFO   : IdleController                 : Time 2.298290 Received Scan 14 num_peaks=5 rt=2.30 ms_level=2\n",
      "INFO   : IdleController                 : Time 2.431910 Received Scan 15 num_peaks=12 rt=2.43 ms_level=2\n",
      "INFO   : IdleController                 : Time 2.565550 Received Scan 16 num_peaks=17 rt=2.57 ms_level=2\n",
      "INFO   : IdleController                 : Time 2.699040 Received Scan 17 num_peaks=20 rt=2.70 ms_level=2\n",
      "INFO   : IdleController                 : Time 2.832670 Received Scan 18 num_peaks=27 rt=2.83 ms_level=2\n",
      "INFO   : IdleController                 : Time 2.965180 Received Scan 19 num_peaks=4 rt=2.97 ms_level=2\n",
      "INFO   : IdleController                 : Time 3.098790 Received Scan 20 num_peaks=20 rt=3.10 ms_level=2\n",
      "INFO   : IdleController                 : Time 3.231430 Received Scan 21 num_peaks=7 rt=3.23 ms_level=2\n",
      "INFO   : IdleController                 : Time 3.384960 Received Scan 22 num_peaks=1782 rt=3.38 ms_level=1\n",
      "INFO   : IdleController                 : Time 3.655450 Received Scan 23 num_peaks=12 rt=3.66 ms_level=2\n",
      "INFO   : IdleController                 : Time 3.789050 Received Scan 24 num_peaks=9 rt=3.79 ms_level=2\n",
      "INFO   : IdleController                 : Time 3.922670 Received Scan 25 num_peaks=17 rt=3.92 ms_level=2\n",
      "INFO   : IdleController                 : Time 4.058170 Received Scan 26 num_peaks=11 rt=4.06 ms_level=2\n",
      "INFO   : IdleController                 : Time 4.193930 Received Scan 27 num_peaks=14 rt=4.19 ms_level=2\n",
      "INFO   : IdleController                 : Time 4.266210 Received Scan 28 num_peaks=1748 rt=4.27 ms_level=1\n",
      "INFO   : IdleController                 : Time 4.536810 Received Scan 29 num_peaks=21 rt=4.54 ms_level=2\n",
      "INFO   : IdleController                 : Time 4.670540 Received Scan 30 num_peaks=17 rt=4.67 ms_level=2\n",
      "INFO   : IdleController                 : Time 4.803160 Received Scan 31 num_peaks=18 rt=4.80 ms_level=2\n",
      "INFO   : IdleController                 : Time 4.875460 Received Scan 32 num_peaks=1731 rt=4.88 ms_level=1\n",
      "INFO   : IdleController                 : Time 5.245830 Received Scan 33 num_peaks=1730 rt=5.25 ms_level=1\n",
      "INFO   : IdleController                 : Time 5.569800 Received Scan 34 num_peaks=8 rt=5.57 ms_level=2\n",
      "INFO   : IdleController                 : Time 5.744420 Received Scan 35 num_peaks=20 rt=5.74 ms_level=2\n",
      "INFO   : IdleController                 : Time 5.816700 Received Scan 36 num_peaks=1607 rt=5.82 ms_level=1\n",
      "INFO   : IdleController                 : Time 6.184210 Received Scan 37 num_peaks=1589 rt=6.18 ms_level=1\n",
      "INFO   : IdleController                 : Time 6.451580 Received Scan 38 num_peaks=1657 rt=6.45 ms_level=1\n",
      "INFO   : IdleController                 : Time 6.722240 Received Scan 39 num_peaks=10 rt=6.72 ms_level=2\n",
      "INFO   : IdleController                 : Time 6.854670 Received Scan 40 num_peaks=8 rt=6.85 ms_level=2\n",
      "INFO   : IdleController                 : Time 6.990430 Received Scan 41 num_peaks=18 rt=6.99 ms_level=2\n",
      "INFO   : IdleController                 : Time 7.062820 Received Scan 42 num_peaks=1527 rt=7.06 ms_level=1\n",
      "INFO   : IdleController                 : Time 7.428200 Received Scan 43 num_peaks=1623 rt=7.43 ms_level=1\n",
      "INFO   : IdleController                 : Time 7.698730 Received Scan 44 num_peaks=13 rt=7.70 ms_level=2\n",
      "INFO   : IdleController                 : Time 7.925420 Received Scan 45 num_peaks=11 rt=7.93 ms_level=2\n",
      "INFO   : IdleController                 : Time 8.059050 Received Scan 46 num_peaks=18 rt=8.06 ms_level=2\n",
      "INFO   : IdleController                 : Time 8.192540 Received Scan 47 num_peaks=18 rt=8.19 ms_level=2\n",
      "INFO   : IdleController                 : Time 8.326170 Received Scan 48 num_peaks=17 rt=8.33 ms_level=2\n",
      "INFO   : IdleController                 : Time 8.398460 Received Scan 49 num_peaks=1389 rt=8.40 ms_level=1\n",
      "INFO   : IdleController                 : Time 8.768340 Received Scan 50 num_peaks=1510 rt=8.77 ms_level=1\n",
      "INFO   : IdleController                 : Time 9.035710 Received Scan 51 num_peaks=1496 rt=9.04 ms_level=1\n",
      "INFO   : IdleController                 : Time 9.303080 Received Scan 52 num_peaks=1552 rt=9.30 ms_level=1\n",
      "INFO   : IdleController                 : Time 9.570570 Received Scan 53 num_peaks=1550 rt=9.57 ms_level=1\n",
      "INFO   : IdleController                 : Time 9.837970 Received Scan 54 num_peaks=1420 rt=9.84 ms_level=1\n",
      "INFO   : IdleController                 : Time 10.105300 Received Scan 55 num_peaks=1584 rt=10.11 ms_level=1\n",
      "DEBUG  : IAPIMassSpectrometer           : Acquisition stream is closing!\n",
      "DEBUG  : IAPIMassSpectrometer           : Unregistering event handlers\n",
      "DEBUG  : IAPIMassSpectrometer           : Closing fusion bridge\n",
      "DEBUG  : IAPIEnvironment                : Writing mzML file to results\\iapi_test.mzML\n",
      "DEBUG  : IAPIEnvironment                : mzML file successfully written!\n"
     ]
    }
   ],
   "source": [
    "env = IAPIEnvironment(mass_spec, controller, 10, progress_bar=pbar, out_dir='results', out_file='iapi_test.mzML')\n",
    "env.default_scan_params = None\n",
    "env.run()"
   ]
  },
  {
   "cell_type": "code",
   "execution_count": null,
   "metadata": {},
   "outputs": [],
   "source": []
  }
 ],
 "metadata": {
  "kernelspec": {
   "display_name": "Python 3",
   "language": "python",
   "name": "python3"
  },
  "language_info": {
   "codemirror_mode": {
    "name": "ipython",
    "version": 3
   },
   "file_extension": ".py",
   "mimetype": "text/x-python",
   "name": "python",
   "nbconvert_exporter": "python",
   "pygments_lexer": "ipython3",
   "version": "3.7.3"
  }
 },
 "nbformat": 4,
 "nbformat_minor": 4
}
