{
 "cells": [
  {
   "cell_type": "markdown",
   "metadata": {},
   "source": [
    "# IAPI Controller Demo"
   ]
  },
  {
   "cell_type": "markdown",
   "metadata": {},
   "source": [
    "This notebook to demonstrate how we can use pythonnet (http://pythonnet.github.io/) to call Thermo's Instrument Application Programming Interface\n",
    " (https://github.com/thermofisherlsms/iapi) libraries from Python and uses a controller to handle the scans."
   ]
  },
  {
   "cell_type": "code",
   "execution_count": 1,
   "metadata": {},
   "outputs": [],
   "source": [
    "%matplotlib inline\n",
    "%load_ext autoreload\n",
    "%autoreload 2"
   ]
  },
  {
   "cell_type": "code",
   "execution_count": 2,
   "metadata": {},
   "outputs": [],
   "source": [
    "import sys\n",
    "import os\n",
    "import glob\n",
    "import datetime\n",
    "import time\n",
    "from pathlib import Path\n",
    "\n",
    "from IPython import display\n",
    "import pylab as plt\n",
    "import numpy as np\n",
    "\n",
    "import clr"
   ]
  },
  {
   "cell_type": "markdown",
   "metadata": {},
   "source": [
    "### Test IAPI Mass Spec and Controllers"
   ]
  },
  {
   "cell_type": "code",
   "execution_count": 3,
   "metadata": {},
   "outputs": [],
   "source": [
    "import sys\n",
    "sys.path.append('C:\\\\Users\\\\joewa\\\\Work\\\\git\\\\vimms')\n",
    "sys.path.append('C:\\\\Users\\\\Vinny\\\\work\\\\vimms')\n",
    "\n",
    "from vimms.MassSpec import IndependentMassSpectrometer, IAPIMassSpectrometer\n",
    "from vimms.Controller import IdleController, SimpleMs1Controller, TopNController\n",
    "from vimms.Environment import Environment, IAPIEnvironment\n",
    "from vimms.Common import *"
   ]
  },
  {
   "cell_type": "code",
   "execution_count": 4,
   "metadata": {},
   "outputs": [],
   "source": [
    "set_log_level_debug()"
   ]
  },
  {
   "cell_type": "code",
   "execution_count": 5,
   "metadata": {},
   "outputs": [],
   "source": [
    "ref_dir = 'C:\\\\Users\\\\joewa\\\\Work\\\\git\\\\vimms\\\\Interface\\\\IAPI_Assembly\\\\bin\\\\Debug\\\\netstandard2.0'\n",
    "filename = 'C:\\\\Users\\\\joewa\\\\University of Glasgow\\\\Vinny Davies - CLDS Metabolomics Project\\\\Data\\\\multibeers_urine_data\\\\beers\\\\fullscan\\\\mzML\\\\Beer_multibeers_1_fullscan1.mzML'"
   ]
  },
  {
   "cell_type": "code",
   "execution_count": 6,
   "metadata": {},
   "outputs": [
    {
     "name": "stderr",
     "output_type": "stream",
     "text": [
      "DEBUG  : IAPIMassSpectrometer           : AddReference: IAPI_Assembly, Version=1.0.0.0, Culture=neutral, PublicKeyToken=null\n",
      "DEBUG  : IAPIMassSpectrometer           : ListAssemblies: ['mscorlib', 'clrmodule', 'Python.Runtime', 'System.Core', 'System.Configuration', 'System.Xml', 'System', '__CodeGenerator_Assembly', 'e__NativeCall_Assembly', 'IAPI_Assembly', 'netstandard', 'Fusion.API-1.0', 'API-2.0', 'Spectrum-1.0']\n"
     ]
    }
   ],
   "source": [
    "mass_spec = IAPIMassSpectrometer(POSITIVE, ref_dir, filename)\n",
    "controller = IdleController()"
   ]
  },
  {
   "cell_type": "code",
   "execution_count": 7,
   "metadata": {},
   "outputs": [
    {
     "name": "stderr",
     "output_type": "stream",
     "text": [
      "INFO   : IAPIEnvironment                : Initialising environment with mass spec <vimms.MassSpec.IAPIMassSpectrometer object at 0x00000277E1A15198> and controller <vimms.Controller.IdleController object at 0x00000277E1A150B8>\n",
      "INFO   : IdleController                 : Acquisition open\n",
      "INFO   : IAPIMassSpectrometer           : FusionContainer going online\n",
      "INFO   : IAPIMassSpectrometer           : FusionContainer is connected!!\n",
      "INFO   : IAPIMassSpectrometer           : Getting scan control interface\n",
      "INFO   : IAPIMassSpectrometer           : Unable to obtain scan control interface: The method or operation is not implemented.\n",
      "   at IAPI_Assembly.FusionAccess.get_Control()\n",
      "INFO   : IdleController                 : Time 1.230000 Received Scan 0 num_peaks=1113 rt=1.23 ms_level=1\n",
      "INFO   : IdleController                 : Time 2.882835 Received Scan 1 num_peaks=1658 rt=2.88 ms_level=1\n",
      "INFO   : IdleController                 : Time 4.174467 Received Scan 2 num_peaks=1595 rt=4.17 ms_level=1\n",
      "INFO   : IdleController                 : Time 5.430496 Received Scan 3 num_peaks=1360 rt=5.43 ms_level=1\n",
      "INFO   : IdleController                 : Time 6.711386 Received Scan 4 num_peaks=1290 rt=6.71 ms_level=1\n",
      "INFO   : IdleController                 : Time 8.163457 Received Scan 5 num_peaks=1307 rt=8.16 ms_level=1\n",
      "INFO   : IdleController                 : Time 9.436624 Received Scan 6 num_peaks=1308 rt=9.44 ms_level=1\n",
      "INFO   : IdleController                 : Time 10.694876 Received Scan 7 num_peaks=1298 rt=10.69 ms_level=1\n",
      "INFO   : IdleController                 : Time 11.960394 Received Scan 8 num_peaks=1373 rt=11.96 ms_level=1\n",
      "INFO   : IdleController                 : Time 13.429776 Received Scan 9 num_peaks=1382 rt=13.43 ms_level=1\n",
      "INFO   : IdleController                 : Time 14.698937 Received Scan 10 num_peaks=1305 rt=14.70 ms_level=1\n",
      "INFO   : IdleController                 : Time 15.961857 Received Scan 11 num_peaks=1262 rt=15.96 ms_level=1\n",
      "INFO   : IdleController                 : Time 17.243630 Received Scan 12 num_peaks=1346 rt=17.24 ms_level=1\n",
      "INFO   : IdleController                 : Time 18.704218 Received Scan 13 num_peaks=1262 rt=18.70 ms_level=1\n",
      "INFO   : IdleController                 : Time 19.963871 Received Scan 14 num_peaks=1222 rt=19.96 ms_level=1\n",
      "DEBUG  : IAPIEnvironment                : Unregistering MsScanArrived event handler\n",
      "INFO   : IdleController                 : Acquisition closing\n"
     ]
    }
   ],
   "source": [
    "env = IAPIEnvironment(mass_spec, controller, 20, progress_bar=False)\n",
    "env.default_scan_params = None\n",
    "env.run()"
   ]
  },
  {
   "cell_type": "code",
   "execution_count": null,
   "metadata": {},
   "outputs": [],
   "source": [
    "out_dir = Path(os.getcwd(), 'results')\n",
    "env.write_mzML(out_dir, 'iapi_test.mzML')"
   ]
  }
 ],
 "metadata": {
  "kernelspec": {
   "display_name": "Python 3",
   "language": "python",
   "name": "python3"
  },
  "language_info": {
   "codemirror_mode": {
    "name": "ipython",
    "version": 3
   },
   "file_extension": ".py",
   "mimetype": "text/x-python",
   "name": "python",
   "nbconvert_exporter": "python",
   "pygments_lexer": "ipython3",
   "version": "3.7.3"
  }
 },
 "nbformat": 4,
 "nbformat_minor": 4
}
