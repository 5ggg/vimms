{
 "cells": [
  {
   "cell_type": "code",
   "execution_count": null,
   "metadata": {},
   "outputs": [],
   "source": [
    "%matplotlib inline"
   ]
  },
  {
   "cell_type": "code",
   "execution_count": null,
   "metadata": {},
   "outputs": [],
   "source": [
    "%load_ext autoreload\n",
    "%autoreload 2"
   ]
  },
  {
   "cell_type": "code",
   "execution_count": null,
   "metadata": {},
   "outputs": [],
   "source": [
    "import numpy as np\n",
    "import pandas as pd\n",
    "import sys\n",
    "import scipy.stats\n",
    "import pylab as plt\n",
    "from IPython import display\n",
    "import pylab as plt\n",
    "import glob\n",
    "from collections import defaultdict"
   ]
  },
  {
   "cell_type": "code",
   "execution_count": null,
   "metadata": {},
   "outputs": [],
   "source": [
    "sys.path.append('..')"
   ]
  },
  {
   "cell_type": "code",
   "execution_count": null,
   "metadata": {},
   "outputs": [],
   "source": [
    "from vimms.Chemicals import *\n",
    "from vimms.Chromatograms import *\n",
    "from vimms.MassSpec import *\n",
    "from vimms.Controller import *\n",
    "from vimms.Common import *\n",
    "from vimms.DataGenerator import *\n",
    "from vimms.DsDA import *"
   ]
  },
  {
   "cell_type": "code",
   "execution_count": null,
   "metadata": {},
   "outputs": [],
   "source": [
    " set_log_level_warning()\n",
    "# set_log_level_info()\n",
    "# set_log_level_debug()"
   ]
  },
  {
   "cell_type": "code",
   "execution_count": null,
   "metadata": {},
   "outputs": [],
   "source": [
    "# base_dir = '..\\\\data'\n",
    "base_dir = 'C:\\\\Users\\\\joewa\\\\University of Glasgow\\\\Vinny Davies - CLDS Metabolomics Project\\\\Trained Models'"
   ]
  },
  {
   "cell_type": "code",
   "execution_count": null,
   "metadata": {},
   "outputs": [],
   "source": [
    "ps = load_obj(os.path.join(base_dir, 'peak_sampler_mz_rt_int_19_beers_fullscan.p'))"
   ]
  },
  {
   "cell_type": "code",
   "execution_count": null,
   "metadata": {},
   "outputs": [],
   "source": [
    "hmdb = load_obj(os.path.join(base_dir, 'hmdb_compounds.p'))"
   ]
  },
  {
   "cell_type": "code",
   "execution_count": null,
   "metadata": {},
   "outputs": [],
   "source": [
    "out_dir = 'C:\\\\Users\\\\joewa\\\\Work\\\\data\\\\ClassificationExample\\\\Samples_id_0'"
   ]
  },
  {
   "cell_type": "markdown",
   "metadata": {},
   "source": [
    "# Create Initial Chemical"
   ]
  },
  {
   "cell_type": "code",
   "execution_count": null,
   "metadata": {},
   "outputs": [],
   "source": [
    "ROI_Sources = [\"C:\\\\Users\\\\joewa\\\\Work\\\\data\\\\beer_t10_simulator_files\"]\n",
    "min_ms1_intensity = 1.75E5\n",
    "rt_range = [(400, 800)]\n",
    "mz_range = [(100, 400)]\n",
    "n_peaks = 20\n",
    "roi_rt_range = [20, 40]\n",
    "chems = ChemicalCreator(ps, ROI_Sources, hmdb)\n",
    "dataset = chems.sample(mz_range, rt_range, min_ms1_intensity, n_peaks, 1, \n",
    "                       fixed_mz=False, roi_rt_range=roi_rt_range)\n",
    "save_obj(dataset, os.path.join(out_dir, 'BaseDataset\\\\dataset.p'))"
   ]
  },
  {
   "cell_type": "code",
   "execution_count": null,
   "metadata": {},
   "outputs": [],
   "source": [
    "for chem in dataset:\n",
    "    print(np.abs(chem.chromatogram.min_rt - chem.chromatogram.max_rt))"
   ]
  },
  {
   "cell_type": "markdown",
   "metadata": {},
   "source": [
    "# Create Multiple Samples"
   ]
  },
  {
   "cell_type": "code",
   "execution_count": null,
   "metadata": {},
   "outputs": [],
   "source": [
    "n_samples = [100,100] # number of files per class\n",
    "classes = [\"class%d\" % i for i in range(len(n_samples))] # creates default list of classes\n",
    "intensity_noise_sd = [1000] # noise on max intensity"
   ]
  },
  {
   "cell_type": "code",
   "execution_count": null,
   "metadata": {},
   "outputs": [],
   "source": [
    "classes"
   ]
  },
  {
   "cell_type": "markdown",
   "metadata": {},
   "source": [
    "Add intensity changes between different classes"
   ]
  },
  {
   "cell_type": "code",
   "execution_count": null,
   "metadata": {},
   "outputs": [],
   "source": [
    "change_probabilities = [0 for i in range(len(n_samples))] # probability of intensity changes between different classes\n",
    "change_differences_means = [0 for i in range(len(n_samples))] # mean of those intensity changes\n",
    "change_differences_sds = [0 for i in range(len(n_samples))] # SD of those intensity changes"
   ]
  },
  {
   "cell_type": "markdown",
   "metadata": {},
   "source": [
    "Add experimental variables (examples in comments)"
   ]
  },
  {
   "cell_type": "code",
   "execution_count": null,
   "metadata": {},
   "outputs": [],
   "source": [
    "experimental_classes = None # [[\"male\",\"female\"],[\"Positive\",\"Negative\",\"Unknown\"]]\n",
    "experimental_probabilitities = None # [[0.5,0.5],[0.33,0.33,0.34]]\n",
    "experimental_sds = None # [[250],[250]]"
   ]
  },
  {
   "cell_type": "markdown",
   "metadata": {},
   "source": [
    "Dropout chemicals from in different classes"
   ]
  },
  {
   "cell_type": "code",
   "execution_count": null,
   "metadata": {},
   "outputs": [],
   "source": [
    "#dropout_probability = 0.2\n",
    "#dropout_probabilities = [dropout_probability for i in range(len(n_samples))]\n",
    "dropout_probabilities = None\n",
    "dropout_numbers = 2 # number of chemicals dropped out in each class"
   ]
  },
  {
   "cell_type": "markdown",
   "metadata": {},
   "source": [
    "Set save location"
   ]
  },
  {
   "cell_type": "code",
   "execution_count": null,
   "metadata": {},
   "outputs": [],
   "source": [
    "save_location = os.path.join(out_dir, 'ChemicalFiles')"
   ]
  },
  {
   "cell_type": "code",
   "execution_count": null,
   "metadata": {
    "scrolled": true
   },
   "outputs": [],
   "source": [
    "multiple_samples = MultiSampleCreator(dataset, n_samples, classes, intensity_noise_sd, \n",
    "                                      change_probabilities, change_differences_means, change_differences_sds, dropout_probabilities, dropout_numbers,\n",
    "                                     experimental_classes, experimental_probabilitities, experimental_sds, save_location=save_location)"
   ]
  },
  {
   "cell_type": "code",
   "execution_count": null,
   "metadata": {},
   "outputs": [],
   "source": [
    "total_samples = np.sum(multiple_samples.n_samples)\n",
    "total_samples"
   ]
  },
  {
   "cell_type": "code",
   "execution_count": null,
   "metadata": {},
   "outputs": [],
   "source": [
    "save_obj(multiple_samples.missing_chemicals, os.path.join(out_dir, 'MissingChemicals\\\\missing_chemicals.p'))\n",
    "multiple_samples.missing_chemicals"
   ]
  },
  {
   "cell_type": "markdown",
   "metadata": {},
   "source": [
    "Run MS1 controller and save out .mzML files"
   ]
  },
  {
   "cell_type": "code",
   "execution_count": null,
   "metadata": {},
   "outputs": [],
   "source": [
    "min_rt = rt_range[0][0]\n",
    "max_rt = rt_range[0][1]\n",
    "controllers = defaultdict(list)\n",
    "controller_to_mzml = {}\n",
    "\n",
    "mzml_dir = os.path.join(out_dir, 'mzmlFiles')\n",
    "num_classes = len(n_samples)\n",
    "sample_idx = 0\n",
    "for j in range(num_classes):\n",
    "    num_samples = n_samples[j]\n",
    "    for i in range(num_samples):\n",
    "        fname = os.path.join(save_location, 'sample_%d.p' % sample_idx) \n",
    "        sample = load_obj(fname)\n",
    "        sample_idx += 1\n",
    "        \n",
    "        mass_spec = IndependentMassSpectrometer(POSITIVE, sample, density=ps.density_estimator)\n",
    "        mzml_filename = mzml_dir + '\\\\sample_id_0_number_%d' % i + '_class_%d.mzML' % j \n",
    "        controller = SimpleMs1Controller(mass_spec)\n",
    "        controller.run(min_rt,max_rt)\n",
    "        controller.write_mzML('my_analysis', mzml_filename)\n",
    "        \n",
    "        controllers[j].append(controller)\n",
    "        controller_to_mzml[controller] = (j, mzml_filename, )"
   ]
  },
  {
   "cell_type": "markdown",
   "metadata": {},
   "source": [
    "Print out the missing peaks"
   ]
  },
  {
   "cell_type": "code",
   "execution_count": null,
   "metadata": {},
   "outputs": [],
   "source": [
    "def get_chem_to_peaks(controller):\n",
    "    chem_to_peaks = defaultdict(list)\n",
    "    frag_events = controller.mass_spec.fragmentation_events\n",
    "    for frag_event in frag_events:\n",
    "        chem = frag_event.chem\n",
    "        peaks = frag_event.peaks\n",
    "        chem_to_peaks[chem].extend(peaks)\n",
    "    return chem_to_peaks"
   ]
  },
  {
   "cell_type": "code",
   "execution_count": null,
   "metadata": {},
   "outputs": [],
   "source": [
    "for controller, (current_class, mzml_filename) in controller_to_mzml.items():\n",
    "    controller_peaks = get_chem_to_peaks(controller)\n",
    "    basename = os.path.basename(mzml_filename)\n",
    "    front, back = os.path.splitext(mzml_filename)\n",
    "    outfile = front + '.csv'\n",
    "\n",
    "    missing_peaks = []            \n",
    "    for other_class in range(num_classes):\n",
    "        if current_class == other_class:\n",
    "            continue\n",
    "\n",
    "        # get the peaks that are present in current_class but missing in other_class\n",
    "        missing_chems = multiple_samples.missing_chemicals[other_class]\n",
    "        for chem in missing_chems:\n",
    "            peaks = controller_peaks[chem]\n",
    "            for peak in peaks:\n",
    "                row = (chem.formula.formula_string, current_class, other_class, peak.mz, peak.rt, peak.intensity)\n",
    "                missing_peaks.append(row)\n",
    "    \n",
    "    # convert to dataframe\n",
    "    columns = ['formula', 'present_in', 'missing_in', 'mz', 'RT', 'intensity']\n",
    "    missing_df = pd.DataFrame(missing_peaks, columns=columns)\n",
    "    missing_df.to_csv(os.path.join(out_dir, 'MissingChemicals', os.path.basename(outfile)))"
   ]
  },
  {
   "cell_type": "code",
   "execution_count": null,
   "metadata": {},
   "outputs": [],
   "source": []
  }
 ],
 "metadata": {
  "kernelspec": {
   "display_name": "Python 3",
   "language": "python",
   "name": "python3"
  },
  "language_info": {
   "codemirror_mode": {
    "name": "ipython",
    "version": 3
   },
   "file_extension": ".py",
   "mimetype": "text/x-python",
   "name": "python",
   "nbconvert_exporter": "python",
   "pygments_lexer": "ipython3",
   "version": "3.7.3"
  }
 },
 "nbformat": 4,
 "nbformat_minor": 2
}
