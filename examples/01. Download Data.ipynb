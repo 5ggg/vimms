{
 "cells": [
  {
   "cell_type": "markdown",
   "metadata": {},
   "source": [
    "# 1. Download Data"
   ]
  },
  {
   "cell_type": "markdown",
   "metadata": {},
   "source": [
    "This notebook downloads the necessary example data that will be used in other notebooks. In particular, the notebook does the following:\n",
    "\n",
    "- Download beer and urine .mzML files used as examples in the paper\n",
    "- Download the HMDB database and extract metabolites.\n",
    "- Trains kernel density estimators on the mzML files.\n",
    "- Extract regions of interests from the mzML files.\n",
    "\n",
    "**Please run this notebook first to make sure the data files are available for subsequent notebooks.**"
   ]
  },
  {
   "cell_type": "code",
   "execution_count": 1,
   "metadata": {},
   "outputs": [],
   "source": [
    "%matplotlib inline"
   ]
  },
  {
   "cell_type": "code",
   "execution_count": 2,
   "metadata": {},
   "outputs": [],
   "source": [
    "%load_ext autoreload\n",
    "%autoreload 2"
   ]
  },
  {
   "cell_type": "code",
   "execution_count": 3,
   "metadata": {},
   "outputs": [],
   "source": [
    "from pathlib import Path\n",
    "import glob"
   ]
  },
  {
   "cell_type": "code",
   "execution_count": 4,
   "metadata": {},
   "outputs": [],
   "source": [
    "import sys\n",
    "sys.path.append('..')"
   ]
  },
  {
   "cell_type": "code",
   "execution_count": 5,
   "metadata": {},
   "outputs": [],
   "source": [
    "from vimms.DataGenerator import extract_hmdb_metabolite, get_data_source, get_spectral_feature_database\n",
    "from vimms.MassSpec import IndependentMassSpectrometer\n",
    "from vimms.Controller import SimpleMs1Controller\n",
    "from vimms.Common import *\n",
    "from vimms.Roi import make_roi, RoiToChemicalCreator, extract_roi"
   ]
  },
  {
   "cell_type": "code",
   "execution_count": 6,
   "metadata": {},
   "outputs": [],
   "source": [
    "# set_log_level_info()\n",
    "set_log_level_debug()"
   ]
  },
  {
   "cell_type": "markdown",
   "metadata": {},
   "source": [
    "## a. Download beer and urine files"
   ]
  },
  {
   "cell_type": "markdown",
   "metadata": {},
   "source": [
    "Here we download the beer and urine .mzML files used as examples in the paper if they don't exist."
   ]
  },
  {
   "cell_type": "code",
   "execution_count": 7,
   "metadata": {},
   "outputs": [],
   "source": [
    "url = 'http://researchdata.gla.ac.uk/870/2/example_data.zip'\n",
    "base_dir = os.path.join(os.getcwd(), 'example_data')"
   ]
  },
  {
   "cell_type": "code",
   "execution_count": 8,
   "metadata": {},
   "outputs": [
    {
     "name": "stdout",
     "output_type": "stream",
     "text": [
      "Creating C:\\Users\\joewa\\Work\\git\\vimms\\examples\\example_data\n",
      "Downloading example_data.zip\n"
     ]
    },
    {
     "name": "stderr",
     "output_type": "stream",
     "text": [
      "869kKB [01:28, 9.83kKB/s]                                                                                            \n"
     ]
    },
    {
     "name": "stdout",
     "output_type": "stream",
     "text": [
      "Extracting example_data.zip\n"
     ]
    },
    {
     "name": "stderr",
     "output_type": "stream",
     "text": [
      "100%|██████████████████████████████████████████████████████████████████████████████| 110/110 [00:10<00:00, 10.82it/s]\n"
     ]
    },
    {
     "name": "stdout",
     "output_type": "stream",
     "text": [
      "Deleting example_data.zip\n"
     ]
    }
   ],
   "source": [
    "if not os.path.isdir(base_dir): # if not exist then download the example data and extract it\n",
    "    print('Creating %s' % base_dir)    \n",
    "    out_file = 'example_data.zip'\n",
    "    download_file(url, out_file)\n",
    "    extract_zip_file(out_file, delete=True)\n",
    "else:\n",
    "    print('Found %s' % base_dir)"
   ]
  },
  {
   "cell_type": "markdown",
   "metadata": {},
   "source": [
    "## b. Download metabolites from HMDB"
   ]
  },
  {
   "cell_type": "markdown",
   "metadata": {},
   "source": [
    "Next we load a pre-processed pickled file of database metabolites in the `data_dir` folder. If it is not found, then create the file by downloading and extracting the metabolites from HMDB."
   ]
  },
  {
   "cell_type": "code",
   "execution_count": 9,
   "metadata": {},
   "outputs": [
    {
     "name": "stderr",
     "output_type": "stream",
     "text": [
      "Old, invalid or missing pickle in C:\\Users\\joewa\\Work\\git\\vimms\\examples\\example_data\\hmdb_compounds.p. Please regenerate this file.\n"
     ]
    },
    {
     "name": "stdout",
     "output_type": "stream",
     "text": [
      "Downloading hmdb_metabolites.zip\n"
     ]
    },
    {
     "name": "stderr",
     "output_type": "stream",
     "text": [
      "629kKB [00:54, 11.6kKB/s]                                                                                            \n"
     ]
    },
    {
     "name": "stdout",
     "output_type": "stream",
     "text": [
      "Extracting HMDB metabolites from hmdb_metabolites.zip\n",
      "Loaded 114087 DatabaseCompounds from hmdb_metabolites.zip\n",
      "Deleting hmdb_metabolites.zip\n",
      "Saving <class 'list'> to C:\\Users\\joewa\\Work\\git\\vimms\\examples\\example_data\\hmdb_compounds.p\n"
     ]
    }
   ],
   "source": [
    "compound_file = Path(base_dir, 'hmdb_compounds.p')\n",
    "hmdb_compounds = load_obj(compound_file)\n",
    "if hmdb_compounds is None: # if file does not exist\n",
    "\n",
    "    # download the entire HMDB metabolite database\n",
    "    url = 'http://www.hmdb.ca/system/downloads/current/hmdb_metabolites.zip'\n",
    "\n",
    "    out_file = download_file(url)\n",
    "    compounds = extract_hmdb_metabolite(out_file, delete=True)\n",
    "    save_obj(compounds, compound_file)\n",
    "\n",
    "else:\n",
    "    print('Loaded %d DatabaseCompounds from %s' % (len(hmdb_compounds), compound_file))"
   ]
  },
  {
   "cell_type": "markdown",
   "metadata": {},
   "source": [
    "## c. Generate Spectral Feature Database"
   ]
  },
  {
   "cell_type": "markdown",
   "metadata": {},
   "source": [
    "In this section we demonstrate how ViMMS constructs the spectral feature database containing information, such as the densities of m/z, RT and intensities, scan durations, MS2 peaks, from the example Beer mzML files. The spectral feature database will be used to sample for various features during the simulation later.\n",
    "\n",
    "The following two methods `get_data_source` and `get_spectral_feature_database` from ViMMS will be used. \n",
    "- `get_data_source` loads a `DataSource` object that stores information on a set of .mzML files\n",
    "- `get_spectral_feature_database` extracts relevant features from .mzML files that have been loaded into the DataSource. \n",
    "\n",
    "The parameter below should work for most cases, however for different data, it might be necessary to adjust the `min_rt` and `max_rt` values."
   ]
  },
  {
   "cell_type": "code",
   "execution_count": 10,
   "metadata": {},
   "outputs": [],
   "source": [
    "filename = None                    # if None, use all mzML files found\n",
    "min_ms1_intensity = 0              # min MS1 intensity threshold to include a data point for density estimation\n",
    "min_ms2_intensity = 0              # min MS2 intensity threshold to include a data point for density estimation\n",
    "min_rt = 0                         # min RT to include a data point for density estimation\n",
    "max_rt = 1440                      # max RT to include a data point for density estimation\n",
    "bandwidth_mz_intensity_rt = 1.0    # kernel bandwidth parameter to sample (mz, RT, intensity) values during simulation\n",
    "bandwidth_n_peaks = 1.0            # kernel bandwidth parameter to sample number of peaks per scan during simulation"
   ]
  },
  {
   "cell_type": "markdown",
   "metadata": {},
   "source": [
    "### Load fullscan data and train spectral feature database"
   ]
  },
  {
   "cell_type": "code",
   "execution_count": 11,
   "metadata": {},
   "outputs": [],
   "source": [
    "mzml_path = Path(base_dir, 'beers', 'fullscan', 'mzML')\n",
    "xcms_output = Path(mzml_path, 'extracted_peaks_ms1.csv')\n",
    "out_file = Path(base_dir, 'peak_sampler_mz_rt_int_19_beers_fullscan.p')"
   ]
  },
  {
   "cell_type": "code",
   "execution_count": 12,
   "metadata": {},
   "outputs": [
    {
     "name": "stderr",
     "output_type": "stream",
     "text": [
      "INFO   : DataSource                     : Loading Beer_multibeers_10_fullscan1.mzML\n",
      "INFO   : DataSource                     : Loading Beer_multibeers_11_fullscan1.mzML\n",
      "INFO   : DataSource                     : Loading Beer_multibeers_12_fullscan1.mzML\n",
      "INFO   : DataSource                     : Loading Beer_multibeers_13_fullscan1.mzML\n",
      "INFO   : DataSource                     : Loading Beer_multibeers_14_fullscan1.mzML\n",
      "INFO   : DataSource                     : Loading Beer_multibeers_15_fullscan1.mzML\n",
      "INFO   : DataSource                     : Loading Beer_multibeers_16_fullscan1.mzML\n",
      "INFO   : DataSource                     : Loading Beer_multibeers_17_fullscan1.mzML\n",
      "INFO   : DataSource                     : Loading Beer_multibeers_18_fullscan1.mzML\n",
      "INFO   : DataSource                     : Loading Beer_multibeers_19_fullscan1.mzML\n",
      "INFO   : DataSource                     : Loading Beer_multibeers_1_fullscan1.mzML\n",
      "INFO   : DataSource                     : Loading Beer_multibeers_2_fullscan1.mzML\n",
      "INFO   : DataSource                     : Loading Beer_multibeers_3_fullscan1.mzML\n",
      "INFO   : DataSource                     : Loading Beer_multibeers_4_fullscan1.mzML\n",
      "INFO   : DataSource                     : Loading Beer_multibeers_5_fullscan1.mzML\n",
      "INFO   : DataSource                     : Loading Beer_multibeers_6_fullscan1.mzML\n",
      "INFO   : DataSource                     : Loading Beer_multibeers_7_fullscan1.mzML\n",
      "INFO   : DataSource                     : Loading Beer_multibeers_8_fullscan1.mzML\n",
      "INFO   : DataSource                     : Loading Beer_multibeers_9_fullscan1.mzML\n"
     ]
    }
   ],
   "source": [
    "ds_fullscan = get_data_source(mzml_path, filename, xcms_output)"
   ]
  },
  {
   "cell_type": "code",
   "execution_count": 13,
   "metadata": {},
   "outputs": [
    {
     "name": "stderr",
     "output_type": "stream",
     "text": [
      "DEBUG  : PeakSampler                    : Extracted 0 MS2 scans\n",
      "DEBUG  : PeakSampler                    : Computing parent intensity proportions\n",
      "DEBUG  : PeakSampler                    : Extracting scan durations\n",
      "DEBUG  : PeakSampler                    : Training KDEs for ms_level=1\n",
      "DEBUG  : PeakSampler                    : Retrieving mz_intensity_rt values from <vimms.DataGenerator.DataSource object at 0x00000261F1C5AEF0>\n",
      "INFO   : DataSource                     : Using values from XCMS peaklist\n",
      "DEBUG  : PeakSampler                    : Retrieving n_peaks values from <vimms.DataGenerator.DataSource object at 0x00000261F1C5AEF0>\n",
      "DEBUG  : PeakSampler                    : Training KDEs for ms_level=2\n",
      "DEBUG  : PeakSampler                    : Retrieving mz_intensity_rt values from <vimms.DataGenerator.DataSource object at 0x00000261F1C5AEF0>\n",
      "INFO   : DataSource                     : Using values from scans\n"
     ]
    },
    {
     "name": "stdout",
     "output_type": "stream",
     "text": [
      "Saving <class 'vimms.DataGenerator.PeakSampler'> to C:\\Users\\joewa\\Work\\git\\vimms\\examples\\example_data\\peak_sampler_mz_rt_int_19_beers_fullscan.p\n"
     ]
    }
   ],
   "source": [
    "ps = get_spectral_feature_database(ds_fullscan, filename, min_ms1_intensity, min_ms2_intensity, min_rt, max_rt,\n",
    "               bandwidth_mz_intensity_rt, bandwidth_n_peaks, out_file)"
   ]
  },
  {
   "cell_type": "code",
   "execution_count": 14,
   "metadata": {},
   "outputs": [
    {
     "data": {
      "text/plain": [
       "[Peak mz=136.9496 rt=537.65 intensity=37108548.00 ms_level=1,\n",
       " Peak mz=285.8008 rt=453.67 intensity=122601.88 ms_level=1,\n",
       " Peak mz=203.0161 rt=800.46 intensity=5528916.66 ms_level=1,\n",
       " Peak mz=493.0525 rt=846.87 intensity=3659826.70 ms_level=1,\n",
       " Peak mz=334.3843 rt=675.58 intensity=1143245.51 ms_level=1,\n",
       " Peak mz=189.7426 rt=595.53 intensity=483163.55 ms_level=1,\n",
       " Peak mz=332.1387 rt=251.45 intensity=104280.15 ms_level=1,\n",
       " Peak mz=292.6445 rt=811.16 intensity=552137.99 ms_level=1,\n",
       " Peak mz=102.7933 rt=694.96 intensity=6312829.02 ms_level=1,\n",
       " Peak mz=249.9101 rt=449.84 intensity=1158676.89 ms_level=1]"
      ]
     },
     "execution_count": 14,
     "metadata": {},
     "output_type": "execute_result"
    }
   ],
   "source": [
    "ps.get_peak(1, 10) # try to sample 10 MS1 peaks"
   ]
  },
  {
   "cell_type": "markdown",
   "metadata": {},
   "source": [
    "### Load fragmentation data and train spectral feature database"
   ]
  },
  {
   "cell_type": "code",
   "execution_count": 15,
   "metadata": {},
   "outputs": [],
   "source": [
    "mzml_path = Path(base_dir, 'beers', 'fragmentation', 'mzML')\n",
    "xcms_output = Path(mzml_path, 'extracted_peaks_ms1.csv')\n",
    "out_file = Path(base_dir, 'peak_sampler_mz_rt_int_19_beers_fragmentation.p')"
   ]
  },
  {
   "cell_type": "code",
   "execution_count": 16,
   "metadata": {},
   "outputs": [
    {
     "name": "stderr",
     "output_type": "stream",
     "text": [
      "INFO   : DataSource                     : Loading Beer_multibeers_10_T10_POS.mzML\n",
      "INFO   : DataSource                     : Loading Beer_multibeers_11_T10_POS.mzML\n",
      "INFO   : DataSource                     : Loading Beer_multibeers_12_T10_POS.mzML\n",
      "INFO   : DataSource                     : Loading Beer_multibeers_13_T10_POS.mzML\n",
      "INFO   : DataSource                     : Loading Beer_multibeers_14_T10_POS.mzML\n",
      "INFO   : DataSource                     : Loading Beer_multibeers_15_T10_POS.mzML\n",
      "INFO   : DataSource                     : Loading Beer_multibeers_16_T10_POS.mzML\n",
      "INFO   : DataSource                     : Loading Beer_multibeers_17_T10_POS.mzML\n",
      "INFO   : DataSource                     : Loading Beer_multibeers_18_T10_POS.mzML\n",
      "INFO   : DataSource                     : Loading Beer_multibeers_19_T10_POS.mzML\n",
      "INFO   : DataSource                     : Loading Beer_multibeers_1_T10_POS.mzML\n",
      "INFO   : DataSource                     : Loading Beer_multibeers_2_T10_POS.mzML\n",
      "INFO   : DataSource                     : Loading Beer_multibeers_3_T10_POS.mzML\n",
      "INFO   : DataSource                     : Loading Beer_multibeers_4_T10_POS.mzML\n",
      "INFO   : DataSource                     : Loading Beer_multibeers_5_T10_POS.mzML\n",
      "INFO   : DataSource                     : Loading Beer_multibeers_6_T10_POS.mzML\n",
      "INFO   : DataSource                     : Loading Beer_multibeers_7_T10_POS.mzML\n",
      "INFO   : DataSource                     : Loading Beer_multibeers_8_T10_POS.mzML\n",
      "INFO   : DataSource                     : Loading Beer_multibeers_9_T10_POS.mzML\n"
     ]
    }
   ],
   "source": [
    "ds_fragmentation = get_data_source(mzml_path, filename, xcms_output)"
   ]
  },
  {
   "cell_type": "code",
   "execution_count": 17,
   "metadata": {},
   "outputs": [
    {
     "name": "stderr",
     "output_type": "stream",
     "text": [
      "DEBUG  : PeakSampler                    : Extracted 138969 MS2 scans\n",
      "DEBUG  : PeakSampler                    : Computing parent intensity proportions\n",
      "DEBUG  : PeakSampler                    : Extracting scan durations\n",
      "DEBUG  : PeakSampler                    : Training KDEs for ms_level=1\n",
      "DEBUG  : PeakSampler                    : Retrieving mz_intensity_rt values from <vimms.DataGenerator.DataSource object at 0x0000025D267FD978>\n",
      "INFO   : DataSource                     : Using values from XCMS peaklist\n",
      "DEBUG  : PeakSampler                    : Retrieving n_peaks values from <vimms.DataGenerator.DataSource object at 0x0000025D267FD978>\n",
      "DEBUG  : PeakSampler                    : Training KDEs for ms_level=2\n",
      "DEBUG  : PeakSampler                    : Retrieving mz_intensity_rt values from <vimms.DataGenerator.DataSource object at 0x0000025D267FD978>\n",
      "INFO   : DataSource                     : Using values from scans\n",
      "DEBUG  : PeakSampler                    : Retrieving n_peaks values from <vimms.DataGenerator.DataSource object at 0x0000025D267FD978>\n"
     ]
    },
    {
     "name": "stdout",
     "output_type": "stream",
     "text": [
      "Saving <class 'vimms.DataGenerator.PeakSampler'> to C:\\Users\\joewa\\Work\\git\\vimms\\examples\\example_data\\peak_sampler_mz_rt_int_19_beers_fragmentation.p\n"
     ]
    }
   ],
   "source": [
    "ps = get_spectral_feature_database(ds_fragmentation, filename, min_ms1_intensity, min_ms2_intensity, min_rt, max_rt,\n",
    "               bandwidth_mz_intensity_rt, bandwidth_n_peaks, out_file)"
   ]
  },
  {
   "cell_type": "code",
   "execution_count": 18,
   "metadata": {},
   "outputs": [
    {
     "data": {
      "text/plain": [
       "[Peak mz=552.8323 rt=244.19 intensity=203442.32 ms_level=1,\n",
       " Peak mz=159.4103 rt=243.06 intensity=859074.34 ms_level=1,\n",
       " Peak mz=238.0802 rt=241.58 intensity=85852.43 ms_level=1,\n",
       " Peak mz=273.7990 rt=379.99 intensity=749814.02 ms_level=1,\n",
       " Peak mz=396.3990 rt=429.91 intensity=332224.01 ms_level=1,\n",
       " Peak mz=649.1621 rt=1048.83 intensity=12576.05 ms_level=1,\n",
       " Peak mz=528.1003 rt=447.24 intensity=1600649.85 ms_level=1,\n",
       " Peak mz=266.0438 rt=327.78 intensity=157540.79 ms_level=1,\n",
       " Peak mz=250.9470 rt=762.05 intensity=1387127.76 ms_level=1,\n",
       " Peak mz=135.5033 rt=355.81 intensity=327373.46 ms_level=1]"
      ]
     },
     "execution_count": 18,
     "metadata": {},
     "output_type": "execute_result"
    }
   ],
   "source": [
    "ps.get_peak(1, 10)"
   ]
  },
  {
   "cell_type": "code",
   "execution_count": 19,
   "metadata": {},
   "outputs": [
    {
     "data": {
      "text/plain": [
       "[Peak mz=60.4753 rt=850.29 intensity=3403.33 ms_level=2,\n",
       " Peak mz=212.5180 rt=555.45 intensity=17995.13 ms_level=2,\n",
       " Peak mz=55.6988 rt=338.33 intensity=1068.62 ms_level=2,\n",
       " Peak mz=118.9993 rt=367.67 intensity=7218.38 ms_level=2,\n",
       " Peak mz=88.1344 rt=664.83 intensity=8376.66 ms_level=2,\n",
       " Peak mz=58.6954 rt=1102.59 intensity=7202.36 ms_level=2,\n",
       " Peak mz=216.2433 rt=1166.93 intensity=20025.84 ms_level=2,\n",
       " Peak mz=119.7391 rt=238.48 intensity=1587.97 ms_level=2,\n",
       " Peak mz=80.4763 rt=265.01 intensity=3041.35 ms_level=2,\n",
       " Peak mz=93.4523 rt=1005.03 intensity=367883.68 ms_level=2]"
      ]
     },
     "execution_count": 19,
     "metadata": {},
     "output_type": "execute_result"
    }
   ],
   "source": [
    "ps.get_peak(2, 10)"
   ]
  },
  {
   "cell_type": "markdown",
   "metadata": {},
   "source": [
    "## d. Extract the ROIs for DsDA Experiments"
   ]
  },
  {
   "cell_type": "code",
   "execution_count": 20,
   "metadata": {},
   "outputs": [],
   "source": [
    "roi_mz_tol = 10\n",
    "roi_min_length = 2\n",
    "roi_min_intensity = 1.75E5\n",
    "roi_start_rt = min_rt\n",
    "roi_stop_rt = max_rt"
   ]
  },
  {
   "cell_type": "markdown",
   "metadata": {},
   "source": [
    "#### Extract beer ROIs"
   ]
  },
  {
   "cell_type": "code",
   "execution_count": 21,
   "metadata": {},
   "outputs": [
    {
     "name": "stderr",
     "output_type": "stream",
     "text": [
      "DEBUG  : RoiToChemicalCreator           :      0/ 11925\n",
      "INFO   : RoiToChemicalCreator           : Found 11925 ROIs above thresholds\n"
     ]
    },
    {
     "name": "stdout",
     "output_type": "stream",
     "text": [
      "Created C:\\Users\\joewa\\Work\\git\\vimms\\examples\\example_data\\DsDA\\DsDA_Beer\\beer_t10_simulator_files\n",
      "Saving <class 'list'> to C:\\Users\\joewa\\Work\\git\\vimms\\examples\\example_data\\DsDA\\DsDA_Beer\\beer_t10_simulator_files\\beer_10.p\n"
     ]
    },
    {
     "name": "stderr",
     "output_type": "stream",
     "text": [
      "DEBUG  : RoiToChemicalCreator           :      0/  9971\n",
      "INFO   : RoiToChemicalCreator           : Found 9971 ROIs above thresholds\n"
     ]
    },
    {
     "name": "stdout",
     "output_type": "stream",
     "text": [
      "Saving <class 'list'> to C:\\Users\\joewa\\Work\\git\\vimms\\examples\\example_data\\DsDA\\DsDA_Beer\\beer_t10_simulator_files\\beer_11.p\n"
     ]
    },
    {
     "name": "stderr",
     "output_type": "stream",
     "text": [
      "DEBUG  : RoiToChemicalCreator           :      0/ 11249\n",
      "INFO   : RoiToChemicalCreator           : Found 11249 ROIs above thresholds\n"
     ]
    },
    {
     "name": "stdout",
     "output_type": "stream",
     "text": [
      "Saving <class 'list'> to C:\\Users\\joewa\\Work\\git\\vimms\\examples\\example_data\\DsDA\\DsDA_Beer\\beer_t10_simulator_files\\beer_12.p\n"
     ]
    },
    {
     "name": "stderr",
     "output_type": "stream",
     "text": [
      "DEBUG  : RoiToChemicalCreator           :      0/ 10489\n",
      "INFO   : RoiToChemicalCreator           : Found 10489 ROIs above thresholds\n"
     ]
    },
    {
     "name": "stdout",
     "output_type": "stream",
     "text": [
      "Saving <class 'list'> to C:\\Users\\joewa\\Work\\git\\vimms\\examples\\example_data\\DsDA\\DsDA_Beer\\beer_t10_simulator_files\\beer_13.p\n"
     ]
    },
    {
     "name": "stderr",
     "output_type": "stream",
     "text": [
      "DEBUG  : RoiToChemicalCreator           :      0/ 12840\n",
      "INFO   : RoiToChemicalCreator           : Found 12840 ROIs above thresholds\n"
     ]
    },
    {
     "name": "stdout",
     "output_type": "stream",
     "text": [
      "Saving <class 'list'> to C:\\Users\\joewa\\Work\\git\\vimms\\examples\\example_data\\DsDA\\DsDA_Beer\\beer_t10_simulator_files\\beer_14.p\n"
     ]
    },
    {
     "name": "stderr",
     "output_type": "stream",
     "text": [
      "DEBUG  : RoiToChemicalCreator           :      0/ 13068\n",
      "INFO   : RoiToChemicalCreator           : Found 13068 ROIs above thresholds\n"
     ]
    },
    {
     "name": "stdout",
     "output_type": "stream",
     "text": [
      "Saving <class 'list'> to C:\\Users\\joewa\\Work\\git\\vimms\\examples\\example_data\\DsDA\\DsDA_Beer\\beer_t10_simulator_files\\beer_15.p\n"
     ]
    },
    {
     "name": "stderr",
     "output_type": "stream",
     "text": [
      "DEBUG  : RoiToChemicalCreator           :      0/ 15556\n",
      "INFO   : RoiToChemicalCreator           : Found 15556 ROIs above thresholds\n"
     ]
    },
    {
     "name": "stdout",
     "output_type": "stream",
     "text": [
      "Saving <class 'list'> to C:\\Users\\joewa\\Work\\git\\vimms\\examples\\example_data\\DsDA\\DsDA_Beer\\beer_t10_simulator_files\\beer_16.p\n"
     ]
    },
    {
     "name": "stderr",
     "output_type": "stream",
     "text": [
      "DEBUG  : RoiToChemicalCreator           :      0/ 14778\n",
      "INFO   : RoiToChemicalCreator           : Found 14778 ROIs above thresholds\n"
     ]
    },
    {
     "name": "stdout",
     "output_type": "stream",
     "text": [
      "Saving <class 'list'> to C:\\Users\\joewa\\Work\\git\\vimms\\examples\\example_data\\DsDA\\DsDA_Beer\\beer_t10_simulator_files\\beer_17.p\n"
     ]
    },
    {
     "name": "stderr",
     "output_type": "stream",
     "text": [
      "DEBUG  : RoiToChemicalCreator           :      0/ 13742\n",
      "INFO   : RoiToChemicalCreator           : Found 13742 ROIs above thresholds\n"
     ]
    },
    {
     "name": "stdout",
     "output_type": "stream",
     "text": [
      "Saving <class 'list'> to C:\\Users\\joewa\\Work\\git\\vimms\\examples\\example_data\\DsDA\\DsDA_Beer\\beer_t10_simulator_files\\beer_18.p\n"
     ]
    },
    {
     "name": "stderr",
     "output_type": "stream",
     "text": [
      "DEBUG  : RoiToChemicalCreator           :      0/ 12945\n",
      "INFO   : RoiToChemicalCreator           : Found 12945 ROIs above thresholds\n"
     ]
    },
    {
     "name": "stdout",
     "output_type": "stream",
     "text": [
      "Saving <class 'list'> to C:\\Users\\joewa\\Work\\git\\vimms\\examples\\example_data\\DsDA\\DsDA_Beer\\beer_t10_simulator_files\\beer_19.p\n"
     ]
    },
    {
     "name": "stderr",
     "output_type": "stream",
     "text": [
      "DEBUG  : RoiToChemicalCreator           :      0/ 12611\n",
      "INFO   : RoiToChemicalCreator           : Found 12611 ROIs above thresholds\n"
     ]
    },
    {
     "name": "stdout",
     "output_type": "stream",
     "text": [
      "Saving <class 'list'> to C:\\Users\\joewa\\Work\\git\\vimms\\examples\\example_data\\DsDA\\DsDA_Beer\\beer_t10_simulator_files\\beer_1.p\n"
     ]
    },
    {
     "name": "stderr",
     "output_type": "stream",
     "text": [
      "DEBUG  : RoiToChemicalCreator           :      0/ 14839\n",
      "INFO   : RoiToChemicalCreator           : Found 14839 ROIs above thresholds\n"
     ]
    },
    {
     "name": "stdout",
     "output_type": "stream",
     "text": [
      "Saving <class 'list'> to C:\\Users\\joewa\\Work\\git\\vimms\\examples\\example_data\\DsDA\\DsDA_Beer\\beer_t10_simulator_files\\beer_2.p\n"
     ]
    },
    {
     "name": "stderr",
     "output_type": "stream",
     "text": [
      "DEBUG  : RoiToChemicalCreator           :      0/  9716\n",
      "INFO   : RoiToChemicalCreator           : Found 9716 ROIs above thresholds\n"
     ]
    },
    {
     "name": "stdout",
     "output_type": "stream",
     "text": [
      "Saving <class 'list'> to C:\\Users\\joewa\\Work\\git\\vimms\\examples\\example_data\\DsDA\\DsDA_Beer\\beer_t10_simulator_files\\beer_3.p\n"
     ]
    },
    {
     "name": "stderr",
     "output_type": "stream",
     "text": [
      "DEBUG  : RoiToChemicalCreator           :      0/ 12029\n",
      "INFO   : RoiToChemicalCreator           : Found 12029 ROIs above thresholds\n"
     ]
    },
    {
     "name": "stdout",
     "output_type": "stream",
     "text": [
      "Saving <class 'list'> to C:\\Users\\joewa\\Work\\git\\vimms\\examples\\example_data\\DsDA\\DsDA_Beer\\beer_t10_simulator_files\\beer_4.p\n"
     ]
    },
    {
     "name": "stderr",
     "output_type": "stream",
     "text": [
      "DEBUG  : RoiToChemicalCreator           :      0/ 10502\n",
      "INFO   : RoiToChemicalCreator           : Found 10502 ROIs above thresholds\n"
     ]
    },
    {
     "name": "stdout",
     "output_type": "stream",
     "text": [
      "Saving <class 'list'> to C:\\Users\\joewa\\Work\\git\\vimms\\examples\\example_data\\DsDA\\DsDA_Beer\\beer_t10_simulator_files\\beer_5.p\n"
     ]
    },
    {
     "name": "stderr",
     "output_type": "stream",
     "text": [
      "DEBUG  : RoiToChemicalCreator           :      0/ 11636\n",
      "INFO   : RoiToChemicalCreator           : Found 11636 ROIs above thresholds\n"
     ]
    },
    {
     "name": "stdout",
     "output_type": "stream",
     "text": [
      "Saving <class 'list'> to C:\\Users\\joewa\\Work\\git\\vimms\\examples\\example_data\\DsDA\\DsDA_Beer\\beer_t10_simulator_files\\beer_6.p\n"
     ]
    },
    {
     "name": "stderr",
     "output_type": "stream",
     "text": [
      "DEBUG  : RoiToChemicalCreator           :      0/ 12181\n",
      "INFO   : RoiToChemicalCreator           : Found 12181 ROIs above thresholds\n"
     ]
    },
    {
     "name": "stdout",
     "output_type": "stream",
     "text": [
      "Saving <class 'list'> to C:\\Users\\joewa\\Work\\git\\vimms\\examples\\example_data\\DsDA\\DsDA_Beer\\beer_t10_simulator_files\\beer_7.p\n"
     ]
    },
    {
     "name": "stderr",
     "output_type": "stream",
     "text": [
      "DEBUG  : RoiToChemicalCreator           :      0/ 13179\n",
      "INFO   : RoiToChemicalCreator           : Found 13179 ROIs above thresholds\n"
     ]
    },
    {
     "name": "stdout",
     "output_type": "stream",
     "text": [
      "Saving <class 'list'> to C:\\Users\\joewa\\Work\\git\\vimms\\examples\\example_data\\DsDA\\DsDA_Beer\\beer_t10_simulator_files\\beer_8.p\n"
     ]
    },
    {
     "name": "stderr",
     "output_type": "stream",
     "text": [
      "DEBUG  : RoiToChemicalCreator           :      0/ 14842\n",
      "INFO   : RoiToChemicalCreator           : Found 14842 ROIs above thresholds\n"
     ]
    },
    {
     "name": "stdout",
     "output_type": "stream",
     "text": [
      "Saving <class 'list'> to C:\\Users\\joewa\\Work\\git\\vimms\\examples\\example_data\\DsDA\\DsDA_Beer\\beer_t10_simulator_files\\beer_9.p\n"
     ]
    }
   ],
   "source": [
    "file_names = Path(base_dir, 'beers', 'fragmentation', 'mzML').glob('*.mzML')\n",
    "out_dir = Path(base_dir,'DsDA', 'DsDA_Beer', 'beer_t10_simulator_files')\n",
    "mzml_path = Path(base_dir, 'beers', 'fragmentation', 'mzML')\n",
    "\n",
    "extract_roi(list(file_names), out_dir, 'beer_%d.p', mzml_path, ps)"
   ]
  },
  {
   "cell_type": "markdown",
   "metadata": {},
   "source": [
    "#### Extract urine ROIs"
   ]
  },
  {
   "cell_type": "code",
   "execution_count": 22,
   "metadata": {},
   "outputs": [
    {
     "name": "stderr",
     "output_type": "stream",
     "text": [
      "DEBUG  : RoiToChemicalCreator           :      0/ 16321\n",
      "INFO   : RoiToChemicalCreator           : Found 16321 ROIs above thresholds\n"
     ]
    },
    {
     "name": "stdout",
     "output_type": "stream",
     "text": [
      "Created C:\\Users\\joewa\\Work\\git\\vimms\\examples\\example_data\\DsDA\\DsDA_Urine\\urine_t10_simulator_files\n",
      "Saving <class 'list'> to C:\\Users\\joewa\\Work\\git\\vimms\\examples\\example_data\\DsDA\\DsDA_Urine\\urine_t10_simulator_files\\urine_2.p\n"
     ]
    },
    {
     "name": "stderr",
     "output_type": "stream",
     "text": [
      "DEBUG  : RoiToChemicalCreator           :      0/ 18395\n",
      "INFO   : RoiToChemicalCreator           : Found 18395 ROIs above thresholds\n"
     ]
    },
    {
     "name": "stdout",
     "output_type": "stream",
     "text": [
      "Saving <class 'list'> to C:\\Users\\joewa\\Work\\git\\vimms\\examples\\example_data\\DsDA\\DsDA_Urine\\urine_t10_simulator_files\\urine_3.p\n"
     ]
    },
    {
     "name": "stderr",
     "output_type": "stream",
     "text": [
      "DEBUG  : RoiToChemicalCreator           :      0/ 16100\n",
      "INFO   : RoiToChemicalCreator           : Found 16100 ROIs above thresholds\n"
     ]
    },
    {
     "name": "stdout",
     "output_type": "stream",
     "text": [
      "Saving <class 'list'> to C:\\Users\\joewa\\Work\\git\\vimms\\examples\\example_data\\DsDA\\DsDA_Urine\\urine_t10_simulator_files\\urine_8.p\n"
     ]
    },
    {
     "name": "stderr",
     "output_type": "stream",
     "text": [
      "DEBUG  : RoiToChemicalCreator           :      0/ 11073\n",
      "INFO   : RoiToChemicalCreator           : Found 11073 ROIs above thresholds\n"
     ]
    },
    {
     "name": "stdout",
     "output_type": "stream",
     "text": [
      "Saving <class 'list'> to C:\\Users\\joewa\\Work\\git\\vimms\\examples\\example_data\\DsDA\\DsDA_Urine\\urine_t10_simulator_files\\urine_9.p\n"
     ]
    },
    {
     "name": "stderr",
     "output_type": "stream",
     "text": [
      "DEBUG  : RoiToChemicalCreator           :      0/ 18560\n",
      "INFO   : RoiToChemicalCreator           : Found 18560 ROIs above thresholds\n"
     ]
    },
    {
     "name": "stdout",
     "output_type": "stream",
     "text": [
      "Saving <class 'list'> to C:\\Users\\joewa\\Work\\git\\vimms\\examples\\example_data\\DsDA\\DsDA_Urine\\urine_t10_simulator_files\\urine_105.p\n"
     ]
    },
    {
     "name": "stderr",
     "output_type": "stream",
     "text": [
      "DEBUG  : RoiToChemicalCreator           :      0/ 13089\n",
      "INFO   : RoiToChemicalCreator           : Found 13089 ROIs above thresholds\n"
     ]
    },
    {
     "name": "stdout",
     "output_type": "stream",
     "text": [
      "Saving <class 'list'> to C:\\Users\\joewa\\Work\\git\\vimms\\examples\\example_data\\DsDA\\DsDA_Urine\\urine_t10_simulator_files\\urine_17.p\n"
     ]
    },
    {
     "name": "stderr",
     "output_type": "stream",
     "text": [
      "DEBUG  : RoiToChemicalCreator           :      0/ 13999\n",
      "INFO   : RoiToChemicalCreator           : Found 13999 ROIs above thresholds\n"
     ]
    },
    {
     "name": "stdout",
     "output_type": "stream",
     "text": [
      "Saving <class 'list'> to C:\\Users\\joewa\\Work\\git\\vimms\\examples\\example_data\\DsDA\\DsDA_Urine\\urine_t10_simulator_files\\urine_18.p\n"
     ]
    },
    {
     "name": "stderr",
     "output_type": "stream",
     "text": [
      "DEBUG  : RoiToChemicalCreator           :      0/ 16354\n",
      "INFO   : RoiToChemicalCreator           : Found 16354 ROIs above thresholds\n"
     ]
    },
    {
     "name": "stdout",
     "output_type": "stream",
     "text": [
      "Saving <class 'list'> to C:\\Users\\joewa\\Work\\git\\vimms\\examples\\example_data\\DsDA\\DsDA_Urine\\urine_t10_simulator_files\\urine_28.p\n"
     ]
    },
    {
     "name": "stderr",
     "output_type": "stream",
     "text": [
      "DEBUG  : RoiToChemicalCreator           :      0/ 10211\n",
      "INFO   : RoiToChemicalCreator           : Found 10211 ROIs above thresholds\n"
     ]
    },
    {
     "name": "stdout",
     "output_type": "stream",
     "text": [
      "Saving <class 'list'> to C:\\Users\\joewa\\Work\\git\\vimms\\examples\\example_data\\DsDA\\DsDA_Urine\\urine_t10_simulator_files\\urine_32.p\n"
     ]
    },
    {
     "name": "stderr",
     "output_type": "stream",
     "text": [
      "DEBUG  : RoiToChemicalCreator           :      0/ 16681\n",
      "INFO   : RoiToChemicalCreator           : Found 16681 ROIs above thresholds\n"
     ]
    },
    {
     "name": "stdout",
     "output_type": "stream",
     "text": [
      "Saving <class 'list'> to C:\\Users\\joewa\\Work\\git\\vimms\\examples\\example_data\\DsDA\\DsDA_Urine\\urine_t10_simulator_files\\urine_38.p\n"
     ]
    },
    {
     "name": "stderr",
     "output_type": "stream",
     "text": [
      "DEBUG  : RoiToChemicalCreator           :      0/ 17938\n",
      "INFO   : RoiToChemicalCreator           : Found 17938 ROIs above thresholds\n"
     ]
    },
    {
     "name": "stdout",
     "output_type": "stream",
     "text": [
      "Saving <class 'list'> to C:\\Users\\joewa\\Work\\git\\vimms\\examples\\example_data\\DsDA\\DsDA_Urine\\urine_t10_simulator_files\\urine_49.p\n"
     ]
    },
    {
     "name": "stderr",
     "output_type": "stream",
     "text": [
      "DEBUG  : RoiToChemicalCreator           :      0/ 15677\n",
      "INFO   : RoiToChemicalCreator           : Found 15677 ROIs above thresholds\n"
     ]
    },
    {
     "name": "stdout",
     "output_type": "stream",
     "text": [
      "Saving <class 'list'> to C:\\Users\\joewa\\Work\\git\\vimms\\examples\\example_data\\DsDA\\DsDA_Urine\\urine_t10_simulator_files\\urine_51.p\n"
     ]
    },
    {
     "name": "stderr",
     "output_type": "stream",
     "text": [
      "DEBUG  : RoiToChemicalCreator           :      0/ 17858\n",
      "INFO   : RoiToChemicalCreator           : Found 17858 ROIs above thresholds\n"
     ]
    },
    {
     "name": "stdout",
     "output_type": "stream",
     "text": [
      "Saving <class 'list'> to C:\\Users\\joewa\\Work\\git\\vimms\\examples\\example_data\\DsDA\\DsDA_Urine\\urine_t10_simulator_files\\urine_52.p\n"
     ]
    },
    {
     "name": "stderr",
     "output_type": "stream",
     "text": [
      "DEBUG  : RoiToChemicalCreator           :      0/ 15895\n",
      "INFO   : RoiToChemicalCreator           : Found 15895 ROIs above thresholds\n"
     ]
    },
    {
     "name": "stdout",
     "output_type": "stream",
     "text": [
      "Saving <class 'list'> to C:\\Users\\joewa\\Work\\git\\vimms\\examples\\example_data\\DsDA\\DsDA_Urine\\urine_t10_simulator_files\\urine_53.p\n"
     ]
    },
    {
     "name": "stderr",
     "output_type": "stream",
     "text": [
      "DEBUG  : RoiToChemicalCreator           :      0/ 15601\n",
      "INFO   : RoiToChemicalCreator           : Found 15601 ROIs above thresholds\n"
     ]
    },
    {
     "name": "stdout",
     "output_type": "stream",
     "text": [
      "Saving <class 'list'> to C:\\Users\\joewa\\Work\\git\\vimms\\examples\\example_data\\DsDA\\DsDA_Urine\\urine_t10_simulator_files\\urine_54.p\n"
     ]
    },
    {
     "name": "stderr",
     "output_type": "stream",
     "text": [
      "DEBUG  : RoiToChemicalCreator           :      0/ 20280\n",
      "INFO   : RoiToChemicalCreator           : Found 20280 ROIs above thresholds\n"
     ]
    },
    {
     "name": "stdout",
     "output_type": "stream",
     "text": [
      "Saving <class 'list'> to C:\\Users\\joewa\\Work\\git\\vimms\\examples\\example_data\\DsDA\\DsDA_Urine\\urine_t10_simulator_files\\urine_57.p\n"
     ]
    },
    {
     "name": "stderr",
     "output_type": "stream",
     "text": [
      "DEBUG  : RoiToChemicalCreator           :      0/ 13836\n",
      "INFO   : RoiToChemicalCreator           : Found 13836 ROIs above thresholds\n"
     ]
    },
    {
     "name": "stdout",
     "output_type": "stream",
     "text": [
      "Saving <class 'list'> to C:\\Users\\joewa\\Work\\git\\vimms\\examples\\example_data\\DsDA\\DsDA_Urine\\urine_t10_simulator_files\\urine_58.p\n"
     ]
    },
    {
     "name": "stderr",
     "output_type": "stream",
     "text": [
      "DEBUG  : RoiToChemicalCreator           :      0/ 16885\n",
      "INFO   : RoiToChemicalCreator           : Found 16885 ROIs above thresholds\n"
     ]
    },
    {
     "name": "stdout",
     "output_type": "stream",
     "text": [
      "Saving <class 'list'> to C:\\Users\\joewa\\Work\\git\\vimms\\examples\\example_data\\DsDA\\DsDA_Urine\\urine_t10_simulator_files\\urine_72.p\n"
     ]
    },
    {
     "name": "stderr",
     "output_type": "stream",
     "text": [
      "DEBUG  : RoiToChemicalCreator           :      0/ 17424\n",
      "INFO   : RoiToChemicalCreator           : Found 17424 ROIs above thresholds\n"
     ]
    },
    {
     "name": "stdout",
     "output_type": "stream",
     "text": [
      "Saving <class 'list'> to C:\\Users\\joewa\\Work\\git\\vimms\\examples\\example_data\\DsDA\\DsDA_Urine\\urine_t10_simulator_files\\urine_80.p\n"
     ]
    },
    {
     "name": "stderr",
     "output_type": "stream",
     "text": [
      "DEBUG  : RoiToChemicalCreator           :      0/ 16294\n",
      "INFO   : RoiToChemicalCreator           : Found 16294 ROIs above thresholds\n"
     ]
    },
    {
     "name": "stdout",
     "output_type": "stream",
     "text": [
      "Saving <class 'list'> to C:\\Users\\joewa\\Work\\git\\vimms\\examples\\example_data\\DsDA\\DsDA_Urine\\urine_t10_simulator_files\\urine_85.p\n"
     ]
    },
    {
     "name": "stderr",
     "output_type": "stream",
     "text": [
      "DEBUG  : RoiToChemicalCreator           :      0/ 14048\n",
      "INFO   : RoiToChemicalCreator           : Found 14048 ROIs above thresholds\n"
     ]
    },
    {
     "name": "stdout",
     "output_type": "stream",
     "text": [
      "Saving <class 'list'> to C:\\Users\\joewa\\Work\\git\\vimms\\examples\\example_data\\DsDA\\DsDA_Urine\\urine_t10_simulator_files\\urine_93.p\n"
     ]
    },
    {
     "name": "stderr",
     "output_type": "stream",
     "text": [
      "DEBUG  : RoiToChemicalCreator           :      0/ 16320\n",
      "INFO   : RoiToChemicalCreator           : Found 16320 ROIs above thresholds\n"
     ]
    },
    {
     "name": "stdout",
     "output_type": "stream",
     "text": [
      "Saving <class 'list'> to C:\\Users\\joewa\\Work\\git\\vimms\\examples\\example_data\\DsDA\\DsDA_Urine\\urine_t10_simulator_files\\urine_97.p\n"
     ]
    }
   ],
   "source": [
    "file_names = Path(base_dir, 'urines', 'fragmentation', 'mzML').glob('*.mzML')\n",
    "out_dir = Path(base_dir,'DsDA', 'DsDA_Urine', 'urine_t10_simulator_files')\n",
    "mzml_path = Path(base_dir, 'urines', 'fragmentation', 'mzML')\n",
    "\n",
    "extract_roi(list(file_names), out_dir, 'urine_%d.p', mzml_path, ps)"
   ]
  }
 ],
 "metadata": {
  "kernelspec": {
   "display_name": "Python 3",
   "language": "python",
   "name": "python3"
  },
  "language_info": {
   "codemirror_mode": {
    "name": "ipython",
    "version": 3
   },
   "file_extension": ".py",
   "mimetype": "text/x-python",
   "name": "python",
   "nbconvert_exporter": "python",
   "pygments_lexer": "ipython3",
   "version": "3.7.3"
  }
 },
 "nbformat": 4,
 "nbformat_minor": 2
}
