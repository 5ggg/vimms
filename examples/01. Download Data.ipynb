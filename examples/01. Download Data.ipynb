{
 "cells": [
  {
   "cell_type": "markdown",
   "metadata": {},
   "source": [
    "# 1. Download Data"
   ]
  },
  {
   "cell_type": "markdown",
   "metadata": {},
   "source": [
    "This notebook downloads the necessary example data that will be used in other notebooks. In particular, the notebook does the following:\n",
    "\n",
    "- Download beer and urine .mzML files used as examples in the paper\n",
    "- Download the HMDB database and extract metabolites.\n",
    "- Trains kernel density estimators on the mzML files.\n",
    "- Extract regions of interests from the mzML files.\n",
    "\n",
    "**Please run this notebook first to make sure the data files are available for subsequent notebooks.**"
   ]
  },
  {
   "cell_type": "code",
   "execution_count": 1,
   "metadata": {},
   "outputs": [],
   "source": [
    "%matplotlib inline"
   ]
  },
  {
   "cell_type": "code",
   "execution_count": 2,
   "metadata": {},
   "outputs": [],
   "source": [
    "%load_ext autoreload\n",
    "%autoreload 2"
   ]
  },
  {
   "cell_type": "code",
   "execution_count": 3,
   "metadata": {},
   "outputs": [],
   "source": [
    "from pathlib import Path\n",
    "import glob"
   ]
  },
  {
   "cell_type": "code",
   "execution_count": 4,
   "metadata": {},
   "outputs": [],
   "source": [
    "import sys\n",
    "sys.path.append('..')"
   ]
  },
  {
   "cell_type": "code",
   "execution_count": 5,
   "metadata": {},
   "outputs": [],
   "source": [
    "from vimms.DataGenerator import download_file, extract_hmdb_metabolite, extract_zip_file, get_data_source, train_kdes\n",
    "from vimms.MassSpec import IndependentMassSpectrometer\n",
    "from vimms.Controller import SimpleMs1Controller\n",
    "from vimms.Common import *\n",
    "from vimms.Roi import make_roi, RoiToChemicalCreator, extract_roi"
   ]
  },
  {
   "cell_type": "markdown",
   "metadata": {},
   "source": [
    "## a. Download beer and urine files"
   ]
  },
  {
   "cell_type": "markdown",
   "metadata": {},
   "source": [
    "Here we download the beer and urine .mzML files used as examples in the paper if they don't exist."
   ]
  },
  {
   "cell_type": "code",
   "execution_count": 6,
   "metadata": {},
   "outputs": [],
   "source": [
    "url = 'http://researchdata.gla.ac.uk/870/2/example_data.zip'\n",
    "base_dir = os.path.join(os.getcwd(), 'example_data')"
   ]
  },
  {
   "cell_type": "code",
   "execution_count": 7,
   "metadata": {},
   "outputs": [
    {
     "name": "stdout",
     "output_type": "stream",
     "text": [
      "Creating /home/joewandy/git/vimms/examples/example_data\n"
     ]
    },
    {
     "name": "stderr",
     "output_type": "stream",
     "text": [
      "  0%|          | 448/869k [00:00<05:13, 2.78kKB/s]"
     ]
    },
    {
     "name": "stdout",
     "output_type": "stream",
     "text": [
      "Downloading example_data.zip\n"
     ]
    },
    {
     "name": "stderr",
     "output_type": "stream",
     "text": [
      "869kKB [01:27, 9.92kKB/s]                           \n",
      "  5%|▌         | 6/110 [00:00<00:03, 33.27it/s]"
     ]
    },
    {
     "name": "stdout",
     "output_type": "stream",
     "text": [
      "Extracting example_data.zip\n"
     ]
    },
    {
     "name": "stderr",
     "output_type": "stream",
     "text": [
      "100%|██████████| 110/110 [00:08<00:00, 12.71it/s]\n"
     ]
    },
    {
     "name": "stdout",
     "output_type": "stream",
     "text": [
      "Deleting example_data.zip\n"
     ]
    }
   ],
   "source": [
    "if not os.path.isdir(base_dir): # if not exist then download the example data and extract it\n",
    "    print('Creating %s' % base_dir)    \n",
    "    out_file = 'example_data.zip'\n",
    "    download_file(url, out_file)\n",
    "    extract_zip_file(out_file, delete=True)\n",
    "else:\n",
    "    print('Found %s' % base_dir)"
   ]
  },
  {
   "cell_type": "markdown",
   "metadata": {},
   "source": [
    "## b. Download metabolites from HMDB"
   ]
  },
  {
   "cell_type": "markdown",
   "metadata": {},
   "source": [
    "Next we load a pre-processed pickled file of database metabolites in the `data_dir` folder. If it is not found, then create the file by downloading and extracting the metabolites from HMDB."
   ]
  },
  {
   "cell_type": "code",
   "execution_count": 8,
   "metadata": {},
   "outputs": [
    {
     "name": "stderr",
     "output_type": "stream",
     "text": [
      "Old, invalid or missing pickle in /home/joewandy/git/vimms/examples/example_data/hmdb_compounds.p. Please regenerate this file.\n",
      "  0%|          | 29.0/26.7k [00:00<02:32, 174KB/s]"
     ]
    },
    {
     "name": "stdout",
     "output_type": "stream",
     "text": [
      "Downloading urine_metabolites.zip\n"
     ]
    },
    {
     "name": "stderr",
     "output_type": "stream",
     "text": [
      "26.7kKB [00:45, 587KB/s]                             \n"
     ]
    },
    {
     "name": "stdout",
     "output_type": "stream",
     "text": [
      "Extracting HMDB metabolites from urine_metabolites.zip\n",
      "Loaded 4236 DatabaseCompounds from urine_metabolites.zip\n",
      "Deleting urine_metabolites.zip\n",
      "Saving <class 'list'> to /home/joewandy/git/vimms/examples/example_data/hmdb_compounds.p\n"
     ]
    }
   ],
   "source": [
    "compound_file = Path(base_dir, 'hmdb_compounds.p')\n",
    "hmdb_compounds = load_obj(compound_file)\n",
    "if hmdb_compounds is None: # if file does not exist\n",
    "\n",
    "    # download the entire HMDB metabolite database, big and slow!!\n",
    "    # url = 'http://www.hmdb.ca/system/downloads/current/hmdb_metabolites.zip'\n",
    "\n",
    "    # download a smaller urine metabolite database for testing\n",
    "    url = 'http://www.hmdb.ca/system/downloads/current/urine_metabolites.zip'\n",
    "\n",
    "    out_file = download_file(url)\n",
    "    compounds = extract_hmdb_metabolite(out_file, delete=True)\n",
    "    save_obj(compounds, compound_file)\n",
    "\n",
    "else:\n",
    "    print('Loaded %d DatabaseCompounds from %s' % (len(hmdb_compounds), compound_file))"
   ]
  },
  {
   "cell_type": "markdown",
   "metadata": {},
   "source": [
    "## c. Train the KDEs"
   ]
  },
  {
   "cell_type": "markdown",
   "metadata": {},
   "source": [
    "In this section we demonstrate how ViMMS can be used to train kernel density estimators (KDEs) on the example Beer mzML files. The KDEs will be used to sample the MS1/MS2 data for chemicals, scan durations and number of peaks during simulation.\n",
    "\n",
    "The following two methods `get_data_source` and `train_kdes` from ViMMS will be used. \n",
    "- `get_data_source` loads a `DataSource` object that stores information on a set of .mzML files\n",
    "- `train_kdes` trains KDEs on the .mzML files that have been loaded into the DataSource. \n",
    "\n",
    "The parameter below should work for most cases, however for different data, it might be necessary to adjust the `min_rt` and `max_rt` values."
   ]
  },
  {
   "cell_type": "code",
   "execution_count": 9,
   "metadata": {},
   "outputs": [],
   "source": [
    "filename = None                    # if None, use all mzML files found\n",
    "min_ms1_intensity = 0              # min MS1 intensity threshold to include a data point for density estimation\n",
    "min_ms2_intensity = 0              # min MS2 intensity threshold to include a data point for density estimation\n",
    "min_rt = 0                         # min RT to include a data point for density estimation\n",
    "max_rt = 1440                      # max RT to include a data point for density estimation\n",
    "bandwidth_mz_intensity_rt = 1.0    # kernel bandwidth parameter to sample (mz, RT, intensity) values during simulation\n",
    "bandwidth_n_peaks = 1.0            # kernel bandwidth parameter to sample number of peaks per scan during simulation"
   ]
  },
  {
   "cell_type": "markdown",
   "metadata": {},
   "source": [
    "### Load fullscan data and train KDEs"
   ]
  },
  {
   "cell_type": "code",
   "execution_count": 10,
   "metadata": {},
   "outputs": [],
   "source": [
    "mzml_path = Path(base_dir, 'beers', 'fullscan', 'mzML')\n",
    "xcms_output = Path(mzml_path, 'extracted_peaks_ms1.csv')\n",
    "out_file = Path(base_dir, 'peak_sampler_mz_rt_int_19_beers_fullscan.p')"
   ]
  },
  {
   "cell_type": "code",
   "execution_count": 11,
   "metadata": {},
   "outputs": [
    {
     "name": "stdout",
     "output_type": "stream",
     "text": [
      "/home/joewandy/git/vimms/examples/example_data/beers/fullscan/mzML/Beer_multibeers_17_fullscan1.mzML\n",
      "/home/joewandy/git/vimms/examples/example_data/beers/fullscan/mzML/Beer_multibeers_4_fullscan1.mzML\n",
      "/home/joewandy/git/vimms/examples/example_data/beers/fullscan/mzML/Beer_multibeers_1_fullscan1.mzML\n",
      "/home/joewandy/git/vimms/examples/example_data/beers/fullscan/mzML/Beer_multibeers_6_fullscan1.mzML\n",
      "/home/joewandy/git/vimms/examples/example_data/beers/fullscan/mzML/Beer_multibeers_13_fullscan1.mzML\n",
      "/home/joewandy/git/vimms/examples/example_data/beers/fullscan/mzML/Beer_multibeers_15_fullscan1.mzML\n",
      "/home/joewandy/git/vimms/examples/example_data/beers/fullscan/mzML/Beer_multibeers_5_fullscan1.mzML\n",
      "/home/joewandy/git/vimms/examples/example_data/beers/fullscan/mzML/Beer_multibeers_2_fullscan1.mzML\n",
      "/home/joewandy/git/vimms/examples/example_data/beers/fullscan/mzML/Beer_multibeers_19_fullscan1.mzML\n",
      "/home/joewandy/git/vimms/examples/example_data/beers/fullscan/mzML/Beer_multibeers_7_fullscan1.mzML\n",
      "/home/joewandy/git/vimms/examples/example_data/beers/fullscan/mzML/Beer_multibeers_18_fullscan1.mzML\n",
      "/home/joewandy/git/vimms/examples/example_data/beers/fullscan/mzML/Beer_multibeers_14_fullscan1.mzML\n",
      "/home/joewandy/git/vimms/examples/example_data/beers/fullscan/mzML/Beer_multibeers_8_fullscan1.mzML\n",
      "/home/joewandy/git/vimms/examples/example_data/beers/fullscan/mzML/Beer_multibeers_12_fullscan1.mzML\n",
      "/home/joewandy/git/vimms/examples/example_data/beers/fullscan/mzML/Beer_multibeers_16_fullscan1.mzML\n",
      "/home/joewandy/git/vimms/examples/example_data/beers/fullscan/mzML/Beer_multibeers_9_fullscan1.mzML\n",
      "/home/joewandy/git/vimms/examples/example_data/beers/fullscan/mzML/Beer_multibeers_3_fullscan1.mzML\n",
      "/home/joewandy/git/vimms/examples/example_data/beers/fullscan/mzML/Beer_multibeers_11_fullscan1.mzML\n",
      "/home/joewandy/git/vimms/examples/example_data/beers/fullscan/mzML/Beer_multibeers_10_fullscan1.mzML\n"
     ]
    }
   ],
   "source": [
    "ds_fullscan = get_data_source(mzml_path, filename, xcms_output)"
   ]
  },
  {
   "cell_type": "code",
   "execution_count": 12,
   "metadata": {},
   "outputs": [
    {
     "name": "stdout",
     "output_type": "stream",
     "text": [
      "Saving <class 'vimms.DataGenerator.PeakSampler'> to /home/joewandy/git/vimms/examples/example_data/peak_sampler_mz_rt_int_19_beers_fullscan.p\n"
     ]
    }
   ],
   "source": [
    "ps = train_kdes(ds_fullscan, filename, min_ms1_intensity, min_ms2_intensity, min_rt, max_rt,\n",
    "               bandwidth_mz_intensity_rt, bandwidth_n_peaks, out_file)"
   ]
  },
  {
   "cell_type": "code",
   "execution_count": 13,
   "metadata": {},
   "outputs": [
    {
     "data": {
      "text/plain": [
       "[Peak mz=119.8217 rt=477.74 intensity=130278.16 ms_level=1,\n",
       " Peak mz=384.4174 rt=621.15 intensity=4993.29 ms_level=1,\n",
       " Peak mz=203.0931 rt=430.72 intensity=493097.54 ms_level=1,\n",
       " Peak mz=292.2981 rt=456.44 intensity=101442.36 ms_level=1,\n",
       " Peak mz=151.1022 rt=116.68 intensity=38494.69 ms_level=1,\n",
       " Peak mz=211.4234 rt=1105.94 intensity=29309.86 ms_level=1,\n",
       " Peak mz=429.7858 rt=232.60 intensity=16410.08 ms_level=1,\n",
       " Peak mz=394.7228 rt=260.06 intensity=210988.60 ms_level=1,\n",
       " Peak mz=97.0928 rt=8.10 intensity=287018.34 ms_level=1,\n",
       " Peak mz=312.1693 rt=230.70 intensity=18033.43 ms_level=1]"
      ]
     },
     "execution_count": 13,
     "metadata": {},
     "output_type": "execute_result"
    }
   ],
   "source": [
    "ps.sample(1, 10) # try to sample 10 MS1 peaks"
   ]
  },
  {
   "cell_type": "markdown",
   "metadata": {},
   "source": [
    "### Load fragmentation data and train KDEs"
   ]
  },
  {
   "cell_type": "code",
   "execution_count": 14,
   "metadata": {},
   "outputs": [],
   "source": [
    "mzml_path = Path(base_dir, 'beers', 'fragmentation', 'mzML')\n",
    "xcms_output = Path(mzml_path, 'extracted_peaks_ms1.csv')\n",
    "out_file = Path(base_dir, 'peak_sampler_mz_rt_int_19_beers_fragmentation.p')"
   ]
  },
  {
   "cell_type": "code",
   "execution_count": 15,
   "metadata": {},
   "outputs": [
    {
     "name": "stdout",
     "output_type": "stream",
     "text": [
      "/home/joewandy/git/vimms/examples/example_data/beers/fragmentation/mzML/Beer_multibeers_10_T10_POS.mzML\n",
      "/home/joewandy/git/vimms/examples/example_data/beers/fragmentation/mzML/Beer_multibeers_2_T10_POS.mzML\n",
      "/home/joewandy/git/vimms/examples/example_data/beers/fragmentation/mzML/Beer_multibeers_5_T10_POS.mzML\n",
      "/home/joewandy/git/vimms/examples/example_data/beers/fragmentation/mzML/Beer_multibeers_13_T10_POS.mzML\n",
      "/home/joewandy/git/vimms/examples/example_data/beers/fragmentation/mzML/Beer_multibeers_9_T10_POS.mzML\n",
      "/home/joewandy/git/vimms/examples/example_data/beers/fragmentation/mzML/Beer_multibeers_7_T10_POS.mzML\n",
      "/home/joewandy/git/vimms/examples/example_data/beers/fragmentation/mzML/Beer_multibeers_4_T10_POS.mzML\n",
      "/home/joewandy/git/vimms/examples/example_data/beers/fragmentation/mzML/Beer_multibeers_19_T10_POS.mzML\n",
      "/home/joewandy/git/vimms/examples/example_data/beers/fragmentation/mzML/Beer_multibeers_17_T10_POS.mzML\n",
      "/home/joewandy/git/vimms/examples/example_data/beers/fragmentation/mzML/Beer_multibeers_8_T10_POS.mzML\n",
      "/home/joewandy/git/vimms/examples/example_data/beers/fragmentation/mzML/Beer_multibeers_11_T10_POS.mzML\n",
      "/home/joewandy/git/vimms/examples/example_data/beers/fragmentation/mzML/Beer_multibeers_14_T10_POS.mzML\n",
      "/home/joewandy/git/vimms/examples/example_data/beers/fragmentation/mzML/Beer_multibeers_3_T10_POS.mzML\n",
      "/home/joewandy/git/vimms/examples/example_data/beers/fragmentation/mzML/Beer_multibeers_15_T10_POS.mzML\n",
      "/home/joewandy/git/vimms/examples/example_data/beers/fragmentation/mzML/Beer_multibeers_6_T10_POS.mzML\n",
      "/home/joewandy/git/vimms/examples/example_data/beers/fragmentation/mzML/Beer_multibeers_18_T10_POS.mzML\n",
      "/home/joewandy/git/vimms/examples/example_data/beers/fragmentation/mzML/Beer_multibeers_12_T10_POS.mzML\n",
      "/home/joewandy/git/vimms/examples/example_data/beers/fragmentation/mzML/Beer_multibeers_1_T10_POS.mzML\n",
      "/home/joewandy/git/vimms/examples/example_data/beers/fragmentation/mzML/Beer_multibeers_16_T10_POS.mzML\n"
     ]
    }
   ],
   "source": [
    "ds_fragmentation = get_data_source(mzml_path, filename, xcms_output)"
   ]
  },
  {
   "cell_type": "code",
   "execution_count": 16,
   "metadata": {},
   "outputs": [
    {
     "name": "stdout",
     "output_type": "stream",
     "text": [
      "Saving <class 'vimms.DataGenerator.PeakSampler'> to /home/joewandy/git/vimms/examples/example_data/peak_sampler_mz_rt_int_19_beers_fragmentation.p\n"
     ]
    }
   ],
   "source": [
    "ps = train_kdes(ds_fragmentation, filename, min_ms1_intensity, min_ms2_intensity, min_rt, max_rt,\n",
    "               bandwidth_mz_intensity_rt, bandwidth_n_peaks, out_file)"
   ]
  },
  {
   "cell_type": "code",
   "execution_count": 17,
   "metadata": {},
   "outputs": [
    {
     "data": {
      "text/plain": [
       "[Peak mz=428.2632 rt=262.36 intensity=23630.50 ms_level=1,\n",
       " Peak mz=388.6023 rt=624.28 intensity=58264.41 ms_level=1,\n",
       " Peak mz=242.6519 rt=355.95 intensity=115256.14 ms_level=1,\n",
       " Peak mz=415.3920 rt=271.24 intensity=848848.95 ms_level=1,\n",
       " Peak mz=542.5228 rt=216.60 intensity=34425.32 ms_level=1,\n",
       " Peak mz=171.4193 rt=245.71 intensity=1325290.26 ms_level=1,\n",
       " Peak mz=237.0404 rt=684.06 intensity=12122597.97 ms_level=1,\n",
       " Peak mz=280.6160 rt=246.55 intensity=298850.20 ms_level=1,\n",
       " Peak mz=104.7488 rt=696.48 intensity=1549023.02 ms_level=1,\n",
       " Peak mz=95.1720 rt=251.53 intensity=37004.51 ms_level=1]"
      ]
     },
     "execution_count": 17,
     "metadata": {},
     "output_type": "execute_result"
    }
   ],
   "source": [
    "ps.sample(1, 10)"
   ]
  },
  {
   "cell_type": "code",
   "execution_count": 18,
   "metadata": {},
   "outputs": [
    {
     "data": {
      "text/plain": [
       "[Peak mz=151.2007 rt=505.30 intensity=85002.68 ms_level=2,\n",
       " Peak mz=380.4412 rt=260.39 intensity=1140237.89 ms_level=2,\n",
       " Peak mz=550.2856 rt=968.73 intensity=173314.34 ms_level=2,\n",
       " Peak mz=185.2839 rt=525.87 intensity=451504.46 ms_level=2,\n",
       " Peak mz=312.6461 rt=301.00 intensity=64348.59 ms_level=2,\n",
       " Peak mz=198.4973 rt=302.34 intensity=196700.68 ms_level=2,\n",
       " Peak mz=373.7324 rt=591.23 intensity=51343.29 ms_level=2,\n",
       " Peak mz=649.5024 rt=239.38 intensity=17729.73 ms_level=2,\n",
       " Peak mz=160.2805 rt=762.63 intensity=128448.17 ms_level=2,\n",
       " Peak mz=134.4097 rt=379.92 intensity=247078.93 ms_level=2]"
      ]
     },
     "execution_count": 18,
     "metadata": {},
     "output_type": "execute_result"
    }
   ],
   "source": [
    "ps.sample(2, 10)"
   ]
  },
  {
   "cell_type": "markdown",
   "metadata": {},
   "source": [
    "## d. Extract the ROIs for DsDA Experiments"
   ]
  },
  {
   "cell_type": "code",
   "execution_count": 19,
   "metadata": {},
   "outputs": [],
   "source": [
    "roi_mz_tol = 10\n",
    "roi_min_length = 2\n",
    "roi_min_intensity = 1.75E5\n",
    "roi_start_rt = min_rt\n",
    "roi_stop_rt = max_rt"
   ]
  },
  {
   "cell_type": "markdown",
   "metadata": {},
   "source": [
    "#### Extract beer ROIs"
   ]
  },
  {
   "cell_type": "code",
   "execution_count": 20,
   "metadata": {},
   "outputs": [
    {
     "name": "stdout",
     "output_type": "stream",
     "text": [
      "/home/joewandy/git/vimms/examples/example_data/beers/fragmentation/mzML/Beer_multibeers_10_T10_POS.mzML\n",
      "Created /home/joewandy/git/vimms/examples/example_data/DsDA/DsDA_Beer/beer_t10_simulator_files\n",
      "Saving <class 'list'> to /home/joewandy/git/vimms/examples/example_data/DsDA/DsDA_Beer/beer_t10_simulator_files/beer_10.p\n",
      "/home/joewandy/git/vimms/examples/example_data/beers/fragmentation/mzML/Beer_multibeers_2_T10_POS.mzML\n",
      "Saving <class 'list'> to /home/joewandy/git/vimms/examples/example_data/DsDA/DsDA_Beer/beer_t10_simulator_files/beer_2.p\n",
      "/home/joewandy/git/vimms/examples/example_data/beers/fragmentation/mzML/Beer_multibeers_5_T10_POS.mzML\n",
      "Saving <class 'list'> to /home/joewandy/git/vimms/examples/example_data/DsDA/DsDA_Beer/beer_t10_simulator_files/beer_5.p\n",
      "/home/joewandy/git/vimms/examples/example_data/beers/fragmentation/mzML/Beer_multibeers_13_T10_POS.mzML\n",
      "Saving <class 'list'> to /home/joewandy/git/vimms/examples/example_data/DsDA/DsDA_Beer/beer_t10_simulator_files/beer_13.p\n",
      "/home/joewandy/git/vimms/examples/example_data/beers/fragmentation/mzML/Beer_multibeers_9_T10_POS.mzML\n",
      "Saving <class 'list'> to /home/joewandy/git/vimms/examples/example_data/DsDA/DsDA_Beer/beer_t10_simulator_files/beer_9.p\n",
      "/home/joewandy/git/vimms/examples/example_data/beers/fragmentation/mzML/Beer_multibeers_7_T10_POS.mzML\n",
      "Saving <class 'list'> to /home/joewandy/git/vimms/examples/example_data/DsDA/DsDA_Beer/beer_t10_simulator_files/beer_7.p\n",
      "/home/joewandy/git/vimms/examples/example_data/beers/fragmentation/mzML/Beer_multibeers_4_T10_POS.mzML\n",
      "Saving <class 'list'> to /home/joewandy/git/vimms/examples/example_data/DsDA/DsDA_Beer/beer_t10_simulator_files/beer_4.p\n",
      "/home/joewandy/git/vimms/examples/example_data/beers/fragmentation/mzML/Beer_multibeers_19_T10_POS.mzML\n",
      "Saving <class 'list'> to /home/joewandy/git/vimms/examples/example_data/DsDA/DsDA_Beer/beer_t10_simulator_files/beer_19.p\n",
      "/home/joewandy/git/vimms/examples/example_data/beers/fragmentation/mzML/Beer_multibeers_17_T10_POS.mzML\n",
      "Saving <class 'list'> to /home/joewandy/git/vimms/examples/example_data/DsDA/DsDA_Beer/beer_t10_simulator_files/beer_17.p\n",
      "/home/joewandy/git/vimms/examples/example_data/beers/fragmentation/mzML/Beer_multibeers_8_T10_POS.mzML\n",
      "Saving <class 'list'> to /home/joewandy/git/vimms/examples/example_data/DsDA/DsDA_Beer/beer_t10_simulator_files/beer_8.p\n",
      "/home/joewandy/git/vimms/examples/example_data/beers/fragmentation/mzML/Beer_multibeers_11_T10_POS.mzML\n",
      "Saving <class 'list'> to /home/joewandy/git/vimms/examples/example_data/DsDA/DsDA_Beer/beer_t10_simulator_files/beer_11.p\n",
      "/home/joewandy/git/vimms/examples/example_data/beers/fragmentation/mzML/Beer_multibeers_14_T10_POS.mzML\n",
      "Saving <class 'list'> to /home/joewandy/git/vimms/examples/example_data/DsDA/DsDA_Beer/beer_t10_simulator_files/beer_14.p\n",
      "/home/joewandy/git/vimms/examples/example_data/beers/fragmentation/mzML/Beer_multibeers_3_T10_POS.mzML\n",
      "Saving <class 'list'> to /home/joewandy/git/vimms/examples/example_data/DsDA/DsDA_Beer/beer_t10_simulator_files/beer_3.p\n",
      "/home/joewandy/git/vimms/examples/example_data/beers/fragmentation/mzML/Beer_multibeers_15_T10_POS.mzML\n",
      "Saving <class 'list'> to /home/joewandy/git/vimms/examples/example_data/DsDA/DsDA_Beer/beer_t10_simulator_files/beer_15.p\n",
      "/home/joewandy/git/vimms/examples/example_data/beers/fragmentation/mzML/Beer_multibeers_6_T10_POS.mzML\n",
      "Saving <class 'list'> to /home/joewandy/git/vimms/examples/example_data/DsDA/DsDA_Beer/beer_t10_simulator_files/beer_6.p\n",
      "/home/joewandy/git/vimms/examples/example_data/beers/fragmentation/mzML/Beer_multibeers_18_T10_POS.mzML\n",
      "Saving <class 'list'> to /home/joewandy/git/vimms/examples/example_data/DsDA/DsDA_Beer/beer_t10_simulator_files/beer_18.p\n",
      "/home/joewandy/git/vimms/examples/example_data/beers/fragmentation/mzML/Beer_multibeers_12_T10_POS.mzML\n",
      "Saving <class 'list'> to /home/joewandy/git/vimms/examples/example_data/DsDA/DsDA_Beer/beer_t10_simulator_files/beer_12.p\n",
      "/home/joewandy/git/vimms/examples/example_data/beers/fragmentation/mzML/Beer_multibeers_1_T10_POS.mzML\n",
      "Saving <class 'list'> to /home/joewandy/git/vimms/examples/example_data/DsDA/DsDA_Beer/beer_t10_simulator_files/beer_1.p\n",
      "/home/joewandy/git/vimms/examples/example_data/beers/fragmentation/mzML/Beer_multibeers_16_T10_POS.mzML\n",
      "Saving <class 'list'> to /home/joewandy/git/vimms/examples/example_data/DsDA/DsDA_Beer/beer_t10_simulator_files/beer_16.p\n"
     ]
    }
   ],
   "source": [
    "file_names = Path(base_dir, 'beers', 'fragmentation', 'mzML').glob('*.mzML')\n",
    "out_dir = Path(base_dir,'DsDA', 'DsDA_Beer', 'beer_t10_simulator_files')\n",
    "mzml_path = Path(base_dir, 'beers', 'fragmentation', 'mzML')\n",
    "\n",
    "extract_roi(list(file_names), out_dir, 'beer_%d.p', mzml_path, ps)"
   ]
  },
  {
   "cell_type": "markdown",
   "metadata": {},
   "source": [
    "#### Extract urine ROIs"
   ]
  },
  {
   "cell_type": "code",
   "execution_count": 21,
   "metadata": {},
   "outputs": [
    {
     "name": "stdout",
     "output_type": "stream",
     "text": [
      "/home/joewandy/git/vimms/examples/example_data/urines/fragmentation/mzML/Urine_StrokeDrugs_28_T10_POS.mzML\n",
      "Created /home/joewandy/git/vimms/examples/example_data/DsDA/DsDA_Urine/urine_t10_simulator_files\n",
      "Saving <class 'list'> to /home/joewandy/git/vimms/examples/example_data/DsDA/DsDA_Urine/urine_t10_simulator_files/urine_28.p\n",
      "/home/joewandy/git/vimms/examples/example_data/urines/fragmentation/mzML/Urine_StrokeDrugs_57_T10_POS.mzML\n",
      "Saving <class 'list'> to /home/joewandy/git/vimms/examples/example_data/DsDA/DsDA_Urine/urine_t10_simulator_files/urine_57.p\n",
      "/home/joewandy/git/vimms/examples/example_data/urines/fragmentation/mzML/Urine_StrokeDrugs_17_T10_POS.mzML\n",
      "Saving <class 'list'> to /home/joewandy/git/vimms/examples/example_data/DsDA/DsDA_Urine/urine_t10_simulator_files/urine_17.p\n",
      "/home/joewandy/git/vimms/examples/example_data/urines/fragmentation/mzML/Urine_StrokeDrugs_18_T10_POS.mzML\n",
      "Saving <class 'list'> to /home/joewandy/git/vimms/examples/example_data/DsDA/DsDA_Urine/urine_t10_simulator_files/urine_18.p\n",
      "/home/joewandy/git/vimms/examples/example_data/urines/fragmentation/mzML/Urine_StrokeDrugs_52_T10_POS.mzML\n",
      "Saving <class 'list'> to /home/joewandy/git/vimms/examples/example_data/DsDA/DsDA_Urine/urine_t10_simulator_files/urine_52.p\n",
      "/home/joewandy/git/vimms/examples/example_data/urines/fragmentation/mzML/Urine_StrokeDrugs_32_T10_POS.mzML\n",
      "Saving <class 'list'> to /home/joewandy/git/vimms/examples/example_data/DsDA/DsDA_Urine/urine_t10_simulator_files/urine_32.p\n",
      "/home/joewandy/git/vimms/examples/example_data/urines/fragmentation/mzML/Urine_StrokeDrugs_53_T10_POS.mzML\n",
      "Saving <class 'list'> to /home/joewandy/git/vimms/examples/example_data/DsDA/DsDA_Urine/urine_t10_simulator_files/urine_53.p\n",
      "/home/joewandy/git/vimms/examples/example_data/urines/fragmentation/mzML/Urine_StrokeDrugs_08_T10_POS.mzML\n",
      "Saving <class 'list'> to /home/joewandy/git/vimms/examples/example_data/DsDA/DsDA_Urine/urine_t10_simulator_files/urine_8.p\n",
      "/home/joewandy/git/vimms/examples/example_data/urines/fragmentation/mzML/Urine_StrokeDrugs_97_T10_POS.mzML\n",
      "Saving <class 'list'> to /home/joewandy/git/vimms/examples/example_data/DsDA/DsDA_Urine/urine_t10_simulator_files/urine_97.p\n",
      "/home/joewandy/git/vimms/examples/example_data/urines/fragmentation/mzML/Urine_StrokeDrugs_09_T10_POS.mzML\n",
      "Saving <class 'list'> to /home/joewandy/git/vimms/examples/example_data/DsDA/DsDA_Urine/urine_t10_simulator_files/urine_9.p\n",
      "/home/joewandy/git/vimms/examples/example_data/urines/fragmentation/mzML/Urine_StrokeDrugs_49_T10_POS.mzML\n",
      "Saving <class 'list'> to /home/joewandy/git/vimms/examples/example_data/DsDA/DsDA_Urine/urine_t10_simulator_files/urine_49.p\n",
      "/home/joewandy/git/vimms/examples/example_data/urines/fragmentation/mzML/Urine_StrokeDrugs_54_T10_POS.mzML\n",
      "Saving <class 'list'> to /home/joewandy/git/vimms/examples/example_data/DsDA/DsDA_Urine/urine_t10_simulator_files/urine_54.p\n",
      "/home/joewandy/git/vimms/examples/example_data/urines/fragmentation/mzML/Urine_StrokeDrugs_51_T10_POS.mzML\n",
      "Saving <class 'list'> to /home/joewandy/git/vimms/examples/example_data/DsDA/DsDA_Urine/urine_t10_simulator_files/urine_51.p\n",
      "/home/joewandy/git/vimms/examples/example_data/urines/fragmentation/mzML/Urine_StrokeDrugs_38_T10_POS.mzML\n",
      "Saving <class 'list'> to /home/joewandy/git/vimms/examples/example_data/DsDA/DsDA_Urine/urine_t10_simulator_files/urine_38.p\n",
      "/home/joewandy/git/vimms/examples/example_data/urines/fragmentation/mzML/Urine_StrokeDrugs_02_T10_POS.mzML\n",
      "Saving <class 'list'> to /home/joewandy/git/vimms/examples/example_data/DsDA/DsDA_Urine/urine_t10_simulator_files/urine_2.p\n",
      "/home/joewandy/git/vimms/examples/example_data/urines/fragmentation/mzML/Urine_StrokeDrugs_72_T10_POS.mzML\n",
      "Saving <class 'list'> to /home/joewandy/git/vimms/examples/example_data/DsDA/DsDA_Urine/urine_t10_simulator_files/urine_72.p\n",
      "/home/joewandy/git/vimms/examples/example_data/urines/fragmentation/mzML/Urine_StrokeDrugs_85_T10_POS.mzML\n",
      "Saving <class 'list'> to /home/joewandy/git/vimms/examples/example_data/DsDA/DsDA_Urine/urine_t10_simulator_files/urine_85.p\n",
      "/home/joewandy/git/vimms/examples/example_data/urines/fragmentation/mzML/Urine_StrokeDrugs_58_T10_POS.mzML\n",
      "Saving <class 'list'> to /home/joewandy/git/vimms/examples/example_data/DsDA/DsDA_Urine/urine_t10_simulator_files/urine_58.p\n",
      "/home/joewandy/git/vimms/examples/example_data/urines/fragmentation/mzML/Urine_StrokeDrugs_93_T10_POS.mzML\n",
      "Saving <class 'list'> to /home/joewandy/git/vimms/examples/example_data/DsDA/DsDA_Urine/urine_t10_simulator_files/urine_93.p\n",
      "/home/joewandy/git/vimms/examples/example_data/urines/fragmentation/mzML/Urine_StrokeDrugs_105_T10_POS.mzML\n",
      "Saving <class 'list'> to /home/joewandy/git/vimms/examples/example_data/DsDA/DsDA_Urine/urine_t10_simulator_files/urine_105.p\n",
      "/home/joewandy/git/vimms/examples/example_data/urines/fragmentation/mzML/Urine_StrokeDrugs_03_T10_POS.mzML\n",
      "Saving <class 'list'> to /home/joewandy/git/vimms/examples/example_data/DsDA/DsDA_Urine/urine_t10_simulator_files/urine_3.p\n",
      "/home/joewandy/git/vimms/examples/example_data/urines/fragmentation/mzML/Urine_StrokeDrugs_80_T10_POS.mzML\n",
      "Saving <class 'list'> to /home/joewandy/git/vimms/examples/example_data/DsDA/DsDA_Urine/urine_t10_simulator_files/urine_80.p\n"
     ]
    }
   ],
   "source": [
    "file_names = Path(base_dir, 'urines', 'fragmentation', 'mzML').glob('*.mzML')\n",
    "out_dir = Path(base_dir,'DsDA', 'DsDA_Urine', 'urine_t10_simulator_files')\n",
    "mzml_path = Path(base_dir, 'urines', 'fragmentation', 'mzML')\n",
    "\n",
    "extract_roi(list(file_names), out_dir, 'urine_%d.p', mzml_path, ps)"
   ]
  }
 ],
 "metadata": {
  "kernelspec": {
   "display_name": "Python 3",
   "language": "python",
   "name": "python3"
  },
  "language_info": {
   "codemirror_mode": {
    "name": "ipython",
    "version": 3
   },
   "file_extension": ".py",
   "mimetype": "text/x-python",
   "name": "python",
   "nbconvert_exporter": "python",
   "pygments_lexer": "ipython3",
   "version": "3.7.3"
  }
 },
 "nbformat": 4,
 "nbformat_minor": 2
}
