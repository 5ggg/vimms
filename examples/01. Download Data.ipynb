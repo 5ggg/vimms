{
 "cells": [
  {
   "cell_type": "markdown",
   "metadata": {},
   "source": [
    "# 01. Download Data"
   ]
  },
  {
   "cell_type": "markdown",
   "metadata": {},
   "source": [
    "This notebook downloads the necessary example data that will be used in other notebooks. In particular, the notebook does the following:\n",
    "\n",
    "- Download beer and urine .mzML files used as examples in the paper\n",
    "- Download the HMDB database and extract metabolites.\n",
    "- Trains kernel density estimators on the mzML files.\n",
    "- Extract regions of interests from the mzML files.\n",
    "\n",
    "**Please run this notebook first to make sure the data files are available for subsequent notebooks.**"
   ]
  },
  {
   "cell_type": "code",
   "execution_count": 1,
   "metadata": {},
   "outputs": [],
   "source": [
    "%matplotlib inline"
   ]
  },
  {
   "cell_type": "code",
   "execution_count": 2,
   "metadata": {},
   "outputs": [],
   "source": [
    "%load_ext autoreload\n",
    "%autoreload 2"
   ]
  },
  {
   "cell_type": "code",
   "execution_count": 20,
   "metadata": {},
   "outputs": [],
   "source": [
    "import os\n",
    "import glob"
   ]
  },
  {
   "cell_type": "code",
   "execution_count": 4,
   "metadata": {},
   "outputs": [],
   "source": [
    "import sys\n",
    "sys.path.append('..')"
   ]
  },
  {
   "cell_type": "code",
   "execution_count": 33,
   "metadata": {},
   "outputs": [],
   "source": [
    "from vimms.DataGenerator import download_file, extract_hmdb_metabolite, extract_zip_file, get_data_source, train_kdes\n",
    "from vimms.MassSpec import IndependentMassSpectrometer\n",
    "from vimms.Controller import SimpleMs1Controller\n",
    "from vimms.Common import *\n",
    "from vimms.Roi import make_roi, RoiToChemicalCreator"
   ]
  },
  {
   "cell_type": "markdown",
   "metadata": {},
   "source": [
    "## a. Download beer and urine files"
   ]
  },
  {
   "cell_type": "markdown",
   "metadata": {},
   "source": [
    "Here we download the beer and urine .mzML files used as examples in the paper if they don't exist."
   ]
  },
  {
   "cell_type": "code",
   "execution_count": 6,
   "metadata": {},
   "outputs": [],
   "source": [
    "url = 'https://www.dropbox.com/s/e31prr0qlr625tv/example_data.zip?dl=1'\n",
    "base_dir = os.path.join(os.getcwd(), 'example_data')"
   ]
  },
  {
   "cell_type": "code",
   "execution_count": 7,
   "metadata": {},
   "outputs": [
    {
     "name": "stdout",
     "output_type": "stream",
     "text": [
      "Creating C:\\Users\\joewa\\Work\\git\\vimms\\examples\\example_data\n",
      "Downloading example_data.zip\n"
     ]
    },
    {
     "name": "stderr",
     "output_type": "stream",
     "text": [
      "861kKB [01:35, 8.99kKB/s]                                                                                                         \n"
     ]
    },
    {
     "name": "stdout",
     "output_type": "stream",
     "text": [
      "Extracting example_data.zip\n"
     ]
    },
    {
     "name": "stderr",
     "output_type": "stream",
     "text": [
      "100%|███████████████████████████████████████████████████████████████████████████████████████████| 101/101 [00:36<00:00,  6.02it/s]\n"
     ]
    },
    {
     "name": "stdout",
     "output_type": "stream",
     "text": [
      "Deleting example_data.zip\n"
     ]
    }
   ],
   "source": [
    "if not os.path.isdir(base_dir): # if not exist then download the example data and extract it\n",
    "    print('Creating %s' % base_dir)    \n",
    "    out_file = 'example_data.zip'\n",
    "    download_file(url, out_file)\n",
    "    extract_zip_file(out_file, delete=True)\n",
    "else:\n",
    "    print('Found %s' % base_dir)"
   ]
  },
  {
   "cell_type": "markdown",
   "metadata": {},
   "source": [
    "## b. Download metabolites from HMDB"
   ]
  },
  {
   "cell_type": "markdown",
   "metadata": {},
   "source": [
    "Next we load a pre-processed pickled file of database metabolites in the `data_dir` folder. If it is not found, then create the file by downloading and extracting the metabolites from HMDB."
   ]
  },
  {
   "cell_type": "code",
   "execution_count": 8,
   "metadata": {},
   "outputs": [
    {
     "name": "stderr",
     "output_type": "stream",
     "text": [
      "Old, invalid or missing pickle in C:\\Users\\joewa\\Work\\git\\vimms\\examples\\example_data\\hmdb_compounds.p. Please regenerate this file.\n"
     ]
    },
    {
     "name": "stdout",
     "output_type": "stream",
     "text": [
      "Downloading urine_metabolites.zip\n"
     ]
    },
    {
     "name": "stderr",
     "output_type": "stream",
     "text": [
      "26.7kKB [00:51, 518KB/s]                                                                                                          \n"
     ]
    },
    {
     "name": "stdout",
     "output_type": "stream",
     "text": [
      "Extracting HMDB metabolites from urine_metabolites.zip\n",
      "Loaded 4236 DatabaseCompounds from urine_metabolites.zip\n",
      "Deleting urine_metabolites.zip\n",
      "Saving <class 'list'> to C:\\Users\\joewa\\Work\\git\\vimms\\examples\\example_data\\hmdb_compounds.p\n"
     ]
    }
   ],
   "source": [
    "compound_file = os.path.join(base_dir, 'hmdb_compounds.p')\n",
    "hmdb_compounds = load_obj(compound_file)\n",
    "if hmdb_compounds is None: # if file does not exist\n",
    "\n",
    "    # download the entire HMDB metabolite database, big and slow!!\n",
    "    url = 'http://www.hmdb.ca/system/downloads/current/hmdb_metabolites.zip'\n",
    "\n",
    "    # download a smaller urine metabolite database for testing\n",
    "    # url = 'http://www.hmdb.ca/system/downloads/current/urine_metabolites.zip'\n",
    "\n",
    "    out_file = download_file(url)\n",
    "    compounds = extract_hmdb_metabolite(out_file, delete=True)\n",
    "    save_obj(compounds, compound_file)\n",
    "\n",
    "else:\n",
    "    print('Loaded %d DatabaseCompounds from %s' % (len(hmdb_compounds), compound_file))"
   ]
  },
  {
   "cell_type": "markdown",
   "metadata": {},
   "source": [
    "## c. Train the KDEs"
   ]
  },
  {
   "cell_type": "markdown",
   "metadata": {},
   "source": [
    "In this section we demonstrate how ViMMS can be used to train kernel density estimators (KDEs) on the example Beer mzML files. The KDEs will be used to sample the MS1/MS2 data for chemicals, scan durations and number of peaks during simulation.\n",
    "\n",
    "The following two methods `get_data_source` and `train_kdes` from ViMMS will be used. \n",
    "- `get_data_source` loads a `DataSource` object that stores information on a set of .mzML files\n",
    "- `train_kdes` trains KDEs on the .mzML files that have been loaded into the DataSource. \n",
    "\n",
    "The parameter below should work for most cases, however for different data, it might be necessary to adjust the `min_rt` and `max_rt` values."
   ]
  },
  {
   "cell_type": "code",
   "execution_count": 9,
   "metadata": {},
   "outputs": [],
   "source": [
    "filename = None                    # if None, use all mzML files found\n",
    "min_ms1_intensity = 0              # min MS1 intensity threshold to include a data point for density estimation\n",
    "min_ms2_intensity = 0              # min MS2 intensity threshold to include a data point for density estimation\n",
    "min_rt = 0                         # min RT to include a data point for density estimation\n",
    "max_rt = 1440                      # max RT to include a data point for density estimation\n",
    "bandwidth_mz_intensity_rt = 1.0    # kernel bandwidth parameter to sample (mz, RT, intensity) values during simulation\n",
    "bandwidth_n_peaks = 1.0            # kernel bandwidth parameter to sample number of peaks per scan during simulation"
   ]
  },
  {
   "cell_type": "markdown",
   "metadata": {},
   "source": [
    "### Load fullscan data and train KDEs"
   ]
  },
  {
   "cell_type": "code",
   "execution_count": 10,
   "metadata": {},
   "outputs": [],
   "source": [
    "mzml_path = os.path.join(base_dir, 'beers\\\\fullscan\\\\mzML')\n",
    "xcms_output = os.path.join(mzml_path, 'extracted_peaks_ms1.csv')\n",
    "out_file = os.path.join(base_dir, 'peak_sampler_mz_rt_int_19_beers_fullscan.p')"
   ]
  },
  {
   "cell_type": "code",
   "execution_count": 11,
   "metadata": {},
   "outputs": [
    {
     "name": "stdout",
     "output_type": "stream",
     "text": [
      "C:\\Users\\joewa\\Work\\git\\vimms\\examples\\example_data\\beers\\fullscan\\mzML\\Beer_multibeers_10_fullscan1.mzML\n",
      "C:\\Users\\joewa\\Work\\git\\vimms\\examples\\example_data\\beers\\fullscan\\mzML\\Beer_multibeers_11_fullscan1.mzML\n",
      "C:\\Users\\joewa\\Work\\git\\vimms\\examples\\example_data\\beers\\fullscan\\mzML\\Beer_multibeers_12_fullscan1.mzML\n",
      "C:\\Users\\joewa\\Work\\git\\vimms\\examples\\example_data\\beers\\fullscan\\mzML\\Beer_multibeers_13_fullscan1.mzML\n",
      "C:\\Users\\joewa\\Work\\git\\vimms\\examples\\example_data\\beers\\fullscan\\mzML\\Beer_multibeers_14_fullscan1.mzML\n",
      "C:\\Users\\joewa\\Work\\git\\vimms\\examples\\example_data\\beers\\fullscan\\mzML\\Beer_multibeers_15_fullscan1.mzML\n",
      "C:\\Users\\joewa\\Work\\git\\vimms\\examples\\example_data\\beers\\fullscan\\mzML\\Beer_multibeers_16_fullscan1.mzML\n",
      "C:\\Users\\joewa\\Work\\git\\vimms\\examples\\example_data\\beers\\fullscan\\mzML\\Beer_multibeers_17_fullscan1.mzML\n",
      "C:\\Users\\joewa\\Work\\git\\vimms\\examples\\example_data\\beers\\fullscan\\mzML\\Beer_multibeers_18_fullscan1.mzML\n",
      "C:\\Users\\joewa\\Work\\git\\vimms\\examples\\example_data\\beers\\fullscan\\mzML\\Beer_multibeers_19_fullscan1.mzML\n",
      "C:\\Users\\joewa\\Work\\git\\vimms\\examples\\example_data\\beers\\fullscan\\mzML\\Beer_multibeers_1_fullscan1.mzML\n",
      "C:\\Users\\joewa\\Work\\git\\vimms\\examples\\example_data\\beers\\fullscan\\mzML\\Beer_multibeers_2_fullscan1.mzML\n",
      "C:\\Users\\joewa\\Work\\git\\vimms\\examples\\example_data\\beers\\fullscan\\mzML\\Beer_multibeers_3_fullscan1.mzML\n",
      "C:\\Users\\joewa\\Work\\git\\vimms\\examples\\example_data\\beers\\fullscan\\mzML\\Beer_multibeers_4_fullscan1.mzML\n",
      "C:\\Users\\joewa\\Work\\git\\vimms\\examples\\example_data\\beers\\fullscan\\mzML\\Beer_multibeers_5_fullscan1.mzML\n",
      "C:\\Users\\joewa\\Work\\git\\vimms\\examples\\example_data\\beers\\fullscan\\mzML\\Beer_multibeers_6_fullscan1.mzML\n",
      "C:\\Users\\joewa\\Work\\git\\vimms\\examples\\example_data\\beers\\fullscan\\mzML\\Beer_multibeers_7_fullscan1.mzML\n",
      "C:\\Users\\joewa\\Work\\git\\vimms\\examples\\example_data\\beers\\fullscan\\mzML\\Beer_multibeers_8_fullscan1.mzML\n",
      "C:\\Users\\joewa\\Work\\git\\vimms\\examples\\example_data\\beers\\fullscan\\mzML\\Beer_multibeers_9_fullscan1.mzML\n"
     ]
    }
   ],
   "source": [
    "ds_fullscan = get_data_source(mzml_path, filename, xcms_output)"
   ]
  },
  {
   "cell_type": "code",
   "execution_count": 12,
   "metadata": {},
   "outputs": [
    {
     "name": "stdout",
     "output_type": "stream",
     "text": [
      "Saving <class 'vimms.DataGenerator.PeakSampler'> to C:\\Users\\joewa\\Work\\git\\vimms\\examples\\example_data\\peak_sampler_mz_rt_int_19_beers_fullscan.p\n"
     ]
    }
   ],
   "source": [
    "ps = train_kdes(ds_fullscan, filename, min_ms1_intensity, min_ms2_intensity, min_rt, max_rt,\n",
    "               bandwidth_mz_intensity_rt, bandwidth_n_peaks, out_file)"
   ]
  },
  {
   "cell_type": "code",
   "execution_count": 13,
   "metadata": {},
   "outputs": [
    {
     "data": {
      "text/plain": [
       "[Peak mz=316.4197 rt=281.67 intensity=2543492.23 ms_level=1,\n",
       " Peak mz=583.4724 rt=843.11 intensity=99232.01 ms_level=1,\n",
       " Peak mz=353.0622 rt=86.82 intensity=18960.96 ms_level=1,\n",
       " Peak mz=87.0348 rt=21.23 intensity=7428.11 ms_level=1,\n",
       " Peak mz=212.6987 rt=405.33 intensity=303436.80 ms_level=1,\n",
       " Peak mz=138.9501 rt=885.20 intensity=103075.46 ms_level=1,\n",
       " Peak mz=99.4881 rt=701.33 intensity=64470.01 ms_level=1,\n",
       " Peak mz=253.6707 rt=437.19 intensity=14910756.25 ms_level=1,\n",
       " Peak mz=149.6830 rt=836.28 intensity=207035.59 ms_level=1,\n",
       " Peak mz=686.5891 rt=877.72 intensity=26729.55 ms_level=1]"
      ]
     },
     "execution_count": 13,
     "metadata": {},
     "output_type": "execute_result"
    }
   ],
   "source": [
    "ps.sample(1, 10) # try to sample 10 MS1 peaks"
   ]
  },
  {
   "cell_type": "markdown",
   "metadata": {},
   "source": [
    "### Load fragmentation data and train KDEs"
   ]
  },
  {
   "cell_type": "code",
   "execution_count": 14,
   "metadata": {},
   "outputs": [],
   "source": [
    "mzml_path = os.path.join(base_dir, 'beers\\\\fragmentation\\\\mzML')\n",
    "xcms_output = os.path.join(mzml_path, 'extracted_peaks_ms1.csv')\n",
    "out_file = os.path.join(base_dir, 'peak_sampler_mz_rt_int_19_beers_fragmentation.p')"
   ]
  },
  {
   "cell_type": "code",
   "execution_count": 15,
   "metadata": {},
   "outputs": [
    {
     "name": "stdout",
     "output_type": "stream",
     "text": [
      "C:\\Users\\joewa\\Work\\git\\vimms\\examples\\example_data\\beers\\fragmentation\\mzML\\Beer_multibeers_10_T10_POS.mzML\n",
      "C:\\Users\\joewa\\Work\\git\\vimms\\examples\\example_data\\beers\\fragmentation\\mzML\\Beer_multibeers_11_T10_POS.mzML\n",
      "C:\\Users\\joewa\\Work\\git\\vimms\\examples\\example_data\\beers\\fragmentation\\mzML\\Beer_multibeers_12_T10_POS.mzML\n",
      "C:\\Users\\joewa\\Work\\git\\vimms\\examples\\example_data\\beers\\fragmentation\\mzML\\Beer_multibeers_13_T10_POS.mzML\n",
      "C:\\Users\\joewa\\Work\\git\\vimms\\examples\\example_data\\beers\\fragmentation\\mzML\\Beer_multibeers_14_T10_POS.mzML\n",
      "C:\\Users\\joewa\\Work\\git\\vimms\\examples\\example_data\\beers\\fragmentation\\mzML\\Beer_multibeers_15_T10_POS.mzML\n",
      "C:\\Users\\joewa\\Work\\git\\vimms\\examples\\example_data\\beers\\fragmentation\\mzML\\Beer_multibeers_16_T10_POS.mzML\n",
      "C:\\Users\\joewa\\Work\\git\\vimms\\examples\\example_data\\beers\\fragmentation\\mzML\\Beer_multibeers_17_T10_POS.mzML\n",
      "C:\\Users\\joewa\\Work\\git\\vimms\\examples\\example_data\\beers\\fragmentation\\mzML\\Beer_multibeers_18_T10_POS.mzML\n",
      "C:\\Users\\joewa\\Work\\git\\vimms\\examples\\example_data\\beers\\fragmentation\\mzML\\Beer_multibeers_19_T10_POS.mzML\n",
      "C:\\Users\\joewa\\Work\\git\\vimms\\examples\\example_data\\beers\\fragmentation\\mzML\\Beer_multibeers_1_T10_POS.mzML\n",
      "C:\\Users\\joewa\\Work\\git\\vimms\\examples\\example_data\\beers\\fragmentation\\mzML\\Beer_multibeers_2_T10_POS.mzML\n",
      "C:\\Users\\joewa\\Work\\git\\vimms\\examples\\example_data\\beers\\fragmentation\\mzML\\Beer_multibeers_3_T10_POS.mzML\n",
      "C:\\Users\\joewa\\Work\\git\\vimms\\examples\\example_data\\beers\\fragmentation\\mzML\\Beer_multibeers_4_T10_POS.mzML\n",
      "C:\\Users\\joewa\\Work\\git\\vimms\\examples\\example_data\\beers\\fragmentation\\mzML\\Beer_multibeers_5_T10_POS.mzML\n",
      "C:\\Users\\joewa\\Work\\git\\vimms\\examples\\example_data\\beers\\fragmentation\\mzML\\Beer_multibeers_6_T10_POS.mzML\n",
      "C:\\Users\\joewa\\Work\\git\\vimms\\examples\\example_data\\beers\\fragmentation\\mzML\\Beer_multibeers_7_T10_POS.mzML\n",
      "C:\\Users\\joewa\\Work\\git\\vimms\\examples\\example_data\\beers\\fragmentation\\mzML\\Beer_multibeers_8_T10_POS.mzML\n",
      "C:\\Users\\joewa\\Work\\git\\vimms\\examples\\example_data\\beers\\fragmentation\\mzML\\Beer_multibeers_9_T10_POS.mzML\n"
     ]
    }
   ],
   "source": [
    "ds_fragmentation = get_data_source(mzml_path, filename, xcms_output)"
   ]
  },
  {
   "cell_type": "code",
   "execution_count": 16,
   "metadata": {},
   "outputs": [
    {
     "name": "stdout",
     "output_type": "stream",
     "text": [
      "Saving <class 'vimms.DataGenerator.PeakSampler'> to C:\\Users\\joewa\\Work\\git\\vimms\\examples\\example_data\\peak_sampler_mz_rt_int_19_beers_fragmentation.p\n"
     ]
    }
   ],
   "source": [
    "ps = train_kdes(ds_fragmentation, filename, min_ms1_intensity, min_ms2_intensity, min_rt, max_rt,\n",
    "               bandwidth_mz_intensity_rt, bandwidth_n_peaks, out_file)"
   ]
  },
  {
   "cell_type": "code",
   "execution_count": 17,
   "metadata": {},
   "outputs": [
    {
     "data": {
      "text/plain": [
       "[Peak mz=189.3259 rt=88.98 intensity=106524.58 ms_level=1,\n",
       " Peak mz=814.4592 rt=12.13 intensity=19607.26 ms_level=1,\n",
       " Peak mz=341.8021 rt=245.03 intensity=1315290.19 ms_level=1,\n",
       " Peak mz=348.8904 rt=1219.51 intensity=214658.35 ms_level=1,\n",
       " Peak mz=423.7101 rt=263.68 intensity=617912.08 ms_level=1,\n",
       " Peak mz=332.5372 rt=1024.80 intensity=65674.70 ms_level=1,\n",
       " Peak mz=323.4865 rt=247.99 intensity=526561.93 ms_level=1,\n",
       " Peak mz=191.1670 rt=345.05 intensity=6732591.55 ms_level=1,\n",
       " Peak mz=253.1869 rt=755.69 intensity=10215486.47 ms_level=1,\n",
       " Peak mz=323.1448 rt=257.33 intensity=40547.19 ms_level=1]"
      ]
     },
     "execution_count": 17,
     "metadata": {},
     "output_type": "execute_result"
    }
   ],
   "source": [
    "ps.sample(1, 10)"
   ]
  },
  {
   "cell_type": "code",
   "execution_count": 18,
   "metadata": {},
   "outputs": [
    {
     "data": {
      "text/plain": [
       "[Peak mz=319.4794 rt=558.47 intensity=90183.42 ms_level=2,\n",
       " Peak mz=136.3747 rt=736.58 intensity=418773.96 ms_level=2,\n",
       " Peak mz=129.1146 rt=94.13 intensity=2195271.72 ms_level=2,\n",
       " Peak mz=212.5952 rt=286.69 intensity=1024591.33 ms_level=2,\n",
       " Peak mz=110.7040 rt=671.13 intensity=472752.02 ms_level=2,\n",
       " Peak mz=515.8680 rt=280.79 intensity=91414.86 ms_level=2,\n",
       " Peak mz=188.9713 rt=1354.77 intensity=109416.12 ms_level=2,\n",
       " Peak mz=619.2535 rt=1006.72 intensity=23857.46 ms_level=2,\n",
       " Peak mz=688.8448 rt=872.93 intensity=2549969.43 ms_level=2,\n",
       " Peak mz=333.5049 rt=879.18 intensity=55417.64 ms_level=2]"
      ]
     },
     "execution_count": 18,
     "metadata": {},
     "output_type": "execute_result"
    }
   ],
   "source": [
    "ps.sample(2, 10)"
   ]
  },
  {
   "cell_type": "markdown",
   "metadata": {},
   "source": [
    "## d. Extract the ROIs for DsDA Experiments"
   ]
  },
  {
   "cell_type": "code",
   "execution_count": 36,
   "metadata": {},
   "outputs": [],
   "source": [
    "def extract_roi(file_names, out_dir, pattern):\n",
    "    roi_mz_tol = 10\n",
    "    roi_min_length = 2\n",
    "    roi_min_intensity = 1.75E5\n",
    "    roi_start_rt = min_rt\n",
    "    roi_stop_rt = max_rt\n",
    "\n",
    "    for i in range(len(file_names)): # for all mzML files in file_names\n",
    "        # extract ROI\n",
    "        mzml_file = os.path.join(mzml_path, file_names[i])\n",
    "        good_roi, junk = make_roi(mzml_file, mz_tol=roi_mz_tol, mz_units='ppm', min_length=roi_min_length,\n",
    "                                  min_intensity=roi_min_intensity, start_rt=roi_start_rt, stop_rt=roi_stop_rt)\n",
    "        all_roi = good_roi\n",
    "        \n",
    "        # turn ROI to chemicals\n",
    "        rtcc = RoiToChemicalCreator(ps, all_roi)\n",
    "        data = rtcc.chemicals\n",
    "        \n",
    "        # save extracted chemicals\n",
    "        basename = os.path.basename(file_names[i])\n",
    "        out_name = pattern % int(basename.split('_')[2])\n",
    "        save_obj(data, os.path.join(out_dir, out_name))"
   ]
  },
  {
   "cell_type": "markdown",
   "metadata": {},
   "source": [
    "#### Extract beer ROIs"
   ]
  },
  {
   "cell_type": "code",
   "execution_count": null,
   "metadata": {},
   "outputs": [],
   "source": [
    "file_names = glob.glob(os.path.join(base_dir, 'beers\\\\fragmentation\\\\mzML\\\\*.mzML'))\n",
    "out_dir = os.path.join(base_dir,'DsDA\\\\DsDA_Beer\\\\beer_t10_simulator_files\\\\')\n",
    "\n",
    "extract_roi(file_names, out_dir, 'beer_%d.p')"
   ]
  },
  {
   "cell_type": "markdown",
   "metadata": {},
   "source": [
    "#### Extract urine ROIs"
   ]
  },
  {
   "cell_type": "code",
   "execution_count": null,
   "metadata": {},
   "outputs": [],
   "source": [
    "file_names = glob.glob(os.path.join(base_dir, 'urines\\\\fragmentation\\\\mzML\\\\*.mzML'))\n",
    "out_dir = os.path.join(base_dir,'DsDA\\\\DsDA_Urine\\\\urine_t10_simulator_files\\\\')\n",
    "\n",
    "extract_roi(file_names, out_dir, 'urine_%d.p')"
   ]
  }
 ],
 "metadata": {
  "kernelspec": {
   "display_name": "Python 3",
   "language": "python",
   "name": "python3"
  },
  "language_info": {
   "codemirror_mode": {
    "name": "ipython",
    "version": 3
   },
   "file_extension": ".py",
   "mimetype": "text/x-python",
   "name": "python",
   "nbconvert_exporter": "python",
   "pygments_lexer": "ipython3",
   "version": "3.7.3"
  }
 },
 "nbformat": 4,
 "nbformat_minor": 2
}
