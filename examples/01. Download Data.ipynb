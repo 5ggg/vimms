{
 "cells": [
  {
   "cell_type": "markdown",
   "metadata": {},
   "source": [
    "# 01. Download Data"
   ]
  },
  {
   "cell_type": "markdown",
   "metadata": {},
   "source": [
    "This notebook downloads the necessary example data that will be used in other notebooks. In particular, the notebook does the following:\n",
    "\n",
    "- Download beer and urine .mzML files used as examples in the paper\n",
    "- Download the HMDB database and extract metabolites.\n",
    "- Trains kernel density estimators on the mzML files.\n",
    "- Extract regions of interests from the mzML files.\n",
    "\n",
    "**Please run this notebook first to make sure the data files are available for subsequent notebooks.**"
   ]
  },
  {
   "cell_type": "code",
   "execution_count": 1,
   "metadata": {},
   "outputs": [],
   "source": [
    "%matplotlib inline"
   ]
  },
  {
   "cell_type": "code",
   "execution_count": 2,
   "metadata": {},
   "outputs": [],
   "source": [
    "%load_ext autoreload\n",
    "%autoreload 2"
   ]
  },
  {
   "cell_type": "code",
   "execution_count": 3,
   "metadata": {},
   "outputs": [],
   "source": [
    "import os\n",
    "import glob"
   ]
  },
  {
   "cell_type": "code",
   "execution_count": 4,
   "metadata": {},
   "outputs": [],
   "source": [
    "import sys\n",
    "sys.path.append('..')"
   ]
  },
  {
   "cell_type": "code",
   "execution_count": 37,
   "metadata": {},
   "outputs": [],
   "source": [
    "from vimms.DataGenerator import download_file, extract_hmdb_metabolite, extract_zip_file, get_data_source, train_kdes\n",
    "from vimms.MassSpec import IndependentMassSpectrometer\n",
    "from vimms.Controller import SimpleMs1Controller\n",
    "from vimms.Common import *\n",
    "from vimms.Roi import make_roi, RoiToChemicalCreator, extract_roi"
   ]
  },
  {
   "cell_type": "markdown",
   "metadata": {},
   "source": [
    "## a. Download beer and urine files"
   ]
  },
  {
   "cell_type": "markdown",
   "metadata": {},
   "source": [
    "Here we download the beer and urine .mzML files used as examples in the paper if they don't exist."
   ]
  },
  {
   "cell_type": "code",
   "execution_count": 6,
   "metadata": {},
   "outputs": [],
   "source": [
    "url = 'https://www.dropbox.com/s/e31prr0qlr625tv/example_data.zip?dl=1'\n",
    "base_dir = os.path.join(os.getcwd(), 'example_data')"
   ]
  },
  {
   "cell_type": "code",
   "execution_count": 7,
   "metadata": {},
   "outputs": [
    {
     "name": "stdout",
     "output_type": "stream",
     "text": [
      "Creating C:\\Users\\Vinny\\work\\vimms\\examples\\example_data\n",
      "Downloading example_data.zip\n"
     ]
    },
    {
     "name": "stderr",
     "output_type": "stream",
     "text": [
      "861kKB [01:28, 9.69kKB/s]                                                                                                                                                                                                                    \n"
     ]
    },
    {
     "name": "stdout",
     "output_type": "stream",
     "text": [
      "Extracting example_data.zip\n"
     ]
    },
    {
     "name": "stderr",
     "output_type": "stream",
     "text": [
      "100%|██████████████████████████████████████████████████████████████████████████████████████████████████████████████████████████████████████████████████████████████████████████████████████████████████████| 101/101 [00:11<00:00,  9.18it/s]\n"
     ]
    },
    {
     "name": "stdout",
     "output_type": "stream",
     "text": [
      "Deleting example_data.zip\n"
     ]
    }
   ],
   "source": [
    "if not os.path.isdir(base_dir): # if not exist then download the example data and extract it\n",
    "    print('Creating %s' % base_dir)    \n",
    "    out_file = 'example_data.zip'\n",
    "    download_file(url, out_file)\n",
    "    extract_zip_file(out_file, delete=True)\n",
    "else:\n",
    "    print('Found %s' % base_dir)"
   ]
  },
  {
   "cell_type": "markdown",
   "metadata": {},
   "source": [
    "## b. Download metabolites from HMDB"
   ]
  },
  {
   "cell_type": "markdown",
   "metadata": {},
   "source": [
    "Next we load a pre-processed pickled file of database metabolites in the `data_dir` folder. If it is not found, then create the file by downloading and extracting the metabolites from HMDB."
   ]
  },
  {
   "cell_type": "code",
   "execution_count": 8,
   "metadata": {},
   "outputs": [
    {
     "name": "stderr",
     "output_type": "stream",
     "text": [
      "Old, invalid or missing pickle in C:\\Users\\Vinny\\work\\vimms\\examples\\example_data\\hmdb_compounds.p. Please regenerate this file.\n"
     ]
    },
    {
     "name": "stdout",
     "output_type": "stream",
     "text": [
      "Downloading hmdb_metabolites.zip\n"
     ]
    },
    {
     "name": "stderr",
     "output_type": "stream",
     "text": [
      "629kKB [05:58, 1.75kKB/s]                                                                                                                                                                                                                    \n"
     ]
    },
    {
     "name": "stdout",
     "output_type": "stream",
     "text": [
      "Extracting HMDB metabolites from hmdb_metabolites.zip\n",
      "Loaded 114087 DatabaseCompounds from hmdb_metabolites.zip\n",
      "Deleting hmdb_metabolites.zip\n",
      "Saving <class 'list'> to C:\\Users\\Vinny\\work\\vimms\\examples\\example_data\\hmdb_compounds.p\n"
     ]
    }
   ],
   "source": [
    "compound_file = os.path.join(base_dir, 'hmdb_compounds.p')\n",
    "hmdb_compounds = load_obj(compound_file)\n",
    "if hmdb_compounds is None: # if file does not exist\n",
    "\n",
    "    # download the entire HMDB metabolite database, big and slow!!\n",
    "    url = 'http://www.hmdb.ca/system/downloads/current/hmdb_metabolites.zip'\n",
    "\n",
    "    # download a smaller urine metabolite database for testing\n",
    "    # url = 'http://www.hmdb.ca/system/downloads/current/urine_metabolites.zip'\n",
    "\n",
    "    out_file = download_file(url)\n",
    "    compounds = extract_hmdb_metabolite(out_file, delete=True)\n",
    "    save_obj(compounds, compound_file)\n",
    "\n",
    "else:\n",
    "    print('Loaded %d DatabaseCompounds from %s' % (len(hmdb_compounds), compound_file))"
   ]
  },
  {
   "cell_type": "markdown",
   "metadata": {},
   "source": [
    "## c. Train the KDEs"
   ]
  },
  {
   "cell_type": "markdown",
   "metadata": {},
   "source": [
    "In this section we demonstrate how ViMMS can be used to train kernel density estimators (KDEs) on the example Beer mzML files. The KDEs will be used to sample the MS1/MS2 data for chemicals, scan durations and number of peaks during simulation.\n",
    "\n",
    "The following two methods `get_data_source` and `train_kdes` from ViMMS will be used. \n",
    "- `get_data_source` loads a `DataSource` object that stores information on a set of .mzML files\n",
    "- `train_kdes` trains KDEs on the .mzML files that have been loaded into the DataSource. \n",
    "\n",
    "The parameter below should work for most cases, however for different data, it might be necessary to adjust the `min_rt` and `max_rt` values."
   ]
  },
  {
   "cell_type": "code",
   "execution_count": 9,
   "metadata": {},
   "outputs": [],
   "source": [
    "filename = None                    # if None, use all mzML files found\n",
    "min_ms1_intensity = 0              # min MS1 intensity threshold to include a data point for density estimation\n",
    "min_ms2_intensity = 0              # min MS2 intensity threshold to include a data point for density estimation\n",
    "min_rt = 0                         # min RT to include a data point for density estimation\n",
    "max_rt = 1440                      # max RT to include a data point for density estimation\n",
    "bandwidth_mz_intensity_rt = 1.0    # kernel bandwidth parameter to sample (mz, RT, intensity) values during simulation\n",
    "bandwidth_n_peaks = 1.0            # kernel bandwidth parameter to sample number of peaks per scan during simulation"
   ]
  },
  {
   "cell_type": "markdown",
   "metadata": {},
   "source": [
    "### Load fullscan data and train KDEs"
   ]
  },
  {
   "cell_type": "code",
   "execution_count": 10,
   "metadata": {},
   "outputs": [],
   "source": [
    "mzml_path = os.path.join(base_dir, 'beers\\\\fullscan\\\\mzML')\n",
    "xcms_output = os.path.join(mzml_path, 'extracted_peaks_ms1.csv')\n",
    "out_file = os.path.join(base_dir, 'peak_sampler_mz_rt_int_19_beers_fullscan.p')"
   ]
  },
  {
   "cell_type": "code",
   "execution_count": 11,
   "metadata": {},
   "outputs": [
    {
     "name": "stdout",
     "output_type": "stream",
     "text": [
      "C:\\Users\\Vinny\\work\\vimms\\examples\\example_data\\beers\\fullscan\\mzML\\Beer_multibeers_10_fullscan1.mzML\n",
      "C:\\Users\\Vinny\\work\\vimms\\examples\\example_data\\beers\\fullscan\\mzML\\Beer_multibeers_11_fullscan1.mzML\n",
      "C:\\Users\\Vinny\\work\\vimms\\examples\\example_data\\beers\\fullscan\\mzML\\Beer_multibeers_12_fullscan1.mzML\n",
      "C:\\Users\\Vinny\\work\\vimms\\examples\\example_data\\beers\\fullscan\\mzML\\Beer_multibeers_13_fullscan1.mzML\n",
      "C:\\Users\\Vinny\\work\\vimms\\examples\\example_data\\beers\\fullscan\\mzML\\Beer_multibeers_14_fullscan1.mzML\n",
      "C:\\Users\\Vinny\\work\\vimms\\examples\\example_data\\beers\\fullscan\\mzML\\Beer_multibeers_15_fullscan1.mzML\n",
      "C:\\Users\\Vinny\\work\\vimms\\examples\\example_data\\beers\\fullscan\\mzML\\Beer_multibeers_16_fullscan1.mzML\n",
      "C:\\Users\\Vinny\\work\\vimms\\examples\\example_data\\beers\\fullscan\\mzML\\Beer_multibeers_17_fullscan1.mzML\n",
      "C:\\Users\\Vinny\\work\\vimms\\examples\\example_data\\beers\\fullscan\\mzML\\Beer_multibeers_18_fullscan1.mzML\n",
      "C:\\Users\\Vinny\\work\\vimms\\examples\\example_data\\beers\\fullscan\\mzML\\Beer_multibeers_19_fullscan1.mzML\n",
      "C:\\Users\\Vinny\\work\\vimms\\examples\\example_data\\beers\\fullscan\\mzML\\Beer_multibeers_1_fullscan1.mzML\n",
      "C:\\Users\\Vinny\\work\\vimms\\examples\\example_data\\beers\\fullscan\\mzML\\Beer_multibeers_2_fullscan1.mzML\n",
      "C:\\Users\\Vinny\\work\\vimms\\examples\\example_data\\beers\\fullscan\\mzML\\Beer_multibeers_3_fullscan1.mzML\n",
      "C:\\Users\\Vinny\\work\\vimms\\examples\\example_data\\beers\\fullscan\\mzML\\Beer_multibeers_4_fullscan1.mzML\n",
      "C:\\Users\\Vinny\\work\\vimms\\examples\\example_data\\beers\\fullscan\\mzML\\Beer_multibeers_5_fullscan1.mzML\n",
      "C:\\Users\\Vinny\\work\\vimms\\examples\\example_data\\beers\\fullscan\\mzML\\Beer_multibeers_6_fullscan1.mzML\n",
      "C:\\Users\\Vinny\\work\\vimms\\examples\\example_data\\beers\\fullscan\\mzML\\Beer_multibeers_7_fullscan1.mzML\n",
      "C:\\Users\\Vinny\\work\\vimms\\examples\\example_data\\beers\\fullscan\\mzML\\Beer_multibeers_8_fullscan1.mzML\n",
      "C:\\Users\\Vinny\\work\\vimms\\examples\\example_data\\beers\\fullscan\\mzML\\Beer_multibeers_9_fullscan1.mzML\n"
     ]
    }
   ],
   "source": [
    "ds_fullscan = get_data_source(mzml_path, filename, xcms_output)"
   ]
  },
  {
   "cell_type": "code",
   "execution_count": 12,
   "metadata": {},
   "outputs": [
    {
     "name": "stdout",
     "output_type": "stream",
     "text": [
      "Saving <class 'vimms.DataGenerator.PeakSampler'> to C:\\Users\\Vinny\\work\\vimms\\examples\\example_data\\peak_sampler_mz_rt_int_19_beers_fullscan.p\n"
     ]
    }
   ],
   "source": [
    "ps = train_kdes(ds_fullscan, filename, min_ms1_intensity, min_ms2_intensity, min_rt, max_rt,\n",
    "               bandwidth_mz_intensity_rt, bandwidth_n_peaks, out_file)"
   ]
  },
  {
   "cell_type": "code",
   "execution_count": 13,
   "metadata": {},
   "outputs": [
    {
     "data": {
      "text/plain": [
       "[Peak mz=152.3247 rt=363.66 intensity=422007.00 ms_level=1,\n",
       " Peak mz=154.6593 rt=389.55 intensity=897237.00 ms_level=1,\n",
       " Peak mz=121.8909 rt=190.14 intensity=25077.75 ms_level=1,\n",
       " Peak mz=183.1966 rt=432.24 intensity=72298.41 ms_level=1,\n",
       " Peak mz=575.3722 rt=788.41 intensity=717232.76 ms_level=1,\n",
       " Peak mz=347.0060 rt=268.98 intensity=395210.81 ms_level=1,\n",
       " Peak mz=234.4411 rt=885.68 intensity=1143554.72 ms_level=1,\n",
       " Peak mz=503.0397 rt=278.52 intensity=391711.84 ms_level=1,\n",
       " Peak mz=184.7087 rt=239.91 intensity=98432.67 ms_level=1,\n",
       " Peak mz=106.4837 rt=819.51 intensity=162446.04 ms_level=1]"
      ]
     },
     "execution_count": 13,
     "metadata": {},
     "output_type": "execute_result"
    }
   ],
   "source": [
    "ps.sample(1, 10) # try to sample 10 MS1 peaks"
   ]
  },
  {
   "cell_type": "markdown",
   "metadata": {},
   "source": [
    "### Load fragmentation data and train KDEs"
   ]
  },
  {
   "cell_type": "code",
   "execution_count": 14,
   "metadata": {},
   "outputs": [],
   "source": [
    "mzml_path = os.path.join(base_dir, 'beers\\\\fragmentation\\\\mzML')\n",
    "xcms_output = os.path.join(mzml_path, 'extracted_peaks_ms1.csv')\n",
    "out_file = os.path.join(base_dir, 'peak_sampler_mz_rt_int_19_beers_fragmentation.p')"
   ]
  },
  {
   "cell_type": "code",
   "execution_count": 15,
   "metadata": {},
   "outputs": [
    {
     "name": "stdout",
     "output_type": "stream",
     "text": [
      "C:\\Users\\Vinny\\work\\vimms\\examples\\example_data\\beers\\fragmentation\\mzML\\Beer_multibeers_10_T10_POS.mzML\n",
      "C:\\Users\\Vinny\\work\\vimms\\examples\\example_data\\beers\\fragmentation\\mzML\\Beer_multibeers_11_T10_POS.mzML\n",
      "C:\\Users\\Vinny\\work\\vimms\\examples\\example_data\\beers\\fragmentation\\mzML\\Beer_multibeers_12_T10_POS.mzML\n",
      "C:\\Users\\Vinny\\work\\vimms\\examples\\example_data\\beers\\fragmentation\\mzML\\Beer_multibeers_13_T10_POS.mzML\n",
      "C:\\Users\\Vinny\\work\\vimms\\examples\\example_data\\beers\\fragmentation\\mzML\\Beer_multibeers_14_T10_POS.mzML\n",
      "C:\\Users\\Vinny\\work\\vimms\\examples\\example_data\\beers\\fragmentation\\mzML\\Beer_multibeers_15_T10_POS.mzML\n",
      "C:\\Users\\Vinny\\work\\vimms\\examples\\example_data\\beers\\fragmentation\\mzML\\Beer_multibeers_16_T10_POS.mzML\n",
      "C:\\Users\\Vinny\\work\\vimms\\examples\\example_data\\beers\\fragmentation\\mzML\\Beer_multibeers_17_T10_POS.mzML\n",
      "C:\\Users\\Vinny\\work\\vimms\\examples\\example_data\\beers\\fragmentation\\mzML\\Beer_multibeers_18_T10_POS.mzML\n",
      "C:\\Users\\Vinny\\work\\vimms\\examples\\example_data\\beers\\fragmentation\\mzML\\Beer_multibeers_19_T10_POS.mzML\n",
      "C:\\Users\\Vinny\\work\\vimms\\examples\\example_data\\beers\\fragmentation\\mzML\\Beer_multibeers_1_T10_POS.mzML\n",
      "C:\\Users\\Vinny\\work\\vimms\\examples\\example_data\\beers\\fragmentation\\mzML\\Beer_multibeers_2_T10_POS.mzML\n",
      "C:\\Users\\Vinny\\work\\vimms\\examples\\example_data\\beers\\fragmentation\\mzML\\Beer_multibeers_3_T10_POS.mzML\n",
      "C:\\Users\\Vinny\\work\\vimms\\examples\\example_data\\beers\\fragmentation\\mzML\\Beer_multibeers_4_T10_POS.mzML\n",
      "C:\\Users\\Vinny\\work\\vimms\\examples\\example_data\\beers\\fragmentation\\mzML\\Beer_multibeers_5_T10_POS.mzML\n",
      "C:\\Users\\Vinny\\work\\vimms\\examples\\example_data\\beers\\fragmentation\\mzML\\Beer_multibeers_6_T10_POS.mzML\n",
      "C:\\Users\\Vinny\\work\\vimms\\examples\\example_data\\beers\\fragmentation\\mzML\\Beer_multibeers_7_T10_POS.mzML\n",
      "C:\\Users\\Vinny\\work\\vimms\\examples\\example_data\\beers\\fragmentation\\mzML\\Beer_multibeers_8_T10_POS.mzML\n",
      "C:\\Users\\Vinny\\work\\vimms\\examples\\example_data\\beers\\fragmentation\\mzML\\Beer_multibeers_9_T10_POS.mzML\n"
     ]
    }
   ],
   "source": [
    "ds_fragmentation = get_data_source(mzml_path, filename, xcms_output)"
   ]
  },
  {
   "cell_type": "code",
   "execution_count": 16,
   "metadata": {},
   "outputs": [
    {
     "name": "stdout",
     "output_type": "stream",
     "text": [
      "Saving <class 'vimms.DataGenerator.PeakSampler'> to C:\\Users\\Vinny\\work\\vimms\\examples\\example_data\\peak_sampler_mz_rt_int_19_beers_fragmentation.p\n"
     ]
    }
   ],
   "source": [
    "ps = train_kdes(ds_fragmentation, filename, min_ms1_intensity, min_ms2_intensity, min_rt, max_rt,\n",
    "               bandwidth_mz_intensity_rt, bandwidth_n_peaks, out_file)"
   ]
  },
  {
   "cell_type": "code",
   "execution_count": 17,
   "metadata": {},
   "outputs": [
    {
     "data": {
      "text/plain": [
       "[Peak mz=242.9349 rt=216.27 intensity=200350.80 ms_level=1,\n",
       " Peak mz=347.0537 rt=215.20 intensity=17077863.42 ms_level=1,\n",
       " Peak mz=143.2256 rt=622.98 intensity=852572.79 ms_level=1,\n",
       " Peak mz=521.2346 rt=915.40 intensity=8678.54 ms_level=1,\n",
       " Peak mz=249.1908 rt=1429.12 intensity=35968.48 ms_level=1,\n",
       " Peak mz=186.8856 rt=289.78 intensity=145998.84 ms_level=1,\n",
       " Peak mz=190.7221 rt=366.63 intensity=12419526.92 ms_level=1,\n",
       " Peak mz=327.0626 rt=454.04 intensity=81783.17 ms_level=1,\n",
       " Peak mz=353.5483 rt=1014.62 intensity=33889.83 ms_level=1,\n",
       " Peak mz=84.4429 rt=311.53 intensity=1465491.45 ms_level=1]"
      ]
     },
     "execution_count": 17,
     "metadata": {},
     "output_type": "execute_result"
    }
   ],
   "source": [
    "ps.sample(1, 10)"
   ]
  },
  {
   "cell_type": "code",
   "execution_count": 18,
   "metadata": {},
   "outputs": [
    {
     "data": {
      "text/plain": [
       "[Peak mz=340.9330 rt=250.82 intensity=653130.95 ms_level=2,\n",
       " Peak mz=83.7039 rt=798.45 intensity=280898.96 ms_level=2,\n",
       " Peak mz=394.7491 rt=239.99 intensity=965731.59 ms_level=2,\n",
       " Peak mz=332.3457 rt=253.90 intensity=37007.23 ms_level=2,\n",
       " Peak mz=233.4652 rt=533.29 intensity=238301.41 ms_level=2,\n",
       " Peak mz=449.6352 rt=253.34 intensity=26503.94 ms_level=2,\n",
       " Peak mz=211.1745 rt=439.53 intensity=41537.50 ms_level=2,\n",
       " Peak mz=340.2570 rt=91.85 intensity=110816.13 ms_level=2,\n",
       " Peak mz=148.1131 rt=357.05 intensity=3103692.52 ms_level=2,\n",
       " Peak mz=401.4385 rt=286.09 intensity=684009.30 ms_level=2]"
      ]
     },
     "execution_count": 18,
     "metadata": {},
     "output_type": "execute_result"
    }
   ],
   "source": [
    "ps.sample(2, 10)"
   ]
  },
  {
   "cell_type": "markdown",
   "metadata": {},
   "source": [
    "## d. Extract the ROIs for DsDA Experiments"
   ]
  },
  {
   "cell_type": "code",
   "execution_count": 29,
   "metadata": {},
   "outputs": [],
   "source": [
    "roi_mz_tol = 10\n",
    "roi_min_length = 2\n",
    "roi_min_intensity = 1.75E5\n",
    "roi_start_rt = min_rt\n",
    "roi_stop_rt = max_rt"
   ]
  },
  {
   "cell_type": "markdown",
   "metadata": {},
   "source": [
    "#### Extract beer ROIs"
   ]
  },
  {
   "cell_type": "code",
   "execution_count": 38,
   "metadata": {},
   "outputs": [
    {
     "name": "stdout",
     "output_type": "stream",
     "text": [
      "C:\\Users\\Vinny\\work\\vimms\\examples\\example_data\\beers\\fragmentation\\mzML\\Beer_multibeers_10_T10_POS.mzML\n",
      "Saving <class 'list'> to C:\\Users\\Vinny\\work\\vimms\\examples\\example_data\\DsDA\\DsDA_Beer\\beer_t10_simulator_files\\beer_10.p\n",
      "C:\\Users\\Vinny\\work\\vimms\\examples\\example_data\\beers\\fragmentation\\mzML\\Beer_multibeers_11_T10_POS.mzML\n",
      "Saving <class 'list'> to C:\\Users\\Vinny\\work\\vimms\\examples\\example_data\\DsDA\\DsDA_Beer\\beer_t10_simulator_files\\beer_11.p\n",
      "C:\\Users\\Vinny\\work\\vimms\\examples\\example_data\\beers\\fragmentation\\mzML\\Beer_multibeers_12_T10_POS.mzML\n",
      "Saving <class 'list'> to C:\\Users\\Vinny\\work\\vimms\\examples\\example_data\\DsDA\\DsDA_Beer\\beer_t10_simulator_files\\beer_12.p\n",
      "C:\\Users\\Vinny\\work\\vimms\\examples\\example_data\\beers\\fragmentation\\mzML\\Beer_multibeers_13_T10_POS.mzML\n",
      "Saving <class 'list'> to C:\\Users\\Vinny\\work\\vimms\\examples\\example_data\\DsDA\\DsDA_Beer\\beer_t10_simulator_files\\beer_13.p\n",
      "C:\\Users\\Vinny\\work\\vimms\\examples\\example_data\\beers\\fragmentation\\mzML\\Beer_multibeers_14_T10_POS.mzML\n",
      "Saving <class 'list'> to C:\\Users\\Vinny\\work\\vimms\\examples\\example_data\\DsDA\\DsDA_Beer\\beer_t10_simulator_files\\beer_14.p\n",
      "C:\\Users\\Vinny\\work\\vimms\\examples\\example_data\\beers\\fragmentation\\mzML\\Beer_multibeers_15_T10_POS.mzML\n",
      "Saving <class 'list'> to C:\\Users\\Vinny\\work\\vimms\\examples\\example_data\\DsDA\\DsDA_Beer\\beer_t10_simulator_files\\beer_15.p\n",
      "C:\\Users\\Vinny\\work\\vimms\\examples\\example_data\\beers\\fragmentation\\mzML\\Beer_multibeers_16_T10_POS.mzML\n",
      "Saving <class 'list'> to C:\\Users\\Vinny\\work\\vimms\\examples\\example_data\\DsDA\\DsDA_Beer\\beer_t10_simulator_files\\beer_16.p\n",
      "C:\\Users\\Vinny\\work\\vimms\\examples\\example_data\\beers\\fragmentation\\mzML\\Beer_multibeers_17_T10_POS.mzML\n",
      "Saving <class 'list'> to C:\\Users\\Vinny\\work\\vimms\\examples\\example_data\\DsDA\\DsDA_Beer\\beer_t10_simulator_files\\beer_17.p\n",
      "C:\\Users\\Vinny\\work\\vimms\\examples\\example_data\\beers\\fragmentation\\mzML\\Beer_multibeers_18_T10_POS.mzML\n",
      "Saving <class 'list'> to C:\\Users\\Vinny\\work\\vimms\\examples\\example_data\\DsDA\\DsDA_Beer\\beer_t10_simulator_files\\beer_18.p\n",
      "C:\\Users\\Vinny\\work\\vimms\\examples\\example_data\\beers\\fragmentation\\mzML\\Beer_multibeers_19_T10_POS.mzML\n",
      "Saving <class 'list'> to C:\\Users\\Vinny\\work\\vimms\\examples\\example_data\\DsDA\\DsDA_Beer\\beer_t10_simulator_files\\beer_19.p\n",
      "C:\\Users\\Vinny\\work\\vimms\\examples\\example_data\\beers\\fragmentation\\mzML\\Beer_multibeers_1_T10_POS.mzML\n",
      "Saving <class 'list'> to C:\\Users\\Vinny\\work\\vimms\\examples\\example_data\\DsDA\\DsDA_Beer\\beer_t10_simulator_files\\beer_1.p\n",
      "C:\\Users\\Vinny\\work\\vimms\\examples\\example_data\\beers\\fragmentation\\mzML\\Beer_multibeers_2_T10_POS.mzML\n",
      "Saving <class 'list'> to C:\\Users\\Vinny\\work\\vimms\\examples\\example_data\\DsDA\\DsDA_Beer\\beer_t10_simulator_files\\beer_2.p\n",
      "C:\\Users\\Vinny\\work\\vimms\\examples\\example_data\\beers\\fragmentation\\mzML\\Beer_multibeers_3_T10_POS.mzML\n",
      "Saving <class 'list'> to C:\\Users\\Vinny\\work\\vimms\\examples\\example_data\\DsDA\\DsDA_Beer\\beer_t10_simulator_files\\beer_3.p\n",
      "C:\\Users\\Vinny\\work\\vimms\\examples\\example_data\\beers\\fragmentation\\mzML\\Beer_multibeers_4_T10_POS.mzML\n",
      "Saving <class 'list'> to C:\\Users\\Vinny\\work\\vimms\\examples\\example_data\\DsDA\\DsDA_Beer\\beer_t10_simulator_files\\beer_4.p\n",
      "C:\\Users\\Vinny\\work\\vimms\\examples\\example_data\\beers\\fragmentation\\mzML\\Beer_multibeers_5_T10_POS.mzML\n",
      "Saving <class 'list'> to C:\\Users\\Vinny\\work\\vimms\\examples\\example_data\\DsDA\\DsDA_Beer\\beer_t10_simulator_files\\beer_5.p\n",
      "C:\\Users\\Vinny\\work\\vimms\\examples\\example_data\\beers\\fragmentation\\mzML\\Beer_multibeers_6_T10_POS.mzML\n",
      "Saving <class 'list'> to C:\\Users\\Vinny\\work\\vimms\\examples\\example_data\\DsDA\\DsDA_Beer\\beer_t10_simulator_files\\beer_6.p\n",
      "C:\\Users\\Vinny\\work\\vimms\\examples\\example_data\\beers\\fragmentation\\mzML\\Beer_multibeers_7_T10_POS.mzML\n",
      "Saving <class 'list'> to C:\\Users\\Vinny\\work\\vimms\\examples\\example_data\\DsDA\\DsDA_Beer\\beer_t10_simulator_files\\beer_7.p\n",
      "C:\\Users\\Vinny\\work\\vimms\\examples\\example_data\\beers\\fragmentation\\mzML\\Beer_multibeers_8_T10_POS.mzML\n",
      "Saving <class 'list'> to C:\\Users\\Vinny\\work\\vimms\\examples\\example_data\\DsDA\\DsDA_Beer\\beer_t10_simulator_files\\beer_8.p\n",
      "C:\\Users\\Vinny\\work\\vimms\\examples\\example_data\\beers\\fragmentation\\mzML\\Beer_multibeers_9_T10_POS.mzML\n",
      "Saving <class 'list'> to C:\\Users\\Vinny\\work\\vimms\\examples\\example_data\\DsDA\\DsDA_Beer\\beer_t10_simulator_files\\beer_9.p\n"
     ]
    }
   ],
   "source": [
    "file_names = glob.glob(os.path.join(base_dir, 'beers\\\\fragmentation\\\\mzML\\\\*.mzML'))\n",
    "out_dir = os.path.join(base_dir,'DsDA\\\\DsDA_Beer\\\\beer_t10_simulator_files\\\\')\n",
    "mzml_path = os.path.join(base_dir, 'beers\\\\fragmentation\\\\mzML')\n",
    "\n",
    "extract_roi(file_names, out_dir, 'beer_%d.p', mzml_path, ps)"
   ]
  },
  {
   "cell_type": "markdown",
   "metadata": {},
   "source": [
    "#### Extract urine ROIs"
   ]
  },
  {
   "cell_type": "code",
   "execution_count": 39,
   "metadata": {},
   "outputs": [
    {
     "name": "stdout",
     "output_type": "stream",
     "text": [
      "C:\\Users\\Vinny\\work\\vimms\\examples\\example_data\\urines\\fragmentation\\mzML\\Urine_StrokeDrugs_02_T10_POS.mzML\n",
      "Created C:\\Users\\Vinny\\work\\vimms\\examples\\example_data\\DsDA\\DsDA_Urine\\urine_t10_simulator_files\n",
      "Saving <class 'list'> to C:\\Users\\Vinny\\work\\vimms\\examples\\example_data\\DsDA\\DsDA_Urine\\urine_t10_simulator_files\\urine_2.p\n",
      "C:\\Users\\Vinny\\work\\vimms\\examples\\example_data\\urines\\fragmentation\\mzML\\Urine_StrokeDrugs_03_T10_POS.mzML\n",
      "Saving <class 'list'> to C:\\Users\\Vinny\\work\\vimms\\examples\\example_data\\DsDA\\DsDA_Urine\\urine_t10_simulator_files\\urine_3.p\n",
      "C:\\Users\\Vinny\\work\\vimms\\examples\\example_data\\urines\\fragmentation\\mzML\\Urine_StrokeDrugs_08_T10_POS.mzML\n",
      "Saving <class 'list'> to C:\\Users\\Vinny\\work\\vimms\\examples\\example_data\\DsDA\\DsDA_Urine\\urine_t10_simulator_files\\urine_8.p\n",
      "C:\\Users\\Vinny\\work\\vimms\\examples\\example_data\\urines\\fragmentation\\mzML\\Urine_StrokeDrugs_09_T10_POS.mzML\n",
      "Saving <class 'list'> to C:\\Users\\Vinny\\work\\vimms\\examples\\example_data\\DsDA\\DsDA_Urine\\urine_t10_simulator_files\\urine_9.p\n",
      "C:\\Users\\Vinny\\work\\vimms\\examples\\example_data\\urines\\fragmentation\\mzML\\Urine_StrokeDrugs_105_T10_POS.mzML\n",
      "Saving <class 'list'> to C:\\Users\\Vinny\\work\\vimms\\examples\\example_data\\DsDA\\DsDA_Urine\\urine_t10_simulator_files\\urine_105.p\n",
      "C:\\Users\\Vinny\\work\\vimms\\examples\\example_data\\urines\\fragmentation\\mzML\\Urine_StrokeDrugs_17_T10_POS.mzML\n",
      "Saving <class 'list'> to C:\\Users\\Vinny\\work\\vimms\\examples\\example_data\\DsDA\\DsDA_Urine\\urine_t10_simulator_files\\urine_17.p\n",
      "C:\\Users\\Vinny\\work\\vimms\\examples\\example_data\\urines\\fragmentation\\mzML\\Urine_StrokeDrugs_18_T10_POS.mzML\n",
      "Saving <class 'list'> to C:\\Users\\Vinny\\work\\vimms\\examples\\example_data\\DsDA\\DsDA_Urine\\urine_t10_simulator_files\\urine_18.p\n",
      "C:\\Users\\Vinny\\work\\vimms\\examples\\example_data\\urines\\fragmentation\\mzML\\Urine_StrokeDrugs_28_T10_POS.mzML\n",
      "Saving <class 'list'> to C:\\Users\\Vinny\\work\\vimms\\examples\\example_data\\DsDA\\DsDA_Urine\\urine_t10_simulator_files\\urine_28.p\n",
      "C:\\Users\\Vinny\\work\\vimms\\examples\\example_data\\urines\\fragmentation\\mzML\\Urine_StrokeDrugs_32_T10_POS.mzML\n",
      "Saving <class 'list'> to C:\\Users\\Vinny\\work\\vimms\\examples\\example_data\\DsDA\\DsDA_Urine\\urine_t10_simulator_files\\urine_32.p\n",
      "C:\\Users\\Vinny\\work\\vimms\\examples\\example_data\\urines\\fragmentation\\mzML\\Urine_StrokeDrugs_38_T10_POS.mzML\n",
      "Saving <class 'list'> to C:\\Users\\Vinny\\work\\vimms\\examples\\example_data\\DsDA\\DsDA_Urine\\urine_t10_simulator_files\\urine_38.p\n",
      "C:\\Users\\Vinny\\work\\vimms\\examples\\example_data\\urines\\fragmentation\\mzML\\Urine_StrokeDrugs_49_T10_POS.mzML\n",
      "Saving <class 'list'> to C:\\Users\\Vinny\\work\\vimms\\examples\\example_data\\DsDA\\DsDA_Urine\\urine_t10_simulator_files\\urine_49.p\n",
      "C:\\Users\\Vinny\\work\\vimms\\examples\\example_data\\urines\\fragmentation\\mzML\\Urine_StrokeDrugs_51_T10_POS.mzML\n",
      "Saving <class 'list'> to C:\\Users\\Vinny\\work\\vimms\\examples\\example_data\\DsDA\\DsDA_Urine\\urine_t10_simulator_files\\urine_51.p\n",
      "C:\\Users\\Vinny\\work\\vimms\\examples\\example_data\\urines\\fragmentation\\mzML\\Urine_StrokeDrugs_52_T10_POS.mzML\n",
      "Saving <class 'list'> to C:\\Users\\Vinny\\work\\vimms\\examples\\example_data\\DsDA\\DsDA_Urine\\urine_t10_simulator_files\\urine_52.p\n",
      "C:\\Users\\Vinny\\work\\vimms\\examples\\example_data\\urines\\fragmentation\\mzML\\Urine_StrokeDrugs_53_T10_POS.mzML\n",
      "Saving <class 'list'> to C:\\Users\\Vinny\\work\\vimms\\examples\\example_data\\DsDA\\DsDA_Urine\\urine_t10_simulator_files\\urine_53.p\n",
      "C:\\Users\\Vinny\\work\\vimms\\examples\\example_data\\urines\\fragmentation\\mzML\\Urine_StrokeDrugs_54_T10_POS.mzML\n",
      "Saving <class 'list'> to C:\\Users\\Vinny\\work\\vimms\\examples\\example_data\\DsDA\\DsDA_Urine\\urine_t10_simulator_files\\urine_54.p\n",
      "C:\\Users\\Vinny\\work\\vimms\\examples\\example_data\\urines\\fragmentation\\mzML\\Urine_StrokeDrugs_57_T10_POS.mzML\n",
      "Saving <class 'list'> to C:\\Users\\Vinny\\work\\vimms\\examples\\example_data\\DsDA\\DsDA_Urine\\urine_t10_simulator_files\\urine_57.p\n",
      "C:\\Users\\Vinny\\work\\vimms\\examples\\example_data\\urines\\fragmentation\\mzML\\Urine_StrokeDrugs_58_T10_POS.mzML\n",
      "Saving <class 'list'> to C:\\Users\\Vinny\\work\\vimms\\examples\\example_data\\DsDA\\DsDA_Urine\\urine_t10_simulator_files\\urine_58.p\n",
      "C:\\Users\\Vinny\\work\\vimms\\examples\\example_data\\urines\\fragmentation\\mzML\\Urine_StrokeDrugs_72_T10_POS.mzML\n",
      "Saving <class 'list'> to C:\\Users\\Vinny\\work\\vimms\\examples\\example_data\\DsDA\\DsDA_Urine\\urine_t10_simulator_files\\urine_72.p\n",
      "C:\\Users\\Vinny\\work\\vimms\\examples\\example_data\\urines\\fragmentation\\mzML\\Urine_StrokeDrugs_80_T10_POS.mzML\n",
      "Saving <class 'list'> to C:\\Users\\Vinny\\work\\vimms\\examples\\example_data\\DsDA\\DsDA_Urine\\urine_t10_simulator_files\\urine_80.p\n",
      "C:\\Users\\Vinny\\work\\vimms\\examples\\example_data\\urines\\fragmentation\\mzML\\Urine_StrokeDrugs_85_T10_POS.mzML\n",
      "Saving <class 'list'> to C:\\Users\\Vinny\\work\\vimms\\examples\\example_data\\DsDA\\DsDA_Urine\\urine_t10_simulator_files\\urine_85.p\n",
      "C:\\Users\\Vinny\\work\\vimms\\examples\\example_data\\urines\\fragmentation\\mzML\\Urine_StrokeDrugs_93_T10_POS.mzML\n",
      "Saving <class 'list'> to C:\\Users\\Vinny\\work\\vimms\\examples\\example_data\\DsDA\\DsDA_Urine\\urine_t10_simulator_files\\urine_93.p\n",
      "C:\\Users\\Vinny\\work\\vimms\\examples\\example_data\\urines\\fragmentation\\mzML\\Urine_StrokeDrugs_97_T10_POS.mzML\n",
      "Saving <class 'list'> to C:\\Users\\Vinny\\work\\vimms\\examples\\example_data\\DsDA\\DsDA_Urine\\urine_t10_simulator_files\\urine_97.p\n"
     ]
    }
   ],
   "source": [
    "file_names = glob.glob(os.path.join(base_dir, 'urines\\\\fragmentation\\\\mzML\\\\*.mzML'))\n",
    "out_dir = os.path.join(base_dir,'DsDA\\\\DsDA_Urine\\\\urine_t10_simulator_files\\\\')\n",
    "mzml_path = os.path.join(base_dir, 'urines\\\\fragmentation\\\\mzML')\n",
    "\n",
    "extract_roi(file_names, out_dir, 'urine_%d.p', mzml_path, ps)"
   ]
  },
  {
   "cell_type": "code",
   "execution_count": null,
   "metadata": {},
   "outputs": [],
   "source": []
  }
 ],
 "metadata": {
  "kernelspec": {
   "display_name": "Python 3",
   "language": "python",
   "name": "python3"
  },
  "language_info": {
   "codemirror_mode": {
    "name": "ipython",
    "version": 3
   },
   "file_extension": ".py",
   "mimetype": "text/x-python",
   "name": "python",
   "nbconvert_exporter": "python",
   "pygments_lexer": "ipython3",
   "version": "3.7.3"
  }
 },
 "nbformat": 4,
 "nbformat_minor": 2
}
