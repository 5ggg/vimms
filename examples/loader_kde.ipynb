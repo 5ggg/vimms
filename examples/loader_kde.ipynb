{
 "cells": [
  {
   "cell_type": "markdown",
   "metadata": {},
   "source": [
    "# Loader + KDE"
   ]
  },
  {
   "cell_type": "markdown",
   "metadata": {},
   "source": [
    "- this needs to have a link to download data\n",
    "- create peak_sampler\n",
    "- download and trun HMDB to compounds (extract_hmdb_compounds notebook in OneDrive)\n",
    "- turn beer files to chemicals and pickle (example_vinny notebook in OneDrive)\n",
    "    - these can then be used to run the other notebooks"
   ]
  },
  {
   "cell_type": "code",
   "execution_count": null,
   "metadata": {},
   "outputs": [],
   "source": [
    "import sys\n",
    "sys.path.append('..')"
   ]
  },
  {
   "cell_type": "code",
   "execution_count": null,
   "metadata": {},
   "outputs": [],
   "source": [
    "%load_ext autoreload\n",
    "%autoreload 2"
   ]
  },
  {
   "cell_type": "code",
   "execution_count": null,
   "metadata": {},
   "outputs": [],
   "source": [
    "%matplotlib inline"
   ]
  },
  {
   "cell_type": "code",
   "execution_count": null,
   "metadata": {},
   "outputs": [],
   "source": [
    "import numpy as np\n",
    "import pandas as pd\n",
    "import pylab as plt\n",
    "import os\n",
    "\n",
    "from vimms.Common import *\n",
    "from vimms.DataGenerator import *\n",
    "from vimms.PlotsForPaper import *"
   ]
  },
  {
   "cell_type": "markdown",
   "metadata": {},
   "source": [
    "## Load fragmentation mzML files containing combined MS1+MS2 data"
   ]
  },
  {
   "cell_type": "code",
   "execution_count": null,
   "metadata": {},
   "outputs": [],
   "source": [
    "def get_data_source(mzml_path, max_data, filename, ms_level, min_rt=None, max_rt=None, xcms_filename=None, plot=False):\n",
    "    ds = DataSource()\n",
    "    ds.load_data(mzml_path, file_name=filename)\n",
    "    if xcms_filename is not None:\n",
    "        ds.load_xcms_output(xcms_filename)\n",
    "        \n",
    "    if plot:\n",
    "        for data_type in data_types:\n",
    "            if data_type == SCAN_DURATION:\n",
    "                X = ds.get_scan_durations(filename)\n",
    "                ds.plot_histogram(X, data_type)                    \n",
    "            else:            \n",
    "                X = ds.get_data(data_type, filename, ms_level, min_rt=min_rt, max_rt=max_rt, max_data=max_data)  \n",
    "                if data_type == INTENSITY:\n",
    "                    X = np.log(X)\n",
    "                ds.plot_histogram(X, data_type)        \n",
    "                ds.plot_boxplot(X, data_type)\n",
    "    return ds"
   ]
  },
  {
   "cell_type": "code",
   "execution_count": null,
   "metadata": {},
   "outputs": [],
   "source": [
    "max_data = 50000\n",
    "filename = None\n",
    "ms_level = 1"
   ]
  },
  {
   "cell_type": "markdown",
   "metadata": {},
   "source": [
    "## Load fragmentation data"
   ]
  },
  {
   "cell_type": "code",
   "execution_count": null,
   "metadata": {},
   "outputs": [],
   "source": [
    "data_dir = 'C:\\\\Users\\\\Vinny\\\\OneDrive - University of Glasgow\\\\CLDS Metabolomics Project\\\\Data\\\\multibeers_urine_data'"
   ]
  },
  {
   "cell_type": "code",
   "execution_count": null,
   "metadata": {},
   "outputs": [],
   "source": [
    "mzml_path = os.path.join(data_dir, 'beers\\\\fragmentation')\n",
    "xcms_output = os.path.join(mzml_path, 'mzML\\\\extracted_peaks_ms1.csv')\n",
    "ds_fragmentation = get_data_source(mzml_path, max_data, filename, ms_level, xcms_filename=xcms_output)"
   ]
  },
  {
   "cell_type": "markdown",
   "metadata": {},
   "source": [
    "## Load fullscan data"
   ]
  },
  {
   "cell_type": "code",
   "execution_count": null,
   "metadata": {
    "scrolled": false
   },
   "outputs": [],
   "source": [
    "mzml_path = os.path.join(data_dir, 'beers\\\\fullscan')\n",
    "xcms_output = os.path.join(mzml_path, 'mzML\\\\extracted_peaks_ms1.csv')\n",
    "ds_fullscan = get_data_source(mzml_path, max_data, filename, ms_level, xcms_filename=xcms_output)"
   ]
  },
  {
   "cell_type": "markdown",
   "metadata": {},
   "source": [
    "# Alternative KDE where we fit RT, m/z and Intensity together"
   ]
  },
  {
   "cell_type": "markdown",
   "metadata": {},
   "source": [
    "## For beer1pos only"
   ]
  },
  {
   "cell_type": "code",
   "execution_count": null,
   "metadata": {},
   "outputs": [],
   "source": [
    "ds_fragmentation.df.head()"
   ]
  },
  {
   "cell_type": "code",
   "execution_count": null,
   "metadata": {},
   "outputs": [],
   "source": [
    "set_log_level_debug()"
   ]
  },
  {
   "cell_type": "code",
   "execution_count": null,
   "metadata": {},
   "outputs": [],
   "source": [
    "# min_ms1_intensity = 2.5E5\n",
    "# min_ms2_intensity = 5000\n",
    "min_ms1_intensity = 0\n",
    "min_ms2_intensity = 0"
   ]
  },
  {
   "cell_type": "code",
   "execution_count": null,
   "metadata": {},
   "outputs": [],
   "source": [
    "# min_rt = 3*60\n",
    "# max_rt = 21*60\n",
    "min_rt = 0\n",
    "max_rt = 1440"
   ]
  },
  {
   "cell_type": "code",
   "execution_count": null,
   "metadata": {},
   "outputs": [],
   "source": [
    "filename = 'Beer_multibeers_1_T10_POS.mzML'\n",
    "densities = PeakDensityEstimator(min_ms1_intensity, min_ms2_intensity, min_rt, max_rt, plot=True)\n",
    "densities.kde(ds_fragmentation, filename, 1, bandwidth_mz_intensity_rt=1.0, bandwidth_n_peaks=1.0)\n",
    "densities.kde(ds_fragmentation, filename, 2, bandwidth_mz_intensity_rt=1.0, bandwidth_n_peaks=1.0)\n",
    "ps = PeakSampler(densities)\n",
    "save_obj(ps, 'C:\\\\Users\\\\joewa\\\\University of Glasgow\\\\Vinny Davies - CLDS Metabolomics Project\\\\Trained Models\\\\peak_sampler_mz_rt_int_beer1pos_fragmentation.p')"
   ]
  },
  {
   "cell_type": "code",
   "execution_count": null,
   "metadata": {},
   "outputs": [],
   "source": [
    "ps.sample(2, 10)"
   ]
  },
  {
   "cell_type": "code",
   "execution_count": null,
   "metadata": {
    "scrolled": false
   },
   "outputs": [],
   "source": [
    "filename = 'Beer_multibeers_1_fullscan1.mzML'\n",
    "densities = PeakDensityEstimator(min_ms1_intensity, min_ms2_intensity, min_rt, max_rt, plot=True)\n",
    "densities.kde(ds_fullscan, filename, 1, bandwidth_mz_intensity_rt=1.0, bandwidth_n_peaks=1.0)\n",
    "ps = PeakSampler(densities)\n",
    "save_obj(ps, 'C:\\\\Users\\\\joewa\\\\University of Glasgow\\\\Vinny Davies - CLDS Metabolomics Project\\\\Trained Models\\\\peak_sampler_mz_rt_int_beer1pos_fullscan.p')"
   ]
  },
  {
   "cell_type": "code",
   "execution_count": null,
   "metadata": {},
   "outputs": [],
   "source": [
    "ps.sample(1, 10)"
   ]
  },
  {
   "cell_type": "markdown",
   "metadata": {},
   "source": [
    "## Train on all the 19 beers"
   ]
  },
  {
   "cell_type": "code",
   "execution_count": null,
   "metadata": {},
   "outputs": [],
   "source": [
    "filename = None\n",
    "densities = PeakDensityEstimator(min_ms1_intensity, min_ms2_intensity, min_rt, max_rt, plot=True)\n",
    "densities.kde(ds_fragmentation, filename, 1, bandwidth_mz_intensity_rt=1.0, bandwidth_n_peaks=1.0)\n",
    "densities.kde(ds_fragmentation, filename, 2, bandwidth_mz_intensity_rt=1.0, bandwidth_n_peaks=1.0)\n",
    "ps = PeakSampler(densities)\n",
    "save_obj(ps, 'C:\\\\Users\\\\Vinny\\\\work\\\\vimms\\\\data\\\\peak_sampler_mz_rt_int_19_beers_fragmentation.p')"
   ]
  },
  {
   "cell_type": "code",
   "execution_count": null,
   "metadata": {},
   "outputs": [],
   "source": [
    "ps.sample(2, 10)"
   ]
  },
  {
   "cell_type": "code",
   "execution_count": null,
   "metadata": {
    "scrolled": true
   },
   "outputs": [],
   "source": [
    "filename = None\n",
    "densities = PeakDensityEstimator(min_ms1_intensity, min_ms2_intensity, min_rt, max_rt, plot=True)\n",
    "densities.kde(ds_fullscan, filename, 1, bandwidth_mz_intensity_rt=1.0, bandwidth_n_peaks=1.0)\n",
    "ps = PeakSampler(densities)\n",
    "save_obj(ps, 'C:\\\\Users\\\\joewa\\\\University of Glasgow\\\\Vinny Davies - CLDS Metabolomics Project\\\\Trained Models\\\\peak_sampler_mz_rt_int_19_beers_fullscan.p')"
   ]
  },
  {
   "cell_type": "code",
   "execution_count": null,
   "metadata": {},
   "outputs": [],
   "source": [
    "ps.sample(1, 10)"
   ]
  }
 ],
 "metadata": {
  "kernelspec": {
   "display_name": "Python 3",
   "language": "python",
   "name": "python3"
  },
  "language_info": {
   "codemirror_mode": {
    "name": "ipython",
    "version": 3
   },
   "file_extension": ".py",
   "mimetype": "text/x-python",
   "name": "python",
   "nbconvert_exporter": "python",
   "pygments_lexer": "ipython3",
   "version": "3.7.3"
  }
 },
 "nbformat": 4,
 "nbformat_minor": 2
}
