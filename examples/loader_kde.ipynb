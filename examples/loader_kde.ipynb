{
 "cells": [
  {
   "cell_type": "markdown",
   "metadata": {},
   "source": [
    "# Loader + KDE"
   ]
  },
  {
   "cell_type": "markdown",
   "metadata": {},
   "source": [
    "- this needs to have a link to download data\n",
    "- create peak_sampler\n",
    "- download and trun HMDB to compounds (extract_hmdb_compounds notebook in OneDrive)\n",
    "- turn beer files to chemicals and pickle (example_vinny notebook in OneDrive)\n",
    "    - these can then be used to run the other notebooks"
   ]
  },
  {
   "cell_type": "code",
   "execution_count": 1,
   "metadata": {},
   "outputs": [],
   "source": [
    "import sys\n",
    "sys.path.append('..')"
   ]
  },
  {
   "cell_type": "code",
   "execution_count": 2,
   "metadata": {},
   "outputs": [],
   "source": [
    "%load_ext autoreload\n",
    "%autoreload 2"
   ]
  },
  {
   "cell_type": "code",
   "execution_count": 3,
   "metadata": {},
   "outputs": [],
   "source": [
    "%matplotlib inline"
   ]
  },
  {
   "cell_type": "code",
   "execution_count": 4,
   "metadata": {},
   "outputs": [],
   "source": [
    "import numpy as np\n",
    "import pandas as pd\n",
    "import pylab as plt\n",
    "import os\n",
    "\n",
    "from vimms.Common import *\n",
    "from vimms.DataGenerator import *\n",
    "from vimms.PlotsForPaper import *"
   ]
  },
  {
   "cell_type": "markdown",
   "metadata": {},
   "source": [
    "## Load fragmentation mzML files containing combined MS1+MS2 data"
   ]
  },
  {
   "cell_type": "code",
   "execution_count": 5,
   "metadata": {},
   "outputs": [],
   "source": [
    "def get_data_source(mzml_path, max_data, filename, ms_level, min_rt=None, max_rt=None, xcms_filename=None, plot=False):\n",
    "    ds = DataSource()\n",
    "    ds.load_data(mzml_path, file_name=filename)\n",
    "    if xcms_filename is not None:\n",
    "        ds.load_xcms_output(xcms_filename)\n",
    "        \n",
    "    if plot:\n",
    "        for data_type in data_types:\n",
    "            if data_type == SCAN_DURATION:\n",
    "                X = ds.get_scan_durations(filename)\n",
    "                ds.plot_histogram(X, data_type)                    \n",
    "            else:            \n",
    "                X = ds.get_data(data_type, filename, ms_level, min_rt=min_rt, max_rt=max_rt, max_data=max_data)  \n",
    "                if data_type == INTENSITY:\n",
    "                    X = np.log(X)\n",
    "                ds.plot_histogram(X, data_type)        \n",
    "                ds.plot_boxplot(X, data_type)\n",
    "    return ds"
   ]
  },
  {
   "cell_type": "code",
   "execution_count": 6,
   "metadata": {},
   "outputs": [],
   "source": [
    "max_data = 50000\n",
    "filename = None\n",
    "ms_level = 1"
   ]
  },
  {
   "cell_type": "markdown",
   "metadata": {},
   "source": [
    "## Load fragmentation data"
   ]
  },
  {
   "cell_type": "code",
   "execution_count": 9,
   "metadata": {},
   "outputs": [],
   "source": [
    "data_dir = 'C:\\\\Users\\\\Vinny\\\\OneDrive - University of Glasgow\\\\CLDS Metabolomics Project\\\\Data\\\\multibeers_urine_data'"
   ]
  },
  {
   "cell_type": "code",
   "execution_count": 10,
   "metadata": {},
   "outputs": [
    {
     "name": "stdout",
     "output_type": "stream",
     "text": [
      "C:\\Users\\Vinny\\OneDrive - University of Glasgow\\CLDS Metabolomics Project\\Data\\multibeers_urine_data\\beers\\fragmentation\\Beer_multibeers_10_T10_POS.mzML\n",
      "C:\\Users\\Vinny\\OneDrive - University of Glasgow\\CLDS Metabolomics Project\\Data\\multibeers_urine_data\\beers\\fragmentation\\Beer_multibeers_11_T10_POS.mzML\n",
      "C:\\Users\\Vinny\\OneDrive - University of Glasgow\\CLDS Metabolomics Project\\Data\\multibeers_urine_data\\beers\\fragmentation\\Beer_multibeers_12_T10_POS.mzML\n",
      "C:\\Users\\Vinny\\OneDrive - University of Glasgow\\CLDS Metabolomics Project\\Data\\multibeers_urine_data\\beers\\fragmentation\\Beer_multibeers_13_T10_POS.mzML\n",
      "C:\\Users\\Vinny\\OneDrive - University of Glasgow\\CLDS Metabolomics Project\\Data\\multibeers_urine_data\\beers\\fragmentation\\Beer_multibeers_14_T10_POS.mzML\n",
      "C:\\Users\\Vinny\\OneDrive - University of Glasgow\\CLDS Metabolomics Project\\Data\\multibeers_urine_data\\beers\\fragmentation\\Beer_multibeers_15_T10_POS.mzML\n",
      "C:\\Users\\Vinny\\OneDrive - University of Glasgow\\CLDS Metabolomics Project\\Data\\multibeers_urine_data\\beers\\fragmentation\\Beer_multibeers_16_T10_POS.mzML\n",
      "C:\\Users\\Vinny\\OneDrive - University of Glasgow\\CLDS Metabolomics Project\\Data\\multibeers_urine_data\\beers\\fragmentation\\Beer_multibeers_17_T10_POS.mzML\n",
      "C:\\Users\\Vinny\\OneDrive - University of Glasgow\\CLDS Metabolomics Project\\Data\\multibeers_urine_data\\beers\\fragmentation\\Beer_multibeers_18_T10_POS.mzML\n",
      "C:\\Users\\Vinny\\OneDrive - University of Glasgow\\CLDS Metabolomics Project\\Data\\multibeers_urine_data\\beers\\fragmentation\\Beer_multibeers_19_T10_POS.mzML\n",
      "C:\\Users\\Vinny\\OneDrive - University of Glasgow\\CLDS Metabolomics Project\\Data\\multibeers_urine_data\\beers\\fragmentation\\Beer_multibeers_1_T10_POS.mzML\n",
      "C:\\Users\\Vinny\\OneDrive - University of Glasgow\\CLDS Metabolomics Project\\Data\\multibeers_urine_data\\beers\\fragmentation\\Beer_multibeers_2_T10_POS.mzML\n",
      "C:\\Users\\Vinny\\OneDrive - University of Glasgow\\CLDS Metabolomics Project\\Data\\multibeers_urine_data\\beers\\fragmentation\\Beer_multibeers_3_T10_POS.mzML\n",
      "C:\\Users\\Vinny\\OneDrive - University of Glasgow\\CLDS Metabolomics Project\\Data\\multibeers_urine_data\\beers\\fragmentation\\Beer_multibeers_4_T10_POS.mzML\n",
      "C:\\Users\\Vinny\\OneDrive - University of Glasgow\\CLDS Metabolomics Project\\Data\\multibeers_urine_data\\beers\\fragmentation\\Beer_multibeers_5_T10_POS.mzML\n",
      "C:\\Users\\Vinny\\OneDrive - University of Glasgow\\CLDS Metabolomics Project\\Data\\multibeers_urine_data\\beers\\fragmentation\\Beer_multibeers_6_T10_POS.mzML\n",
      "C:\\Users\\Vinny\\OneDrive - University of Glasgow\\CLDS Metabolomics Project\\Data\\multibeers_urine_data\\beers\\fragmentation\\Beer_multibeers_7_T10_POS.mzML\n",
      "C:\\Users\\Vinny\\OneDrive - University of Glasgow\\CLDS Metabolomics Project\\Data\\multibeers_urine_data\\beers\\fragmentation\\Beer_multibeers_8_T10_POS.mzML\n",
      "C:\\Users\\Vinny\\OneDrive - University of Glasgow\\CLDS Metabolomics Project\\Data\\multibeers_urine_data\\beers\\fragmentation\\Beer_multibeers_9_T10_POS.mzML\n"
     ]
    }
   ],
   "source": [
    "mzml_path = os.path.join(data_dir, 'beers\\\\fragmentation')\n",
    "xcms_output = os.path.join(mzml_path, 'mzML\\\\extracted_peaks_ms1.csv')\n",
    "ds_fragmentation = get_data_source(mzml_path, max_data, filename, ms_level, xcms_filename=xcms_output)"
   ]
  },
  {
   "cell_type": "markdown",
   "metadata": {},
   "source": [
    "## Load fullscan data"
   ]
  },
  {
   "cell_type": "code",
   "execution_count": 9,
   "metadata": {
    "scrolled": false
   },
   "outputs": [
    {
     "name": "stdout",
     "output_type": "stream",
     "text": [
      "C:\\Users\\joewa\\University of Glasgow\\Vinny Davies - CLDS Metabolomics Project\\Data\\multibeers_urine_data\\beers\\fullscan\\Beer_multibeers_10_fullscan1.mzML\n",
      "C:\\Users\\joewa\\University of Glasgow\\Vinny Davies - CLDS Metabolomics Project\\Data\\multibeers_urine_data\\beers\\fullscan\\Beer_multibeers_11_fullscan1.mzML\n",
      "C:\\Users\\joewa\\University of Glasgow\\Vinny Davies - CLDS Metabolomics Project\\Data\\multibeers_urine_data\\beers\\fullscan\\Beer_multibeers_12_fullscan1.mzML\n",
      "C:\\Users\\joewa\\University of Glasgow\\Vinny Davies - CLDS Metabolomics Project\\Data\\multibeers_urine_data\\beers\\fullscan\\Beer_multibeers_13_fullscan1.mzML\n",
      "C:\\Users\\joewa\\University of Glasgow\\Vinny Davies - CLDS Metabolomics Project\\Data\\multibeers_urine_data\\beers\\fullscan\\Beer_multibeers_14_fullscan1.mzML\n",
      "C:\\Users\\joewa\\University of Glasgow\\Vinny Davies - CLDS Metabolomics Project\\Data\\multibeers_urine_data\\beers\\fullscan\\Beer_multibeers_15_fullscan1.mzML\n",
      "C:\\Users\\joewa\\University of Glasgow\\Vinny Davies - CLDS Metabolomics Project\\Data\\multibeers_urine_data\\beers\\fullscan\\Beer_multibeers_16_fullscan1.mzML\n",
      "C:\\Users\\joewa\\University of Glasgow\\Vinny Davies - CLDS Metabolomics Project\\Data\\multibeers_urine_data\\beers\\fullscan\\Beer_multibeers_17_fullscan1.mzML\n",
      "C:\\Users\\joewa\\University of Glasgow\\Vinny Davies - CLDS Metabolomics Project\\Data\\multibeers_urine_data\\beers\\fullscan\\Beer_multibeers_18_fullscan1.mzML\n",
      "C:\\Users\\joewa\\University of Glasgow\\Vinny Davies - CLDS Metabolomics Project\\Data\\multibeers_urine_data\\beers\\fullscan\\Beer_multibeers_19_fullscan1.mzML\n",
      "C:\\Users\\joewa\\University of Glasgow\\Vinny Davies - CLDS Metabolomics Project\\Data\\multibeers_urine_data\\beers\\fullscan\\Beer_multibeers_1_fullscan1.mzML\n",
      "C:\\Users\\joewa\\University of Glasgow\\Vinny Davies - CLDS Metabolomics Project\\Data\\multibeers_urine_data\\beers\\fullscan\\Beer_multibeers_2_fullscan1.mzML\n",
      "C:\\Users\\joewa\\University of Glasgow\\Vinny Davies - CLDS Metabolomics Project\\Data\\multibeers_urine_data\\beers\\fullscan\\Beer_multibeers_3_fullscan1.mzML\n",
      "C:\\Users\\joewa\\University of Glasgow\\Vinny Davies - CLDS Metabolomics Project\\Data\\multibeers_urine_data\\beers\\fullscan\\Beer_multibeers_4_fullscan1.mzML\n",
      "C:\\Users\\joewa\\University of Glasgow\\Vinny Davies - CLDS Metabolomics Project\\Data\\multibeers_urine_data\\beers\\fullscan\\Beer_multibeers_5_fullscan1.mzML\n",
      "C:\\Users\\joewa\\University of Glasgow\\Vinny Davies - CLDS Metabolomics Project\\Data\\multibeers_urine_data\\beers\\fullscan\\Beer_multibeers_6_fullscan1.mzML\n",
      "C:\\Users\\joewa\\University of Glasgow\\Vinny Davies - CLDS Metabolomics Project\\Data\\multibeers_urine_data\\beers\\fullscan\\Beer_multibeers_7_fullscan1.mzML\n",
      "C:\\Users\\joewa\\University of Glasgow\\Vinny Davies - CLDS Metabolomics Project\\Data\\multibeers_urine_data\\beers\\fullscan\\Beer_multibeers_8_fullscan1.mzML\n",
      "C:\\Users\\joewa\\University of Glasgow\\Vinny Davies - CLDS Metabolomics Project\\Data\\multibeers_urine_data\\beers\\fullscan\\Beer_multibeers_9_fullscan1.mzML\n"
     ]
    }
   ],
   "source": [
    "mzml_path = os.path.join(data_dir, 'beers\\\\fullscan')\n",
    "xcms_output = os.path.join(mzml_path, 'mzML\\\\extracted_peaks_ms1.csv')\n",
    "ds_fullscan = get_data_source(mzml_path, max_data, filename, ms_level, xcms_filename=xcms_output)"
   ]
  },
  {
   "cell_type": "markdown",
   "metadata": {},
   "source": [
    "# Alternative KDE where we fit RT, m/z and Intensity together"
   ]
  },
  {
   "cell_type": "markdown",
   "metadata": {},
   "source": [
    "## For beer1pos only"
   ]
  },
  {
   "cell_type": "code",
   "execution_count": 10,
   "metadata": {},
   "outputs": [
    {
     "data": {
      "text/html": [
       "<div>\n",
       "<style scoped>\n",
       "    .dataframe tbody tr th:only-of-type {\n",
       "        vertical-align: middle;\n",
       "    }\n",
       "\n",
       "    .dataframe tbody tr th {\n",
       "        vertical-align: top;\n",
       "    }\n",
       "\n",
       "    .dataframe thead th {\n",
       "        text-align: right;\n",
       "    }\n",
       "</style>\n",
       "<table border=\"1\" class=\"dataframe\">\n",
       "  <thead>\n",
       "    <tr style=\"text-align: right;\">\n",
       "      <th></th>\n",
       "      <th>mz</th>\n",
       "      <th>mzmin</th>\n",
       "      <th>mzmax</th>\n",
       "      <th>rt</th>\n",
       "      <th>rtmin</th>\n",
       "      <th>rtmax</th>\n",
       "      <th>into</th>\n",
       "      <th>intb</th>\n",
       "      <th>maxo</th>\n",
       "      <th>sn</th>\n",
       "      <th>sample</th>\n",
       "      <th>is_filled</th>\n",
       "      <th>msLevel</th>\n",
       "      <th>filename</th>\n",
       "    </tr>\n",
       "  </thead>\n",
       "  <tbody>\n",
       "    <tr>\n",
       "      <th>0</th>\n",
       "      <td>382.294885</td>\n",
       "      <td>382.294525</td>\n",
       "      <td>382.295105</td>\n",
       "      <td>4.26621</td>\n",
       "      <td>0.103954</td>\n",
       "      <td>10.90770</td>\n",
       "      <td>52527.707547</td>\n",
       "      <td>41419.218122</td>\n",
       "      <td>13642.039062</td>\n",
       "      <td>4.0</td>\n",
       "      <td>1</td>\n",
       "      <td>0</td>\n",
       "      <td>1</td>\n",
       "      <td>Beer_multibeers_1_T10_POS.mzML</td>\n",
       "    </tr>\n",
       "    <tr>\n",
       "      <th>1</th>\n",
       "      <td>172.060436</td>\n",
       "      <td>172.060394</td>\n",
       "      <td>172.060501</td>\n",
       "      <td>4.26621</td>\n",
       "      <td>0.103954</td>\n",
       "      <td>6.45158</td>\n",
       "      <td>30426.965551</td>\n",
       "      <td>28843.156189</td>\n",
       "      <td>12816.733398</td>\n",
       "      <td>9.0</td>\n",
       "      <td>1</td>\n",
       "      <td>0</td>\n",
       "      <td>1</td>\n",
       "      <td>Beer_multibeers_1_T10_POS.mzML</td>\n",
       "    </tr>\n",
       "    <tr>\n",
       "      <th>2</th>\n",
       "      <td>323.269127</td>\n",
       "      <td>323.269012</td>\n",
       "      <td>323.269226</td>\n",
       "      <td>4.26621</td>\n",
       "      <td>0.103954</td>\n",
       "      <td>5.24583</td>\n",
       "      <td>16056.588156</td>\n",
       "      <td>16052.474656</td>\n",
       "      <td>4669.169922</td>\n",
       "      <td>4668.0</td>\n",
       "      <td>1</td>\n",
       "      <td>0</td>\n",
       "      <td>1</td>\n",
       "      <td>Beer_multibeers_1_T10_POS.mzML</td>\n",
       "    </tr>\n",
       "    <tr>\n",
       "      <th>3</th>\n",
       "      <td>301.284720</td>\n",
       "      <td>301.284546</td>\n",
       "      <td>301.284943</td>\n",
       "      <td>3.38496</td>\n",
       "      <td>0.103954</td>\n",
       "      <td>4.26621</td>\n",
       "      <td>52584.863803</td>\n",
       "      <td>38860.983091</td>\n",
       "      <td>12059.407227</td>\n",
       "      <td>3.0</td>\n",
       "      <td>1</td>\n",
       "      <td>0</td>\n",
       "      <td>1</td>\n",
       "      <td>Beer_multibeers_1_T10_POS.mzML</td>\n",
       "    </tr>\n",
       "    <tr>\n",
       "      <th>4</th>\n",
       "      <td>489.356433</td>\n",
       "      <td>489.355713</td>\n",
       "      <td>489.356964</td>\n",
       "      <td>4.26621</td>\n",
       "      <td>0.103954</td>\n",
       "      <td>5.81670</td>\n",
       "      <td>56112.717685</td>\n",
       "      <td>53199.013597</td>\n",
       "      <td>14152.797852</td>\n",
       "      <td>8.0</td>\n",
       "      <td>1</td>\n",
       "      <td>0</td>\n",
       "      <td>1</td>\n",
       "      <td>Beer_multibeers_1_T10_POS.mzML</td>\n",
       "    </tr>\n",
       "  </tbody>\n",
       "</table>\n",
       "</div>"
      ],
      "text/plain": [
       "           mz       mzmin       mzmax       rt     rtmin     rtmax  \\\n",
       "0  382.294885  382.294525  382.295105  4.26621  0.103954  10.90770   \n",
       "1  172.060436  172.060394  172.060501  4.26621  0.103954   6.45158   \n",
       "2  323.269127  323.269012  323.269226  4.26621  0.103954   5.24583   \n",
       "3  301.284720  301.284546  301.284943  3.38496  0.103954   4.26621   \n",
       "4  489.356433  489.355713  489.356964  4.26621  0.103954   5.81670   \n",
       "\n",
       "           into          intb          maxo      sn  sample  is_filled  \\\n",
       "0  52527.707547  41419.218122  13642.039062     4.0       1          0   \n",
       "1  30426.965551  28843.156189  12816.733398     9.0       1          0   \n",
       "2  16056.588156  16052.474656   4669.169922  4668.0       1          0   \n",
       "3  52584.863803  38860.983091  12059.407227     3.0       1          0   \n",
       "4  56112.717685  53199.013597  14152.797852     8.0       1          0   \n",
       "\n",
       "   msLevel                        filename  \n",
       "0        1  Beer_multibeers_1_T10_POS.mzML  \n",
       "1        1  Beer_multibeers_1_T10_POS.mzML  \n",
       "2        1  Beer_multibeers_1_T10_POS.mzML  \n",
       "3        1  Beer_multibeers_1_T10_POS.mzML  \n",
       "4        1  Beer_multibeers_1_T10_POS.mzML  "
      ]
     },
     "execution_count": 10,
     "metadata": {},
     "output_type": "execute_result"
    }
   ],
   "source": [
    "ds_fragmentation.df.head()"
   ]
  },
  {
   "cell_type": "code",
   "execution_count": 14,
   "metadata": {},
   "outputs": [],
   "source": [
    "set_log_level_debug()"
   ]
  },
  {
   "cell_type": "code",
   "execution_count": 12,
   "metadata": {},
   "outputs": [],
   "source": [
    "# min_ms1_intensity = 2.5E5\n",
    "# min_ms2_intensity = 5000\n",
    "min_ms1_intensity = 0\n",
    "min_ms2_intensity = 0"
   ]
  },
  {
   "cell_type": "code",
   "execution_count": 13,
   "metadata": {},
   "outputs": [],
   "source": [
    "# min_rt = 3*60\n",
    "# max_rt = 21*60\n",
    "min_rt = 0\n",
    "max_rt = 1440"
   ]
  },
  {
   "cell_type": "code",
   "execution_count": 14,
   "metadata": {},
   "outputs": [
    {
     "name": "stderr",
     "output_type": "stream",
     "text": [
      "DEBUG  : PeakDensityEstimator           : Retrieving mz_intensity_rt values from <VMSfunctions.DataGenerator.DataSource object at 0x000001E7D3D98128>\n",
      "INFO   : DataSource                     : Using values from XCMS peaklist\n",
      "DEBUG  : PeakDensityEstimator           : 3D plotting for mz_intensity_rt not implemented\n",
      "DEBUG  : PeakDensityEstimator           : Retrieving n_peaks values from <VMSfunctions.DataGenerator.DataSource object at 0x000001E7D3D98128>\n"
     ]
    },
    {
     "data": {
      "image/png": "[encoded data removed]",
      "text/plain": [
       "<Figure size 432x288 with 1 Axes>"
      ]
     },
     "metadata": {
      "needs_background": "light"
     },
     "output_type": "display_data"
    },
    {
     "name": "stderr",
     "output_type": "stream",
     "text": [
      "DEBUG  : PeakDensityEstimator           : Retrieving mz_intensity_rt values from <VMSfunctions.DataGenerator.DataSource object at 0x000001E7D3D98128>\n",
      "INFO   : DataSource                     : Using values from XCMS peaklist\n",
      "DEBUG  : PeakDensityEstimator           : 3D plotting for mz_intensity_rt not implemented\n",
      "DEBUG  : PeakDensityEstimator           : Retrieving n_peaks values from <VMSfunctions.DataGenerator.DataSource object at 0x000001E7D3D98128>\n"
     ]
    },
    {
     "data": {
      "image/png": "[encoded data removed]",
      "text/plain": [
       "<Figure size 432x288 with 1 Axes>"
      ]
     },
     "metadata": {
      "needs_background": "light"
     },
     "output_type": "display_data"
    },
    {
     "name": "stdout",
     "output_type": "stream",
     "text": [
      "Saving <class 'VMSfunctions.DataGenerator.PeakSampler'> to C:\\Users\\joewa\\University of Glasgow\\Vinny Davies - CLDS Metabolomics Project\\Trained Models\\peak_sampler_mz_rt_int_beer1pos_fragmentation.p\n"
     ]
    }
   ],
   "source": [
    "filename = 'Beer_multibeers_1_T10_POS.mzML'\n",
    "densities = PeakDensityEstimator(min_ms1_intensity, min_ms2_intensity, min_rt, max_rt, plot=True)\n",
    "densities.kde(ds_fragmentation, filename, 1, bandwidth_mz_intensity_rt=1.0, bandwidth_n_peaks=1.0)\n",
    "densities.kde(ds_fragmentation, filename, 2, bandwidth_mz_intensity_rt=1.0, bandwidth_n_peaks=1.0)\n",
    "ps = PeakSampler(densities)\n",
    "save_obj(ps, 'C:\\\\Users\\\\joewa\\\\University of Glasgow\\\\Vinny Davies - CLDS Metabolomics Project\\\\Trained Models\\\\peak_sampler_mz_rt_int_beer1pos_fragmentation.p')"
   ]
  },
  {
   "cell_type": "code",
   "execution_count": 15,
   "metadata": {},
   "outputs": [
    {
     "data": {
      "text/plain": [
       "[Peak mz=231.5640 rt=574.67 intensity=1041633.83 ms_level=2,\n",
       " Peak mz=443.2190 rt=294.03 intensity=16945.13 ms_level=2,\n",
       " Peak mz=162.1454 rt=87.22 intensity=38868.32 ms_level=2,\n",
       " Peak mz=271.5442 rt=754.71 intensity=194569.80 ms_level=2,\n",
       " Peak mz=375.4496 rt=503.38 intensity=1881725.51 ms_level=2,\n",
       " Peak mz=371.0553 rt=288.09 intensity=1139839.01 ms_level=2,\n",
       " Peak mz=129.5521 rt=731.74 intensity=489875.19 ms_level=2,\n",
       " Peak mz=153.3714 rt=710.21 intensity=811162.45 ms_level=2,\n",
       " Peak mz=271.4358 rt=390.19 intensity=946884.64 ms_level=2,\n",
       " Peak mz=276.8943 rt=825.44 intensity=235229.18 ms_level=2]"
      ]
     },
     "execution_count": 15,
     "metadata": {},
     "output_type": "execute_result"
    }
   ],
   "source": [
    "ps.sample(2, 10)"
   ]
  },
  {
   "cell_type": "code",
   "execution_count": 16,
   "metadata": {
    "scrolled": false
   },
   "outputs": [
    {
     "name": "stderr",
     "output_type": "stream",
     "text": [
      "DEBUG  : PeakDensityEstimator           : Retrieving mz_intensity_rt values from <VMSfunctions.DataGenerator.DataSource object at 0x000001E7B904ED68>\n",
      "INFO   : DataSource                     : Using values from XCMS peaklist\n",
      "DEBUG  : PeakDensityEstimator           : 3D plotting for mz_intensity_rt not implemented\n",
      "DEBUG  : PeakDensityEstimator           : Retrieving n_peaks values from <VMSfunctions.DataGenerator.DataSource object at 0x000001E7B904ED68>\n"
     ]
    },
    {
     "data": {
      "image/png": "[encoded data removed]",
      "text/plain": [
       "<Figure size 432x288 with 1 Axes>"
      ]
     },
     "metadata": {
      "needs_background": "light"
     },
     "output_type": "display_data"
    },
    {
     "name": "stdout",
     "output_type": "stream",
     "text": [
      "Saving <class 'VMSfunctions.DataGenerator.PeakSampler'> to C:\\Users\\joewa\\University of Glasgow\\Vinny Davies - CLDS Metabolomics Project\\Trained Models\\peak_sampler_mz_rt_int_beer1pos_fullscan.p\n"
     ]
    }
   ],
   "source": [
    "filename = 'Beer_multibeers_1_fullscan1.mzML'\n",
    "densities = PeakDensityEstimator(min_ms1_intensity, min_ms2_intensity, min_rt, max_rt, plot=True)\n",
    "densities.kde(ds_fullscan, filename, 1, bandwidth_mz_intensity_rt=1.0, bandwidth_n_peaks=1.0)\n",
    "ps = PeakSampler(densities)\n",
    "save_obj(ps, 'C:\\\\Users\\\\joewa\\\\University of Glasgow\\\\Vinny Davies - CLDS Metabolomics Project\\\\Trained Models\\\\peak_sampler_mz_rt_int_beer1pos_fullscan.p')"
   ]
  },
  {
   "cell_type": "code",
   "execution_count": 17,
   "metadata": {},
   "outputs": [
    {
     "data": {
      "text/plain": [
       "[Peak mz=191.4357 rt=373.40 intensity=913266.05 ms_level=1,\n",
       " Peak mz=234.6545 rt=263.69 intensity=298905.40 ms_level=1,\n",
       " Peak mz=340.9598 rt=426.99 intensity=268477.91 ms_level=1,\n",
       " Peak mz=271.4363 rt=244.48 intensity=90264.25 ms_level=1,\n",
       " Peak mz=334.9172 rt=508.70 intensity=84312.82 ms_level=1,\n",
       " Peak mz=167.0620 rt=580.02 intensity=474699.87 ms_level=1,\n",
       " Peak mz=226.7047 rt=1103.12 intensity=106788.73 ms_level=1,\n",
       " Peak mz=134.7164 rt=279.79 intensity=696906.01 ms_level=1,\n",
       " Peak mz=272.3132 rt=3.00 intensity=166983.04 ms_level=1,\n",
       " Peak mz=193.8958 rt=884.99 intensity=86733.66 ms_level=1]"
      ]
     },
     "execution_count": 17,
     "metadata": {},
     "output_type": "execute_result"
    }
   ],
   "source": [
    "ps.sample(1, 10)"
   ]
  },
  {
   "cell_type": "markdown",
   "metadata": {},
   "source": [
    "## Train on all the 19 beers"
   ]
  },
  {
   "cell_type": "code",
   "execution_count": 16,
   "metadata": {},
   "outputs": [
    {
     "name": "stderr",
     "output_type": "stream",
     "text": [
      "DEBUG  : PeakDensityEstimator           : Retrieving mz_intensity_rt values from <vimms.DataGenerator.DataSource object at 0x000001E49F892B00>\n",
      "INFO   : DataSource                     : Using values from XCMS peaklist\n",
      "DEBUG  : PeakDensityEstimator           : 3D plotting for mz_intensity_rt not implemented\n",
      "DEBUG  : PeakDensityEstimator           : Retrieving n_peaks values from <vimms.DataGenerator.DataSource object at 0x000001E49F892B00>\n"
     ]
    },
    {
     "data": {
      "image/png": "[encoded data removed]",
      "text/plain": [
       "<Figure size 432x288 with 1 Axes>"
      ]
     },
     "metadata": {
      "needs_background": "light"
     },
     "output_type": "display_data"
    },
    {
     "name": "stderr",
     "output_type": "stream",
     "text": [
      "DEBUG  : PeakDensityEstimator           : Retrieving mz_intensity_rt values from <vimms.DataGenerator.DataSource object at 0x000001E49F892B00>\n",
      "INFO   : DataSource                     : Using values from XCMS peaklist\n",
      "DEBUG  : PeakDensityEstimator           : 3D plotting for mz_intensity_rt not implemented\n",
      "DEBUG  : PeakDensityEstimator           : Retrieving n_peaks values from <vimms.DataGenerator.DataSource object at 0x000001E49F892B00>\n"
     ]
    },
    {
     "data": {
      "image/png": "[encoded data removed]",
      "text/plain": [
       "<Figure size 432x288 with 1 Axes>"
      ]
     },
     "metadata": {
      "needs_background": "light"
     },
     "output_type": "display_data"
    },
    {
     "name": "stdout",
     "output_type": "stream",
     "text": [
      "Saving <class 'vimms.DataGenerator.PeakSampler'> to C:\\Users\\Vinny\\work\\vimms\\data\\peak_sampler_mz_rt_int_19_beers_fragmentation.p\n"
     ]
    }
   ],
   "source": [
    "filename = None\n",
    "densities = PeakDensityEstimator(min_ms1_intensity, min_ms2_intensity, min_rt, max_rt, plot=True)\n",
    "densities.kde(ds_fragmentation, filename, 1, bandwidth_mz_intensity_rt=1.0, bandwidth_n_peaks=1.0)\n",
    "densities.kde(ds_fragmentation, filename, 2, bandwidth_mz_intensity_rt=1.0, bandwidth_n_peaks=1.0)\n",
    "ps = PeakSampler(densities)\n",
    "save_obj(ps, 'C:\\\\Users\\\\Vinny\\\\work\\\\vimms\\\\data\\\\peak_sampler_mz_rt_int_19_beers_fragmentation.p')"
   ]
  },
  {
   "cell_type": "code",
   "execution_count": 19,
   "metadata": {},
   "outputs": [
    {
     "data": {
      "text/plain": [
       "[Peak mz=253.8383 rt=251.00 intensity=110884.55 ms_level=2,\n",
       " Peak mz=128.9578 rt=712.61 intensity=1107413.02 ms_level=2,\n",
       " Peak mz=250.2972 rt=435.34 intensity=3398092.45 ms_level=2,\n",
       " Peak mz=277.5673 rt=595.65 intensity=1127242.36 ms_level=2,\n",
       " Peak mz=217.6058 rt=1240.51 intensity=74762.97 ms_level=2,\n",
       " Peak mz=86.2465 rt=269.85 intensity=442995.17 ms_level=2,\n",
       " Peak mz=272.7945 rt=1379.29 intensity=3466610.53 ms_level=2,\n",
       " Peak mz=262.9893 rt=584.47 intensity=505565.78 ms_level=2,\n",
       " Peak mz=104.7533 rt=988.26 intensity=26680.62 ms_level=2,\n",
       " Peak mz=727.7734 rt=273.87 intensity=53631.57 ms_level=2]"
      ]
     },
     "execution_count": 19,
     "metadata": {},
     "output_type": "execute_result"
    }
   ],
   "source": [
    "ps.sample(2, 10)"
   ]
  },
  {
   "cell_type": "code",
   "execution_count": 20,
   "metadata": {
    "scrolled": true
   },
   "outputs": [
    {
     "name": "stderr",
     "output_type": "stream",
     "text": [
      "DEBUG  : PeakDensityEstimator           : Retrieving mz_intensity_rt values from <VMSfunctions.DataGenerator.DataSource object at 0x000001E7B904ED68>\n",
      "INFO   : DataSource                     : Using values from XCMS peaklist\n",
      "DEBUG  : PeakDensityEstimator           : 3D plotting for mz_intensity_rt not implemented\n",
      "DEBUG  : PeakDensityEstimator           : Retrieving n_peaks values from <VMSfunctions.DataGenerator.DataSource object at 0x000001E7B904ED68>\n"
     ]
    },
    {
     "data": {
      "image/png": "[encoded data removed]",
      "text/plain": [
       "<Figure size 432x288 with 1 Axes>"
      ]
     },
     "metadata": {
      "needs_background": "light"
     },
     "output_type": "display_data"
    },
    {
     "name": "stdout",
     "output_type": "stream",
     "text": [
      "Saving <class 'VMSfunctions.DataGenerator.PeakSampler'> to C:\\Users\\joewa\\University of Glasgow\\Vinny Davies - CLDS Metabolomics Project\\Trained Models\\peak_sampler_mz_rt_int_19_beers_fullscan.p\n"
     ]
    }
   ],
   "source": [
    "filename = None\n",
    "densities = PeakDensityEstimator(min_ms1_intensity, min_ms2_intensity, min_rt, max_rt, plot=True)\n",
    "densities.kde(ds_fullscan, filename, 1, bandwidth_mz_intensity_rt=1.0, bandwidth_n_peaks=1.0)\n",
    "ps = PeakSampler(densities)\n",
    "save_obj(ps, 'C:\\\\Users\\\\joewa\\\\University of Glasgow\\\\Vinny Davies - CLDS Metabolomics Project\\\\Trained Models\\\\peak_sampler_mz_rt_int_19_beers_fullscan.p')"
   ]
  },
  {
   "cell_type": "code",
   "execution_count": 21,
   "metadata": {},
   "outputs": [
    {
     "data": {
      "text/plain": [
       "[Peak mz=120.3420 rt=785.87 intensity=827039.06 ms_level=1,\n",
       " Peak mz=222.2886 rt=301.78 intensity=188889.04 ms_level=1,\n",
       " Peak mz=272.5686 rt=221.30 intensity=26179.91 ms_level=1,\n",
       " Peak mz=144.4015 rt=290.05 intensity=965748.92 ms_level=1,\n",
       " Peak mz=389.3452 rt=318.37 intensity=274286.64 ms_level=1,\n",
       " Peak mz=175.3436 rt=238.05 intensity=1259413.27 ms_level=1,\n",
       " Peak mz=313.7968 rt=533.90 intensity=480279.75 ms_level=1,\n",
       " Peak mz=255.9413 rt=1369.39 intensity=15941.22 ms_level=1,\n",
       " Peak mz=389.9740 rt=588.95 intensity=915040.60 ms_level=1,\n",
       " Peak mz=342.3237 rt=423.83 intensity=2768090.84 ms_level=1]"
      ]
     },
     "execution_count": 21,
     "metadata": {},
     "output_type": "execute_result"
    }
   ],
   "source": [
    "ps.sample(1, 10)"
   ]
  }
 ],
 "metadata": {
  "kernelspec": {
   "display_name": "Python 3",
   "language": "python",
   "name": "python3"
  },
  "language_info": {
   "codemirror_mode": {
    "name": "ipython",
    "version": 3
   },
   "file_extension": ".py",
   "mimetype": "text/x-python",
   "name": "python",
   "nbconvert_exporter": "python",
   "pygments_lexer": "ipython3",
   "version": "3.7.3"
  }
 },
 "nbformat": 4,
 "nbformat_minor": 2
}
