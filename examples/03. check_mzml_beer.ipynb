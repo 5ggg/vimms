{
 "cells": [
  {
   "cell_type": "markdown",
   "metadata": {},
   "source": [
    "# Compare simulated top-N mzML with the real one"
   ]
  },
  {
   "cell_type": "markdown",
   "metadata": {},
   "source": [
    "This notebook loads an existing beer1pos data, runs it through the simulator and compares the output."
   ]
  },
  {
   "cell_type": "code",
   "execution_count": null,
   "metadata": {},
   "outputs": [],
   "source": [
    "import sys\n",
    "sys.path.append('C:\\\\Users\\\\joewa\\\\Work\\\\git\\\\clms\\\\Simulator\\\\codes')\n",
    "\n",
    "%load_ext autoreload\n",
    "%autoreload 2\n",
    "%matplotlib inline"
   ]
  },
  {
   "cell_type": "code",
   "execution_count": null,
   "metadata": {},
   "outputs": [],
   "source": [
    "import numpy as np\n",
    "import pandas as pd\n",
    "import pylab as plt\n",
    "import matplotlib.patches as mpatches"
   ]
  },
  {
   "cell_type": "code",
   "execution_count": null,
   "metadata": {},
   "outputs": [],
   "source": [
    "from VMSfunctions.Chemicals import *\n",
    "from VMSfunctions.Chromatograms import *\n",
    "from VMSfunctions.MassSpec import *\n",
    "from VMSfunctions.Controller import *\n",
    "from VMSfunctions.Common import *\n",
    "from VMSfunctions.DataGenerator import *\n",
    "from VMSfunctions.TopNExperiment import *\n",
    "from VMSfunctions.Roi import *\n",
    "from VMSfunctions.PlotsForPaper import *"
   ]
  },
  {
   "cell_type": "code",
   "execution_count": null,
   "metadata": {},
   "outputs": [],
   "source": [
    "set_log_level_info()"
   ]
  },
  {
   "cell_type": "markdown",
   "metadata": {},
   "source": [
    "## Parameters"
   ]
  },
  {
   "cell_type": "code",
   "execution_count": null,
   "metadata": {},
   "outputs": [],
   "source": [
    "base_dir = 'C:\\\\Users\\\\joewa\\\\University of Glasgow\\\\Vinny Davies - CLDS Metabolomics Project\\\\'\n",
    "mzml_path = os.path.join(base_dir, 'Data\\\\multibeers_urine_data\\\\beers\\\\fragmentation')\n",
    "file_name = 'Beer_multibeers_1_T10_POS.mzML'\n",
    "\n",
    "experiment_name = 'beer1pos_mzml_compare'\n",
    "experiment_out_dir = os.path.join(base_dir, 'Manuscript\\\\2.2. Top N Simulations\\\\mzML')"
   ]
  },
  {
   "cell_type": "code",
   "execution_count": null,
   "metadata": {},
   "outputs": [],
   "source": [
    "# min_rt = 3*60\n",
    "# max_rt = 21*60"
   ]
  },
  {
   "cell_type": "code",
   "execution_count": null,
   "metadata": {},
   "outputs": [],
   "source": [
    "min_rt = 0\n",
    "max_rt = 1441"
   ]
  },
  {
   "cell_type": "code",
   "execution_count": null,
   "metadata": {},
   "outputs": [],
   "source": [
    "kde_min_ms1_intensity = 0 # min intensity to be selected for kdes\n",
    "kde_min_ms2_intensity = 0"
   ]
  },
  {
   "cell_type": "markdown",
   "metadata": {},
   "source": [
    "ROI extraction parameters"
   ]
  },
  {
   "cell_type": "code",
   "execution_count": null,
   "metadata": {},
   "outputs": [],
   "source": [
    "roi_mz_tol = 10\n",
    "roi_min_length = 1\n",
    "roi_min_intensity = 0\n",
    "roi_start_rt = min_rt\n",
    "roi_stop_rt = max_rt"
   ]
  },
  {
   "cell_type": "markdown",
   "metadata": {},
   "source": [
    "Top-N parameters"
   ]
  },
  {
   "cell_type": "code",
   "execution_count": null,
   "metadata": {},
   "outputs": [],
   "source": [
    "isolation_window = 1   # the isolation window in Dalton around a selected precursor ion\n",
    "ionisation_mode = POSITIVE\n",
    "N = 10\n",
    "rt_tol = 15\n",
    "mz_tol = 10\n",
    "min_ms1_intensity = 1.75E5 # minimum ms1 intensity to fragment"
   ]
  },
  {
   "cell_type": "code",
   "execution_count": null,
   "metadata": {},
   "outputs": [],
   "source": [
    "mzml_out = os.path.join(experiment_out_dir, 'beer1pos_simulated.mzML')"
   ]
  },
  {
   "cell_type": "markdown",
   "metadata": {},
   "source": [
    "## Check minimum ms1 intensity to fragment"
   ]
  },
  {
   "cell_type": "code",
   "execution_count": null,
   "metadata": {},
   "outputs": [],
   "source": [
    "import pymzml\n",
    "run = pymzml.run.Reader(os.path.join(mzml_path, file_name), obo_version='4.0.1',\n",
    "                        MS1_Precision=5e-6,\n",
    "                        extraAccessions=[('MS:1000016', ['value', 'unitName'])])\n",
    "\n",
    "selected_precursor_intensities = []\n",
    "for scan_no, scan in enumerate(run):\n",
    "    precursors = scan.selected_precursors\n",
    "    try:\n",
    "        if len(precursors) > 0:\n",
    "            selected_precursor_intensities.append(precursors[0]['i'])\n",
    "    except KeyError:\n",
    "        continue"
   ]
  },
  {
   "cell_type": "code",
   "execution_count": null,
   "metadata": {},
   "outputs": [],
   "source": [
    "plt.boxplot(np.log(selected_precursor_intensities))"
   ]
  },
  {
   "cell_type": "code",
   "execution_count": null,
   "metadata": {},
   "outputs": [],
   "source": [
    "np.min(selected_precursor_intensities)"
   ]
  },
  {
   "cell_type": "code",
   "execution_count": null,
   "metadata": {},
   "outputs": [],
   "source": [
    "np.max(selected_precursor_intensities)"
   ]
  },
  {
   "cell_type": "markdown",
   "metadata": {},
   "source": [
    "## Train densities"
   ]
  },
  {
   "cell_type": "code",
   "execution_count": null,
   "metadata": {
    "scrolled": false
   },
   "outputs": [],
   "source": [
    "ds = DataSource()\n",
    "ds.load_data(mzml_path, file_name=file_name)\n",
    "print('MS1')\n",
    "ds.plot_data(file_name, ms_level=1, max_data=100000, min_rt=min_rt, max_rt=max_rt)\n",
    "print('MS2')\n",
    "ds.plot_data(file_name, ms_level=2, max_data=100000, min_rt=min_rt, max_rt=max_rt)"
   ]
  },
  {
   "cell_type": "markdown",
   "metadata": {},
   "source": [
    "## Prepare dataset"
   ]
  },
  {
   "cell_type": "markdown",
   "metadata": {},
   "source": [
    "Extract all ROIs"
   ]
  },
  {
   "cell_type": "code",
   "execution_count": null,
   "metadata": {},
   "outputs": [],
   "source": [
    "densities = PeakDensityEstimator(kde_min_ms1_intensity, kde_min_ms2_intensity, min_rt, max_rt, plot=True)\n",
    "densities.kde(ds, file_name, 2, bandwidth_mz_intensity_rt=1.0, bandwidth_n_peaks=1.0)\n",
    "ps = PeakSampler(densities)"
   ]
  },
  {
   "cell_type": "code",
   "execution_count": null,
   "metadata": {
    "scrolled": true
   },
   "outputs": [],
   "source": [
    "mzml_file = os.path.join(mzml_path, file_name)\n",
    "good_roi, junk = make_roi(mzml_file, mz_tol=roi_mz_tol, mz_units='ppm', min_length=roi_min_length,\n",
    "                          min_intensity=roi_min_intensity, start_rt=roi_start_rt, stop_rt=roi_stop_rt)"
   ]
  },
  {
   "cell_type": "code",
   "execution_count": null,
   "metadata": {},
   "outputs": [],
   "source": [
    "all_roi = good_roi + junk"
   ]
  },
  {
   "cell_type": "markdown",
   "metadata": {},
   "source": [
    "How many singleton and non-singleton ROIs?"
   ]
  },
  {
   "cell_type": "code",
   "execution_count": null,
   "metadata": {},
   "outputs": [],
   "source": [
    "len([roi for roi in all_roi if roi.n == 1])"
   ]
  },
  {
   "cell_type": "code",
   "execution_count": null,
   "metadata": {},
   "outputs": [],
   "source": [
    "len([roi for roi in all_roi if roi.n > 1])"
   ]
  },
  {
   "cell_type": "markdown",
   "metadata": {},
   "source": [
    "How many can be fragmented above the min_ms1_intensity threshold?"
   ]
  },
  {
   "cell_type": "code",
   "execution_count": null,
   "metadata": {},
   "outputs": [],
   "source": [
    "min_ms1_intensity"
   ]
  },
  {
   "cell_type": "code",
   "execution_count": null,
   "metadata": {},
   "outputs": [],
   "source": [
    "keep = []\n",
    "for roi in all_roi:\n",
    "    if np.count_nonzero(np.array(roi.intensity_list) > min_ms1_intensity) > 0:\n",
    "        keep.append(roi)\n",
    "\n",
    "print(len(keep))\n",
    "all_roi = keep"
   ]
  },
  {
   "cell_type": "code",
   "execution_count": null,
   "metadata": {},
   "outputs": [],
   "source": [
    "len(all_roi)"
   ]
  },
  {
   "cell_type": "markdown",
   "metadata": {},
   "source": [
    "Turn ROIs into chromatograms/chemicals"
   ]
  },
  {
   "cell_type": "code",
   "execution_count": null,
   "metadata": {},
   "outputs": [],
   "source": [
    "set_log_level_debug()\n",
    "rtcc = RoiToChemicalCreator(ps, all_roi)"
   ]
  },
  {
   "cell_type": "code",
   "execution_count": null,
   "metadata": {},
   "outputs": [],
   "source": [
    "data = rtcc.chemicals\n",
    "save_obj(data, os.path.join(experiment_out_dir, 'dataset.p'))"
   ]
  },
  {
   "cell_type": "markdown",
   "metadata": {},
   "source": [
    "## Test Single Top-N"
   ]
  },
  {
   "cell_type": "code",
   "execution_count": null,
   "metadata": {},
   "outputs": [],
   "source": [
    "density = ps.density_estimator\n",
    "set_log_level_warning()\n",
    "pbar = True"
   ]
  },
  {
   "cell_type": "code",
   "execution_count": null,
   "metadata": {
    "scrolled": false
   },
   "outputs": [],
   "source": [
    "mass_spec = IndependentMassSpectrometer(ionisation_mode, data, density=density)\n",
    "controller = TopNController(mass_spec, N, isolation_window, mz_tol,\n",
    "                            rt_tol, min_ms1_intensity)\n",
    "controller.run(min_rt, max_rt, pbar)"
   ]
  },
  {
   "cell_type": "code",
   "execution_count": null,
   "metadata": {},
   "outputs": [],
   "source": [
    "controller.write_mzML('my_analysis', mzml_out)"
   ]
  },
  {
   "cell_type": "markdown",
   "metadata": {},
   "source": [
    "### Check the following\n",
    "\n",
    "- Number of frag events\n",
    "- Number of scans\n",
    "- How many matches"
   ]
  },
  {
   "cell_type": "code",
   "execution_count": null,
   "metadata": {},
   "outputs": [],
   "source": [
    "def count_stuff(input_file, min_rt, max_rt):\n",
    "    run = pymzml.run.Reader(input_file, MS1_Precision=5e-6,\n",
    "                            extraAccessions=[('MS:1000016', ['value', 'unitName'])],\n",
    "                            obo_version='4.0.1')\n",
    "    mzs = []\n",
    "    rts = []\n",
    "    intensities = []\n",
    "    count_ms1_scans = 0\n",
    "    count_ms2_scans = 0\n",
    "    cumsum_ms1_scans = []\n",
    "    cumsum_ms2_scans = []    \n",
    "    count_selected_precursors = 0\n",
    "    for spectrum in run:\n",
    "        ms_level  = spectrum['ms level']\n",
    "        current_scan_rt, units = spectrum.scan_time\n",
    "        if units == 'minute':\n",
    "            current_scan_rt *= 60.0            \n",
    "        if min_rt < current_scan_rt < max_rt:                    \n",
    "            if ms_level == 1:\n",
    "                count_ms1_scans += 1\n",
    "                cumsum_ms1_scans.append((current_scan_rt, count_ms1_scans, ))\n",
    "            elif ms_level == 2:\n",
    "                try:\n",
    "                    selected_precursors = spectrum.selected_precursors  \n",
    "                    count_selected_precursors += len(selected_precursors)\n",
    "                    mz = selected_precursors[0]['mz']\n",
    "                    intensity = selected_precursors[0]['i']\n",
    "\n",
    "                    count_ms2_scans += 1\n",
    "                    mzs.append(mz)\n",
    "                    rts.append(current_scan_rt)\n",
    "                    intensities.append(intensity)\n",
    "                    cumsum_ms2_scans.append((current_scan_rt, count_ms2_scans, ))                    \n",
    "                except KeyError:\n",
    "                    # print(selected_precursors)\n",
    "                    pass\n",
    "                    \n",
    "    print('Number of ms1 scans =', count_ms1_scans)                \n",
    "    print('Number of ms2 scans =', count_ms2_scans)\n",
    "    print('Total scans =', count_ms1_scans + count_ms2_scans)    \n",
    "    print('Number of selected precursors =', count_selected_precursors)\n",
    "    return np.array(mzs), np.array(rts), np.array(intensities), np.array(cumsum_ms1_scans), np.array(cumsum_ms2_scans)"
   ]
  },
  {
   "cell_type": "code",
   "execution_count": null,
   "metadata": {},
   "outputs": [],
   "source": [
    "def find_match(query, min_rts, max_rts, min_mzs, max_mzs, mz_list, rt_list, intensity_list):\n",
    "    \n",
    "    # check ranges\n",
    "    query_mz, query_rt, query_intensity = query\n",
    "    min_rt_check = min_rts <= query_rt\n",
    "    max_rt_check = query_rt <= max_rts\n",
    "    min_mz_check = min_mzs <= query_mz\n",
    "    max_mz_check = query_mz <= max_mzs\n",
    "    idx = np.nonzero(min_rt_check & max_rt_check & min_mz_check & max_mz_check)[0]\n",
    "    \n",
    "    # get mz, rt and intensity of matching indices\n",
    "    matches_mz = mz_list[idx]\n",
    "    matches_rt = rt_list[idx]\n",
    "    matches_intensity = intensity_list[idx]\n",
    "\n",
    "    if len(idx) == 0: # no match\n",
    "        return None\n",
    "    \n",
    "    elif len(idx) == 1: # single match\n",
    "        return (matches_mz[0], matches_rt[0], matches_intensity[0], )\n",
    "    \n",
    "    else: # multiple matches, take the closest in rt\n",
    "        diffs = [np.abs(rt - query_rt) for rt in matches_rt]\n",
    "        idx = np.argmin(diffs)\n",
    "        return (matches_mz[idx], matches_rt[idx], matches_intensity[idx], )\n",
    "\n",
    "    \n",
    "def match(mz_list_1, rt_list_1, intensity_list_1, mz_list_2, rt_list_2, intensity_list_2, mz_tol, rt_tol):  \n",
    "    \n",
    "    if mz_tol is not None: # create mz range for matching in ppm\n",
    "        min_mzs = np.array([mz * (1-mz_tol/1e6) for mz in mz_list_2])\n",
    "        max_mzs = np.array([mz * (1+mz_tol/1e6) for mz in mz_list_2])\n",
    "        \n",
    "    else: # create mz ranges by rounding to 2dp\n",
    "        min_mzs = np.around(mz_list_2, decimals=2)\n",
    "        max_mzs = np.around(mz_list_2, decimals=2)\n",
    "        mz_list_1 = np.around(mz_list_1, decimals=2)    \n",
    "    \n",
    "    # create rt ranges for matching\n",
    "    min_rts = np.array([rt - rt_tol for rt in rt_list_2])\n",
    "    max_rts = np.array([rt + rt_tol for rt in rt_list_2])\n",
    "        \n",
    "    matches = {}    \n",
    "    for i in range(len(mz_list_1)): # loop over query and find a match\n",
    "        query = (mz_list_1[i], rt_list_1[i], intensity_list_1[i], )\n",
    "        match = find_match(query, min_rts, max_rts, min_mzs, max_mzs, mz_list_2, rt_list_2, intensity_list_2)\n",
    "        matches[query] = match\n",
    "    return matches\n",
    "\n",
    "def check_found_matches(matches, left_label, right_label, N=20):\n",
    "    found = [key for key in matches if matches[key] is not None]\n",
    "    print('Found %d/%d (%f)' % (len(found), len(matches), len(found)/len(matches)))\n",
    "\n",
    "    print('%s\\t\\t\\t\\t\\t\\t%s' % (left_label, right_label))\n",
    "    for key, value in list(matches.items())[0:N]:\n",
    "        if value is not None:\n",
    "            print('mz %.2f rt %.4f intensity %.4f\\tmz %.2f rt %.4f intensity %.4f' % (key[0], key[1], key[2], value[0], value[1], value[2]))"
   ]
  },
  {
   "cell_type": "code",
   "execution_count": null,
   "metadata": {},
   "outputs": [],
   "source": [
    "simulated_input_file = mzml_out\n",
    "simulated_mzs, simulated_rts, simulated_intensities, simulated_cumsum_ms1, simulated_cumsum_ms2 = count_stuff(\n",
    "    simulated_input_file, min_rt, max_rt)"
   ]
  },
  {
   "cell_type": "code",
   "execution_count": null,
   "metadata": {},
   "outputs": [],
   "source": [
    "real_input_file = 'C:\\\\Users\\\\joewa\\\\University of Glasgow\\\\Vinny Davies - CLDS Metabolomics Project\\\\Data\\\\multibeers_urine_data\\\\beers\\\\fragmentation\\\\Beer_multibeers_1_T10_POS.mzML'\n",
    "real_mzs, real_rts, real_intensities, real_cumsum_ms1, real_cumsum_ms2 = count_stuff(real_input_file, min_rt, max_rt)"
   ]
  },
  {
   "cell_type": "markdown",
   "metadata": {},
   "source": [
    "#### Plot number of scans"
   ]
  },
  {
   "cell_type": "code",
   "execution_count": null,
   "metadata": {},
   "outputs": [],
   "source": [
    "plt.rcParams.update({'font.size': 14})    \n",
    "plt.plot(real_cumsum_ms1[:, 0], real_cumsum_ms1[:, 1], 'r')\n",
    "plt.plot(real_cumsum_ms2[:, 0], real_cumsum_ms2[:, 1], 'b')\n",
    "plt.plot(simulated_cumsum_ms1[:, 0], simulated_cumsum_ms1[:, 1], 'r--')\n",
    "plt.plot(simulated_cumsum_ms2[:, 0], simulated_cumsum_ms2[:, 1], 'b--')\n",
    "plt.legend(['Actual MS1', 'Actual MS2', 'Simulated MS1', 'Simulated MS2'])\n",
    "plt.xlabel('Retention Time (s)')\n",
    "plt.ylabel('Cumulative sum')\n",
    "# plt.title('Cumulative number of MS1 and MS2 scans', fontsize=18)\n",
    "plt.rcParams.update({'font.size': 14})\n",
    "plt.tight_layout()\n",
    "plt.savefig('num_scans.png', dpi=300)"
   ]
  },
  {
   "cell_type": "markdown",
   "metadata": {},
   "source": [
    "#### Check the number of matches"
   ]
  },
  {
   "cell_type": "code",
   "execution_count": null,
   "metadata": {},
   "outputs": [],
   "source": [
    "mz_tol = None\n",
    "rt_tol = 5\n",
    "matches = match(real_mzs, real_rts, real_intensities, simulated_mzs, simulated_rts, simulated_intensities, mz_tol, rt_tol)\n",
    "check_found_matches(matches, 'Real', 'Simulated')"
   ]
  },
  {
   "cell_type": "code",
   "execution_count": null,
   "metadata": {},
   "outputs": [],
   "source": [
    "mz_tol = None\n",
    "rt_tol = 10\n",
    "matches = match(real_mzs, real_rts, real_intensities, simulated_mzs, simulated_rts, simulated_intensities, mz_tol, rt_tol)\n",
    "check_found_matches(matches, 'Real', 'Simulated')"
   ]
  },
  {
   "cell_type": "code",
   "execution_count": null,
   "metadata": {},
   "outputs": [],
   "source": [
    "mz_tol = None\n",
    "rt_tol = 15\n",
    "matches = match(real_mzs, real_rts, real_intensities, simulated_mzs, simulated_rts, simulated_intensities, mz_tol, rt_tol)\n",
    "check_found_matches(matches, 'Real', 'Simulated')"
   ]
  },
  {
   "cell_type": "markdown",
   "metadata": {},
   "source": [
    "#### Plot the matches"
   ]
  },
  {
   "cell_type": "code",
   "execution_count": null,
   "metadata": {},
   "outputs": [],
   "source": [
    "unmatched_intensities = []\n",
    "matched_intensities = []\n",
    "for key, value in list(matches.items()):\n",
    "    intensity = key[2]\n",
    "    if value is None:\n",
    "        unmatched_intensities.append(intensity)\n",
    "    else:\n",
    "        matched_intensities.append(intensity)"
   ]
  },
  {
   "cell_type": "code",
   "execution_count": null,
   "metadata": {},
   "outputs": [],
   "source": [
    "plt.rcParams.update({'font.size': 18})    \n",
    "plt.figure()\n",
    "temp1 = plt.hist(np.log(matched_intensities), bins = np.linspace(10,20,50), color='blue')\n",
    "temp2 = plt.hist(np.log(unmatched_intensities), bins = np.linspace(10,20,50), color='red')\n",
    "# plt.title('Matched precursor intensities')\n",
    "blue_patch = mpatches.Patch(color='blue', label='Matched')\n",
    "red_patch = mpatches.Patch(color='red', label='Unmatched')\n",
    "plt.legend(handles=[blue_patch, red_patch])\n",
    "plt.xlabel('log(intensity)')\n",
    "plt.ylabel('Precursor count')\n",
    "plt.tight_layout()\n",
    "plt.savefig('matched_intensities.png', dpi=300)"
   ]
  },
  {
   "cell_type": "code",
   "execution_count": null,
   "metadata": {},
   "outputs": [],
   "source": [
    "def plot_matches(matches, min_mz, max_mz, min_rt, max_rt, out_file=None):\n",
    "    plt.figure(figsize=(12, 6))\n",
    "    plt.rcParams.update({'font.size': 24})    \n",
    "    for key in matches:\n",
    "        mz, rt, intensity = key    \n",
    "        if min_mz < mz < max_mz and min_rt < rt < max_rt:\n",
    "            if matches[key] is not None:\n",
    "                plt.plot([rt], [mz], marker='.', markersize=5, color='blue', alpha=0.1)\n",
    "            else:\n",
    "                plt.plot([rt], [mz], marker='.', markersize=5, color='red', alpha=0.1)  \n",
    "\n",
    "    blue_patch = mpatches.Patch(color='blue', label='Matched')\n",
    "    red_patch = mpatches.Patch(color='red', label='Unmatched')\n",
    "    plt.legend(handles=[blue_patch, red_patch])\n",
    "#     plt.title('Matched fragmentation events', fontsize=30)\n",
    "    plt.xlabel('Retention Time (s)')\n",
    "    plt.ylabel('m/z')\n",
    "    plt.tight_layout()\n",
    "    if out_file is not None:\n",
    "        plt.savefig(out_file, dpi=300)"
   ]
  },
  {
   "cell_type": "code",
   "execution_count": null,
   "metadata": {},
   "outputs": [],
   "source": [
    "plot_matches(matches, 50, 1000, 180, 1260, out_file='matched_precursors.png')"
   ]
  },
  {
   "cell_type": "markdown",
   "metadata": {},
   "source": [
    "#### Count the number of XCMS picked-peaks"
   ]
  },
  {
   "cell_type": "code",
   "execution_count": null,
   "metadata": {},
   "outputs": [],
   "source": [
    "min_ms1_intensity = 0\n",
    "rt_range = [(0, 1441)]\n",
    "mz_range = [(0, 9999)]"
   ]
  },
  {
   "cell_type": "code",
   "execution_count": null,
   "metadata": {},
   "outputs": [],
   "source": [
    "csv_file = 'C:\\\\Users\\\\joewa\\\\University of Glasgow\\\\Vinny Davies - CLDS Metabolomics Project\\\\Manuscript\\\\2.2. Top N Simulations\\\\mzML\\\\extracted_peaks_ms1.csv'\n",
    "df = get_df(csv_file, min_ms1_intensity, rt_range, mz_range)"
   ]
  },
  {
   "cell_type": "code",
   "execution_count": null,
   "metadata": {},
   "outputs": [],
   "source": [
    "count_df = df.groupby('filename').size().reset_index(name='counts')"
   ]
  },
  {
   "cell_type": "code",
   "execution_count": null,
   "metadata": {},
   "outputs": [],
   "source": [
    "count_df"
   ]
  },
  {
   "cell_type": "code",
   "execution_count": null,
   "metadata": {},
   "outputs": [],
   "source": [
    "make_boxplot(df, 'filename', 'mz', None, \n",
    "             'mz distributions of MS1 features detected by CentWave')\n",
    "\n",
    "make_boxplot(df, 'filename', 'rt', None, \n",
    "             'rt distributions of MS1 features detected by CentWave')\n",
    "\n",
    "make_boxplot(df, 'filename', 'log_intensity', None, \n",
    "             'Intensity distributions of MS1 features detected by CentWave')"
   ]
  },
  {
   "cell_type": "code",
   "execution_count": null,
   "metadata": {},
   "outputs": [],
   "source": []
  }
 ],
 "metadata": {
  "kernelspec": {
   "display_name": "Python 3",
   "language": "python",
   "name": "python3"
  },
  "language_info": {
   "codemirror_mode": {
    "name": "ipython",
    "version": 3
   },
   "file_extension": ".py",
   "mimetype": "text/x-python",
   "name": "python",
   "nbconvert_exporter": "python",
   "pygments_lexer": "ipython3",
   "version": "3.7.3"
  }
 },
 "nbformat": 4,
 "nbformat_minor": 2
}
