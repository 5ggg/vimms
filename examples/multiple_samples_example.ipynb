{
 "cells": [
  {
   "cell_type": "code",
   "execution_count": 1,
   "metadata": {},
   "outputs": [],
   "source": [
    "%matplotlib inline"
   ]
  },
  {
   "cell_type": "code",
   "execution_count": 2,
   "metadata": {},
   "outputs": [],
   "source": [
    "%load_ext autoreload\n",
    "%autoreload 2"
   ]
  },
  {
   "cell_type": "code",
   "execution_count": 3,
   "metadata": {},
   "outputs": [],
   "source": [
    "import numpy as np\n",
    "import pandas as pd\n",
    "import sys\n",
    "import scipy.stats\n",
    "import pylab as plt\n",
    "from IPython import display\n",
    "import pylab as plt\n",
    "import glob\n",
    "from collections import defaultdict"
   ]
  },
  {
   "cell_type": "code",
   "execution_count": 4,
   "metadata": {},
   "outputs": [],
   "source": [
    "sys.path.append('..')"
   ]
  },
  {
   "cell_type": "code",
   "execution_count": 5,
   "metadata": {},
   "outputs": [],
   "source": [
    "from vimms.Chemicals import *\n",
    "from vimms.Chromatograms import *\n",
    "from vimms.MassSpec import *\n",
    "from vimms.Controller import *\n",
    "from vimms.Common import *\n",
    "from vimms.DataGenerator import *\n",
    "from vimms.DsDA import *"
   ]
  },
  {
   "cell_type": "code",
   "execution_count": 6,
   "metadata": {},
   "outputs": [],
   "source": [
    " set_log_level_warning()\n",
    "# set_log_level_info()\n",
    "# set_log_level_debug()"
   ]
  },
  {
   "cell_type": "code",
   "execution_count": 7,
   "metadata": {},
   "outputs": [],
   "source": [
    "# base_dir = '..\\\\data'\n",
    "base_dir = 'C:\\\\Users\\\\joewa\\\\University of Glasgow\\\\Vinny Davies - CLDS Metabolomics Project\\\\Trained Models'"
   ]
  },
  {
   "cell_type": "code",
   "execution_count": 8,
   "metadata": {},
   "outputs": [],
   "source": [
    "ps = load_obj(os.path.join(base_dir, 'peak_sampler_mz_rt_int_19_beers_fullscan.p'))"
   ]
  },
  {
   "cell_type": "code",
   "execution_count": 9,
   "metadata": {},
   "outputs": [],
   "source": [
    "hmdb = load_obj(os.path.join(base_dir, 'hmdb_compounds.p'))"
   ]
  },
  {
   "cell_type": "code",
   "execution_count": 10,
   "metadata": {},
   "outputs": [],
   "source": [
    "out_dir = 'C:\\\\Users\\\\joewa\\\\Work\\\\data\\\\ClassificationExample\\\\Samples_id_0'"
   ]
  },
  {
   "cell_type": "markdown",
   "metadata": {},
   "source": [
    "# Create Initial Chemical"
   ]
  },
  {
   "cell_type": "code",
   "execution_count": 11,
   "metadata": {},
   "outputs": [
    {
     "name": "stdout",
     "output_type": "stream",
     "text": [
      "Saving <class 'list'> to C:\\Users\\joewa\\Work\\data\\ClassificationExample\\Samples_id_0\\BaseDataset\\dataset.p\n"
     ]
    }
   ],
   "source": [
    "ROI_Sources = [\"C:\\\\Users\\\\joewa\\\\Work\\\\data\\\\beer_t10_simulator_files\"]\n",
    "min_ms1_intensity = 1.75E5\n",
    "rt_range = [(400, 800)]\n",
    "mz_range = [(100, 400)]\n",
    "n_peaks = 20\n",
    "roi_rt_range = [20, 40]\n",
    "chems = ChemicalCreator(ps, ROI_Sources, hmdb)\n",
    "dataset = chems.sample(mz_range, rt_range, min_ms1_intensity, n_peaks, 1, use_database=True, \n",
    "                       fixed_mz=False, roi_rt_range=roi_rt_range)\n",
    "save_obj(dataset, os.path.join(out_dir, 'BaseDataset\\\\dataset.p'))"
   ]
  },
  {
   "cell_type": "code",
   "execution_count": 12,
   "metadata": {},
   "outputs": [
    {
     "name": "stdout",
     "output_type": "stream",
     "text": [
      "32.051000000000045\n",
      "22.715000000000032\n",
      "24.26899999999995\n",
      "33.44999999999999\n",
      "35.210000000000036\n",
      "21.602999999999952\n",
      "22.64700000000002\n",
      "29.434999999999945\n",
      "22.76800000000003\n",
      "38.49699999999996\n",
      "32.27800000000002\n",
      "27.168999999999983\n",
      "24.41500000000002\n",
      "22.350000000000136\n",
      "20.64699999999999\n",
      "30.605000000000018\n",
      "21.514999999999986\n",
      "21.426999999999992\n",
      "38.559000000000026\n",
      "34.17000000000007\n"
     ]
    }
   ],
   "source": [
    "for chem in dataset:\n",
    "    print(np.abs(chem.chromatogram.min_rt - chem.chromatogram.max_rt))"
   ]
  },
  {
   "cell_type": "markdown",
   "metadata": {},
   "source": [
    "# Create Multiple Samples"
   ]
  },
  {
   "cell_type": "code",
   "execution_count": 13,
   "metadata": {},
   "outputs": [],
   "source": [
    "n_samples = [100,100] # number of files per class\n",
    "classes = [\"class%d\" % i for i in range(len(n_samples))] # creates default list of classes\n",
    "intensity_noise_sd = [1000] # noise on max intensity"
   ]
  },
  {
   "cell_type": "code",
   "execution_count": 14,
   "metadata": {},
   "outputs": [
    {
     "data": {
      "text/plain": [
       "['class0', 'class1']"
      ]
     },
     "execution_count": 14,
     "metadata": {},
     "output_type": "execute_result"
    }
   ],
   "source": [
    "classes"
   ]
  },
  {
   "cell_type": "markdown",
   "metadata": {},
   "source": [
    "Add intensity changes between different classes"
   ]
  },
  {
   "cell_type": "code",
   "execution_count": 15,
   "metadata": {},
   "outputs": [],
   "source": [
    "change_probabilities = [0 for i in range(len(n_samples))] # probability of intensity changes between different classes\n",
    "change_differences_means = [0 for i in range(len(n_samples))] # mean of those intensity changes\n",
    "change_differences_sds = [0 for i in range(len(n_samples))] # SD of those intensity changes"
   ]
  },
  {
   "cell_type": "markdown",
   "metadata": {},
   "source": [
    "Add experimental variables (examples in comments)"
   ]
  },
  {
   "cell_type": "code",
   "execution_count": 16,
   "metadata": {},
   "outputs": [],
   "source": [
    "experimental_classes = None # [[\"male\",\"female\"],[\"Positive\",\"Negative\",\"Unknown\"]]\n",
    "experimental_probabilitities = None # [[0.5,0.5],[0.33,0.33,0.34]]\n",
    "experimental_sds = None # [[250],[250]]"
   ]
  },
  {
   "cell_type": "markdown",
   "metadata": {},
   "source": [
    "Dropout chemicals from in different classes"
   ]
  },
  {
   "cell_type": "code",
   "execution_count": 17,
   "metadata": {},
   "outputs": [],
   "source": [
    "#dropout_probability = 0.2\n",
    "#dropout_probabilities = [dropout_probability for i in range(len(n_samples))]\n",
    "dropout_probabilities = None\n",
    "dropout_numbers = 2 # number of chemicals dropped out in each class"
   ]
  },
  {
   "cell_type": "markdown",
   "metadata": {},
   "source": [
    "Set save location"
   ]
  },
  {
   "cell_type": "code",
   "execution_count": 18,
   "metadata": {},
   "outputs": [],
   "source": [
    "save_location = os.path.join(out_dir, 'ChemicalFiles')"
   ]
  },
  {
   "cell_type": "code",
   "execution_count": 19,
   "metadata": {
    "scrolled": true
   },
   "outputs": [
    {
     "name": "stdout",
     "output_type": "stream",
     "text": [
      "Saving <class 'list'> to C:\\Users\\joewa\\Work\\data\\ClassificationExample\\Samples_id_0\\ChemicalFiles\\sample_0.p\n",
      "Saving <class 'list'> to C:\\Users\\joewa\\Work\\data\\ClassificationExample\\Samples_id_0\\ChemicalFiles\\sample_1.p\n",
      "Saving <class 'list'> to C:\\Users\\joewa\\Work\\data\\ClassificationExample\\Samples_id_0\\ChemicalFiles\\sample_2.p\n",
      "Saving <class 'list'> to C:\\Users\\joewa\\Work\\data\\ClassificationExample\\Samples_id_0\\ChemicalFiles\\sample_3.p\n",
      "Saving <class 'list'> to C:\\Users\\joewa\\Work\\data\\ClassificationExample\\Samples_id_0\\ChemicalFiles\\sample_4.p\n",
      "Saving <class 'list'> to C:\\Users\\joewa\\Work\\data\\ClassificationExample\\Samples_id_0\\ChemicalFiles\\sample_5.p\n",
      "Saving <class 'list'> to C:\\Users\\joewa\\Work\\data\\ClassificationExample\\Samples_id_0\\ChemicalFiles\\sample_6.p\n",
      "Saving <class 'list'> to C:\\Users\\joewa\\Work\\data\\ClassificationExample\\Samples_id_0\\ChemicalFiles\\sample_7.p\n",
      "Saving <class 'list'> to C:\\Users\\joewa\\Work\\data\\ClassificationExample\\Samples_id_0\\ChemicalFiles\\sample_8.p\n",
      "Saving <class 'list'> to C:\\Users\\joewa\\Work\\data\\ClassificationExample\\Samples_id_0\\ChemicalFiles\\sample_9.p\n",
      "Saving <class 'list'> to C:\\Users\\joewa\\Work\\data\\ClassificationExample\\Samples_id_0\\ChemicalFiles\\sample_10.p\n",
      "Saving <class 'list'> to C:\\Users\\joewa\\Work\\data\\ClassificationExample\\Samples_id_0\\ChemicalFiles\\sample_11.p\n",
      "Saving <class 'list'> to C:\\Users\\joewa\\Work\\data\\ClassificationExample\\Samples_id_0\\ChemicalFiles\\sample_12.p\n",
      "Saving <class 'list'> to C:\\Users\\joewa\\Work\\data\\ClassificationExample\\Samples_id_0\\ChemicalFiles\\sample_13.p\n",
      "Saving <class 'list'> to C:\\Users\\joewa\\Work\\data\\ClassificationExample\\Samples_id_0\\ChemicalFiles\\sample_14.p\n",
      "Saving <class 'list'> to C:\\Users\\joewa\\Work\\data\\ClassificationExample\\Samples_id_0\\ChemicalFiles\\sample_15.p\n",
      "Saving <class 'list'> to C:\\Users\\joewa\\Work\\data\\ClassificationExample\\Samples_id_0\\ChemicalFiles\\sample_16.p\n",
      "Saving <class 'list'> to C:\\Users\\joewa\\Work\\data\\ClassificationExample\\Samples_id_0\\ChemicalFiles\\sample_17.p\n",
      "Saving <class 'list'> to C:\\Users\\joewa\\Work\\data\\ClassificationExample\\Samples_id_0\\ChemicalFiles\\sample_18.p\n",
      "Saving <class 'list'> to C:\\Users\\joewa\\Work\\data\\ClassificationExample\\Samples_id_0\\ChemicalFiles\\sample_19.p\n",
      "Saving <class 'list'> to C:\\Users\\joewa\\Work\\data\\ClassificationExample\\Samples_id_0\\ChemicalFiles\\sample_20.p\n",
      "Saving <class 'list'> to C:\\Users\\joewa\\Work\\data\\ClassificationExample\\Samples_id_0\\ChemicalFiles\\sample_21.p\n",
      "Saving <class 'list'> to C:\\Users\\joewa\\Work\\data\\ClassificationExample\\Samples_id_0\\ChemicalFiles\\sample_22.p\n",
      "Saving <class 'list'> to C:\\Users\\joewa\\Work\\data\\ClassificationExample\\Samples_id_0\\ChemicalFiles\\sample_23.p\n",
      "Saving <class 'list'> to C:\\Users\\joewa\\Work\\data\\ClassificationExample\\Samples_id_0\\ChemicalFiles\\sample_24.p\n",
      "Saving <class 'list'> to C:\\Users\\joewa\\Work\\data\\ClassificationExample\\Samples_id_0\\ChemicalFiles\\sample_25.p\n",
      "Saving <class 'list'> to C:\\Users\\joewa\\Work\\data\\ClassificationExample\\Samples_id_0\\ChemicalFiles\\sample_26.p\n",
      "Saving <class 'list'> to C:\\Users\\joewa\\Work\\data\\ClassificationExample\\Samples_id_0\\ChemicalFiles\\sample_27.p\n",
      "Saving <class 'list'> to C:\\Users\\joewa\\Work\\data\\ClassificationExample\\Samples_id_0\\ChemicalFiles\\sample_28.p\n",
      "Saving <class 'list'> to C:\\Users\\joewa\\Work\\data\\ClassificationExample\\Samples_id_0\\ChemicalFiles\\sample_29.p\n",
      "Saving <class 'list'> to C:\\Users\\joewa\\Work\\data\\ClassificationExample\\Samples_id_0\\ChemicalFiles\\sample_30.p\n",
      "Saving <class 'list'> to C:\\Users\\joewa\\Work\\data\\ClassificationExample\\Samples_id_0\\ChemicalFiles\\sample_31.p\n",
      "Saving <class 'list'> to C:\\Users\\joewa\\Work\\data\\ClassificationExample\\Samples_id_0\\ChemicalFiles\\sample_32.p\n",
      "Saving <class 'list'> to C:\\Users\\joewa\\Work\\data\\ClassificationExample\\Samples_id_0\\ChemicalFiles\\sample_33.p\n",
      "Saving <class 'list'> to C:\\Users\\joewa\\Work\\data\\ClassificationExample\\Samples_id_0\\ChemicalFiles\\sample_34.p\n",
      "Saving <class 'list'> to C:\\Users\\joewa\\Work\\data\\ClassificationExample\\Samples_id_0\\ChemicalFiles\\sample_35.p\n",
      "Saving <class 'list'> to C:\\Users\\joewa\\Work\\data\\ClassificationExample\\Samples_id_0\\ChemicalFiles\\sample_36.p\n",
      "Saving <class 'list'> to C:\\Users\\joewa\\Work\\data\\ClassificationExample\\Samples_id_0\\ChemicalFiles\\sample_37.p\n",
      "Saving <class 'list'> to C:\\Users\\joewa\\Work\\data\\ClassificationExample\\Samples_id_0\\ChemicalFiles\\sample_38.p\n",
      "Saving <class 'list'> to C:\\Users\\joewa\\Work\\data\\ClassificationExample\\Samples_id_0\\ChemicalFiles\\sample_39.p\n",
      "Saving <class 'list'> to C:\\Users\\joewa\\Work\\data\\ClassificationExample\\Samples_id_0\\ChemicalFiles\\sample_40.p\n",
      "Saving <class 'list'> to C:\\Users\\joewa\\Work\\data\\ClassificationExample\\Samples_id_0\\ChemicalFiles\\sample_41.p\n",
      "Saving <class 'list'> to C:\\Users\\joewa\\Work\\data\\ClassificationExample\\Samples_id_0\\ChemicalFiles\\sample_42.p\n",
      "Saving <class 'list'> to C:\\Users\\joewa\\Work\\data\\ClassificationExample\\Samples_id_0\\ChemicalFiles\\sample_43.p\n",
      "Saving <class 'list'> to C:\\Users\\joewa\\Work\\data\\ClassificationExample\\Samples_id_0\\ChemicalFiles\\sample_44.p\n",
      "Saving <class 'list'> to C:\\Users\\joewa\\Work\\data\\ClassificationExample\\Samples_id_0\\ChemicalFiles\\sample_45.p\n",
      "Saving <class 'list'> to C:\\Users\\joewa\\Work\\data\\ClassificationExample\\Samples_id_0\\ChemicalFiles\\sample_46.p\n",
      "Saving <class 'list'> to C:\\Users\\joewa\\Work\\data\\ClassificationExample\\Samples_id_0\\ChemicalFiles\\sample_47.p\n",
      "Saving <class 'list'> to C:\\Users\\joewa\\Work\\data\\ClassificationExample\\Samples_id_0\\ChemicalFiles\\sample_48.p\n",
      "Saving <class 'list'> to C:\\Users\\joewa\\Work\\data\\ClassificationExample\\Samples_id_0\\ChemicalFiles\\sample_49.p\n",
      "Saving <class 'list'> to C:\\Users\\joewa\\Work\\data\\ClassificationExample\\Samples_id_0\\ChemicalFiles\\sample_50.p\n",
      "Saving <class 'list'> to C:\\Users\\joewa\\Work\\data\\ClassificationExample\\Samples_id_0\\ChemicalFiles\\sample_51.p\n",
      "Saving <class 'list'> to C:\\Users\\joewa\\Work\\data\\ClassificationExample\\Samples_id_0\\ChemicalFiles\\sample_52.p\n",
      "Saving <class 'list'> to C:\\Users\\joewa\\Work\\data\\ClassificationExample\\Samples_id_0\\ChemicalFiles\\sample_53.p\n",
      "Saving <class 'list'> to C:\\Users\\joewa\\Work\\data\\ClassificationExample\\Samples_id_0\\ChemicalFiles\\sample_54.p\n",
      "Saving <class 'list'> to C:\\Users\\joewa\\Work\\data\\ClassificationExample\\Samples_id_0\\ChemicalFiles\\sample_55.p\n",
      "Saving <class 'list'> to C:\\Users\\joewa\\Work\\data\\ClassificationExample\\Samples_id_0\\ChemicalFiles\\sample_56.p\n",
      "Saving <class 'list'> to C:\\Users\\joewa\\Work\\data\\ClassificationExample\\Samples_id_0\\ChemicalFiles\\sample_57.p\n",
      "Saving <class 'list'> to C:\\Users\\joewa\\Work\\data\\ClassificationExample\\Samples_id_0\\ChemicalFiles\\sample_58.p\n",
      "Saving <class 'list'> to C:\\Users\\joewa\\Work\\data\\ClassificationExample\\Samples_id_0\\ChemicalFiles\\sample_59.p\n",
      "Saving <class 'list'> to C:\\Users\\joewa\\Work\\data\\ClassificationExample\\Samples_id_0\\ChemicalFiles\\sample_60.p\n",
      "Saving <class 'list'> to C:\\Users\\joewa\\Work\\data\\ClassificationExample\\Samples_id_0\\ChemicalFiles\\sample_61.p\n",
      "Saving <class 'list'> to C:\\Users\\joewa\\Work\\data\\ClassificationExample\\Samples_id_0\\ChemicalFiles\\sample_62.p\n",
      "Saving <class 'list'> to C:\\Users\\joewa\\Work\\data\\ClassificationExample\\Samples_id_0\\ChemicalFiles\\sample_63.p\n",
      "Saving <class 'list'> to C:\\Users\\joewa\\Work\\data\\ClassificationExample\\Samples_id_0\\ChemicalFiles\\sample_64.p\n",
      "Saving <class 'list'> to C:\\Users\\joewa\\Work\\data\\ClassificationExample\\Samples_id_0\\ChemicalFiles\\sample_65.p\n",
      "Saving <class 'list'> to C:\\Users\\joewa\\Work\\data\\ClassificationExample\\Samples_id_0\\ChemicalFiles\\sample_66.p\n",
      "Saving <class 'list'> to C:\\Users\\joewa\\Work\\data\\ClassificationExample\\Samples_id_0\\ChemicalFiles\\sample_67.p\n",
      "Saving <class 'list'> to C:\\Users\\joewa\\Work\\data\\ClassificationExample\\Samples_id_0\\ChemicalFiles\\sample_68.p\n",
      "Saving <class 'list'> to C:\\Users\\joewa\\Work\\data\\ClassificationExample\\Samples_id_0\\ChemicalFiles\\sample_69.p\n",
      "Saving <class 'list'> to C:\\Users\\joewa\\Work\\data\\ClassificationExample\\Samples_id_0\\ChemicalFiles\\sample_70.p\n",
      "Saving <class 'list'> to C:\\Users\\joewa\\Work\\data\\ClassificationExample\\Samples_id_0\\ChemicalFiles\\sample_71.p\n",
      "Saving <class 'list'> to C:\\Users\\joewa\\Work\\data\\ClassificationExample\\Samples_id_0\\ChemicalFiles\\sample_72.p\n"
     ]
    },
    {
     "name": "stdout",
     "output_type": "stream",
     "text": [
      "Saving <class 'list'> to C:\\Users\\joewa\\Work\\data\\ClassificationExample\\Samples_id_0\\ChemicalFiles\\sample_73.p\n",
      "Saving <class 'list'> to C:\\Users\\joewa\\Work\\data\\ClassificationExample\\Samples_id_0\\ChemicalFiles\\sample_74.p\n",
      "Saving <class 'list'> to C:\\Users\\joewa\\Work\\data\\ClassificationExample\\Samples_id_0\\ChemicalFiles\\sample_75.p\n",
      "Saving <class 'list'> to C:\\Users\\joewa\\Work\\data\\ClassificationExample\\Samples_id_0\\ChemicalFiles\\sample_76.p\n",
      "Saving <class 'list'> to C:\\Users\\joewa\\Work\\data\\ClassificationExample\\Samples_id_0\\ChemicalFiles\\sample_77.p\n",
      "Saving <class 'list'> to C:\\Users\\joewa\\Work\\data\\ClassificationExample\\Samples_id_0\\ChemicalFiles\\sample_78.p\n",
      "Saving <class 'list'> to C:\\Users\\joewa\\Work\\data\\ClassificationExample\\Samples_id_0\\ChemicalFiles\\sample_79.p\n",
      "Saving <class 'list'> to C:\\Users\\joewa\\Work\\data\\ClassificationExample\\Samples_id_0\\ChemicalFiles\\sample_80.p\n",
      "Saving <class 'list'> to C:\\Users\\joewa\\Work\\data\\ClassificationExample\\Samples_id_0\\ChemicalFiles\\sample_81.p\n",
      "Saving <class 'list'> to C:\\Users\\joewa\\Work\\data\\ClassificationExample\\Samples_id_0\\ChemicalFiles\\sample_82.p\n",
      "Saving <class 'list'> to C:\\Users\\joewa\\Work\\data\\ClassificationExample\\Samples_id_0\\ChemicalFiles\\sample_83.p\n",
      "Saving <class 'list'> to C:\\Users\\joewa\\Work\\data\\ClassificationExample\\Samples_id_0\\ChemicalFiles\\sample_84.p\n",
      "Saving <class 'list'> to C:\\Users\\joewa\\Work\\data\\ClassificationExample\\Samples_id_0\\ChemicalFiles\\sample_85.p\n",
      "Saving <class 'list'> to C:\\Users\\joewa\\Work\\data\\ClassificationExample\\Samples_id_0\\ChemicalFiles\\sample_86.p\n",
      "Saving <class 'list'> to C:\\Users\\joewa\\Work\\data\\ClassificationExample\\Samples_id_0\\ChemicalFiles\\sample_87.p\n",
      "Saving <class 'list'> to C:\\Users\\joewa\\Work\\data\\ClassificationExample\\Samples_id_0\\ChemicalFiles\\sample_88.p\n",
      "Saving <class 'list'> to C:\\Users\\joewa\\Work\\data\\ClassificationExample\\Samples_id_0\\ChemicalFiles\\sample_89.p\n",
      "Saving <class 'list'> to C:\\Users\\joewa\\Work\\data\\ClassificationExample\\Samples_id_0\\ChemicalFiles\\sample_90.p\n",
      "Saving <class 'list'> to C:\\Users\\joewa\\Work\\data\\ClassificationExample\\Samples_id_0\\ChemicalFiles\\sample_91.p\n",
      "Saving <class 'list'> to C:\\Users\\joewa\\Work\\data\\ClassificationExample\\Samples_id_0\\ChemicalFiles\\sample_92.p\n",
      "Saving <class 'list'> to C:\\Users\\joewa\\Work\\data\\ClassificationExample\\Samples_id_0\\ChemicalFiles\\sample_93.p\n",
      "Saving <class 'list'> to C:\\Users\\joewa\\Work\\data\\ClassificationExample\\Samples_id_0\\ChemicalFiles\\sample_94.p\n",
      "Saving <class 'list'> to C:\\Users\\joewa\\Work\\data\\ClassificationExample\\Samples_id_0\\ChemicalFiles\\sample_95.p\n",
      "Saving <class 'list'> to C:\\Users\\joewa\\Work\\data\\ClassificationExample\\Samples_id_0\\ChemicalFiles\\sample_96.p\n",
      "Saving <class 'list'> to C:\\Users\\joewa\\Work\\data\\ClassificationExample\\Samples_id_0\\ChemicalFiles\\sample_97.p\n",
      "Saving <class 'list'> to C:\\Users\\joewa\\Work\\data\\ClassificationExample\\Samples_id_0\\ChemicalFiles\\sample_98.p\n",
      "Saving <class 'list'> to C:\\Users\\joewa\\Work\\data\\ClassificationExample\\Samples_id_0\\ChemicalFiles\\sample_99.p\n",
      "Saving <class 'list'> to C:\\Users\\joewa\\Work\\data\\ClassificationExample\\Samples_id_0\\ChemicalFiles\\sample_100.p\n",
      "Saving <class 'list'> to C:\\Users\\joewa\\Work\\data\\ClassificationExample\\Samples_id_0\\ChemicalFiles\\sample_101.p\n",
      "Saving <class 'list'> to C:\\Users\\joewa\\Work\\data\\ClassificationExample\\Samples_id_0\\ChemicalFiles\\sample_102.p\n",
      "Saving <class 'list'> to C:\\Users\\joewa\\Work\\data\\ClassificationExample\\Samples_id_0\\ChemicalFiles\\sample_103.p\n",
      "Saving <class 'list'> to C:\\Users\\joewa\\Work\\data\\ClassificationExample\\Samples_id_0\\ChemicalFiles\\sample_104.p\n",
      "Saving <class 'list'> to C:\\Users\\joewa\\Work\\data\\ClassificationExample\\Samples_id_0\\ChemicalFiles\\sample_105.p\n",
      "Saving <class 'list'> to C:\\Users\\joewa\\Work\\data\\ClassificationExample\\Samples_id_0\\ChemicalFiles\\sample_106.p\n",
      "Saving <class 'list'> to C:\\Users\\joewa\\Work\\data\\ClassificationExample\\Samples_id_0\\ChemicalFiles\\sample_107.p\n",
      "Saving <class 'list'> to C:\\Users\\joewa\\Work\\data\\ClassificationExample\\Samples_id_0\\ChemicalFiles\\sample_108.p\n",
      "Saving <class 'list'> to C:\\Users\\joewa\\Work\\data\\ClassificationExample\\Samples_id_0\\ChemicalFiles\\sample_109.p\n",
      "Saving <class 'list'> to C:\\Users\\joewa\\Work\\data\\ClassificationExample\\Samples_id_0\\ChemicalFiles\\sample_110.p\n",
      "Saving <class 'list'> to C:\\Users\\joewa\\Work\\data\\ClassificationExample\\Samples_id_0\\ChemicalFiles\\sample_111.p\n",
      "Saving <class 'list'> to C:\\Users\\joewa\\Work\\data\\ClassificationExample\\Samples_id_0\\ChemicalFiles\\sample_112.p\n",
      "Saving <class 'list'> to C:\\Users\\joewa\\Work\\data\\ClassificationExample\\Samples_id_0\\ChemicalFiles\\sample_113.p\n",
      "Saving <class 'list'> to C:\\Users\\joewa\\Work\\data\\ClassificationExample\\Samples_id_0\\ChemicalFiles\\sample_114.p\n",
      "Saving <class 'list'> to C:\\Users\\joewa\\Work\\data\\ClassificationExample\\Samples_id_0\\ChemicalFiles\\sample_115.p\n",
      "Saving <class 'list'> to C:\\Users\\joewa\\Work\\data\\ClassificationExample\\Samples_id_0\\ChemicalFiles\\sample_116.p\n",
      "Saving <class 'list'> to C:\\Users\\joewa\\Work\\data\\ClassificationExample\\Samples_id_0\\ChemicalFiles\\sample_117.p\n",
      "Saving <class 'list'> to C:\\Users\\joewa\\Work\\data\\ClassificationExample\\Samples_id_0\\ChemicalFiles\\sample_118.p\n",
      "Saving <class 'list'> to C:\\Users\\joewa\\Work\\data\\ClassificationExample\\Samples_id_0\\ChemicalFiles\\sample_119.p\n",
      "Saving <class 'list'> to C:\\Users\\joewa\\Work\\data\\ClassificationExample\\Samples_id_0\\ChemicalFiles\\sample_120.p\n",
      "Saving <class 'list'> to C:\\Users\\joewa\\Work\\data\\ClassificationExample\\Samples_id_0\\ChemicalFiles\\sample_121.p\n",
      "Saving <class 'list'> to C:\\Users\\joewa\\Work\\data\\ClassificationExample\\Samples_id_0\\ChemicalFiles\\sample_122.p\n",
      "Saving <class 'list'> to C:\\Users\\joewa\\Work\\data\\ClassificationExample\\Samples_id_0\\ChemicalFiles\\sample_123.p\n",
      "Saving <class 'list'> to C:\\Users\\joewa\\Work\\data\\ClassificationExample\\Samples_id_0\\ChemicalFiles\\sample_124.p\n",
      "Saving <class 'list'> to C:\\Users\\joewa\\Work\\data\\ClassificationExample\\Samples_id_0\\ChemicalFiles\\sample_125.p\n",
      "Saving <class 'list'> to C:\\Users\\joewa\\Work\\data\\ClassificationExample\\Samples_id_0\\ChemicalFiles\\sample_126.p\n",
      "Saving <class 'list'> to C:\\Users\\joewa\\Work\\data\\ClassificationExample\\Samples_id_0\\ChemicalFiles\\sample_127.p\n",
      "Saving <class 'list'> to C:\\Users\\joewa\\Work\\data\\ClassificationExample\\Samples_id_0\\ChemicalFiles\\sample_128.p\n",
      "Saving <class 'list'> to C:\\Users\\joewa\\Work\\data\\ClassificationExample\\Samples_id_0\\ChemicalFiles\\sample_129.p\n",
      "Saving <class 'list'> to C:\\Users\\joewa\\Work\\data\\ClassificationExample\\Samples_id_0\\ChemicalFiles\\sample_130.p\n",
      "Saving <class 'list'> to C:\\Users\\joewa\\Work\\data\\ClassificationExample\\Samples_id_0\\ChemicalFiles\\sample_131.p\n",
      "Saving <class 'list'> to C:\\Users\\joewa\\Work\\data\\ClassificationExample\\Samples_id_0\\ChemicalFiles\\sample_132.p\n",
      "Saving <class 'list'> to C:\\Users\\joewa\\Work\\data\\ClassificationExample\\Samples_id_0\\ChemicalFiles\\sample_133.p\n",
      "Saving <class 'list'> to C:\\Users\\joewa\\Work\\data\\ClassificationExample\\Samples_id_0\\ChemicalFiles\\sample_134.p\n",
      "Saving <class 'list'> to C:\\Users\\joewa\\Work\\data\\ClassificationExample\\Samples_id_0\\ChemicalFiles\\sample_135.p\n",
      "Saving <class 'list'> to C:\\Users\\joewa\\Work\\data\\ClassificationExample\\Samples_id_0\\ChemicalFiles\\sample_136.p\n",
      "Saving <class 'list'> to C:\\Users\\joewa\\Work\\data\\ClassificationExample\\Samples_id_0\\ChemicalFiles\\sample_137.p\n",
      "Saving <class 'list'> to C:\\Users\\joewa\\Work\\data\\ClassificationExample\\Samples_id_0\\ChemicalFiles\\sample_138.p\n",
      "Saving <class 'list'> to C:\\Users\\joewa\\Work\\data\\ClassificationExample\\Samples_id_0\\ChemicalFiles\\sample_139.p\n",
      "Saving <class 'list'> to C:\\Users\\joewa\\Work\\data\\ClassificationExample\\Samples_id_0\\ChemicalFiles\\sample_140.p\n",
      "Saving <class 'list'> to C:\\Users\\joewa\\Work\\data\\ClassificationExample\\Samples_id_0\\ChemicalFiles\\sample_141.p\n",
      "Saving <class 'list'> to C:\\Users\\joewa\\Work\\data\\ClassificationExample\\Samples_id_0\\ChemicalFiles\\sample_142.p\n",
      "Saving <class 'list'> to C:\\Users\\joewa\\Work\\data\\ClassificationExample\\Samples_id_0\\ChemicalFiles\\sample_143.p\n",
      "Saving <class 'list'> to C:\\Users\\joewa\\Work\\data\\ClassificationExample\\Samples_id_0\\ChemicalFiles\\sample_144.p\n",
      "Saving <class 'list'> to C:\\Users\\joewa\\Work\\data\\ClassificationExample\\Samples_id_0\\ChemicalFiles\\sample_145.p\n"
     ]
    },
    {
     "name": "stdout",
     "output_type": "stream",
     "text": [
      "Saving <class 'list'> to C:\\Users\\joewa\\Work\\data\\ClassificationExample\\Samples_id_0\\ChemicalFiles\\sample_146.p\n",
      "Saving <class 'list'> to C:\\Users\\joewa\\Work\\data\\ClassificationExample\\Samples_id_0\\ChemicalFiles\\sample_147.p\n",
      "Saving <class 'list'> to C:\\Users\\joewa\\Work\\data\\ClassificationExample\\Samples_id_0\\ChemicalFiles\\sample_148.p\n",
      "Saving <class 'list'> to C:\\Users\\joewa\\Work\\data\\ClassificationExample\\Samples_id_0\\ChemicalFiles\\sample_149.p\n",
      "Saving <class 'list'> to C:\\Users\\joewa\\Work\\data\\ClassificationExample\\Samples_id_0\\ChemicalFiles\\sample_150.p\n",
      "Saving <class 'list'> to C:\\Users\\joewa\\Work\\data\\ClassificationExample\\Samples_id_0\\ChemicalFiles\\sample_151.p\n",
      "Saving <class 'list'> to C:\\Users\\joewa\\Work\\data\\ClassificationExample\\Samples_id_0\\ChemicalFiles\\sample_152.p\n",
      "Saving <class 'list'> to C:\\Users\\joewa\\Work\\data\\ClassificationExample\\Samples_id_0\\ChemicalFiles\\sample_153.p\n",
      "Saving <class 'list'> to C:\\Users\\joewa\\Work\\data\\ClassificationExample\\Samples_id_0\\ChemicalFiles\\sample_154.p\n",
      "Saving <class 'list'> to C:\\Users\\joewa\\Work\\data\\ClassificationExample\\Samples_id_0\\ChemicalFiles\\sample_155.p\n",
      "Saving <class 'list'> to C:\\Users\\joewa\\Work\\data\\ClassificationExample\\Samples_id_0\\ChemicalFiles\\sample_156.p\n",
      "Saving <class 'list'> to C:\\Users\\joewa\\Work\\data\\ClassificationExample\\Samples_id_0\\ChemicalFiles\\sample_157.p\n",
      "Saving <class 'list'> to C:\\Users\\joewa\\Work\\data\\ClassificationExample\\Samples_id_0\\ChemicalFiles\\sample_158.p\n",
      "Saving <class 'list'> to C:\\Users\\joewa\\Work\\data\\ClassificationExample\\Samples_id_0\\ChemicalFiles\\sample_159.p\n",
      "Saving <class 'list'> to C:\\Users\\joewa\\Work\\data\\ClassificationExample\\Samples_id_0\\ChemicalFiles\\sample_160.p\n",
      "Saving <class 'list'> to C:\\Users\\joewa\\Work\\data\\ClassificationExample\\Samples_id_0\\ChemicalFiles\\sample_161.p\n",
      "Saving <class 'list'> to C:\\Users\\joewa\\Work\\data\\ClassificationExample\\Samples_id_0\\ChemicalFiles\\sample_162.p\n",
      "Saving <class 'list'> to C:\\Users\\joewa\\Work\\data\\ClassificationExample\\Samples_id_0\\ChemicalFiles\\sample_163.p\n",
      "Saving <class 'list'> to C:\\Users\\joewa\\Work\\data\\ClassificationExample\\Samples_id_0\\ChemicalFiles\\sample_164.p\n",
      "Saving <class 'list'> to C:\\Users\\joewa\\Work\\data\\ClassificationExample\\Samples_id_0\\ChemicalFiles\\sample_165.p\n",
      "Saving <class 'list'> to C:\\Users\\joewa\\Work\\data\\ClassificationExample\\Samples_id_0\\ChemicalFiles\\sample_166.p\n",
      "Saving <class 'list'> to C:\\Users\\joewa\\Work\\data\\ClassificationExample\\Samples_id_0\\ChemicalFiles\\sample_167.p\n",
      "Saving <class 'list'> to C:\\Users\\joewa\\Work\\data\\ClassificationExample\\Samples_id_0\\ChemicalFiles\\sample_168.p\n",
      "Saving <class 'list'> to C:\\Users\\joewa\\Work\\data\\ClassificationExample\\Samples_id_0\\ChemicalFiles\\sample_169.p\n",
      "Saving <class 'list'> to C:\\Users\\joewa\\Work\\data\\ClassificationExample\\Samples_id_0\\ChemicalFiles\\sample_170.p\n",
      "Saving <class 'list'> to C:\\Users\\joewa\\Work\\data\\ClassificationExample\\Samples_id_0\\ChemicalFiles\\sample_171.p\n",
      "Saving <class 'list'> to C:\\Users\\joewa\\Work\\data\\ClassificationExample\\Samples_id_0\\ChemicalFiles\\sample_172.p\n",
      "Saving <class 'list'> to C:\\Users\\joewa\\Work\\data\\ClassificationExample\\Samples_id_0\\ChemicalFiles\\sample_173.p\n",
      "Saving <class 'list'> to C:\\Users\\joewa\\Work\\data\\ClassificationExample\\Samples_id_0\\ChemicalFiles\\sample_174.p\n",
      "Saving <class 'list'> to C:\\Users\\joewa\\Work\\data\\ClassificationExample\\Samples_id_0\\ChemicalFiles\\sample_175.p\n",
      "Saving <class 'list'> to C:\\Users\\joewa\\Work\\data\\ClassificationExample\\Samples_id_0\\ChemicalFiles\\sample_176.p\n",
      "Saving <class 'list'> to C:\\Users\\joewa\\Work\\data\\ClassificationExample\\Samples_id_0\\ChemicalFiles\\sample_177.p\n",
      "Saving <class 'list'> to C:\\Users\\joewa\\Work\\data\\ClassificationExample\\Samples_id_0\\ChemicalFiles\\sample_178.p\n",
      "Saving <class 'list'> to C:\\Users\\joewa\\Work\\data\\ClassificationExample\\Samples_id_0\\ChemicalFiles\\sample_179.p\n",
      "Saving <class 'list'> to C:\\Users\\joewa\\Work\\data\\ClassificationExample\\Samples_id_0\\ChemicalFiles\\sample_180.p\n",
      "Saving <class 'list'> to C:\\Users\\joewa\\Work\\data\\ClassificationExample\\Samples_id_0\\ChemicalFiles\\sample_181.p\n",
      "Saving <class 'list'> to C:\\Users\\joewa\\Work\\data\\ClassificationExample\\Samples_id_0\\ChemicalFiles\\sample_182.p\n",
      "Saving <class 'list'> to C:\\Users\\joewa\\Work\\data\\ClassificationExample\\Samples_id_0\\ChemicalFiles\\sample_183.p\n",
      "Saving <class 'list'> to C:\\Users\\joewa\\Work\\data\\ClassificationExample\\Samples_id_0\\ChemicalFiles\\sample_184.p\n",
      "Saving <class 'list'> to C:\\Users\\joewa\\Work\\data\\ClassificationExample\\Samples_id_0\\ChemicalFiles\\sample_185.p\n",
      "Saving <class 'list'> to C:\\Users\\joewa\\Work\\data\\ClassificationExample\\Samples_id_0\\ChemicalFiles\\sample_186.p\n",
      "Saving <class 'list'> to C:\\Users\\joewa\\Work\\data\\ClassificationExample\\Samples_id_0\\ChemicalFiles\\sample_187.p\n",
      "Saving <class 'list'> to C:\\Users\\joewa\\Work\\data\\ClassificationExample\\Samples_id_0\\ChemicalFiles\\sample_188.p\n",
      "Saving <class 'list'> to C:\\Users\\joewa\\Work\\data\\ClassificationExample\\Samples_id_0\\ChemicalFiles\\sample_189.p\n",
      "Saving <class 'list'> to C:\\Users\\joewa\\Work\\data\\ClassificationExample\\Samples_id_0\\ChemicalFiles\\sample_190.p\n",
      "Saving <class 'list'> to C:\\Users\\joewa\\Work\\data\\ClassificationExample\\Samples_id_0\\ChemicalFiles\\sample_191.p\n",
      "Saving <class 'list'> to C:\\Users\\joewa\\Work\\data\\ClassificationExample\\Samples_id_0\\ChemicalFiles\\sample_192.p\n",
      "Saving <class 'list'> to C:\\Users\\joewa\\Work\\data\\ClassificationExample\\Samples_id_0\\ChemicalFiles\\sample_193.p\n",
      "Saving <class 'list'> to C:\\Users\\joewa\\Work\\data\\ClassificationExample\\Samples_id_0\\ChemicalFiles\\sample_194.p\n",
      "Saving <class 'list'> to C:\\Users\\joewa\\Work\\data\\ClassificationExample\\Samples_id_0\\ChemicalFiles\\sample_195.p\n",
      "Saving <class 'list'> to C:\\Users\\joewa\\Work\\data\\ClassificationExample\\Samples_id_0\\ChemicalFiles\\sample_196.p\n",
      "Saving <class 'list'> to C:\\Users\\joewa\\Work\\data\\ClassificationExample\\Samples_id_0\\ChemicalFiles\\sample_197.p\n",
      "Saving <class 'list'> to C:\\Users\\joewa\\Work\\data\\ClassificationExample\\Samples_id_0\\ChemicalFiles\\sample_198.p\n",
      "Saving <class 'list'> to C:\\Users\\joewa\\Work\\data\\ClassificationExample\\Samples_id_0\\ChemicalFiles\\sample_199.p\n"
     ]
    }
   ],
   "source": [
    "multiple_samples = MultiSampleCreator(dataset, n_samples, classes, intensity_noise_sd, \n",
    "                                      change_probabilities, change_differences_means, change_differences_sds, dropout_probabilities, dropout_numbers,\n",
    "                                     experimental_classes, experimental_probabilitities, experimental_sds, save_location=save_location)"
   ]
  },
  {
   "cell_type": "code",
   "execution_count": 20,
   "metadata": {},
   "outputs": [
    {
     "data": {
      "text/plain": [
       "200"
      ]
     },
     "execution_count": 20,
     "metadata": {},
     "output_type": "execute_result"
    }
   ],
   "source": [
    "total_samples = np.sum(multiple_samples.n_samples)\n",
    "total_samples"
   ]
  },
  {
   "cell_type": "code",
   "execution_count": 21,
   "metadata": {},
   "outputs": [
    {
     "name": "stdout",
     "output_type": "stream",
     "text": [
      "Saving <class 'list'> to C:\\Users\\joewa\\Work\\data\\ClassificationExample\\Samples_id_0\\MissingChemicals\\missing_chemicals.p\n"
     ]
    },
    {
     "data": {
      "text/plain": [
       "[[KnownChemical - 'C16H10O6' rt=685.61 max_intensity=1411718.01,\n",
       "  KnownChemical - 'C18H23N' rt=738.45 max_intensity=2400181.30],\n",
       " [KnownChemical - 'C21H41NO3' rt=430.16 max_intensity=638353.95,\n",
       "  KnownChemical - 'C16H25NO9' rt=621.53 max_intensity=610869.91]]"
      ]
     },
     "execution_count": 21,
     "metadata": {},
     "output_type": "execute_result"
    }
   ],
   "source": [
    "save_obj(multiple_samples.missing_chemicals, os.path.join(out_dir, 'MissingChemicals\\\\missing_chemicals.p'))\n",
    "multiple_samples.missing_chemicals"
   ]
  },
  {
   "cell_type": "markdown",
   "metadata": {},
   "source": [
    "Run MS1 controller and save out .mzML files"
   ]
  },
  {
   "cell_type": "code",
   "execution_count": 22,
   "metadata": {},
   "outputs": [
    {
     "name": "stderr",
     "output_type": "stream",
     "text": [
      "400.82744999999795it [00:00, 1545.79it/s]                                                                                                                                                               \n",
      "401.1680200000021it [00:00, 1416.32it/s]                                                                                                                                                                \n",
      "400.90823099999943it [00:00, 1499.74it/s]                                                                                                                                                               \n",
      "400.7406200000004it [00:00, 1445.20it/s]                                                                                                                                                                \n",
      "401.07282it [00:00, 1546.52it/s]                                                                                                                                                                        \n",
      "400.13841299999945it [00:00, 1458.95it/s]                                                                                                                                                               \n",
      "400.03835000000026it [00:00, 1463.89it/s]                                                                                                                                                               \n",
      "400.6820899999992it [00:00, 1409.50it/s]                                                                                                                                                                \n",
      "400.6012299999992it [00:00, 1538.84it/s]                                                                                                                                                                \n",
      "400.53761299999917it [00:00, 1315.05it/s]                                                                                                                                                               \n",
      "400.14792999999986it [00:00, 1542.95it/s]                                                                                                                                                               \n",
      "400.9768200000009it [00:00, 1429.39it/s]                                                                                                                                                                \n",
      "401.398899999999it [00:00, 1474.08it/s]                                                                                                                                                                 \n",
      "400.4528340000006it [00:00, 1454.57it/s]                                                                                                                                                                \n",
      "401.11366899999973it [00:00, 1484.08it/s]                                                                                                                                                               \n",
      "400.1935200000014it [00:00, 1369.69it/s]                                                                                                                                                                \n",
      "400.7739769999994it [00:00, 1488.31it/s]                                                                                                                                                                \n",
      "400.78984000000037it [00:00, 1445.31it/s]                                                                                                                                                               \n",
      "400.2983599999993it [00:00, 1475.63it/s]                                                                                                                                                                \n",
      "400.3553800000017it [00:00, 1418.23it/s]                                                                                                                                                                \n",
      "400.1350470000018it [00:00, 1491.29it/s]                                                                                                                                                                \n",
      "401.0272300000015it [00:00, 1410.85it/s]                                                                                                                                                                \n",
      "400.5279499999999it [00:00, 1526.82it/s]                                                                                                                                                                \n",
      "400.5604999999997it [00:00, 1439.33it/s]                                                                                                                                                                \n",
      "400.2280000000003it [00:00, 1459.46it/s]                                                                                                                                                                \n",
      "401.0849699999992it [00:00, 1425.84it/s]                                                                                                                                                                \n",
      "401.158340000001it [00:00, 1523.46it/s]                                                                                                                                                                 \n",
      "400.68190000000095it [00:00, 1409.66it/s]                                                                                                                                                               \n",
      "400.4323800000029it [00:00, 1492.35it/s]                                                                                                                                                                \n",
      "401.154640000001it [00:00, 1489.55it/s]                                                                                                                                                                 \n",
      "400.8842500000002it [00:00, 1395.88it/s]                                                                                                                                                                \n",
      "401.1320300000009it [00:00, 1523.32it/s]                                                                                                                                                                \n",
      "400.51417000000026it [00:00, 1423.85it/s]                                                                                                                                                               \n",
      "400.75639999999964it [00:00, 1493.60it/s]                                                                                                                                                               \n",
      "400.9385800000008it [00:00, 1430.48it/s]                                                                                                                                                                \n",
      "401.1997899999999it [00:00, 1541.07it/s]                                                                                                                                                                \n",
      "400.87177999999983it [00:00, 1405.23it/s]                                                                                                                                                               \n",
      "400.8346700000011it [00:00, 1527.86it/s]                                                                                                                                                                \n",
      "400.39183it [00:00, 1520.50it/s]                                                                                                                                                                        \n",
      "400.90287000000023it [00:00, 1425.35it/s]                                                                                                                                                               \n"
     ]
    },
    {
     "name": "stderr",
     "output_type": "stream",
     "text": [
      "401.214779999999it [00:00, 1452.30it/s]                                                                                                                                                                 \n",
      "400.69996999999944it [00:00, 1434.74it/s]                                                                                                                                                               \n",
      "400.8868000000001it [00:00, 1430.47it/s]                                                                                                                                                                \n",
      "400.8785300000012it [00:00, 1466.96it/s]                                                                                                                                                                \n",
      "401.25743700000066it [00:00, 1416.75it/s]                                                                                                                                                               \n",
      "400.732443it [00:00, 1521.77it/s]                                                                                                                                                                       \n",
      "400.97320000000104it [00:00, 1395.98it/s]                                                                                                                                                               \n",
      "400.81729000000075it [00:00, 1493.81it/s]                                                                                                                                                               \n",
      "400.96700000000044it [00:00, 1395.81it/s]                                                                                                                                                               \n",
      "400.81158999999934it [00:00, 1466.73it/s]                                                                                                                                                               \n",
      "400.8212880000008it [00:00, 1410.20it/s]                                                                                                                                                                \n",
      "400.22915000000125it [00:00, 774.43it/s]                                                                                                                                                                \n",
      "400.0304500000004it [00:00, 1302.28it/s]                                                                                                                                                                \n",
      "400.57628it [00:00, 1389.77it/s]                                                                                                                                                                        \n",
      "400.64359999999897it [00:00, 1287.55it/s]                                                                                                                                                               \n",
      "401.23474499999975it [00:00, 1341.03it/s]                                                                                                                                                               \n",
      "400.50137999999913it [00:00, 1454.96it/s]                                                                                                                                                               \n",
      "400.98787000000016it [00:00, 1351.29it/s]                                                                                                                                                               \n",
      "401.0810800000007it [00:00, 1473.12it/s]                                                                                                                                                                \n",
      "401.1521800000014it [00:00, 1396.65it/s]                                                                                                                                                                \n",
      "400.2636499999992it [00:00, 1443.59it/s]                                                                                                                                                                \n",
      "400.7202it [00:00, 1460.90it/s]                                                                                                                                                                         \n",
      "400.8720000000003it [00:00, 1420.30it/s]                                                                                                                                                                \n",
      "401.037603it [00:00, 1505.97it/s]                                                                                                                                                                       \n",
      "400.2988699999985it [00:00, 1438.64it/s]                                                                                                                                                                \n",
      "400.33557700000097it [00:00, 1486.50it/s]                                                                                                                                                               \n",
      "400.0165800000002it [00:00, 1496.40it/s]                                                                                                                                                                \n",
      "400.1392799999991it [00:00, 1459.12it/s]                                                                                                                                                                \n",
      "401.32023999999956it [00:00, 1426.75it/s]                                                                                                                                                               \n",
      "400.9580999999987it [00:00, 1511.30it/s]                                                                                                                                                                \n",
      "400.85636it [00:00, 1419.15it/s]                                                                                                                                                                        \n",
      "400.4167999999993it [00:00, 1497.99it/s]                                                                                                                                                                \n",
      "401.0777800000001it [00:00, 1367.44it/s]                                                                                                                                                                \n",
      "401.0143600000001it [00:00, 1483.72it/s]                                                                                                                                                                \n",
      "401.43147999999746it [00:00, 1407.20it/s]                                                                                                                                                               \n",
      "401.16238999999985it [00:00, 1546.86it/s]                                                                                                                                                               \n",
      "400.79625199999975it [00:00, 1425.07it/s]                                                                                                                                                               \n",
      "400.0827200000015it [00:00, 1496.90it/s]                                                                                                                                                                \n",
      "400.88387999999884it [00:00, 1430.27it/s]                                                                                                                                                               \n",
      "400.7069599999995it [00:00, 1482.55it/s]                                                                                                                                                                \n"
     ]
    },
    {
     "name": "stderr",
     "output_type": "stream",
     "text": [
      "400.3891200000015it [00:00, 1403.55it/s]                                                                                                                                                                \n",
      "400.0854470000006it [00:00, 1496.67it/s]                                                                                                                                                                \n",
      "400.48087it [00:00, 1449.65it/s]                                                                                                                                                                        \n",
      "400.0614999999989it [00:00, 1407.47it/s]                                                                                                                                                                \n",
      "400.8032800000019it [00:00, 1510.61it/s]                                                                                                                                                                \n",
      "401.16128000000117it [00:00, 1517.75it/s]                                                                                                                                                               \n",
      "400.74297000000047it [00:00, 1404.76it/s]                                                                                                                                                               \n",
      "400.043470000001it [00:00, 1474.51it/s]                                                                                                                                                                 \n",
      "400.6896700000011it [00:00, 1357.25it/s]                                                                                                                                                                \n",
      "400.52187700000104it [00:00, 1481.77it/s]                                                                                                                                                               \n",
      "400.4770299999984it [00:00, 1460.13it/s]                                                                                                                                                                \n",
      "401.08637999999974it [00:00, 1500.46it/s]                                                                                                                                                               \n",
      "401.20252000000085it [00:00, 1341.05it/s]                                                                                                                                                               \n",
      "400.4478999999999it [00:00, 1509.51it/s]                                                                                                                                                                \n",
      "400.7834500000006it [00:00, 1393.01it/s]                                                                                                                                                                \n",
      "400.27340000000095it [00:00, 1491.75it/s]                                                                                                                                                               \n",
      "401.16006000000084it [00:00, 1373.90it/s]                                                                                                                                                               \n",
      "400.1363499999999it [00:00, 1458.76it/s]                                                                                                                                                                \n",
      "400.39221999999927it [00:00, 1398.63it/s]                                                                                                                                                               \n",
      "400.5363369999999it [00:00, 1449.84it/s]                                                                                                                                                                \n",
      "401.208260000001it [00:00, 1431.36it/s]                                                                                                                                                                 \n",
      "400.8302079999992it [00:00, 1499.59it/s]                                                                                                                                                                \n",
      "400.1649200000004it [00:00, 1447.10it/s]                                                                                                                                                                \n",
      "401.0818900000015it [00:00, 1500.40it/s]                                                                                                                                                                \n",
      "400.27921700000115it [00:00, 878.22it/s]                                                                                                                                                                \n",
      "401.0018399999999it [00:00, 1511.38it/s]                                                                                                                                                                \n",
      "400.11172000000033it [00:00, 1530.97it/s]                                                                                                                                                               \n",
      "401.07741999999917it [00:00, 1467.53it/s]                                                                                                                                                               \n",
      "400.59537999999964it [00:00, 1487.65it/s]                                                                                                                                                               \n",
      "400.8091599999998it [00:00, 1448.71it/s]                                                                                                                                                                \n",
      "401.08447999999964it [00:00, 1534.96it/s]                                                                                                                                                               \n",
      "400.70096300000057it [00:00, 1419.65it/s]                                                                                                                                                               \n",
      "400.9833069999993it [00:00, 1534.87it/s]                                                                                                                                                                \n",
      "401.18272300000035it [00:00, 1382.45it/s]                                                                                                                                                               \n",
      "400.6442950000011it [00:00, 1493.56it/s]                                                                                                                                                                \n",
      "400.2414379999998it [00:00, 1469.83it/s]                                                                                                                                                                \n",
      "401.16934000000003it [00:00, 1506.67it/s]                                                                                                                                                               \n",
      "400.3724299999976it [00:00, 1384.15it/s]                                                                                                                                                                \n",
      "400.0351799999995it [00:00, 1542.69it/s]                                                                                                                                                                \n",
      "401.2316799999985it [00:00, 1441.94it/s]                                                                                                                                                                \n"
     ]
    },
    {
     "name": "stderr",
     "output_type": "stream",
     "text": [
      "400.19974999999965it [00:00, 1502.74it/s]                                                                                                                                                               \n",
      "400.4076600000004it [00:00, 1520.90it/s]                                                                                                                                                                \n",
      "400.782613000001it [00:00, 1505.26it/s]                                                                                                                                                                 \n",
      "400.648750000001it [00:00, 1521.45it/s]                                                                                                                                                                 \n",
      "400.11951900000076it [00:00, 1464.38it/s]                                                                                                                                                               \n",
      "401.1012800000003it [00:00, 1335.97it/s]                                                                                                                                                                \n",
      "400.7039299999997it [00:00, 1445.01it/s]                                                                                                                                                                \n",
      "400.379650000001it [00:00, 1441.13it/s]                                                                                                                                                                 \n",
      "401.16499999999985it [00:00, 1396.67it/s]                                                                                                                                                               \n",
      "400.4520100000002it [00:00, 1498.23it/s]                                                                                                                                                                \n",
      "400.4033799999993it [00:00, 1413.65it/s]                                                                                                                                                                \n",
      "400.43676000000005it [00:00, 1403.67it/s]                                                                                                                                                               \n",
      "400.64369it [00:00, 1499.12it/s]                                                                                                                                                                        \n",
      "400.84587000000056it [00:00, 1429.89it/s]                                                                                                                                                               \n",
      "400.9693249999989it [00:00, 1546.13it/s]                                                                                                                                                                \n",
      "400.97965000000033it [00:00, 1356.06it/s]                                                                                                                                                               \n",
      "400.54863000000034it [00:00, 1471.12it/s]                                                                                                                                                               \n",
      "401.20427000000154it [00:00, 1552.99it/s]                                                                                                                                                               \n",
      "400.2674799999983it [00:00, 1428.25it/s]                                                                                                                                                                \n",
      "400.650699999999it [00:00, 1521.68it/s]                                                                                                                                                                 \n",
      "400.23171999999875it [00:00, 1448.57it/s]                                                                                                                                                               \n",
      "400.49459999999965it [00:00, 1439.15it/s]                                                                                                                                                               \n",
      "400.826430000001it [00:00, 1420.14it/s]                                                                                                                                                                 \n",
      "400.52664999999956it [00:00, 1492.93it/s]                                                                                                                                                               \n",
      "400.78043000000093it [00:00, 1510.53it/s]                                                                                                                                                               \n",
      "400.2531670000001it [00:00, 1443.40it/s]                                                                                                                                                                \n",
      "401.1126450000006it [00:00, 1512.25it/s]                                                                                                                                                                \n",
      "401.12662999999975it [00:00, 1431.32it/s]                                                                                                                                                               \n",
      "400.74335000000076it [00:00, 1539.33it/s]                                                                                                                                                               \n",
      "400.2395999999992it [00:00, 1383.67it/s]                                                                                                                                                                \n",
      "401.1973799999988it [00:00, 1553.18it/s]                                                                                                                                                                \n",
      "401.1235999999992it [00:00, 1436.43it/s]                                                                                                                                                                \n",
      "401.01066000000094it [00:00, 1478.25it/s]                                                                                                                                                               \n",
      "400.9353399999994it [00:00, 1511.40it/s]                                                                                                                                                                \n",
      "401.07153000000153it [00:00, 1558.51it/s]                                                                                                                                                               \n",
      "400.70006000000035it [00:00, 1533.28it/s]                                                                                                                                                               \n",
      "400.86903899999925it [00:00, 1362.33it/s]                                                                                                                                                               \n",
      "400.4558000000005it [00:00, 1568.47it/s]                                                                                                                                                                \n",
      "400.2928600000007it [00:00, 1413.05it/s]                                                                                                                                                                \n",
      "401.1163000000005it [00:00, 1446.54it/s]                                                                                                                                                                \n"
     ]
    },
    {
     "name": "stderr",
     "output_type": "stream",
     "text": [
      "400.3500999999992it [00:00, 1408.36it/s]                                                                                                                                                                \n",
      "400.3412000000012it [00:00, 1561.67it/s]                                                                                                                                                                \n",
      "400.7415199999997it [00:00, 1521.83it/s]                                                                                                                                                                \n",
      "400.6806000000013it [00:00, 1419.63it/s]                                                                                                                                                                \n",
      "401.1065800000006it [00:00, 1506.28it/s]                                                                                                                                                                \n",
      "400.6838999999999it [00:00, 1493.28it/s]                                                                                                                                                                \n",
      "401.06809999999894it [00:00, 1436.05it/s]                                                                                                                                                               \n",
      "400.75210000000004it [00:00, 1551.20it/s]                                                                                                                                                               \n",
      "400.90776299999936it [00:00, 1451.02it/s]                                                                                                                                                               \n",
      "400.7160799999983it [00:00, 1515.94it/s]                                                                                                                                                                \n",
      "400.65679999999963it [00:00, 1445.06it/s]                                                                                                                                                               \n",
      "401.0996299999987it [00:00, 1162.34it/s]                                                                                                                                                                \n",
      "400.49203it [00:00, 1498.17it/s]                                                                                                                                                                        \n",
      "400.15130000000045it [00:00, 1453.72it/s]                                                                                                                                                               \n",
      "400.3448999999996it [00:00, 1374.55it/s]                                                                                                                                                                \n",
      "400.0388200000002it [00:00, 1513.37it/s]                                                                                                                                                                \n",
      "400.36696999999924it [00:00, 1384.07it/s]                                                                                                                                                               \n",
      "400.52857000000085it [00:00, 1487.41it/s]                                                                                                                                                               \n",
      "400.07339000000024it [00:00, 1359.81it/s]                                                                                                                                                               \n",
      "401.1223950000017it [00:00, 1500.69it/s]                                                                                                                                                                \n",
      "401.2822900000002it [00:00, 1442.13it/s]                                                                                                                                                                \n",
      "400.0840200000006it [00:00, 1448.18it/s]                                                                                                                                                                \n",
      "400.8417450000002it [00:00, 1551.59it/s]                                                                                                                                                                \n",
      "400.17857300000105it [00:00, 1398.08it/s]                                                                                                                                                               \n",
      "400.8261000000001it [00:00, 1576.06it/s]                                                                                                                                                                \n",
      "400.9472699999998it [00:00, 1372.09it/s]                                                                                                                                                                \n",
      "400.6328649999999it [00:00, 1510.16it/s]                                                                                                                                                                \n",
      "401.0524099999998it [00:00, 1430.84it/s]                                                                                                                                                                \n",
      "400.9067699999989it [00:00, 1461.54it/s]                                                                                                                                                                \n",
      "400.6024999999995it [00:00, 1521.24it/s]                                                                                                                                                                \n",
      "400.405329999999it [00:00, 1398.73it/s]                                                                                                                                                                 \n",
      "401.1320079999996it [00:00, 1452.20it/s]                                                                                                                                                                \n",
      "400.89940600000136it [00:00, 1472.20it/s]                                                                                                                                                               \n",
      "400.6266650000007it [00:00, 1385.16it/s]                                                                                                                                                                \n",
      "400.35447999999985it [00:00, 1503.47it/s]                                                                                                                                                               \n",
      "400.2330379999986it [00:00, 674.79it/s]                                                                                                                                                                 \n",
      "401.02584999999897it [00:00, 1353.88it/s]                                                                                                                                                               \n",
      "400.41530000000057it [00:00, 1231.54it/s]                                                                                                                                                               \n",
      "400.0774800000007it [00:00, 1337.13it/s]                                                                                                                                                                \n",
      "401.20067999999924it [00:00, 1193.69it/s]                                                                                                                                                               \n"
     ]
    }
   ],
   "source": [
    "min_rt = rt_range[0][0]\n",
    "max_rt = rt_range[0][1]\n",
    "controllers = defaultdict(list)\n",
    "controller_to_mzml = {}\n",
    "\n",
    "mzml_dir = os.path.join(out_dir, 'mzmlFiles')\n",
    "num_classes = len(n_samples)\n",
    "sample_idx = 0\n",
    "for j in range(num_classes):\n",
    "    num_samples = n_samples[j]\n",
    "    for i in range(num_samples):\n",
    "        fname = os.path.join(save_location, 'sample_%d.p' % sample_idx) \n",
    "        sample = load_obj(fname)\n",
    "        sample_idx += 1\n",
    "        \n",
    "        mass_spec = IndependentMassSpectrometer(POSITIVE, sample, density=ps.density_estimator)\n",
    "        mzml_filename = mzml_dir + '\\\\sample_id_0_number_%d' % i + '_class_%d.mzML' % j \n",
    "        controller = SimpleMs1Controller(mass_spec)\n",
    "        controller.run(min_rt,max_rt)\n",
    "        controller.write_mzML('my_analysis', mzml_filename)\n",
    "        \n",
    "        controllers[j].append(controller)\n",
    "        controller_to_mzml[controller] = (j, mzml_filename, )"
   ]
  },
  {
   "cell_type": "markdown",
   "metadata": {},
   "source": [
    "Print out the missing peaks"
   ]
  },
  {
   "cell_type": "code",
   "execution_count": 23,
   "metadata": {},
   "outputs": [],
   "source": [
    "def get_chem_to_peaks(controller):\n",
    "    chem_to_peaks = defaultdict(list)\n",
    "    frag_events = controller.mass_spec.fragmentation_events\n",
    "    for frag_event in frag_events:\n",
    "        chem = frag_event.chem\n",
    "        peaks = frag_event.peaks\n",
    "        chem_to_peaks[chem].extend(peaks)\n",
    "    return chem_to_peaks"
   ]
  },
  {
   "cell_type": "code",
   "execution_count": 24,
   "metadata": {},
   "outputs": [],
   "source": [
    "for controller, (current_class, mzml_filename) in controller_to_mzml.items():\n",
    "    controller_peaks = get_chem_to_peaks(controller)\n",
    "    basename = os.path.basename(mzml_filename)\n",
    "    front, back = os.path.splitext(mzml_filename)\n",
    "    outfile = front + '.csv'\n",
    "\n",
    "    missing_peaks = []            \n",
    "    for other_class in range(num_classes):\n",
    "        if current_class == other_class:\n",
    "            continue\n",
    "\n",
    "        # get the peaks that are present in current_class but missing in other_class\n",
    "        missing_chems = multiple_samples.missing_chemicals[other_class]\n",
    "        for chem in missing_chems:\n",
    "            peaks = controller_peaks[chem]\n",
    "            for peak in peaks:\n",
    "                row = (chem.formula.formula_string, current_class, other_class, peak.mz, peak.rt, peak.intensity)\n",
    "                missing_peaks.append(row)\n",
    "    \n",
    "    # convert to dataframe\n",
    "    columns = ['formula', 'present_in', 'missing_in', 'mz', 'RT', 'intensity']\n",
    "    missing_df = pd.DataFrame(missing_peaks, columns=columns)\n",
    "    missing_df.to_csv(os.path.join(out_dir, 'MissingChemicals', os.path.basename(outfile)))"
   ]
  },
  {
   "cell_type": "code",
   "execution_count": null,
   "metadata": {},
   "outputs": [],
   "source": []
  }
 ],
 "metadata": {
  "kernelspec": {
   "display_name": "Python 3",
   "language": "python",
   "name": "python3"
  },
  "language_info": {
   "codemirror_mode": {
    "name": "ipython",
    "version": 3
   },
   "file_extension": ".py",
   "mimetype": "text/x-python",
   "name": "python",
   "nbconvert_exporter": "python",
   "pygments_lexer": "ipython3",
   "version": "3.7.3"
  }
 },
 "nbformat": 4,
 "nbformat_minor": 2
}
