{
 "cells": [
  {
   "cell_type": "code",
   "execution_count": 1,
   "metadata": {},
   "outputs": [],
   "source": [
    "%matplotlib inline"
   ]
  },
  {
   "cell_type": "code",
   "execution_count": 2,
   "metadata": {},
   "outputs": [],
   "source": [
    "%load_ext autoreload\n",
    "%autoreload 2"
   ]
  },
  {
   "cell_type": "code",
   "execution_count": 3,
   "metadata": {},
   "outputs": [],
   "source": [
    "import numpy as np\n",
    "import pandas as pd\n",
    "import sys\n",
    "import scipy.stats\n",
    "import pylab as plt\n",
    "from IPython import display\n",
    "import pylab as plt\n",
    "import glob"
   ]
  },
  {
   "cell_type": "code",
   "execution_count": 4,
   "metadata": {},
   "outputs": [],
   "source": [
    "sys.path.append('..')"
   ]
  },
  {
   "cell_type": "code",
   "execution_count": 5,
   "metadata": {},
   "outputs": [],
   "source": [
    "from vimms.Chemicals import *\n",
    "from vimms.Chromatograms import *\n",
    "from vimms.MassSpec import *\n",
    "from vimms.Controller import *\n",
    "from vimms.Common import *\n",
    "from vimms.DataGenerator import *\n",
    "from vimms.DsDA import *"
   ]
  },
  {
   "cell_type": "code",
   "execution_count": 6,
   "metadata": {},
   "outputs": [],
   "source": [
    " set_log_level_warning()\n",
    "# set_log_level_info()\n",
    "# set_log_level_debug()"
   ]
  },
  {
   "cell_type": "code",
   "execution_count": 7,
   "metadata": {},
   "outputs": [],
   "source": [
    "base_dir = '..\\\\data'"
   ]
  },
  {
   "cell_type": "code",
   "execution_count": 8,
   "metadata": {},
   "outputs": [],
   "source": [
    "ps = load_obj(os.path.join(base_dir, 'peak_sampler_mz_rt_int_19_beers_fragmentation.p'))"
   ]
  },
  {
   "cell_type": "code",
   "execution_count": 9,
   "metadata": {},
   "outputs": [],
   "source": [
    "hmdb = load_obj(os.path.join(base_dir, 'hmdb_compounds.p'))"
   ]
  },
  {
   "cell_type": "markdown",
   "metadata": {},
   "source": [
    "# Create Initial Chemical"
   ]
  },
  {
   "cell_type": "code",
   "execution_count": 12,
   "metadata": {},
   "outputs": [
    {
     "name": "stdout",
     "output_type": "stream",
     "text": [
      "Saving <class 'list'> to C:\\Users\\Vinny\\OneDrive - University of Glasgow\\Glasgow\\ClassificationExample\\Samples_id_0\\BaseDataset\\dataset.p\n"
     ]
    }
   ],
   "source": [
    "ROI_Sources = [\"C:\\\\Users\\\\Vinny\\\\OneDrive - University of Glasgow\\\\Glasgow\\\\DsDA\\\\DsDA_Beer\\\\beer_t10_simulator_files\"]\n",
    "min_ms1_intensity = 1.75E5\n",
    "rt_range = [(400, 800)]\n",
    "mz_range = [(100, 400)]\n",
    "n_peaks = 100\n",
    "chems = ChemicalCreator(ps, ROI_Sources, hmdb)\n",
    "dataset = chems.sample(mz_range, rt_range, min_ms1_intensity, n_peaks, 2, use_database=True, fixed_mz=False)\n",
    "save_obj(dataset, \"C:\\\\Users\\\\Vinny\\\\OneDrive - University of Glasgow\\\\Glasgow\\\\ClassificationExample\\\\Samples_id_0\\\\BaseDataset\\\\dataset.p\")"
   ]
  },
  {
   "cell_type": "markdown",
   "metadata": {},
   "source": [
    "# Create Multiple Samples"
   ]
  },
  {
   "cell_type": "code",
   "execution_count": 13,
   "metadata": {},
   "outputs": [],
   "source": [
    "n_samples = [100,100] # number of files per class\n",
    "classes = [\"class%d\" % i for i in range(len(n_samples))] # creates default list of classes\n",
    "intensity_noise_sd = [1000] # noise on max intensity"
   ]
  },
  {
   "cell_type": "markdown",
   "metadata": {},
   "source": [
    "Add intensity changes between different classes"
   ]
  },
  {
   "cell_type": "code",
   "execution_count": 14,
   "metadata": {},
   "outputs": [],
   "source": [
    "change_probabilities = [0 for i in range(len(n_samples))] # probability of intensity changes between different classes\n",
    "change_differences_means = [0 for i in range(len(n_samples))] # mean of those intensity changes\n",
    "change_differences_sds = [0 for i in range(len(n_samples))] # SD of those intensity changes"
   ]
  },
  {
   "cell_type": "markdown",
   "metadata": {},
   "source": [
    "Add experimental variables (examples in comments)"
   ]
  },
  {
   "cell_type": "code",
   "execution_count": 15,
   "metadata": {},
   "outputs": [],
   "source": [
    "experimental_classes = None # [[\"male\",\"female\"],[\"Positive\",\"Negative\",\"Unknown\"]]\n",
    "experimental_probabilitities = None # [[0.5,0.5],[0.33,0.33,0.34]]\n",
    "experimental_sds = None # [[250],[250]]"
   ]
  },
  {
   "cell_type": "markdown",
   "metadata": {},
   "source": [
    "Dropout chemicals from in different classes"
   ]
  },
  {
   "cell_type": "code",
   "execution_count": 16,
   "metadata": {},
   "outputs": [],
   "source": [
    "#dropout_probability = 0.2\n",
    "#dropout_probabilities = [dropout_probability for i in range(len(n_samples))]\n",
    "dropout_probabilities = None\n",
    "dropout_numbers = 2 # number of chemicals dropped out in each class"
   ]
  },
  {
   "cell_type": "markdown",
   "metadata": {},
   "source": [
    "Set save location"
   ]
  },
  {
   "cell_type": "code",
   "execution_count": 17,
   "metadata": {},
   "outputs": [],
   "source": [
    "save_location = 'C:\\\\Users\\\\Vinny\\\\OneDrive - University of Glasgow\\\\Glasgow\\\\ClassificationExample\\\\Samples_id_0\\\\ChemicalFiles'"
   ]
  },
  {
   "cell_type": "code",
   "execution_count": 18,
   "metadata": {
    "scrolled": true
   },
   "outputs": [
    {
     "name": "stdout",
     "output_type": "stream",
     "text": [
      "Saving <class 'list'> to C:\\Users\\Vinny\\OneDrive - University of Glasgow\\Glasgow\\ClassificationExample\\Samples_id_0\\ChemicalFiles\\sample_0.p\n",
      "Saving <class 'list'> to C:\\Users\\Vinny\\OneDrive - University of Glasgow\\Glasgow\\ClassificationExample\\Samples_id_0\\ChemicalFiles\\sample_1.p\n",
      "Saving <class 'list'> to C:\\Users\\Vinny\\OneDrive - University of Glasgow\\Glasgow\\ClassificationExample\\Samples_id_0\\ChemicalFiles\\sample_2.p\n",
      "Saving <class 'list'> to C:\\Users\\Vinny\\OneDrive - University of Glasgow\\Glasgow\\ClassificationExample\\Samples_id_0\\ChemicalFiles\\sample_3.p\n",
      "Saving <class 'list'> to C:\\Users\\Vinny\\OneDrive - University of Glasgow\\Glasgow\\ClassificationExample\\Samples_id_0\\ChemicalFiles\\sample_4.p\n",
      "Saving <class 'list'> to C:\\Users\\Vinny\\OneDrive - University of Glasgow\\Glasgow\\ClassificationExample\\Samples_id_0\\ChemicalFiles\\sample_5.p\n",
      "Saving <class 'list'> to C:\\Users\\Vinny\\OneDrive - University of Glasgow\\Glasgow\\ClassificationExample\\Samples_id_0\\ChemicalFiles\\sample_6.p\n",
      "Saving <class 'list'> to C:\\Users\\Vinny\\OneDrive - University of Glasgow\\Glasgow\\ClassificationExample\\Samples_id_0\\ChemicalFiles\\sample_7.p\n",
      "Saving <class 'list'> to C:\\Users\\Vinny\\OneDrive - University of Glasgow\\Glasgow\\ClassificationExample\\Samples_id_0\\ChemicalFiles\\sample_8.p\n",
      "Saving <class 'list'> to C:\\Users\\Vinny\\OneDrive - University of Glasgow\\Glasgow\\ClassificationExample\\Samples_id_0\\ChemicalFiles\\sample_9.p\n",
      "Saving <class 'list'> to C:\\Users\\Vinny\\OneDrive - University of Glasgow\\Glasgow\\ClassificationExample\\Samples_id_0\\ChemicalFiles\\sample_10.p\n",
      "Saving <class 'list'> to C:\\Users\\Vinny\\OneDrive - University of Glasgow\\Glasgow\\ClassificationExample\\Samples_id_0\\ChemicalFiles\\sample_11.p\n",
      "Saving <class 'list'> to C:\\Users\\Vinny\\OneDrive - University of Glasgow\\Glasgow\\ClassificationExample\\Samples_id_0\\ChemicalFiles\\sample_12.p\n",
      "Saving <class 'list'> to C:\\Users\\Vinny\\OneDrive - University of Glasgow\\Glasgow\\ClassificationExample\\Samples_id_0\\ChemicalFiles\\sample_13.p\n",
      "Saving <class 'list'> to C:\\Users\\Vinny\\OneDrive - University of Glasgow\\Glasgow\\ClassificationExample\\Samples_id_0\\ChemicalFiles\\sample_14.p\n",
      "Saving <class 'list'> to C:\\Users\\Vinny\\OneDrive - University of Glasgow\\Glasgow\\ClassificationExample\\Samples_id_0\\ChemicalFiles\\sample_15.p\n",
      "Saving <class 'list'> to C:\\Users\\Vinny\\OneDrive - University of Glasgow\\Glasgow\\ClassificationExample\\Samples_id_0\\ChemicalFiles\\sample_16.p\n",
      "Saving <class 'list'> to C:\\Users\\Vinny\\OneDrive - University of Glasgow\\Glasgow\\ClassificationExample\\Samples_id_0\\ChemicalFiles\\sample_17.p\n",
      "Saving <class 'list'> to C:\\Users\\Vinny\\OneDrive - University of Glasgow\\Glasgow\\ClassificationExample\\Samples_id_0\\ChemicalFiles\\sample_18.p\n",
      "Saving <class 'list'> to C:\\Users\\Vinny\\OneDrive - University of Glasgow\\Glasgow\\ClassificationExample\\Samples_id_0\\ChemicalFiles\\sample_19.p\n",
      "Saving <class 'list'> to C:\\Users\\Vinny\\OneDrive - University of Glasgow\\Glasgow\\ClassificationExample\\Samples_id_0\\ChemicalFiles\\sample_20.p\n",
      "Saving <class 'list'> to C:\\Users\\Vinny\\OneDrive - University of Glasgow\\Glasgow\\ClassificationExample\\Samples_id_0\\ChemicalFiles\\sample_21.p\n",
      "Saving <class 'list'> to C:\\Users\\Vinny\\OneDrive - University of Glasgow\\Glasgow\\ClassificationExample\\Samples_id_0\\ChemicalFiles\\sample_22.p\n",
      "Saving <class 'list'> to C:\\Users\\Vinny\\OneDrive - University of Glasgow\\Glasgow\\ClassificationExample\\Samples_id_0\\ChemicalFiles\\sample_23.p\n",
      "Saving <class 'list'> to C:\\Users\\Vinny\\OneDrive - University of Glasgow\\Glasgow\\ClassificationExample\\Samples_id_0\\ChemicalFiles\\sample_24.p\n",
      "Saving <class 'list'> to C:\\Users\\Vinny\\OneDrive - University of Glasgow\\Glasgow\\ClassificationExample\\Samples_id_0\\ChemicalFiles\\sample_25.p\n",
      "Saving <class 'list'> to C:\\Users\\Vinny\\OneDrive - University of Glasgow\\Glasgow\\ClassificationExample\\Samples_id_0\\ChemicalFiles\\sample_26.p\n",
      "Saving <class 'list'> to C:\\Users\\Vinny\\OneDrive - University of Glasgow\\Glasgow\\ClassificationExample\\Samples_id_0\\ChemicalFiles\\sample_27.p\n",
      "Saving <class 'list'> to C:\\Users\\Vinny\\OneDrive - University of Glasgow\\Glasgow\\ClassificationExample\\Samples_id_0\\ChemicalFiles\\sample_28.p\n",
      "Saving <class 'list'> to C:\\Users\\Vinny\\OneDrive - University of Glasgow\\Glasgow\\ClassificationExample\\Samples_id_0\\ChemicalFiles\\sample_29.p\n",
      "Saving <class 'list'> to C:\\Users\\Vinny\\OneDrive - University of Glasgow\\Glasgow\\ClassificationExample\\Samples_id_0\\ChemicalFiles\\sample_30.p\n",
      "Saving <class 'list'> to C:\\Users\\Vinny\\OneDrive - University of Glasgow\\Glasgow\\ClassificationExample\\Samples_id_0\\ChemicalFiles\\sample_31.p\n",
      "Saving <class 'list'> to C:\\Users\\Vinny\\OneDrive - University of Glasgow\\Glasgow\\ClassificationExample\\Samples_id_0\\ChemicalFiles\\sample_32.p\n",
      "Saving <class 'list'> to C:\\Users\\Vinny\\OneDrive - University of Glasgow\\Glasgow\\ClassificationExample\\Samples_id_0\\ChemicalFiles\\sample_33.p\n",
      "Saving <class 'list'> to C:\\Users\\Vinny\\OneDrive - University of Glasgow\\Glasgow\\ClassificationExample\\Samples_id_0\\ChemicalFiles\\sample_34.p\n",
      "Saving <class 'list'> to C:\\Users\\Vinny\\OneDrive - University of Glasgow\\Glasgow\\ClassificationExample\\Samples_id_0\\ChemicalFiles\\sample_35.p\n",
      "Saving <class 'list'> to C:\\Users\\Vinny\\OneDrive - University of Glasgow\\Glasgow\\ClassificationExample\\Samples_id_0\\ChemicalFiles\\sample_36.p\n",
      "Saving <class 'list'> to C:\\Users\\Vinny\\OneDrive - University of Glasgow\\Glasgow\\ClassificationExample\\Samples_id_0\\ChemicalFiles\\sample_37.p\n",
      "Saving <class 'list'> to C:\\Users\\Vinny\\OneDrive - University of Glasgow\\Glasgow\\ClassificationExample\\Samples_id_0\\ChemicalFiles\\sample_38.p\n",
      "Saving <class 'list'> to C:\\Users\\Vinny\\OneDrive - University of Glasgow\\Glasgow\\ClassificationExample\\Samples_id_0\\ChemicalFiles\\sample_39.p\n",
      "Saving <class 'list'> to C:\\Users\\Vinny\\OneDrive - University of Glasgow\\Glasgow\\ClassificationExample\\Samples_id_0\\ChemicalFiles\\sample_40.p\n",
      "Saving <class 'list'> to C:\\Users\\Vinny\\OneDrive - University of Glasgow\\Glasgow\\ClassificationExample\\Samples_id_0\\ChemicalFiles\\sample_41.p\n",
      "Saving <class 'list'> to C:\\Users\\Vinny\\OneDrive - University of Glasgow\\Glasgow\\ClassificationExample\\Samples_id_0\\ChemicalFiles\\sample_42.p\n",
      "Saving <class 'list'> to C:\\Users\\Vinny\\OneDrive - University of Glasgow\\Glasgow\\ClassificationExample\\Samples_id_0\\ChemicalFiles\\sample_43.p\n",
      "Saving <class 'list'> to C:\\Users\\Vinny\\OneDrive - University of Glasgow\\Glasgow\\ClassificationExample\\Samples_id_0\\ChemicalFiles\\sample_44.p\n",
      "Saving <class 'list'> to C:\\Users\\Vinny\\OneDrive - University of Glasgow\\Glasgow\\ClassificationExample\\Samples_id_0\\ChemicalFiles\\sample_45.p\n",
      "Saving <class 'list'> to C:\\Users\\Vinny\\OneDrive - University of Glasgow\\Glasgow\\ClassificationExample\\Samples_id_0\\ChemicalFiles\\sample_46.p\n",
      "Saving <class 'list'> to C:\\Users\\Vinny\\OneDrive - University of Glasgow\\Glasgow\\ClassificationExample\\Samples_id_0\\ChemicalFiles\\sample_47.p\n",
      "Saving <class 'list'> to C:\\Users\\Vinny\\OneDrive - University of Glasgow\\Glasgow\\ClassificationExample\\Samples_id_0\\ChemicalFiles\\sample_48.p\n",
      "Saving <class 'list'> to C:\\Users\\Vinny\\OneDrive - University of Glasgow\\Glasgow\\ClassificationExample\\Samples_id_0\\ChemicalFiles\\sample_49.p\n",
      "Saving <class 'list'> to C:\\Users\\Vinny\\OneDrive - University of Glasgow\\Glasgow\\ClassificationExample\\Samples_id_0\\ChemicalFiles\\sample_50.p\n",
      "Saving <class 'list'> to C:\\Users\\Vinny\\OneDrive - University of Glasgow\\Glasgow\\ClassificationExample\\Samples_id_0\\ChemicalFiles\\sample_51.p\n",
      "Saving <class 'list'> to C:\\Users\\Vinny\\OneDrive - University of Glasgow\\Glasgow\\ClassificationExample\\Samples_id_0\\ChemicalFiles\\sample_52.p\n",
      "Saving <class 'list'> to C:\\Users\\Vinny\\OneDrive - University of Glasgow\\Glasgow\\ClassificationExample\\Samples_id_0\\ChemicalFiles\\sample_53.p\n",
      "Saving <class 'list'> to C:\\Users\\Vinny\\OneDrive - University of Glasgow\\Glasgow\\ClassificationExample\\Samples_id_0\\ChemicalFiles\\sample_54.p\n",
      "Saving <class 'list'> to C:\\Users\\Vinny\\OneDrive - University of Glasgow\\Glasgow\\ClassificationExample\\Samples_id_0\\ChemicalFiles\\sample_55.p\n",
      "Saving <class 'list'> to C:\\Users\\Vinny\\OneDrive - University of Glasgow\\Glasgow\\ClassificationExample\\Samples_id_0\\ChemicalFiles\\sample_56.p\n"
     ]
    },
    {
     "name": "stdout",
     "output_type": "stream",
     "text": [
      "Saving <class 'list'> to C:\\Users\\Vinny\\OneDrive - University of Glasgow\\Glasgow\\ClassificationExample\\Samples_id_0\\ChemicalFiles\\sample_57.p\n",
      "Saving <class 'list'> to C:\\Users\\Vinny\\OneDrive - University of Glasgow\\Glasgow\\ClassificationExample\\Samples_id_0\\ChemicalFiles\\sample_58.p\n",
      "Saving <class 'list'> to C:\\Users\\Vinny\\OneDrive - University of Glasgow\\Glasgow\\ClassificationExample\\Samples_id_0\\ChemicalFiles\\sample_59.p\n",
      "Saving <class 'list'> to C:\\Users\\Vinny\\OneDrive - University of Glasgow\\Glasgow\\ClassificationExample\\Samples_id_0\\ChemicalFiles\\sample_60.p\n",
      "Saving <class 'list'> to C:\\Users\\Vinny\\OneDrive - University of Glasgow\\Glasgow\\ClassificationExample\\Samples_id_0\\ChemicalFiles\\sample_61.p\n",
      "Saving <class 'list'> to C:\\Users\\Vinny\\OneDrive - University of Glasgow\\Glasgow\\ClassificationExample\\Samples_id_0\\ChemicalFiles\\sample_62.p\n",
      "Saving <class 'list'> to C:\\Users\\Vinny\\OneDrive - University of Glasgow\\Glasgow\\ClassificationExample\\Samples_id_0\\ChemicalFiles\\sample_63.p\n",
      "Saving <class 'list'> to C:\\Users\\Vinny\\OneDrive - University of Glasgow\\Glasgow\\ClassificationExample\\Samples_id_0\\ChemicalFiles\\sample_64.p\n",
      "Saving <class 'list'> to C:\\Users\\Vinny\\OneDrive - University of Glasgow\\Glasgow\\ClassificationExample\\Samples_id_0\\ChemicalFiles\\sample_65.p\n",
      "Saving <class 'list'> to C:\\Users\\Vinny\\OneDrive - University of Glasgow\\Glasgow\\ClassificationExample\\Samples_id_0\\ChemicalFiles\\sample_66.p\n",
      "Saving <class 'list'> to C:\\Users\\Vinny\\OneDrive - University of Glasgow\\Glasgow\\ClassificationExample\\Samples_id_0\\ChemicalFiles\\sample_67.p\n",
      "Saving <class 'list'> to C:\\Users\\Vinny\\OneDrive - University of Glasgow\\Glasgow\\ClassificationExample\\Samples_id_0\\ChemicalFiles\\sample_68.p\n",
      "Saving <class 'list'> to C:\\Users\\Vinny\\OneDrive - University of Glasgow\\Glasgow\\ClassificationExample\\Samples_id_0\\ChemicalFiles\\sample_69.p\n",
      "Saving <class 'list'> to C:\\Users\\Vinny\\OneDrive - University of Glasgow\\Glasgow\\ClassificationExample\\Samples_id_0\\ChemicalFiles\\sample_70.p\n",
      "Saving <class 'list'> to C:\\Users\\Vinny\\OneDrive - University of Glasgow\\Glasgow\\ClassificationExample\\Samples_id_0\\ChemicalFiles\\sample_71.p\n",
      "Saving <class 'list'> to C:\\Users\\Vinny\\OneDrive - University of Glasgow\\Glasgow\\ClassificationExample\\Samples_id_0\\ChemicalFiles\\sample_72.p\n",
      "Saving <class 'list'> to C:\\Users\\Vinny\\OneDrive - University of Glasgow\\Glasgow\\ClassificationExample\\Samples_id_0\\ChemicalFiles\\sample_73.p\n",
      "Saving <class 'list'> to C:\\Users\\Vinny\\OneDrive - University of Glasgow\\Glasgow\\ClassificationExample\\Samples_id_0\\ChemicalFiles\\sample_74.p\n",
      "Saving <class 'list'> to C:\\Users\\Vinny\\OneDrive - University of Glasgow\\Glasgow\\ClassificationExample\\Samples_id_0\\ChemicalFiles\\sample_75.p\n",
      "Saving <class 'list'> to C:\\Users\\Vinny\\OneDrive - University of Glasgow\\Glasgow\\ClassificationExample\\Samples_id_0\\ChemicalFiles\\sample_76.p\n",
      "Saving <class 'list'> to C:\\Users\\Vinny\\OneDrive - University of Glasgow\\Glasgow\\ClassificationExample\\Samples_id_0\\ChemicalFiles\\sample_77.p\n",
      "Saving <class 'list'> to C:\\Users\\Vinny\\OneDrive - University of Glasgow\\Glasgow\\ClassificationExample\\Samples_id_0\\ChemicalFiles\\sample_78.p\n",
      "Saving <class 'list'> to C:\\Users\\Vinny\\OneDrive - University of Glasgow\\Glasgow\\ClassificationExample\\Samples_id_0\\ChemicalFiles\\sample_79.p\n",
      "Saving <class 'list'> to C:\\Users\\Vinny\\OneDrive - University of Glasgow\\Glasgow\\ClassificationExample\\Samples_id_0\\ChemicalFiles\\sample_80.p\n",
      "Saving <class 'list'> to C:\\Users\\Vinny\\OneDrive - University of Glasgow\\Glasgow\\ClassificationExample\\Samples_id_0\\ChemicalFiles\\sample_81.p\n",
      "Saving <class 'list'> to C:\\Users\\Vinny\\OneDrive - University of Glasgow\\Glasgow\\ClassificationExample\\Samples_id_0\\ChemicalFiles\\sample_82.p\n",
      "Saving <class 'list'> to C:\\Users\\Vinny\\OneDrive - University of Glasgow\\Glasgow\\ClassificationExample\\Samples_id_0\\ChemicalFiles\\sample_83.p\n",
      "Saving <class 'list'> to C:\\Users\\Vinny\\OneDrive - University of Glasgow\\Glasgow\\ClassificationExample\\Samples_id_0\\ChemicalFiles\\sample_84.p\n",
      "Saving <class 'list'> to C:\\Users\\Vinny\\OneDrive - University of Glasgow\\Glasgow\\ClassificationExample\\Samples_id_0\\ChemicalFiles\\sample_85.p\n",
      "Saving <class 'list'> to C:\\Users\\Vinny\\OneDrive - University of Glasgow\\Glasgow\\ClassificationExample\\Samples_id_0\\ChemicalFiles\\sample_86.p\n",
      "Saving <class 'list'> to C:\\Users\\Vinny\\OneDrive - University of Glasgow\\Glasgow\\ClassificationExample\\Samples_id_0\\ChemicalFiles\\sample_87.p\n",
      "Saving <class 'list'> to C:\\Users\\Vinny\\OneDrive - University of Glasgow\\Glasgow\\ClassificationExample\\Samples_id_0\\ChemicalFiles\\sample_88.p\n",
      "Saving <class 'list'> to C:\\Users\\Vinny\\OneDrive - University of Glasgow\\Glasgow\\ClassificationExample\\Samples_id_0\\ChemicalFiles\\sample_89.p\n",
      "Saving <class 'list'> to C:\\Users\\Vinny\\OneDrive - University of Glasgow\\Glasgow\\ClassificationExample\\Samples_id_0\\ChemicalFiles\\sample_90.p\n",
      "Saving <class 'list'> to C:\\Users\\Vinny\\OneDrive - University of Glasgow\\Glasgow\\ClassificationExample\\Samples_id_0\\ChemicalFiles\\sample_91.p\n",
      "Saving <class 'list'> to C:\\Users\\Vinny\\OneDrive - University of Glasgow\\Glasgow\\ClassificationExample\\Samples_id_0\\ChemicalFiles\\sample_92.p\n",
      "Saving <class 'list'> to C:\\Users\\Vinny\\OneDrive - University of Glasgow\\Glasgow\\ClassificationExample\\Samples_id_0\\ChemicalFiles\\sample_93.p\n",
      "Saving <class 'list'> to C:\\Users\\Vinny\\OneDrive - University of Glasgow\\Glasgow\\ClassificationExample\\Samples_id_0\\ChemicalFiles\\sample_94.p\n",
      "Saving <class 'list'> to C:\\Users\\Vinny\\OneDrive - University of Glasgow\\Glasgow\\ClassificationExample\\Samples_id_0\\ChemicalFiles\\sample_95.p\n",
      "Saving <class 'list'> to C:\\Users\\Vinny\\OneDrive - University of Glasgow\\Glasgow\\ClassificationExample\\Samples_id_0\\ChemicalFiles\\sample_96.p\n",
      "Saving <class 'list'> to C:\\Users\\Vinny\\OneDrive - University of Glasgow\\Glasgow\\ClassificationExample\\Samples_id_0\\ChemicalFiles\\sample_97.p\n",
      "Saving <class 'list'> to C:\\Users\\Vinny\\OneDrive - University of Glasgow\\Glasgow\\ClassificationExample\\Samples_id_0\\ChemicalFiles\\sample_98.p\n",
      "Saving <class 'list'> to C:\\Users\\Vinny\\OneDrive - University of Glasgow\\Glasgow\\ClassificationExample\\Samples_id_0\\ChemicalFiles\\sample_99.p\n",
      "Saving <class 'list'> to C:\\Users\\Vinny\\OneDrive - University of Glasgow\\Glasgow\\ClassificationExample\\Samples_id_0\\ChemicalFiles\\sample_100.p\n",
      "Saving <class 'list'> to C:\\Users\\Vinny\\OneDrive - University of Glasgow\\Glasgow\\ClassificationExample\\Samples_id_0\\ChemicalFiles\\sample_101.p\n",
      "Saving <class 'list'> to C:\\Users\\Vinny\\OneDrive - University of Glasgow\\Glasgow\\ClassificationExample\\Samples_id_0\\ChemicalFiles\\sample_102.p\n",
      "Saving <class 'list'> to C:\\Users\\Vinny\\OneDrive - University of Glasgow\\Glasgow\\ClassificationExample\\Samples_id_0\\ChemicalFiles\\sample_103.p\n",
      "Saving <class 'list'> to C:\\Users\\Vinny\\OneDrive - University of Glasgow\\Glasgow\\ClassificationExample\\Samples_id_0\\ChemicalFiles\\sample_104.p\n",
      "Saving <class 'list'> to C:\\Users\\Vinny\\OneDrive - University of Glasgow\\Glasgow\\ClassificationExample\\Samples_id_0\\ChemicalFiles\\sample_105.p\n",
      "Saving <class 'list'> to C:\\Users\\Vinny\\OneDrive - University of Glasgow\\Glasgow\\ClassificationExample\\Samples_id_0\\ChemicalFiles\\sample_106.p\n",
      "Saving <class 'list'> to C:\\Users\\Vinny\\OneDrive - University of Glasgow\\Glasgow\\ClassificationExample\\Samples_id_0\\ChemicalFiles\\sample_107.p\n",
      "Saving <class 'list'> to C:\\Users\\Vinny\\OneDrive - University of Glasgow\\Glasgow\\ClassificationExample\\Samples_id_0\\ChemicalFiles\\sample_108.p\n",
      "Saving <class 'list'> to C:\\Users\\Vinny\\OneDrive - University of Glasgow\\Glasgow\\ClassificationExample\\Samples_id_0\\ChemicalFiles\\sample_109.p\n",
      "Saving <class 'list'> to C:\\Users\\Vinny\\OneDrive - University of Glasgow\\Glasgow\\ClassificationExample\\Samples_id_0\\ChemicalFiles\\sample_110.p\n",
      "Saving <class 'list'> to C:\\Users\\Vinny\\OneDrive - University of Glasgow\\Glasgow\\ClassificationExample\\Samples_id_0\\ChemicalFiles\\sample_111.p\n",
      "Saving <class 'list'> to C:\\Users\\Vinny\\OneDrive - University of Glasgow\\Glasgow\\ClassificationExample\\Samples_id_0\\ChemicalFiles\\sample_112.p\n",
      "Saving <class 'list'> to C:\\Users\\Vinny\\OneDrive - University of Glasgow\\Glasgow\\ClassificationExample\\Samples_id_0\\ChemicalFiles\\sample_113.p\n"
     ]
    },
    {
     "name": "stdout",
     "output_type": "stream",
     "text": [
      "Saving <class 'list'> to C:\\Users\\Vinny\\OneDrive - University of Glasgow\\Glasgow\\ClassificationExample\\Samples_id_0\\ChemicalFiles\\sample_114.p\n",
      "Saving <class 'list'> to C:\\Users\\Vinny\\OneDrive - University of Glasgow\\Glasgow\\ClassificationExample\\Samples_id_0\\ChemicalFiles\\sample_115.p\n",
      "Saving <class 'list'> to C:\\Users\\Vinny\\OneDrive - University of Glasgow\\Glasgow\\ClassificationExample\\Samples_id_0\\ChemicalFiles\\sample_116.p\n",
      "Saving <class 'list'> to C:\\Users\\Vinny\\OneDrive - University of Glasgow\\Glasgow\\ClassificationExample\\Samples_id_0\\ChemicalFiles\\sample_117.p\n",
      "Saving <class 'list'> to C:\\Users\\Vinny\\OneDrive - University of Glasgow\\Glasgow\\ClassificationExample\\Samples_id_0\\ChemicalFiles\\sample_118.p\n",
      "Saving <class 'list'> to C:\\Users\\Vinny\\OneDrive - University of Glasgow\\Glasgow\\ClassificationExample\\Samples_id_0\\ChemicalFiles\\sample_119.p\n",
      "Saving <class 'list'> to C:\\Users\\Vinny\\OneDrive - University of Glasgow\\Glasgow\\ClassificationExample\\Samples_id_0\\ChemicalFiles\\sample_120.p\n",
      "Saving <class 'list'> to C:\\Users\\Vinny\\OneDrive - University of Glasgow\\Glasgow\\ClassificationExample\\Samples_id_0\\ChemicalFiles\\sample_121.p\n",
      "Saving <class 'list'> to C:\\Users\\Vinny\\OneDrive - University of Glasgow\\Glasgow\\ClassificationExample\\Samples_id_0\\ChemicalFiles\\sample_122.p\n",
      "Saving <class 'list'> to C:\\Users\\Vinny\\OneDrive - University of Glasgow\\Glasgow\\ClassificationExample\\Samples_id_0\\ChemicalFiles\\sample_123.p\n",
      "Saving <class 'list'> to C:\\Users\\Vinny\\OneDrive - University of Glasgow\\Glasgow\\ClassificationExample\\Samples_id_0\\ChemicalFiles\\sample_124.p\n",
      "Saving <class 'list'> to C:\\Users\\Vinny\\OneDrive - University of Glasgow\\Glasgow\\ClassificationExample\\Samples_id_0\\ChemicalFiles\\sample_125.p\n",
      "Saving <class 'list'> to C:\\Users\\Vinny\\OneDrive - University of Glasgow\\Glasgow\\ClassificationExample\\Samples_id_0\\ChemicalFiles\\sample_126.p\n",
      "Saving <class 'list'> to C:\\Users\\Vinny\\OneDrive - University of Glasgow\\Glasgow\\ClassificationExample\\Samples_id_0\\ChemicalFiles\\sample_127.p\n",
      "Saving <class 'list'> to C:\\Users\\Vinny\\OneDrive - University of Glasgow\\Glasgow\\ClassificationExample\\Samples_id_0\\ChemicalFiles\\sample_128.p\n",
      "Saving <class 'list'> to C:\\Users\\Vinny\\OneDrive - University of Glasgow\\Glasgow\\ClassificationExample\\Samples_id_0\\ChemicalFiles\\sample_129.p\n",
      "Saving <class 'list'> to C:\\Users\\Vinny\\OneDrive - University of Glasgow\\Glasgow\\ClassificationExample\\Samples_id_0\\ChemicalFiles\\sample_130.p\n",
      "Saving <class 'list'> to C:\\Users\\Vinny\\OneDrive - University of Glasgow\\Glasgow\\ClassificationExample\\Samples_id_0\\ChemicalFiles\\sample_131.p\n",
      "Saving <class 'list'> to C:\\Users\\Vinny\\OneDrive - University of Glasgow\\Glasgow\\ClassificationExample\\Samples_id_0\\ChemicalFiles\\sample_132.p\n",
      "Saving <class 'list'> to C:\\Users\\Vinny\\OneDrive - University of Glasgow\\Glasgow\\ClassificationExample\\Samples_id_0\\ChemicalFiles\\sample_133.p\n",
      "Saving <class 'list'> to C:\\Users\\Vinny\\OneDrive - University of Glasgow\\Glasgow\\ClassificationExample\\Samples_id_0\\ChemicalFiles\\sample_134.p\n",
      "Saving <class 'list'> to C:\\Users\\Vinny\\OneDrive - University of Glasgow\\Glasgow\\ClassificationExample\\Samples_id_0\\ChemicalFiles\\sample_135.p\n",
      "Saving <class 'list'> to C:\\Users\\Vinny\\OneDrive - University of Glasgow\\Glasgow\\ClassificationExample\\Samples_id_0\\ChemicalFiles\\sample_136.p\n",
      "Saving <class 'list'> to C:\\Users\\Vinny\\OneDrive - University of Glasgow\\Glasgow\\ClassificationExample\\Samples_id_0\\ChemicalFiles\\sample_137.p\n",
      "Saving <class 'list'> to C:\\Users\\Vinny\\OneDrive - University of Glasgow\\Glasgow\\ClassificationExample\\Samples_id_0\\ChemicalFiles\\sample_138.p\n",
      "Saving <class 'list'> to C:\\Users\\Vinny\\OneDrive - University of Glasgow\\Glasgow\\ClassificationExample\\Samples_id_0\\ChemicalFiles\\sample_139.p\n",
      "Saving <class 'list'> to C:\\Users\\Vinny\\OneDrive - University of Glasgow\\Glasgow\\ClassificationExample\\Samples_id_0\\ChemicalFiles\\sample_140.p\n",
      "Saving <class 'list'> to C:\\Users\\Vinny\\OneDrive - University of Glasgow\\Glasgow\\ClassificationExample\\Samples_id_0\\ChemicalFiles\\sample_141.p\n",
      "Saving <class 'list'> to C:\\Users\\Vinny\\OneDrive - University of Glasgow\\Glasgow\\ClassificationExample\\Samples_id_0\\ChemicalFiles\\sample_142.p\n",
      "Saving <class 'list'> to C:\\Users\\Vinny\\OneDrive - University of Glasgow\\Glasgow\\ClassificationExample\\Samples_id_0\\ChemicalFiles\\sample_143.p\n",
      "Saving <class 'list'> to C:\\Users\\Vinny\\OneDrive - University of Glasgow\\Glasgow\\ClassificationExample\\Samples_id_0\\ChemicalFiles\\sample_144.p\n",
      "Saving <class 'list'> to C:\\Users\\Vinny\\OneDrive - University of Glasgow\\Glasgow\\ClassificationExample\\Samples_id_0\\ChemicalFiles\\sample_145.p\n",
      "Saving <class 'list'> to C:\\Users\\Vinny\\OneDrive - University of Glasgow\\Glasgow\\ClassificationExample\\Samples_id_0\\ChemicalFiles\\sample_146.p\n",
      "Saving <class 'list'> to C:\\Users\\Vinny\\OneDrive - University of Glasgow\\Glasgow\\ClassificationExample\\Samples_id_0\\ChemicalFiles\\sample_147.p\n",
      "Saving <class 'list'> to C:\\Users\\Vinny\\OneDrive - University of Glasgow\\Glasgow\\ClassificationExample\\Samples_id_0\\ChemicalFiles\\sample_148.p\n",
      "Saving <class 'list'> to C:\\Users\\Vinny\\OneDrive - University of Glasgow\\Glasgow\\ClassificationExample\\Samples_id_0\\ChemicalFiles\\sample_149.p\n",
      "Saving <class 'list'> to C:\\Users\\Vinny\\OneDrive - University of Glasgow\\Glasgow\\ClassificationExample\\Samples_id_0\\ChemicalFiles\\sample_150.p\n",
      "Saving <class 'list'> to C:\\Users\\Vinny\\OneDrive - University of Glasgow\\Glasgow\\ClassificationExample\\Samples_id_0\\ChemicalFiles\\sample_151.p\n",
      "Saving <class 'list'> to C:\\Users\\Vinny\\OneDrive - University of Glasgow\\Glasgow\\ClassificationExample\\Samples_id_0\\ChemicalFiles\\sample_152.p\n",
      "Saving <class 'list'> to C:\\Users\\Vinny\\OneDrive - University of Glasgow\\Glasgow\\ClassificationExample\\Samples_id_0\\ChemicalFiles\\sample_153.p\n",
      "Saving <class 'list'> to C:\\Users\\Vinny\\OneDrive - University of Glasgow\\Glasgow\\ClassificationExample\\Samples_id_0\\ChemicalFiles\\sample_154.p\n",
      "Saving <class 'list'> to C:\\Users\\Vinny\\OneDrive - University of Glasgow\\Glasgow\\ClassificationExample\\Samples_id_0\\ChemicalFiles\\sample_155.p\n",
      "Saving <class 'list'> to C:\\Users\\Vinny\\OneDrive - University of Glasgow\\Glasgow\\ClassificationExample\\Samples_id_0\\ChemicalFiles\\sample_156.p\n",
      "Saving <class 'list'> to C:\\Users\\Vinny\\OneDrive - University of Glasgow\\Glasgow\\ClassificationExample\\Samples_id_0\\ChemicalFiles\\sample_157.p\n",
      "Saving <class 'list'> to C:\\Users\\Vinny\\OneDrive - University of Glasgow\\Glasgow\\ClassificationExample\\Samples_id_0\\ChemicalFiles\\sample_158.p\n",
      "Saving <class 'list'> to C:\\Users\\Vinny\\OneDrive - University of Glasgow\\Glasgow\\ClassificationExample\\Samples_id_0\\ChemicalFiles\\sample_159.p\n",
      "Saving <class 'list'> to C:\\Users\\Vinny\\OneDrive - University of Glasgow\\Glasgow\\ClassificationExample\\Samples_id_0\\ChemicalFiles\\sample_160.p\n",
      "Saving <class 'list'> to C:\\Users\\Vinny\\OneDrive - University of Glasgow\\Glasgow\\ClassificationExample\\Samples_id_0\\ChemicalFiles\\sample_161.p\n",
      "Saving <class 'list'> to C:\\Users\\Vinny\\OneDrive - University of Glasgow\\Glasgow\\ClassificationExample\\Samples_id_0\\ChemicalFiles\\sample_162.p\n",
      "Saving <class 'list'> to C:\\Users\\Vinny\\OneDrive - University of Glasgow\\Glasgow\\ClassificationExample\\Samples_id_0\\ChemicalFiles\\sample_163.p\n",
      "Saving <class 'list'> to C:\\Users\\Vinny\\OneDrive - University of Glasgow\\Glasgow\\ClassificationExample\\Samples_id_0\\ChemicalFiles\\sample_164.p\n",
      "Saving <class 'list'> to C:\\Users\\Vinny\\OneDrive - University of Glasgow\\Glasgow\\ClassificationExample\\Samples_id_0\\ChemicalFiles\\sample_165.p\n",
      "Saving <class 'list'> to C:\\Users\\Vinny\\OneDrive - University of Glasgow\\Glasgow\\ClassificationExample\\Samples_id_0\\ChemicalFiles\\sample_166.p\n",
      "Saving <class 'list'> to C:\\Users\\Vinny\\OneDrive - University of Glasgow\\Glasgow\\ClassificationExample\\Samples_id_0\\ChemicalFiles\\sample_167.p\n",
      "Saving <class 'list'> to C:\\Users\\Vinny\\OneDrive - University of Glasgow\\Glasgow\\ClassificationExample\\Samples_id_0\\ChemicalFiles\\sample_168.p\n",
      "Saving <class 'list'> to C:\\Users\\Vinny\\OneDrive - University of Glasgow\\Glasgow\\ClassificationExample\\Samples_id_0\\ChemicalFiles\\sample_169.p\n",
      "Saving <class 'list'> to C:\\Users\\Vinny\\OneDrive - University of Glasgow\\Glasgow\\ClassificationExample\\Samples_id_0\\ChemicalFiles\\sample_170.p\n"
     ]
    },
    {
     "name": "stdout",
     "output_type": "stream",
     "text": [
      "Saving <class 'list'> to C:\\Users\\Vinny\\OneDrive - University of Glasgow\\Glasgow\\ClassificationExample\\Samples_id_0\\ChemicalFiles\\sample_171.p\n",
      "Saving <class 'list'> to C:\\Users\\Vinny\\OneDrive - University of Glasgow\\Glasgow\\ClassificationExample\\Samples_id_0\\ChemicalFiles\\sample_172.p\n",
      "Saving <class 'list'> to C:\\Users\\Vinny\\OneDrive - University of Glasgow\\Glasgow\\ClassificationExample\\Samples_id_0\\ChemicalFiles\\sample_173.p\n",
      "Saving <class 'list'> to C:\\Users\\Vinny\\OneDrive - University of Glasgow\\Glasgow\\ClassificationExample\\Samples_id_0\\ChemicalFiles\\sample_174.p\n",
      "Saving <class 'list'> to C:\\Users\\Vinny\\OneDrive - University of Glasgow\\Glasgow\\ClassificationExample\\Samples_id_0\\ChemicalFiles\\sample_175.p\n",
      "Saving <class 'list'> to C:\\Users\\Vinny\\OneDrive - University of Glasgow\\Glasgow\\ClassificationExample\\Samples_id_0\\ChemicalFiles\\sample_176.p\n",
      "Saving <class 'list'> to C:\\Users\\Vinny\\OneDrive - University of Glasgow\\Glasgow\\ClassificationExample\\Samples_id_0\\ChemicalFiles\\sample_177.p\n",
      "Saving <class 'list'> to C:\\Users\\Vinny\\OneDrive - University of Glasgow\\Glasgow\\ClassificationExample\\Samples_id_0\\ChemicalFiles\\sample_178.p\n",
      "Saving <class 'list'> to C:\\Users\\Vinny\\OneDrive - University of Glasgow\\Glasgow\\ClassificationExample\\Samples_id_0\\ChemicalFiles\\sample_179.p\n",
      "Saving <class 'list'> to C:\\Users\\Vinny\\OneDrive - University of Glasgow\\Glasgow\\ClassificationExample\\Samples_id_0\\ChemicalFiles\\sample_180.p\n",
      "Saving <class 'list'> to C:\\Users\\Vinny\\OneDrive - University of Glasgow\\Glasgow\\ClassificationExample\\Samples_id_0\\ChemicalFiles\\sample_181.p\n",
      "Saving <class 'list'> to C:\\Users\\Vinny\\OneDrive - University of Glasgow\\Glasgow\\ClassificationExample\\Samples_id_0\\ChemicalFiles\\sample_182.p\n",
      "Saving <class 'list'> to C:\\Users\\Vinny\\OneDrive - University of Glasgow\\Glasgow\\ClassificationExample\\Samples_id_0\\ChemicalFiles\\sample_183.p\n",
      "Saving <class 'list'> to C:\\Users\\Vinny\\OneDrive - University of Glasgow\\Glasgow\\ClassificationExample\\Samples_id_0\\ChemicalFiles\\sample_184.p\n",
      "Saving <class 'list'> to C:\\Users\\Vinny\\OneDrive - University of Glasgow\\Glasgow\\ClassificationExample\\Samples_id_0\\ChemicalFiles\\sample_185.p\n",
      "Saving <class 'list'> to C:\\Users\\Vinny\\OneDrive - University of Glasgow\\Glasgow\\ClassificationExample\\Samples_id_0\\ChemicalFiles\\sample_186.p\n",
      "Saving <class 'list'> to C:\\Users\\Vinny\\OneDrive - University of Glasgow\\Glasgow\\ClassificationExample\\Samples_id_0\\ChemicalFiles\\sample_187.p\n",
      "Saving <class 'list'> to C:\\Users\\Vinny\\OneDrive - University of Glasgow\\Glasgow\\ClassificationExample\\Samples_id_0\\ChemicalFiles\\sample_188.p\n",
      "Saving <class 'list'> to C:\\Users\\Vinny\\OneDrive - University of Glasgow\\Glasgow\\ClassificationExample\\Samples_id_0\\ChemicalFiles\\sample_189.p\n",
      "Saving <class 'list'> to C:\\Users\\Vinny\\OneDrive - University of Glasgow\\Glasgow\\ClassificationExample\\Samples_id_0\\ChemicalFiles\\sample_190.p\n",
      "Saving <class 'list'> to C:\\Users\\Vinny\\OneDrive - University of Glasgow\\Glasgow\\ClassificationExample\\Samples_id_0\\ChemicalFiles\\sample_191.p\n",
      "Saving <class 'list'> to C:\\Users\\Vinny\\OneDrive - University of Glasgow\\Glasgow\\ClassificationExample\\Samples_id_0\\ChemicalFiles\\sample_192.p\n",
      "Saving <class 'list'> to C:\\Users\\Vinny\\OneDrive - University of Glasgow\\Glasgow\\ClassificationExample\\Samples_id_0\\ChemicalFiles\\sample_193.p\n",
      "Saving <class 'list'> to C:\\Users\\Vinny\\OneDrive - University of Glasgow\\Glasgow\\ClassificationExample\\Samples_id_0\\ChemicalFiles\\sample_194.p\n",
      "Saving <class 'list'> to C:\\Users\\Vinny\\OneDrive - University of Glasgow\\Glasgow\\ClassificationExample\\Samples_id_0\\ChemicalFiles\\sample_195.p\n",
      "Saving <class 'list'> to C:\\Users\\Vinny\\OneDrive - University of Glasgow\\Glasgow\\ClassificationExample\\Samples_id_0\\ChemicalFiles\\sample_196.p\n",
      "Saving <class 'list'> to C:\\Users\\Vinny\\OneDrive - University of Glasgow\\Glasgow\\ClassificationExample\\Samples_id_0\\ChemicalFiles\\sample_197.p\n",
      "Saving <class 'list'> to C:\\Users\\Vinny\\OneDrive - University of Glasgow\\Glasgow\\ClassificationExample\\Samples_id_0\\ChemicalFiles\\sample_198.p\n",
      "Saving <class 'list'> to C:\\Users\\Vinny\\OneDrive - University of Glasgow\\Glasgow\\ClassificationExample\\Samples_id_0\\ChemicalFiles\\sample_199.p\n"
     ]
    }
   ],
   "source": [
    "multiple_samples = MultiSampleCreator(dataset, n_samples, classes, intensity_noise_sd, \n",
    "                                      change_probabilities, change_differences_means, change_differences_sds, dropout_probabilities, dropout_numbers,\n",
    "                                     experimental_classes, experimental_probabilitities, experimental_sds, save_location=save_location)"
   ]
  },
  {
   "cell_type": "markdown",
   "metadata": {},
   "source": [
    "Run MS1 controller and save out .mzML files"
   ]
  },
  {
   "cell_type": "code",
   "execution_count": null,
   "metadata": {},
   "outputs": [
    {
     "name": "stderr",
     "output_type": "stream",
     "text": [
      "400.0248900000008it [00:02, 164.79it/s]                                                                                                                                                                                                      \n",
      "400.2307800000025it [00:02, 162.93it/s]                                                                                                                                                                                                      \n",
      "400.23035000000164it [00:02, 164.86it/s]                                                                                                                                                                                                     \n",
      "400.1397400000021it [00:02, 159.02it/s]                                                                                                                                                                                                      \n",
      "400.0741700000009it [00:02, 165.12it/s]                                                                                                                                                                                                      \n",
      "400.05658999999764it [00:02, 136.25it/s]                                                                                                                                                                                                     \n",
      "400.183990000004it [00:02, 160.82it/s]                                                                                                                                                                                                       \n",
      "400.02947000000063it [00:02, 162.65it/s]                                                                                                                                                                                                     \n",
      "400.17707000000087it [00:02, 161.66it/s]                                                                                                                                                                                                     \n",
      "400.2488500000047it [00:02, 157.75it/s]                                                                                                                                                                                                      \n",
      "400.2609600000004it [00:02, 166.49it/s]                                                                                                                                                                                                      \n",
      "400.2638100000004it [00:02, 164.21it/s]                                                                                                                                                                                                      \n",
      "400.2237800000014it [00:03, 130.29it/s]                                                                                                                                                                                                      \n",
      "400.0942500000034it [00:02, 145.89it/s]                                                                                                                                                                                                      \n",
      "400.3038200000043it [00:02, 159.91it/s]                                                                                                                                                                                                      \n",
      "400.1719600000022it [00:02, 160.37it/s]                                                                                                                                                                                                      \n",
      "400.222569999998it [00:02, 162.14it/s]                                                                                                                                                                                                       \n",
      "400.1959699999984it [00:02, 162.39it/s]                                                                                                                                                                                                      \n",
      "400.16105999999763it [00:03, 130.40it/s]                                                                                                                                                                                                     \n",
      "400.0304500000026it [00:02, 162.19it/s]                                                                                                                                                                                                      \n",
      "400.0143699999985it [00:02, 165.26it/s]                                                                                                                                                                                                      \n",
      "400.30102000000284it [00:02, 155.81it/s]                                                                                                                                                                                                     \n",
      "400.0344999999951it [00:02, 159.63it/s]                                                                                                                                                                                                      \n",
      "400.227670000001it [00:02, 162.66it/s]                                                                                                                                                                                                       \n",
      "400.2583200000008it [00:02, 160.34it/s]                                                                                                                                                                                                      \n",
      "400.07623999999885it [00:03, 129.57it/s]                                                                                                                                                                                                     \n",
      "400.22305000000176it [00:02, 159.94it/s]                                                                                                                                                                                                     \n",
      "400.09694000000025it [00:02, 162.35it/s]                                                                                                                                                                                                     \n",
      "400.26642999999876it [00:02, 160.40it/s]                                                                                                                                                                                                     \n",
      "400.07806999999957it [00:02, 158.18it/s]                                                                                                                                                                                                     \n",
      "400.057it [00:02, 156.62it/s]                                                                                                                                                                                                                \n",
      "400.0190199999977it [00:03, 129.72it/s]                                                                                                                                                                                                      \n",
      "400.3021499999977it [00:02, 162.33it/s]                                                                                                                                                                                                      \n",
      "400.07951999999807it [00:02, 159.90it/s]                                                                                                                                                                                                     \n"
     ]
    },
    {
     "name": "stderr",
     "output_type": "stream",
     "text": [
      "400.3364500000007it [00:02, 163.51it/s]                                                                                                                                                                                                      \n",
      "400.1518it [00:02, 151.17it/s]                                                                                                                                                                                                               \n",
      "400.1086100000023it [00:02, 160.15it/s]                                                                                                                                                                                                      \n",
      "400.14923000000283it [00:02, 160.75it/s]                                                                                                                                                                                                     \n",
      "400.15976000000364it [00:03, 194.25it/s]                                                                                                                                                                                                     \n",
      "400.04564999999855it [00:02, 161.48it/s]                                                                                                                                                                                                     \n",
      "400.03893000000016it [00:02, 163.45it/s]                                                                                                                                                                                                     \n",
      "400.14550999999733it [00:02, 161.98it/s]                                                                                                                                                                                                     \n",
      "400.04732000000115it [00:02, 158.98it/s]                                                                                                                                                                                                     \n",
      "400.2504100000024it [00:02, 160.27it/s]                                                                                                                                                                                                      \n",
      "400.2643999999992it [00:02, 161.63it/s]                                                                                                                                                                                                      \n",
      "400.1099500000014it [00:02, 158.82it/s]                                                                                                                                                                                                      \n",
      "400.06598999999983it [00:02, 162.86it/s]                                                                                                                                                                                                     \n",
      "400.05669000000114it [00:02, 162.58it/s]                                                                                                                                                                                                     \n",
      "400.0451099999997it [00:02, 159.74it/s]                                                                                                                                                                                                      \n",
      "400.2027300000011it [00:02, 163.39it/s]                                                                                                                                                                                                      \n",
      "400.1595399999993it [00:02, 161.85it/s]                                                                                                                                                                                                      \n",
      "400.265000000001it [00:03, 126.56it/s]                                                                                                                                                                                                       \n",
      "400.14751000000376it [00:02, 159.15it/s]                                                                                                                                                                                                     \n",
      "400.00875999999926it [00:02, 158.91it/s]                                                                                                                                                                                                     \n",
      "400.24081999999703it [00:02, 160.87it/s]                                                                                                                                                                                                     \n",
      "400.02861999999766it [00:02, 164.92it/s]                                                                                                                                                                                                     \n",
      "400.0904100000006it [00:02, 162.05it/s]                                                                                                                                                                                                      \n",
      "400.14754000000164it [00:02, 158.96it/s]                                                                                                                                                                                                     \n",
      "400.17134000000203it [00:03, 128.73it/s]                                                                                                                                                                                                     \n",
      "400.25356000000306it [00:02, 160.78it/s]                                                                                                                                                                                                     \n",
      "400.2790400000014it [00:02, 161.24it/s]                                                                                                                                                                                                      \n",
      "400.1595800000016it [00:02, 163.30it/s]                                                                                                                                                                                                      \n",
      "400.07406999999944it [00:02, 157.37it/s]                                                                                                                                                                                                     \n",
      "400.01064999999994it [00:02, 147.38it/s]                                                                                                                                                                                                     \n",
      "400.0011500000005it [00:03, 124.15it/s]                                                                                                                                                                                                      \n",
      "400.2556199999964it [00:02, 158.94it/s]                                                                                                                                                                                                      \n",
      "400.1434799999997it [00:02, 157.82it/s]                                                                                                                                                                                                      \n",
      "400.139650000006it [00:02, 137.22it/s]                                                                                                                                                                                                       \n"
     ]
    },
    {
     "name": "stderr",
     "output_type": "stream",
     "text": [
      "400.00631000000453it [00:02, 134.47it/s]                                                                                                                                                                                                     \n",
      "400.2626500000015it [00:02, 155.07it/s]                                                                                                                                                                                                      \n",
      " 83%|███████████████████████████████████████████████████████████████████████████████████████████████████████████████████████████████████████████████████████▋                              | 333.42237999999793/400 [00:02<00:00, 170.06it/s]"
     ]
    }
   ],
   "source": [
    "min_rt = rt_range[0][0]\n",
    "max_rt = rt_range[0][1]\n",
    "mzml_dir = 'C:\\\\Users\\\\Vinny\\\\OneDrive - University of Glasgow\\\\Glasgow\\\\ClassificationExample\\\\Samples_id_0\\\\mzmlFiles'\n",
    "for j in range(len(n_samples)):\n",
    "    for i in range(n_samples[0]):\n",
    "        sample = load_obj('C:\\\\Users\\\\Vinny\\\\OneDrive - University of Glasgow\\\\Glasgow\\\\ClassificationExample\\\\Samples_id_0\\\\ChemicalFiles\\\\sample_' + '%d.p' % i)\n",
    "        mass_spec = IndependentMassSpectrometer(POSITIVE, sample, density=ps.density_estimator)\n",
    "        controller = SimpleMs1Controller(mass_spec)\n",
    "        controller.run(min_rt,max_rt)\n",
    "        controller.write_mzML('my_analysis', mzml_dir + '\\\\sample_id_0_number_%d' % i + '_class_%d.mzML' % j )"
   ]
  },
  {
   "cell_type": "code",
   "execution_count": null,
   "metadata": {},
   "outputs": [],
   "source": []
  }
 ],
 "metadata": {
  "kernelspec": {
   "display_name": "Python 3",
   "language": "python",
   "name": "python3"
  },
  "language_info": {
   "codemirror_mode": {
    "name": "ipython",
    "version": 3
   },
   "file_extension": ".py",
   "mimetype": "text/x-python",
   "name": "python",
   "nbconvert_exporter": "python",
   "pygments_lexer": "ipython3",
   "version": "3.7.3"
  }
 },
 "nbformat": 4,
 "nbformat_minor": 2
}
