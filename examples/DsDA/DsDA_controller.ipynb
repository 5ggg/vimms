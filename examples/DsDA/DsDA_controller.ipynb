{
 "cells": [
  {
   "cell_type": "markdown",
   "metadata": {},
   "source": [
    "# DsDA Controller"
   ]
  },
  {
   "cell_type": "markdown",
   "metadata": {},
   "source": [
    "Creates multiple dataset and runs them through the DsDA method"
   ]
  },
  {
   "cell_type": "code",
   "execution_count": 2,
   "metadata": {},
   "outputs": [],
   "source": [
    "%matplotlib inline"
   ]
  },
  {
   "cell_type": "code",
   "execution_count": 3,
   "metadata": {},
   "outputs": [],
   "source": [
    "%load_ext autoreload\n",
    "%autoreload 2"
   ]
  },
  {
   "cell_type": "code",
   "execution_count": 4,
   "metadata": {},
   "outputs": [],
   "source": [
    "import numpy as np\n",
    "import pandas as pd\n",
    "import sys\n",
    "import scipy.stats\n",
    "import pylab as plt\n",
    "from IPython import display\n",
    "import pylab as plt\n",
    "import glob"
   ]
  },
  {
   "cell_type": "code",
   "execution_count": 8,
   "metadata": {},
   "outputs": [],
   "source": [
    "sys.path.append('..\\\\..')"
   ]
  },
  {
   "cell_type": "code",
   "execution_count": 9,
   "metadata": {},
   "outputs": [],
   "source": [
    "from vimms.Chemicals import *\n",
    "from vimms.Chromatograms import *\n",
    "from vimms.MassSpec import *\n",
    "from vimms.Controller import *\n",
    "from vimms.Common import *\n",
    "from vimms.DataGenerator import *\n",
    "from vimms.DsDA import *"
   ]
  },
  {
   "cell_type": "code",
   "execution_count": 10,
   "metadata": {},
   "outputs": [],
   "source": [
    " set_log_level_warning()\n",
    "# set_log_level_info()\n",
    "# set_log_level_debug()"
   ]
  },
  {
   "cell_type": "markdown",
   "metadata": {},
   "source": [
    "Load densities trained on 19 beer data (see [loader_kde](loader_kde.ipynb))."
   ]
  },
  {
   "cell_type": "code",
   "execution_count": 11,
   "metadata": {},
   "outputs": [],
   "source": [
    "base_dir = '..\\\\..'"
   ]
  },
  {
   "cell_type": "code",
   "execution_count": 12,
   "metadata": {},
   "outputs": [],
   "source": [
    "ps = load_obj(os.path.join(base_dir, 'data\\\\peak_sampler_mz_rt_int_19_beers_fragmentation.p'))"
   ]
  },
  {
   "cell_type": "code",
   "execution_count": 13,
   "metadata": {},
   "outputs": [],
   "source": [
    "hmdb = load_obj(os.path.join(base_dir, 'data\\\\hmdb_compounds.p'))"
   ]
  },
  {
   "cell_type": "markdown",
   "metadata": {},
   "source": [
    "# Updated Chemical Creator"
   ]
  },
  {
   "cell_type": "code",
   "execution_count": 27,
   "metadata": {},
   "outputs": [],
   "source": [
    "ROI_Sources = [\"C:\\\\Users\\\\Vinny\\\\OneDrive - University of Glasgow\\\\Glasgow\\\\DsDA\\\\DsDA_Beer\\\\beer_t10_simulator_files\"]\n",
    "min_ms1_intensity = 1.75E5\n",
    "rt_range = [(0, 1260)]\n",
    "mz_range = [(0, 1050)]\n",
    "n_peaks = 6500\n",
    "chems = ChemicalCreator(ps, ROI_Sources, hmdb)\n",
    "dataset = chems.sample(mz_range, rt_range, min_ms1_intensity, n_peaks, 2, use_database=False, fixed_mz=False)"
   ]
  },
  {
   "cell_type": "markdown",
   "metadata": {},
   "source": [
    "# Create Multiple Datasets for DsDA"
   ]
  },
  {
   "cell_type": "code",
   "execution_count": 28,
   "metadata": {
    "collapsed": true
   },
   "outputs": [
    {
     "name": "stdout",
     "output_type": "stream",
     "text": [
      "Saving <class 'list'> to C:\\Users\\Vinny\\OneDrive - University of Glasgow\\Glasgow\\DsDA\\DsDA_Simulator\\Samples\\\\sample_0.p\n",
      "Saving <class 'list'> to C:\\Users\\Vinny\\OneDrive - University of Glasgow\\Glasgow\\DsDA\\DsDA_Simulator\\Samples\\\\sample_1.p\n",
      "Saving <class 'list'> to C:\\Users\\Vinny\\OneDrive - University of Glasgow\\Glasgow\\DsDA\\DsDA_Simulator\\Samples\\\\sample_2.p\n",
      "Saving <class 'list'> to C:\\Users\\Vinny\\OneDrive - University of Glasgow\\Glasgow\\DsDA\\DsDA_Simulator\\Samples\\\\sample_3.p\n",
      "Saving <class 'list'> to C:\\Users\\Vinny\\OneDrive - University of Glasgow\\Glasgow\\DsDA\\DsDA_Simulator\\Samples\\\\sample_4.p\n",
      "Saving <class 'list'> to C:\\Users\\Vinny\\OneDrive - University of Glasgow\\Glasgow\\DsDA\\DsDA_Simulator\\Samples\\\\sample_5.p\n",
      "Saving <class 'list'> to C:\\Users\\Vinny\\OneDrive - University of Glasgow\\Glasgow\\DsDA\\DsDA_Simulator\\Samples\\\\sample_6.p\n",
      "Saving <class 'list'> to C:\\Users\\Vinny\\OneDrive - University of Glasgow\\Glasgow\\DsDA\\DsDA_Simulator\\Samples\\\\sample_7.p\n",
      "Saving <class 'list'> to C:\\Users\\Vinny\\OneDrive - University of Glasgow\\Glasgow\\DsDA\\DsDA_Simulator\\Samples\\\\sample_8.p\n",
      "Saving <class 'list'> to C:\\Users\\Vinny\\OneDrive - University of Glasgow\\Glasgow\\DsDA\\DsDA_Simulator\\Samples\\\\sample_9.p\n",
      "Saving <class 'list'> to C:\\Users\\Vinny\\OneDrive - University of Glasgow\\Glasgow\\DsDA\\DsDA_Simulator\\Samples\\\\sample_10.p\n",
      "Saving <class 'list'> to C:\\Users\\Vinny\\OneDrive - University of Glasgow\\Glasgow\\DsDA\\DsDA_Simulator\\Samples\\\\sample_11.p\n",
      "Saving <class 'list'> to C:\\Users\\Vinny\\OneDrive - University of Glasgow\\Glasgow\\DsDA\\DsDA_Simulator\\Samples\\\\sample_12.p\n",
      "Saving <class 'list'> to C:\\Users\\Vinny\\OneDrive - University of Glasgow\\Glasgow\\DsDA\\DsDA_Simulator\\Samples\\\\sample_13.p\n",
      "Saving <class 'list'> to C:\\Users\\Vinny\\OneDrive - University of Glasgow\\Glasgow\\DsDA\\DsDA_Simulator\\Samples\\\\sample_14.p\n",
      "Saving <class 'list'> to C:\\Users\\Vinny\\OneDrive - University of Glasgow\\Glasgow\\DsDA\\DsDA_Simulator\\Samples\\\\sample_15.p\n",
      "Saving <class 'list'> to C:\\Users\\Vinny\\OneDrive - University of Glasgow\\Glasgow\\DsDA\\DsDA_Simulator\\Samples\\\\sample_16.p\n",
      "Saving <class 'list'> to C:\\Users\\Vinny\\OneDrive - University of Glasgow\\Glasgow\\DsDA\\DsDA_Simulator\\Samples\\\\sample_17.p\n",
      "Saving <class 'list'> to C:\\Users\\Vinny\\OneDrive - University of Glasgow\\Glasgow\\DsDA\\DsDA_Simulator\\Samples\\\\sample_18.p\n",
      "Saving <class 'list'> to C:\\Users\\Vinny\\OneDrive - University of Glasgow\\Glasgow\\DsDA\\DsDA_Simulator\\Samples\\\\sample_19.p\n"
     ]
    }
   ],
   "source": [
    "n_samples = [20]\n",
    "classes = [\"class1\"]\n",
    "intensity_noise_sd = [10000]\n",
    "change_probabilities = None\n",
    "change_differences_means = None\n",
    "change_differences_sds = None\n",
    "dropout_probabilities = None \n",
    "experimental_classes = None \n",
    "experimental_probabilitities = None \n",
    "experimental_sds = None\n",
    "save_location = 'C:\\\\Users\\\\Vinny\\\\OneDrive - University of Glasgow\\\\Glasgow\\\\DsDA\\\\DsDA_Simulator\\\\Samples\\\\'\n",
    "\n",
    "multiple_samples = MultiSampleCreator(dataset, n_samples, classes, intensity_noise_sd, \n",
    "                                      change_probabilities, change_differences_means, change_differences_sds, dropout_probabilities,\n",
    "                                     experimental_classes, experimental_probabilitities, experimental_sds, save_location=save_location)"
   ]
  },
  {
   "cell_type": "code",
   "execution_count": 29,
   "metadata": {
    "collapsed": true
   },
   "outputs": [
    {
     "name": "stderr",
     "output_type": "stream",
     "text": [
      "1440.1140399999788it [00:45, 31.65it/s]                                                                                                                                                                                                      \n",
      "1440.2080899999864it [00:44, 32.08it/s]                                                                                                                                                                                                      \n",
      "1440.0747599999847it [00:43, 32.90it/s]                                                                                                                                                                                                      \n",
      "1440.2050799999838it [00:50, 28.79it/s]                                                                                                                                                                                                      \n",
      "1440.1657999999877it [00:57, 25.25it/s]                                                                                                                                                                                                      \n",
      "1440.1254599999895it [00:54, 26.52it/s]                                                                                                                                                                                                      \n",
      "1440.0360699999808it [00:55, 25.72it/s]                                                                                                                                                                                                      \n",
      "1440.0804799999921it [00:58, 24.51it/s]                                                                                                                                                                                                      \n",
      "1440.0002799999857it [01:00, 23.66it/s]                                                                                                                                                                                                      \n",
      "1440.2281099999907it [01:01, 23.47it/s]                                                                                                                                                                                                      \n",
      "1440.2739499999768it [01:03, 22.77it/s]                                                                                                                                                                                                      \n",
      "1440.2144699999817it [01:03, 22.56it/s]                                                                                                                                                                                                      \n",
      "1440.0437099999874it [01:05, 21.98it/s]                                                                                                                                                                                                      \n",
      "1440.0598699999966it [01:04, 22.18it/s]                                                                                                                                                                                                      \n",
      "1440.0010299999872it [01:07, 21.22it/s]                                                                                                                                                                                                      \n",
      "1440.3173899999842it [01:01, 23.32it/s]                                                                                                                                                                                                      \n",
      "1440.0355399999887it [01:12, 19.84it/s]                                                                                                                                                                                                      \n",
      "1440.09197999999it [01:31, 15.75it/s]                                                                                                                                                                                                        \n",
      "1440.1892299999881it [01:15, 18.98it/s]                                                                                                                                                                                                      \n",
      "1440.0593399999857it [01:09, 20.81it/s]                                                                                                                                                                                                      \n"
     ]
    }
   ],
   "source": [
    "min_rt = 0\n",
    "max_rt = 1440 \n",
    "mzml_dir = 'C:\\\\Users\\\\Vinny\\\\OneDrive - University of Glasgow\\\\Glasgow\\\\DsDA\\\\DsDA_Simulator\\\\Samples\\\\mzML\\\\'\n",
    "for i in range(n_samples[0]):\n",
    "    sample = load_obj('C:\\\\Users\\\\Vinny\\\\OneDrive - University of Glasgow\\\\Glasgow\\\\DsDA\\\\DsDA_Simulator\\\\Samples\\\\sample_' + '%d.p' % i)\n",
    "    mass_spec = IndependentMassSpectrometer(POSITIVE, sample, density=ps.density_estimator)\n",
    "    controller = SimpleMs1Controller(mass_spec)\n",
    "    controller.run(min_rt,max_rt)\n",
    "    controller.write_mzML('my_analysis', mzml_dir + '\\\\%d.mzML' % i)"
   ]
  },
  {
   "cell_type": "markdown",
   "metadata": {},
   "source": [
    "# Run DsDA on Simulator Data"
   ]
  },
  {
   "cell_type": "code",
   "execution_count": 14,
   "metadata": {},
   "outputs": [],
   "source": [
    "schedule_dir = 'C:\\\\Users\\\\Vinny\\\\OneDrive - University of Glasgow\\\\Glasgow\\\\DsDA\\\\DsDA_Simulator\\\\settings'\n",
    "data_dir = 'C:\\\\Users\\\\Vinny\\\\OneDrive - University of Glasgow\\\\Glasgow\\\\DsDA\\\\DsDA_Simulator\\\\Data'\n",
    "controllers_dir = 'C:\\\\Users\\\\Vinny\\\\OneDrive - University of Glasgow\\\\Glasgow\\\\DsDA\\\\DsDA_Simulator\\\\controllers'\n",
    "t4_controllers_dir = 'C:\\\\Users\\\\Vinny\\\\OneDrive - University of Glasgow\\\\Glasgow\\\\DsDA\\\\DsDA_Simulator\\\\T4_controllers'"
   ]
  },
  {
   "cell_type": "code",
   "execution_count": 15,
   "metadata": {},
   "outputs": [],
   "source": [
    "isolation_window = 1   # the isolation window in Dalton around a selected precursor ion\n",
    "min_ms1_intensity = 1.75E5 # minimum ms1 intensity to fragment\n",
    "min_rt = 3*60\n",
    "max_rt = 21*60\n",
    "N = 4\n",
    "rt_tol = 15\n",
    "mz_tol = 10"
   ]
  },
  {
   "cell_type": "code",
   "execution_count": null,
   "metadata": {},
   "outputs": [],
   "source": [
    "initial_schedule = get_schedule(1, t4_controllers_dir)\n",
    "print(\"start\")\n",
    "n_samples = 3\n",
    "for n in range(n_samples):\n",
    "    dataset = load_obj('C:\\\\Users\\\\Vinny\\\\OneDrive - University of Glasgow\\\\Glasgow\\\\DsDA\\\\DsDA_Simulator\\\\Samples\\\\sample_%d.p' % n)\n",
    "    if n == 0:\n",
    "        mass_spec = IndependentMassSpectrometer(POSITIVE, dataset, density=ps.density_estimator, schedule_file=initial_schedule)\n",
    "        controller = TopNController(mass_spec, N, isolation_window, mz_tol, rt_tol, min_ms1_intensity)\n",
    "        controller.run()\n",
    "    else:\n",
    "        last_schedule = get_schedule(n, schedule_dir)\n",
    "        mass_spec = DsDAMassSpec(POSITIVE, dataset, density=ps.density_estimator)\n",
    "        controller = DsDAController(mass_spec, 1, 0.5, 15, 2E5)\n",
    "        controller.run(last_schedule)\n",
    "    print(\"Processed \", n+1, \" files\")\n",
    "    if n == 0:\n",
    "        print(\"Run R File\")\n",
    "        print(\"When asked, select the DsDA_Test location\")\n",
    "    controller.write_mzML('my_analysis', data_dir + '\\\\%d.mzML' % n)\n",
    "    save_obj(controller, controllers_dir + '\\\\%d.p' % n)"
   ]
  },
  {
   "cell_type": "markdown",
   "metadata": {},
   "source": [
    "# Code to Analyse Simulated Data"
   ]
  },
  {
   "cell_type": "code",
   "execution_count": 18,
   "metadata": {},
   "outputs": [],
   "source": [
    "t4_controller_directory = 'C:\\\\Users\\\\Vinny\\\\OneDrive - University of Glasgow\\\\Glasgow\\\\DsDA\\\\T4_Simulator'\n",
    "dsda_controller_directory = 'C:\\\\Users\\\\Vinny\\\\OneDrive - University of Glasgow\\\\Glasgow\\\\DsDA\\\\DsDA_Simulator\\\\controllers'\n",
    "dsda_maxdepth_controller_directory = 'C:\\\\Users\\\\Vinny\\\\OneDrive - University of Glasgow\\\\Glasgow\\\\DsDA\\\\DsDA_Simulator_MaxDepth\\\\controllers'"
   ]
  },
  {
   "cell_type": "code",
   "execution_count": 21,
   "metadata": {},
   "outputs": [
    {
     "name": "stdout",
     "output_type": "stream",
     "text": [
      "Completed Controller 1\n",
      "Completed Controller 2\n",
      "Completed Controller 3\n",
      "Completed Controller 4\n",
      "Completed Controller 5\n",
      "Completed Controller 6\n",
      "Completed Controller 7\n",
      "Completed Controller 8\n",
      "Completed Controller 9\n",
      "Completed Controller 10\n",
      "Completed Controller 11\n",
      "Completed Controller 12\n",
      "Completed Controller 13\n",
      "Completed Controller 14\n",
      "Completed Controller 15\n",
      "Completed Controller 16\n",
      "Completed Controller 17\n",
      "Completed Controller 18\n",
      "Completed Controller 19\n",
      "Completed Controller 20\n",
      "Completed Controller 1\n",
      "Completed Controller 2\n",
      "Completed Controller 3\n",
      "Completed Controller 4\n",
      "Completed Controller 5\n",
      "Completed Controller 6\n",
      "Completed Controller 7\n",
      "Completed Controller 8\n",
      "Completed Controller 9\n",
      "Completed Controller 10\n",
      "Completed Controller 11\n",
      "Completed Controller 12\n",
      "Completed Controller 13\n",
      "Completed Controller 14\n",
      "Completed Controller 15\n",
      "Completed Controller 16\n",
      "Completed Controller 17\n",
      "Completed Controller 18\n",
      "Completed Controller 19\n",
      "Completed Controller 20\n",
      "Completed Controller 1\n",
      "Completed Controller 2\n",
      "Completed Controller 3\n",
      "Completed Controller 4\n",
      "Completed Controller 5\n",
      "Completed Controller 6\n",
      "Completed Controller 7\n",
      "Completed Controller 8\n",
      "Completed Controller 9\n",
      "Completed Controller 10\n",
      "Completed Controller 11\n",
      "Completed Controller 12\n",
      "Completed Controller 13\n",
      "Completed Controller 14\n",
      "Completed Controller 15\n",
      "Completed Controller 16\n",
      "Completed Controller 17\n",
      "Completed Controller 18\n",
      "Completed Controller 19\n",
      "Completed Controller 20\n"
     ]
    }
   ],
   "source": [
    "T4_perf = fragmentation_performance_chemicals(t4_controller_directory, min_acceptable_intensity=1.75E5)\n",
    "DsDA_perf = fragmentation_performance_chemicals(dsda_controller_directory, min_acceptable_intensity=1.75E5)\n",
    "DsDA_maxdepth_perf = fragmentation_performance_chemicals(dsda_maxdepth_controller_directory, min_acceptable_intensity=1.75E5)"
   ]
  },
  {
   "cell_type": "code",
   "execution_count": 43,
   "metadata": {
    "scrolled": true
   },
   "outputs": [
    {
     "data": {
      "image/png": "[encoded data removed]",
      "text/plain": [
       "<Figure size 864x432 with 1 Axes>"
      ]
     },
     "metadata": {
      "needs_background": "light"
     },
     "output_type": "display_data"
    }
   ],
   "source": [
    "plt.figure(figsize=(12, 6))\n",
    "plt.plot(range(1,21,1),np.array(DsDA_maxdepth_perf[1]),label=\"DsDA MaxDepth\")\n",
    "plt.plot(range(1,21,1),np.array(DsDA_perf[1]),label=\"DsDA\")\n",
    "plt.plot(range(1,21,1),np.array(T4_perf[1]),label=\"T4\")\n",
    "plt.legend(loc='center right')\n",
    "ax = plt.gca()\n",
    "for l in ax.lines:\n",
    "    plt.setp(l, linewidth=5)\n",
    "plt.tight_layout()\n",
    "plt.savefig('C:\\\\Users\\\\Vinny\\\\OneDrive - University of Glasgow\\\\Glasgow\\\\DsDA\\\\Figures\\\\dsda_simulated_chemicals.png', dpi=300)"
   ]
  },
  {
   "cell_type": "markdown",
   "metadata": {},
   "source": [
    "alternative version"
   ]
  },
  {
   "cell_type": "code",
   "execution_count": 23,
   "metadata": {},
   "outputs": [],
   "source": [
    "t4_controller_directory = 'C:\\\\Users\\\\Vinny\\\\OneDrive - University of Glasgow\\\\Glasgow\\\\DsDA\\\\T4_Simulator\\\\'\n",
    "dsda_controller_directory = 'C:\\\\Users\\\\Vinny\\\\OneDrive - University of Glasgow\\\\Glasgow\\\\DsDA\\\\DsDA_Simulator\\\\controllers\\\\'\n",
    "dsda_maxdepth_controller_directory = 'C:\\\\Users\\\\Vinny\\\\OneDrive - University of Glasgow\\\\Glasgow\\\\DsDA\\\\DsDA_Simulator_MaxDepth\\\\controllers\\\\'\n",
    "\n",
    "aligned_simulator_chemicals = 'C:\\\\Users\\\\Vinny\\\\OneDrive - University of Glasgow\\\\Glasgow\\\\DsDA\\\\XCMS_Picked_Peaks\\\\simulated_aligned_features_ms1.csv'\n",
    "\n",
    "params_t4 = create_frag_dicts(t4_controller_directory, aligned_simulator_chemicals, 1.75E5)\n",
    "params_dsda = create_frag_dicts(dsda_controller_directory, aligned_simulator_chemicals, 1.75E5)\n",
    "params_dsda_maxdepth = create_frag_dicts(dsda_maxdepth_controller_directory, aligned_simulator_chemicals, 1.75E5)"
   ]
  },
  {
   "cell_type": "code",
   "execution_count": 24,
   "metadata": {},
   "outputs": [],
   "source": [
    "chemicals_found_results_t4 = multi_sample_fragmentation_performance_aligned(params_t4)\n",
    "chemicals_found_results_dsda = multi_sample_fragmentation_performance_aligned(params_dsda)\n",
    "chemicals_found_results_dsda_maxdepth = multi_sample_fragmentation_performance_aligned(params_dsda_maxdepth)"
   ]
  },
  {
   "cell_type": "code",
   "execution_count": 10,
   "metadata": {},
   "outputs": [],
   "source": [
    "plt.rcParams.update({'font.size': 18})"
   ]
  },
  {
   "cell_type": "code",
   "execution_count": 44,
   "metadata": {},
   "outputs": [
    {
     "data": {
      "image/png": "[encoded data removed]",
      "text/plain": [
       "<Figure size 864x432 with 1 Axes>"
      ]
     },
     "metadata": {
      "needs_background": "light"
     },
     "output_type": "display_data"
    }
   ],
   "source": [
    "plt.figure(figsize=(12, 6))\n",
    "plt.plot(range(1,21,1),np.array(chemicals_found_results_dsda_maxdepth),label=\"DsDA MaxDepth\")\n",
    "plt.plot(range(1,21,1),np.array(chemicals_found_results_dsda),label=\"DsDA\")\n",
    "plt.plot(range(1,21,1),np.array(chemicals_found_results_t4),label=\"T4\")\n",
    "plt.legend(loc='center right')\n",
    "ax = plt.gca()\n",
    "for l in ax.lines:\n",
    "    plt.setp(l, linewidth=5)\n",
    "plt.tight_layout()\n",
    "plt.savefig('C:\\\\Users\\\\Vinny\\\\OneDrive - University of Glasgow\\\\Glasgow\\\\DsDA\\\\Figures\\\\dsda_simulated_xcms.png', dpi=300)"
   ]
  }
 ],
 "metadata": {
  "kernelspec": {
   "display_name": "Python 3",
   "language": "python",
   "name": "python3"
  },
  "language_info": {
   "codemirror_mode": {
    "name": "ipython",
    "version": 3
   },
   "file_extension": ".py",
   "mimetype": "text/x-python",
   "name": "python",
   "nbconvert_exporter": "python",
   "pygments_lexer": "ipython3",
   "version": "3.7.3"
  }
 },
 "nbformat": 4,
 "nbformat_minor": 1
}
