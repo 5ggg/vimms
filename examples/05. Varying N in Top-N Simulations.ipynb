{
 "cells": [
  {
   "cell_type": "markdown",
   "metadata": {},
   "source": [
    "# 5. Varying N in Top-N Simulations"
   ]
  },
  {
   "cell_type": "markdown",
   "metadata": {},
   "source": [
    "This notebook loads an existing Beer1pos data and runs it through the simulator with varying N (the number of precursor peaks selected for fragmentations) for Top-N DDA fragmentation. The results here correspond to Section 3.3 in the paper for the Beer1pos data."
   ]
  },
  {
   "cell_type": "code",
   "execution_count": 1,
   "metadata": {},
   "outputs": [],
   "source": [
    "%load_ext autoreload\n",
    "%autoreload 2\n",
    "%matplotlib inline"
   ]
  },
  {
   "cell_type": "code",
   "execution_count": 2,
   "metadata": {},
   "outputs": [],
   "source": [
    "import numpy as np\n",
    "import pandas as pd\n",
    "import pylab as plt\n",
    "import pymzml\n",
    "import math\n",
    "import seaborn as sns"
   ]
  },
  {
   "cell_type": "code",
   "execution_count": 3,
   "metadata": {},
   "outputs": [],
   "source": [
    "import sys\n",
    "sys.path.append('..')"
   ]
  },
  {
   "cell_type": "code",
   "execution_count": 44,
   "metadata": {},
   "outputs": [],
   "source": [
    "from vimms.Roi import RoiToChemicalCreator, make_roi\n",
    "from vimms.DataGenerator import DataSource, PeakDensityEstimator, PeakSampler\n",
    "from vimms.MassSpec import IndependentMassSpectrometer\n",
    "from vimms.Controller import TopNController\n",
    "from vimms.TopNExperiment import get_params, run_serial_experiment, run_parallel_experiment\n",
    "from vimms.PlotsForPaper import get_df, load_controller, compute_performance_scenario_2\n",
    "from vimms.Common import *"
   ]
  },
  {
   "cell_type": "code",
   "execution_count": 5,
   "metadata": {},
   "outputs": [],
   "source": [
    "set_log_level_info()"
   ]
  },
  {
   "cell_type": "markdown",
   "metadata": {},
   "source": [
    "## 1. Parameters"
   ]
  },
  {
   "cell_type": "code",
   "execution_count": 30,
   "metadata": {},
   "outputs": [],
   "source": [
    "base_dir = 'example_data'\n",
    "mzml_path = os.path.join(base_dir, 'beers\\\\fragmentation\\\\mzML')\n",
    "file_name = 'Beer_multibeers_1_T10_POS.mzML'\n",
    "\n",
    "experiment_name = 'beer1pos'\n",
    "experiment_out_dir = os.path.abspath(os.path.join(base_dir, 'results', experiment_name, 'mzML'))"
   ]
  },
  {
   "cell_type": "code",
   "execution_count": 31,
   "metadata": {},
   "outputs": [
    {
     "data": {
      "text/plain": [
       "'C:\\\\Users\\\\joewa\\\\Work\\\\git\\\\vimms\\\\examples\\\\example_data\\\\results\\\\beer1pos\\\\mzML'"
      ]
     },
     "execution_count": 31,
     "metadata": {},
     "output_type": "execute_result"
    }
   ],
   "source": [
    "experiment_out_dir"
   ]
  },
  {
   "cell_type": "code",
   "execution_count": 8,
   "metadata": {},
   "outputs": [],
   "source": [
    "min_rt = 3*60 # start time when compounds begin to elute in the mzML file\n",
    "max_rt = 21*60"
   ]
  },
  {
   "cell_type": "code",
   "execution_count": 9,
   "metadata": {},
   "outputs": [],
   "source": [
    "kde_min_ms1_intensity = 0 # min intensity to be selected for kdes\n",
    "kde_min_ms2_intensity = 0"
   ]
  },
  {
   "cell_type": "markdown",
   "metadata": {},
   "source": [
    "### a. ROI extraction parameters"
   ]
  },
  {
   "cell_type": "code",
   "execution_count": 10,
   "metadata": {},
   "outputs": [],
   "source": [
    "roi_mz_tol = 10\n",
    "roi_min_length = 1\n",
    "roi_min_intensity = 0\n",
    "roi_start_rt = min_rt\n",
    "roi_stop_rt = max_rt"
   ]
  },
  {
   "cell_type": "markdown",
   "metadata": {},
   "source": [
    "### b. Top-N parameters"
   ]
  },
  {
   "cell_type": "code",
   "execution_count": 11,
   "metadata": {},
   "outputs": [],
   "source": [
    "isolation_window = 1   # the isolation window in Dalton around a selected precursor ion\n",
    "ionisation_mode = POSITIVE\n",
    "N = 10\n",
    "rt_tol = 15\n",
    "mz_tol = 10\n",
    "min_ms1_intensity = 1.75E5 # minimum ms1 intensity to fragment"
   ]
  },
  {
   "cell_type": "code",
   "execution_count": 12,
   "metadata": {},
   "outputs": [],
   "source": [
    "mzml_out = os.path.join(experiment_out_dir, 'simulated.mzML')"
   ]
  },
  {
   "cell_type": "markdown",
   "metadata": {},
   "source": [
    "## 2. Train densities"
   ]
  },
  {
   "cell_type": "code",
   "execution_count": 13,
   "metadata": {
    "scrolled": false
   },
   "outputs": [
    {
     "name": "stderr",
     "output_type": "stream",
     "text": [
      "INFO   : DataSource                     : Loading Beer_multibeers_1_T10_POS.mzML\n"
     ]
    },
    {
     "name": "stdout",
     "output_type": "stream",
     "text": [
      "example_data\\beers\\fragmentation\\mzML\\Beer_multibeers_1_T10_POS.mzML\n"
     ]
    }
   ],
   "source": [
    "ds = DataSource()\n",
    "ds.load_data(mzml_path, file_name=file_name)"
   ]
  },
  {
   "cell_type": "code",
   "execution_count": 14,
   "metadata": {},
   "outputs": [],
   "source": [
    "# ds.plot_data(file_name, ms_level=1, max_data=100000, min_rt=min_rt, max_rt=max_rt)"
   ]
  },
  {
   "cell_type": "code",
   "execution_count": 15,
   "metadata": {},
   "outputs": [],
   "source": [
    "# ds.plot_data(file_name, ms_level=2, max_data=100000, min_rt=min_rt, max_rt=max_rt)"
   ]
  },
  {
   "cell_type": "code",
   "execution_count": 16,
   "metadata": {},
   "outputs": [
    {
     "name": "stderr",
     "output_type": "stream",
     "text": [
      "INFO   : DataSource                     : Using values from scans\n"
     ]
    }
   ],
   "source": [
    "densities = PeakDensityEstimator(kde_min_ms1_intensity, kde_min_ms2_intensity, min_rt, max_rt)\n",
    "densities.kde(ds, file_name, 2, bandwidth_mz_intensity_rt=1.0, bandwidth_n_peaks=1.0)\n",
    "ps = PeakSampler(densities)"
   ]
  },
  {
   "cell_type": "markdown",
   "metadata": {},
   "source": [
    "## 3. Extract all ROIs"
   ]
  },
  {
   "cell_type": "code",
   "execution_count": 17,
   "metadata": {
    "scrolled": true
   },
   "outputs": [
    {
     "name": "stdout",
     "output_type": "stream",
     "text": [
      "example_data\\beers\\fragmentation\\mzML\\Beer_multibeers_1_T10_POS.mzML\n"
     ]
    }
   ],
   "source": [
    "mzml_file = os.path.join(mzml_path, file_name)\n",
    "good_roi, junk = make_roi(mzml_file, mz_tol=roi_mz_tol, mz_units='ppm', min_length=roi_min_length,\n",
    "                          min_intensity=roi_min_intensity, start_rt=roi_start_rt, stop_rt=roi_stop_rt)"
   ]
  },
  {
   "cell_type": "code",
   "execution_count": 18,
   "metadata": {},
   "outputs": [
    {
     "data": {
      "text/plain": [
       "266107"
      ]
     },
     "execution_count": 18,
     "metadata": {},
     "output_type": "execute_result"
    }
   ],
   "source": [
    "all_roi = good_roi + junk\n",
    "len(all_roi)"
   ]
  },
  {
   "cell_type": "markdown",
   "metadata": {},
   "source": [
    "How many singleton and non-singleton ROIs?"
   ]
  },
  {
   "cell_type": "code",
   "execution_count": 19,
   "metadata": {},
   "outputs": [
    {
     "data": {
      "text/plain": [
       "185119"
      ]
     },
     "execution_count": 19,
     "metadata": {},
     "output_type": "execute_result"
    }
   ],
   "source": [
    "len([roi for roi in all_roi if roi.n == 1])"
   ]
  },
  {
   "cell_type": "code",
   "execution_count": 20,
   "metadata": {},
   "outputs": [
    {
     "data": {
      "text/plain": [
       "80988"
      ]
     },
     "execution_count": 20,
     "metadata": {},
     "output_type": "execute_result"
    }
   ],
   "source": [
    "len([roi for roi in all_roi if roi.n > 1])"
   ]
  },
  {
   "cell_type": "markdown",
   "metadata": {},
   "source": [
    "Keep only the ROIs that can be fragmented above **min_ms1_intensity threshold**."
   ]
  },
  {
   "cell_type": "code",
   "execution_count": 21,
   "metadata": {},
   "outputs": [
    {
     "data": {
      "text/plain": [
       "175000.0"
      ]
     },
     "execution_count": 21,
     "metadata": {},
     "output_type": "execute_result"
    }
   ],
   "source": [
    "min_ms1_intensity"
   ]
  },
  {
   "cell_type": "code",
   "execution_count": 22,
   "metadata": {},
   "outputs": [
    {
     "data": {
      "text/plain": [
       "10079"
      ]
     },
     "execution_count": 22,
     "metadata": {},
     "output_type": "execute_result"
    }
   ],
   "source": [
    "keep = []\n",
    "for roi in all_roi:\n",
    "    if np.count_nonzero(np.array(roi.intensity_list) > min_ms1_intensity) > 0:\n",
    "        keep.append(roi)\n",
    "\n",
    "all_roi = keep\n",
    "len(keep)"
   ]
  },
  {
   "cell_type": "markdown",
   "metadata": {},
   "source": [
    "Turn ROIs into chromatograms/chemicals"
   ]
  },
  {
   "cell_type": "code",
   "execution_count": 23,
   "metadata": {},
   "outputs": [
    {
     "name": "stderr",
     "output_type": "stream",
     "text": [
      "DEBUG  : RoiToChemicalCreator           :      0/ 10079\n",
      "INFO   : RoiToChemicalCreator           : Found 10079 ROIs above thresholds\n"
     ]
    }
   ],
   "source": [
    "set_log_level_debug()\n",
    "rtcc = RoiToChemicalCreator(ps, all_roi)"
   ]
  },
  {
   "cell_type": "code",
   "execution_count": 24,
   "metadata": {},
   "outputs": [
    {
     "name": "stdout",
     "output_type": "stream",
     "text": [
      "Created example_data\\results\\beer1pos\\mzML\n",
      "Saving <class 'list'> to example_data\\results\\beer1pos\\mzML\\dataset.p\n"
     ]
    }
   ],
   "source": [
    "data = rtcc.chemicals\n",
    "save_obj(data, os.path.join(experiment_out_dir, 'dataset.p'))"
   ]
  },
  {
   "cell_type": "markdown",
   "metadata": {},
   "source": [
    "## 4. Run Top-N Controller"
   ]
  },
  {
   "cell_type": "code",
   "execution_count": 33,
   "metadata": {},
   "outputs": [],
   "source": [
    "density = ps.density_estimator\n",
    "set_log_level_warning()\n",
    "pbar = False # turn off progress bar"
   ]
  },
  {
   "cell_type": "code",
   "execution_count": 34,
   "metadata": {},
   "outputs": [],
   "source": [
    "Ns = [1, 2, 3, 4, 5, 6, 7, 8, 9, 10, 15, 20, 25, 30, 35, 40, 45, 50, 55, 60, 65, 70, 75, 80, 85, 90, 95, 100]\n",
    "rt_tols = [15]"
   ]
  },
  {
   "cell_type": "code",
   "execution_count": 35,
   "metadata": {},
   "outputs": [
    {
     "name": "stdout",
     "output_type": "stream",
     "text": [
      "N = [1, 2, 3, 4, 5, 6, 7, 8, 9, 10, 15, 20, 25, 30, 35, 40, 45, 50, 55, 60, 65, 70, 75, 80, 85, 90, 95, 100]\n",
      "rt_tol = [15]\n",
      "len(params) = 28\n"
     ]
    }
   ],
   "source": [
    "params = get_params(experiment_name, Ns, rt_tols, mz_tol, isolation_window, ionisation_mode, data, density, \n",
    "                    min_ms1_intensity, min_rt, max_rt, experiment_out_dir, pbar)"
   ]
  },
  {
   "cell_type": "code",
   "execution_count": 36,
   "metadata": {},
   "outputs": [
    {
     "data": {
      "text/plain": [
       "'C:\\\\Users\\\\joewa\\\\Work\\\\git\\\\vimms\\\\examples\\\\example_data\\\\results\\\\beer1pos\\\\mzML'"
      ]
     },
     "execution_count": 36,
     "metadata": {},
     "output_type": "execute_result"
    }
   ],
   "source": [
    "experiment_out_dir"
   ]
  },
  {
   "cell_type": "markdown",
   "metadata": {},
   "source": [
    "Run the experiments."
   ]
  },
  {
   "cell_type": "code",
   "execution_count": 37,
   "metadata": {
    "scrolled": true
   },
   "outputs": [],
   "source": [
    "# %time run_serial_experiment(params)"
   ]
  },
  {
   "cell_type": "markdown",
   "metadata": {},
   "source": [
    "Alternatively  since each simulated run is completely independent of the others, we can save time by running the different values of N in parallel. Here we use the [iparallel](https://ipyparallel.readthedocs.io/en/latest/) package. To do this, start a local parallel cluster with the following command:\n",
    "\n",
    "$ ipcluster start -n 5\n",
    "\n",
    "where 5 is the number of cores to use (for example)."
   ]
  },
  {
   "cell_type": "code",
   "execution_count": 38,
   "metadata": {},
   "outputs": [
    {
     "name": "stdout",
     "output_type": "stream",
     "text": [
      "experiment_beer1pos_N_1_rttol_15\n",
      "experiment_beer1pos_N_2_rttol_15\n",
      "experiment_beer1pos_N_3_rttol_15\n",
      "experiment_beer1pos_N_4_rttol_15\n",
      "experiment_beer1pos_N_5_rttol_15\n",
      "experiment_beer1pos_N_6_rttol_15\n",
      "experiment_beer1pos_N_7_rttol_15\n",
      "experiment_beer1pos_N_8_rttol_15\n",
      "experiment_beer1pos_N_9_rttol_15\n",
      "experiment_beer1pos_N_10_rttol_15\n",
      "experiment_beer1pos_N_15_rttol_15\n",
      "experiment_beer1pos_N_20_rttol_15\n",
      "experiment_beer1pos_N_25_rttol_15\n",
      "experiment_beer1pos_N_30_rttol_15\n",
      "experiment_beer1pos_N_35_rttol_15\n",
      "experiment_beer1pos_N_40_rttol_15\n",
      "experiment_beer1pos_N_45_rttol_15\n",
      "experiment_beer1pos_N_50_rttol_15\n",
      "experiment_beer1pos_N_55_rttol_15\n",
      "experiment_beer1pos_N_60_rttol_15\n",
      "experiment_beer1pos_N_65_rttol_15\n",
      "experiment_beer1pos_N_70_rttol_15\n",
      "experiment_beer1pos_N_75_rttol_15\n",
      "experiment_beer1pos_N_80_rttol_15\n",
      "experiment_beer1pos_N_85_rttol_15\n",
      "experiment_beer1pos_N_90_rttol_15\n",
      "experiment_beer1pos_N_95_rttol_15\n",
      "experiment_beer1pos_N_100_rttol_15\n",
      "Wall time: 19min 26s\n"
     ]
    }
   ],
   "source": [
    "%time run_parallel_experiment(params)"
   ]
  },
  {
   "cell_type": "markdown",
   "metadata": {},
   "source": [
    "## 5. Analyse Results"
   ]
  },
  {
   "cell_type": "markdown",
   "metadata": {},
   "source": [
    "Now we need to load the ground truth peaks found by xcms from each mzML file.\n",
    "- P = peaks picked by XCMS from the full-scan file\n",
    "- Q = peaks picked by XCMS from the fragmentation file\n",
    "\n",
    "Peak picking was done using the script `extract_peaks.R` in the `example_data/results/ground_truth` folder. "
   ]
  },
  {
   "cell_type": "markdown",
   "metadata": {},
   "source": [
    "**Manual step: to generate the lists of ground truth peaks for evaluation, please run the R script on both the full-scan and simulated fragmentation files.**\n",
    "\n",
    "Steps for peak picking on full-scan files:\n",
    "1. Place your full-scan .mzML file in `examples\\example_data\\results\\ground_truth\\mzML`.\n",
    "2. Open a new R window and run the R script `examples\\example_data\\results\\ground_truth\\extract_peaks.R`. The script will process any files found in an `mzML` folder relative to its current location.\n",
    "\n",
    "Steps for peak picking on simulated fragmentation files:\n",
    "1. Copy the same R script to `examples\\example_data\\results\\beer1pos` and run it."
   ]
  },
  {
   "cell_type": "code",
   "execution_count": 40,
   "metadata": {},
   "outputs": [],
   "source": [
    "min_ms1_intensity = 0\n",
    "rt_range = [(min_rt, max_rt)]\n",
    "mz_range = [(0, math.inf)]\n",
    "results_dir = os.path.join(base_dir, 'results', 'ground_truth', 'mzML')   \n",
    "csv_file = os.path.join(results_dir, 'extracted_peaks_ms1.csv')\n",
    "P_peaks_df = get_df(csv_file, min_ms1_intensity, rt_range, mz_range)"
   ]
  },
  {
   "cell_type": "code",
   "execution_count": 41,
   "metadata": {},
   "outputs": [],
   "source": [
    "csv_file = os.path.join(experiment_out_dir, 'extracted_peaks_ms1.csv')\n",
    "Q_peaks_df = get_df(csv_file, min_ms1_intensity, rt_range, mz_range)"
   ]
  },
  {
   "cell_type": "code",
   "execution_count": 42,
   "metadata": {},
   "outputs": [],
   "source": [
    "fullscan_filename = 'Beer_multibeers_1_fullscan1.mzML'   \n",
    "matching_mz_tol = 10 # ppm\n",
    "matching_rt_tol = 30 # seconds"
   ]
  },
  {
   "cell_type": "code",
   "execution_count": 47,
   "metadata": {},
   "outputs": [
    {
     "name": "stdout",
     "output_type": "stream",
     "text": [
      "Loading experiment_beer1pos_N_1_rttol_15\n",
      "Matched 3678/10079 in fullscan data, 6650/10079 in fragmentation data\n",
      "beer1pos N=1 rt_tol=15 tp=1197 fp=953 fn=2481 prec=0.557 rec=0.325 f1=0.411\n",
      "Loading experiment_beer1pos_N_2_rttol_15\n",
      "Matched 3678/10079 in fullscan data, 6535/10079 in fragmentation data\n",
      "beer1pos N=2 rt_tol=15 tp=1520 fp=1140 fn=2158 prec=0.571 rec=0.413 f1=0.480\n",
      "Loading experiment_beer1pos_N_3_rttol_15\n",
      "Matched 3678/10079 in fullscan data, 6294/10079 in fragmentation data\n",
      "beer1pos N=3 rt_tol=15 tp=1679 fp=1209 fn=1999 prec=0.581 rec=0.456 f1=0.511\n",
      "Loading experiment_beer1pos_N_4_rttol_15\n",
      "Matched 3678/10079 in fullscan data, 6189/10079 in fragmentation data\n",
      "beer1pos N=4 rt_tol=15 tp=1775 fp=1262 fn=1903 prec=0.584 rec=0.483 f1=0.529\n",
      "Loading experiment_beer1pos_N_5_rttol_15\n",
      "Matched 3678/10079 in fullscan data, 5802/10079 in fragmentation data\n",
      "beer1pos N=5 rt_tol=15 tp=1798 fp=1190 fn=1880 prec=0.602 rec=0.489 f1=0.539\n",
      "Loading experiment_beer1pos_N_6_rttol_15\n",
      "Matched 3678/10079 in fullscan data, 5337/10079 in fragmentation data\n",
      "beer1pos N=6 rt_tol=15 tp=1839 fp=1116 fn=1839 prec=0.622 rec=0.500 f1=0.555\n",
      "Loading experiment_beer1pos_N_7_rttol_15\n",
      "Matched 3678/10079 in fullscan data, 5137/10079 in fragmentation data\n",
      "beer1pos N=7 rt_tol=15 tp=1843 fp=1080 fn=1835 prec=0.631 rec=0.501 f1=0.558\n",
      "Loading experiment_beer1pos_N_8_rttol_15\n",
      "Matched 3678/10079 in fullscan data, 5034/10079 in fragmentation data\n",
      "beer1pos N=8 rt_tol=15 tp=1856 fp=1097 fn=1822 prec=0.629 rec=0.505 f1=0.560\n",
      "Loading experiment_beer1pos_N_9_rttol_15\n",
      "Matched 3678/10079 in fullscan data, 4940/10079 in fragmentation data\n",
      "beer1pos N=9 rt_tol=15 tp=1865 fp=1102 fn=1813 prec=0.629 rec=0.507 f1=0.561\n",
      "Loading experiment_beer1pos_N_10_rttol_15\n",
      "Matched 3678/10079 in fullscan data, 4710/10079 in fragmentation data\n",
      "beer1pos N=10 rt_tol=15 tp=1833 fp=991 fn=1845 prec=0.649 rec=0.498 f1=0.564\n",
      "Loading experiment_beer1pos_N_15_rttol_15\n",
      "Matched 3678/10079 in fullscan data, 2955/10079 in fragmentation data\n",
      "beer1pos N=15 rt_tol=15 tp=1518 fp=497 fn=2160 prec=0.753 rec=0.413 f1=0.533\n",
      "Loading experiment_beer1pos_N_20_rttol_15\n",
      "Matched 3678/10079 in fullscan data, 2381/10079 in fragmentation data\n",
      "beer1pos N=20 rt_tol=15 tp=1287 fp=439 fn=2391 prec=0.746 rec=0.350 f1=0.476\n",
      "Loading experiment_beer1pos_N_25_rttol_15\n",
      "Matched 3678/10079 in fullscan data, 1857/10079 in fragmentation data\n",
      "beer1pos N=25 rt_tol=15 tp=1028 fp=380 fn=2650 prec=0.730 rec=0.279 f1=0.404\n",
      "Loading experiment_beer1pos_N_30_rttol_15\n",
      "Matched 3678/10079 in fullscan data, 1480/10079 in fragmentation data\n",
      "beer1pos N=30 rt_tol=15 tp=829 fp=303 fn=2849 prec=0.732 rec=0.225 f1=0.345\n",
      "Loading experiment_beer1pos_N_35_rttol_15\n",
      "Matched 3678/10079 in fullscan data, 1261/10079 in fragmentation data\n",
      "beer1pos N=35 rt_tol=15 tp=680 fp=284 fn=2998 prec=0.705 rec=0.185 f1=0.293\n",
      "Loading experiment_beer1pos_N_40_rttol_15\n",
      "Matched 3678/10079 in fullscan data, 1036/10079 in fragmentation data\n",
      "beer1pos N=40 rt_tol=15 tp=547 fp=274 fn=3131 prec=0.666 rec=0.149 f1=0.243\n",
      "Loading experiment_beer1pos_N_45_rttol_15\n",
      "Matched 3678/10079 in fullscan data, 826/10079 in fragmentation data\n",
      "beer1pos N=45 rt_tol=15 tp=432 fp=217 fn=3246 prec=0.666 rec=0.117 f1=0.200\n",
      "Loading experiment_beer1pos_N_50_rttol_15\n",
      "Matched 3678/10079 in fullscan data, 690/10079 in fragmentation data\n",
      "beer1pos N=50 rt_tol=15 tp=357 fp=189 fn=3321 prec=0.654 rec=0.097 f1=0.169\n",
      "Loading experiment_beer1pos_N_55_rttol_15\n",
      "Matched 3678/10079 in fullscan data, 597/10079 in fragmentation data\n",
      "beer1pos N=55 rt_tol=15 tp=311 fp=173 fn=3367 prec=0.643 rec=0.085 f1=0.149\n",
      "Loading experiment_beer1pos_N_60_rttol_15\n",
      "Matched 3678/10079 in fullscan data, 477/10079 in fragmentation data\n",
      "beer1pos N=60 rt_tol=15 tp=241 fp=146 fn=3437 prec=0.623 rec=0.066 f1=0.119\n",
      "Loading experiment_beer1pos_N_65_rttol_15\n",
      "Matched 3678/10079 in fullscan data, 157/10079 in fragmentation data\n",
      "beer1pos N=65 rt_tol=15 tp=71 fp=54 fn=3607 prec=0.568 rec=0.019 f1=0.037\n",
      "Loading experiment_beer1pos_N_70_rttol_15\n",
      "Matched 3678/10079 in fullscan data, 154/10079 in fragmentation data\n",
      "beer1pos N=70 rt_tol=15 tp=79 fp=49 fn=3599 prec=0.617 rec=0.021 f1=0.042\n",
      "Loading experiment_beer1pos_N_75_rttol_15\n",
      "Matched 3678/10079 in fullscan data, 97/10079 in fragmentation data\n",
      "beer1pos N=75 rt_tol=15 tp=45 fp=39 fn=3633 prec=0.536 rec=0.012 f1=0.024\n",
      "Loading experiment_beer1pos_N_80_rttol_15\n",
      "Matched 3678/10079 in fullscan data, 91/10079 in fragmentation data\n",
      "beer1pos N=80 rt_tol=15 tp=34 fp=43 fn=3644 prec=0.442 rec=0.009 f1=0.018\n",
      "Loading experiment_beer1pos_N_85_rttol_15\n",
      "Matched 3678/10079 in fullscan data, 81/10079 in fragmentation data\n",
      "beer1pos N=85 rt_tol=15 tp=30 fp=43 fn=3648 prec=0.411 rec=0.008 f1=0.016\n",
      "Loading experiment_beer1pos_N_90_rttol_15\n",
      "Matched 3678/10079 in fullscan data, 88/10079 in fragmentation data\n",
      "beer1pos N=90 rt_tol=15 tp=34 fp=45 fn=3644 prec=0.430 rec=0.009 f1=0.018\n",
      "Loading experiment_beer1pos_N_95_rttol_15\n",
      "Matched 3678/10079 in fullscan data, 86/10079 in fragmentation data\n",
      "beer1pos N=95 rt_tol=15 tp=32 fp=37 fn=3646 prec=0.464 rec=0.009 f1=0.017\n",
      "Loading experiment_beer1pos_N_100_rttol_15\n",
      "Matched 3678/10079 in fullscan data, 94/10079 in fragmentation data\n",
      "beer1pos N=100 rt_tol=15 tp=45 fp=40 fn=3633 prec=0.529 rec=0.012 f1=0.024\n"
     ]
    }
   ],
   "source": [
    "results = []\n",
    "for N in Ns:\n",
    "    for rt_tol in rt_tols:\n",
    "\n",
    "        # load chemicals and check for matching\n",
    "        chemicals = load_obj(os.path.join(experiment_out_dir, 'dataset.p'))           \n",
    "        fragfile_filename = 'experiment_%s_N_%d_rttol_%d.mzML' % (experiment_name, N, rt_tol) \n",
    "\n",
    "        # load controller and compute performance\n",
    "        controller = load_controller(experiment_out_dir, experiment_name, N, rt_tol)\n",
    "        if controller is not None:\n",
    "            tp, fp, fn, prec, rec, f1 = compute_performance_scenario_2(controller, chemicals, min_ms1_intensity,\n",
    "                                                                       fullscan_filename, fragfile_filename,\n",
    "                                                                       P_peaks_df, Q_peaks_df, matching_mz_tol, matching_rt_tol)\n",
    "            print('%s N=%d rt_tol=%d tp=%d fp=%d fn=%d prec=%.3f rec=%.3f f1=%.3f' % (experiment_name, \n",
    "                N, rt_tol, tp, fp, fn, prec, rec, f1))\n",
    "            res = (experiment_name, N, rt_tol, tp, fp, fn, prec, rec, f1)    \n",
    "            results.append(res)  "
   ]
  },
  {
   "cell_type": "code",
   "execution_count": 48,
   "metadata": {},
   "outputs": [],
   "source": [
    "result_df = pd.DataFrame(results, columns=['experiment', 'N', 'rt_tol', 'TP', 'FP', 'FN', 'Prec', 'Rec', 'F1'])"
   ]
  },
  {
   "cell_type": "markdown",
   "metadata": {},
   "source": [
    "### Plot precision, recall, f1"
   ]
  },
  {
   "cell_type": "code",
   "execution_count": 49,
   "metadata": {},
   "outputs": [
    {
     "data": {
      "image/png": "[encoded data removed]",
      "text/plain": [
       "<Figure size 864x432 with 1 Axes>"
      ]
     },
     "metadata": {
      "needs_background": "light"
     },
     "output_type": "display_data"
    }
   ],
   "source": [
    "plt.figure(figsize=(12, 6))\n",
    "ax = sns.lineplot(x='N', y='Prec', hue='experiment', legend='brief', data=result_df)\n",
    "plt.title('Top-N Precision')\n",
    "for l in ax.lines:\n",
    "    plt.setp(l, linewidth=5)\n",
    "plt.ylabel('Precision')\n",
    "plt.xlabel(r'Top-$N$')\n",
    "plt.legend(prop={'size': 20})\n",
    "plt.tight_layout()\n",
    "\n",
    "fig_out = os.path.join(experiment_out_dir, 'topN_precision.png')\n",
    "plt.savefig(fig_out, dpi=300)"
   ]
  },
  {
   "cell_type": "code",
   "execution_count": 50,
   "metadata": {},
   "outputs": [
    {
     "data": {
      "image/png": "[encoded data removed]",
      "text/plain": [
       "<Figure size 864x432 with 1 Axes>"
      ]
     },
     "metadata": {
      "needs_background": "light"
     },
     "output_type": "display_data"
    }
   ],
   "source": [
    "plt.figure(figsize=(12, 6))\n",
    "ax = sns.lineplot(x='N', y='Rec', hue='experiment', legend='brief', data=result_df)\n",
    "plt.title('Top-N Recall')\n",
    "for l in ax.lines:\n",
    "    plt.setp(l, linewidth=5)\n",
    "plt.ylabel('Recall')\n",
    "plt.xlabel(r'Top-$N$')\n",
    "plt.legend(prop={'size': 20})\n",
    "plt.tight_layout()\n",
    "\n",
    "fig_out = os.path.join(experiment_out_dir, 'topN_recall.png')\n",
    "plt.savefig(fig_out, dpi=300)"
   ]
  },
  {
   "cell_type": "code",
   "execution_count": 51,
   "metadata": {},
   "outputs": [
    {
     "data": {
      "image/png": "[encoded data removed]",
      "text/plain": [
       "<Figure size 864x432 with 1 Axes>"
      ]
     },
     "metadata": {
      "needs_background": "light"
     },
     "output_type": "display_data"
    }
   ],
   "source": [
    "plt.figure(figsize=(12, 6))\n",
    "ax = sns.lineplot(x='N', y='F1', hue='experiment', legend='brief', data=result_df)\n",
    "plt.title('Top-N F1')\n",
    "for l in ax.lines:\n",
    "    plt.setp(l, linewidth=5)\n",
    "plt.ylabel(r'$F_{1}\\;score$')\n",
    "plt.xlabel(r'Top-$N$')\n",
    "plt.legend(prop={'size': 20})\n",
    "plt.tight_layout()\n",
    "\n",
    "fig_out = os.path.join(experiment_out_dir, 'topN_f1.png')\n",
    "plt.savefig(fig_out, dpi=300)"
   ]
  }
 ],
 "metadata": {
  "kernelspec": {
   "display_name": "Python 3",
   "language": "python",
   "name": "python3"
  },
  "language_info": {
   "codemirror_mode": {
    "name": "ipython",
    "version": 3
   },
   "file_extension": ".py",
   "mimetype": "text/x-python",
   "name": "python",
   "nbconvert_exporter": "python",
   "pygments_lexer": "ipython3",
   "version": "3.7.3"
  }
 },
 "nbformat": 4,
 "nbformat_minor": 2
}
