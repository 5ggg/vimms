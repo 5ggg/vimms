{
 "cells": [
  {
   "cell_type": "markdown",
   "metadata": {},
   "source": [
    "# 5. Varying N in Top-N Simulations"
   ]
  },
  {
   "cell_type": "markdown",
   "metadata": {},
   "source": [
    "This notebook loads an existing Beer1pos data and runs it through the simulator with varying N (the number of precursor peaks selected for fragmentations) for Top-N DDA fragmentation. The results here correspond to Section 3.3 in the paper for the Beer1pos data."
   ]
  },
  {
   "cell_type": "code",
   "execution_count": 1,
   "metadata": {},
   "outputs": [],
   "source": [
    "%load_ext autoreload\n",
    "%autoreload 2\n",
    "%matplotlib inline"
   ]
  },
  {
   "cell_type": "code",
   "execution_count": 2,
   "metadata": {},
   "outputs": [],
   "source": [
    "import numpy as np\n",
    "import pandas as pd\n",
    "import pylab as plt\n",
    "import pymzml\n",
    "import math\n",
    "import seaborn as sns"
   ]
  },
  {
   "cell_type": "code",
   "execution_count": 3,
   "metadata": {},
   "outputs": [],
   "source": [
    "import sys\n",
    "sys.path.append('..')"
   ]
  },
  {
   "cell_type": "code",
   "execution_count": 4,
   "metadata": {},
   "outputs": [],
   "source": [
    "from vimms.Roi import RoiToChemicalCreator, make_roi\n",
    "from vimms.DataGenerator import DataSource, PeakDensityEstimator, PeakSampler\n",
    "from vimms.MassSpec import IndependentMassSpectrometer\n",
    "from vimms.Controller import TopNController\n",
    "from vimms.TopNExperiment import get_params, run_serial_experiment, run_parallel_experiment\n",
    "from vimms.PlotsForPaper import get_df, load_controller, compute_performance_scenario_2\n",
    "from vimms.Common import *"
   ]
  },
  {
   "cell_type": "code",
   "execution_count": 5,
   "metadata": {},
   "outputs": [],
   "source": [
    "set_log_level_info()"
   ]
  },
  {
   "cell_type": "markdown",
   "metadata": {},
   "source": [
    "## 1. Parameters"
   ]
  },
  {
   "cell_type": "code",
   "execution_count": 6,
   "metadata": {},
   "outputs": [],
   "source": [
    "base_dir = 'example_data'\n",
    "mzml_path = os.path.join(base_dir, 'beers', 'fragmentation', 'mzML')\n",
    "file_name = 'Beer_multibeers_1_T10_POS.mzML'\n",
    "\n",
    "experiment_name = 'beer1pos'\n",
    "experiment_out_dir = os.path.abspath(os.path.join(base_dir, 'results', experiment_name, 'mzML'))"
   ]
  },
  {
   "cell_type": "code",
   "execution_count": 7,
   "metadata": {},
   "outputs": [
    {
     "data": {
      "text/plain": [
       "'/home/joewandy/git/vimms/examples/example_data/results/beer1pos/mzML'"
      ]
     },
     "execution_count": 7,
     "metadata": {},
     "output_type": "execute_result"
    }
   ],
   "source": [
    "experiment_out_dir"
   ]
  },
  {
   "cell_type": "code",
   "execution_count": 8,
   "metadata": {},
   "outputs": [],
   "source": [
    "min_rt = 3*60 # start time when compounds begin to elute in the mzML file\n",
    "max_rt = 21*60"
   ]
  },
  {
   "cell_type": "code",
   "execution_count": 9,
   "metadata": {},
   "outputs": [],
   "source": [
    "kde_min_ms1_intensity = 0 # min intensity to be selected for kdes\n",
    "kde_min_ms2_intensity = 0"
   ]
  },
  {
   "cell_type": "markdown",
   "metadata": {},
   "source": [
    "### a. ROI extraction parameters"
   ]
  },
  {
   "cell_type": "code",
   "execution_count": 10,
   "metadata": {},
   "outputs": [],
   "source": [
    "roi_mz_tol = 10\n",
    "roi_min_length = 1\n",
    "roi_min_intensity = 0\n",
    "roi_start_rt = min_rt\n",
    "roi_stop_rt = max_rt"
   ]
  },
  {
   "cell_type": "markdown",
   "metadata": {},
   "source": [
    "### b. Top-N parameters"
   ]
  },
  {
   "cell_type": "code",
   "execution_count": 11,
   "metadata": {},
   "outputs": [],
   "source": [
    "isolation_window = 1   # the isolation window in Dalton around a selected precursor ion\n",
    "ionisation_mode = POSITIVE\n",
    "N = 10\n",
    "rt_tol = 15\n",
    "mz_tol = 10\n",
    "min_ms1_intensity = 1.75E5 # minimum ms1 intensity to fragment"
   ]
  },
  {
   "cell_type": "code",
   "execution_count": 12,
   "metadata": {},
   "outputs": [],
   "source": [
    "mzml_out = os.path.join(experiment_out_dir, 'simulated.mzML')"
   ]
  },
  {
   "cell_type": "markdown",
   "metadata": {},
   "source": [
    "## 2. Train densities"
   ]
  },
  {
   "cell_type": "code",
   "execution_count": 13,
   "metadata": {
    "scrolled": false
   },
   "outputs": [
    {
     "name": "stdout",
     "output_type": "stream",
     "text": [
      "example_data/beers/fragmentation/mzML/Beer_multibeers_1_T10_POS.mzML\n"
     ]
    }
   ],
   "source": [
    "ds = DataSource()\n",
    "ds.load_data(mzml_path, file_name=file_name)"
   ]
  },
  {
   "cell_type": "code",
   "execution_count": 14,
   "metadata": {},
   "outputs": [],
   "source": [
    "# ds.plot_data(file_name, ms_level=1, max_data=100000, min_rt=min_rt, max_rt=max_rt)"
   ]
  },
  {
   "cell_type": "code",
   "execution_count": 15,
   "metadata": {},
   "outputs": [],
   "source": [
    "# ds.plot_data(file_name, ms_level=2, max_data=100000, min_rt=min_rt, max_rt=max_rt)"
   ]
  },
  {
   "cell_type": "code",
   "execution_count": 16,
   "metadata": {},
   "outputs": [],
   "source": [
    "densities = PeakDensityEstimator(kde_min_ms1_intensity, kde_min_ms2_intensity, min_rt, max_rt)\n",
    "densities.kde(ds, file_name, 2, bandwidth_mz_intensity_rt=1.0, bandwidth_n_peaks=1.0)\n",
    "ps = PeakSampler(densities)"
   ]
  },
  {
   "cell_type": "markdown",
   "metadata": {},
   "source": [
    "## 3. Extract all ROIs"
   ]
  },
  {
   "cell_type": "code",
   "execution_count": 17,
   "metadata": {
    "scrolled": true
   },
   "outputs": [
    {
     "name": "stdout",
     "output_type": "stream",
     "text": [
      "example_data/beers/fragmentation/mzML/Beer_multibeers_1_T10_POS.mzML\n"
     ]
    }
   ],
   "source": [
    "mzml_file = os.path.join(mzml_path, file_name)\n",
    "good_roi, junk = make_roi(mzml_file, mz_tol=roi_mz_tol, mz_units='ppm', min_length=roi_min_length,\n",
    "                          min_intensity=roi_min_intensity, start_rt=roi_start_rt, stop_rt=roi_stop_rt)"
   ]
  },
  {
   "cell_type": "code",
   "execution_count": 18,
   "metadata": {},
   "outputs": [
    {
     "data": {
      "text/plain": [
       "266107"
      ]
     },
     "execution_count": 18,
     "metadata": {},
     "output_type": "execute_result"
    }
   ],
   "source": [
    "all_roi = good_roi + junk\n",
    "len(all_roi)"
   ]
  },
  {
   "cell_type": "markdown",
   "metadata": {},
   "source": [
    "How many singleton and non-singleton ROIs?"
   ]
  },
  {
   "cell_type": "code",
   "execution_count": 19,
   "metadata": {},
   "outputs": [
    {
     "data": {
      "text/plain": [
       "185119"
      ]
     },
     "execution_count": 19,
     "metadata": {},
     "output_type": "execute_result"
    }
   ],
   "source": [
    "len([roi for roi in all_roi if roi.n == 1])"
   ]
  },
  {
   "cell_type": "code",
   "execution_count": 20,
   "metadata": {},
   "outputs": [
    {
     "data": {
      "text/plain": [
       "80988"
      ]
     },
     "execution_count": 20,
     "metadata": {},
     "output_type": "execute_result"
    }
   ],
   "source": [
    "len([roi for roi in all_roi if roi.n > 1])"
   ]
  },
  {
   "cell_type": "markdown",
   "metadata": {},
   "source": [
    "Keep only the ROIs that can be fragmented above **min_ms1_intensity threshold**."
   ]
  },
  {
   "cell_type": "code",
   "execution_count": 21,
   "metadata": {},
   "outputs": [
    {
     "data": {
      "text/plain": [
       "175000.0"
      ]
     },
     "execution_count": 21,
     "metadata": {},
     "output_type": "execute_result"
    }
   ],
   "source": [
    "min_ms1_intensity"
   ]
  },
  {
   "cell_type": "code",
   "execution_count": 22,
   "metadata": {},
   "outputs": [
    {
     "data": {
      "text/plain": [
       "10079"
      ]
     },
     "execution_count": 22,
     "metadata": {},
     "output_type": "execute_result"
    }
   ],
   "source": [
    "keep = []\n",
    "for roi in all_roi:\n",
    "    if np.count_nonzero(np.array(roi.intensity_list) > min_ms1_intensity) > 0:\n",
    "        keep.append(roi)\n",
    "\n",
    "all_roi = keep\n",
    "len(keep)"
   ]
  },
  {
   "cell_type": "markdown",
   "metadata": {},
   "source": [
    "Turn ROIs into chromatograms/chemicals"
   ]
  },
  {
   "cell_type": "code",
   "execution_count": 23,
   "metadata": {},
   "outputs": [],
   "source": [
    "set_log_level_debug()\n",
    "rtcc = RoiToChemicalCreator(ps, all_roi)"
   ]
  },
  {
   "cell_type": "code",
   "execution_count": 24,
   "metadata": {},
   "outputs": [
    {
     "name": "stdout",
     "output_type": "stream",
     "text": [
      "Saving <class 'list'> to /home/joewandy/git/vimms/examples/example_data/results/beer1pos/mzML/dataset.p\n"
     ]
    }
   ],
   "source": [
    "data = rtcc.chemicals\n",
    "save_obj(data, os.path.join(experiment_out_dir, 'dataset.p'))"
   ]
  },
  {
   "cell_type": "markdown",
   "metadata": {},
   "source": [
    "## 4. Run Top-N Controller"
   ]
  },
  {
   "cell_type": "code",
   "execution_count": 25,
   "metadata": {},
   "outputs": [],
   "source": [
    "density = ps.density_estimator\n",
    "set_log_level_warning()\n",
    "pbar = False # turn off progress bar"
   ]
  },
  {
   "cell_type": "code",
   "execution_count": 26,
   "metadata": {},
   "outputs": [],
   "source": [
    "Ns = [1, 2, 3, 4, 5, 6, 7, 8, 9, 10, 15, 20, 25, 30, 35, 40, 45, 50, 55, 60, 65, 70, 75, 80, 85, 90, 95, 100]\n",
    "rt_tols = [15]"
   ]
  },
  {
   "cell_type": "code",
   "execution_count": 27,
   "metadata": {},
   "outputs": [
    {
     "name": "stdout",
     "output_type": "stream",
     "text": [
      "N = [1, 2, 3, 4, 5, 6, 7, 8, 9, 10, 15, 20, 25, 30, 35, 40, 45, 50, 55, 60, 65, 70, 75, 80, 85, 90, 95, 100]\n",
      "rt_tol = [15]\n",
      "len(params) = 28\n"
     ]
    }
   ],
   "source": [
    "params = get_params(experiment_name, Ns, rt_tols, mz_tol, isolation_window, ionisation_mode, data, density, \n",
    "                    min_ms1_intensity, min_rt, max_rt, experiment_out_dir, pbar)"
   ]
  },
  {
   "cell_type": "code",
   "execution_count": 28,
   "metadata": {},
   "outputs": [
    {
     "data": {
      "text/plain": [
       "'/home/joewandy/git/vimms/examples/example_data/results/beer1pos/mzML'"
      ]
     },
     "execution_count": 28,
     "metadata": {},
     "output_type": "execute_result"
    }
   ],
   "source": [
    "experiment_out_dir"
   ]
  },
  {
   "cell_type": "markdown",
   "metadata": {},
   "source": [
    "Run the experiments."
   ]
  },
  {
   "cell_type": "code",
   "execution_count": 29,
   "metadata": {
    "scrolled": true
   },
   "outputs": [],
   "source": [
    "# %time run_serial_experiment(params)"
   ]
  },
  {
   "cell_type": "markdown",
   "metadata": {},
   "source": [
    "Alternatively  since each simulated run is completely independent of the others, we can save time by running the different values of N in parallel. Here we use the [iparallel](https://ipyparallel.readthedocs.io/en/latest/) package. To do this, start a local parallel cluster with the following command:\n",
    "\n",
    "$ ipcluster start -n 5\n",
    "\n",
    "where 5 is the number of cores to use (for example)."
   ]
  },
  {
   "cell_type": "code",
   "execution_count": 30,
   "metadata": {},
   "outputs": [
    {
     "name": "stdout",
     "output_type": "stream",
     "text": [
      "experiment_beer1pos_N_1_rttol_15\n",
      "experiment_beer1pos_N_2_rttol_15\n",
      "experiment_beer1pos_N_3_rttol_15\n",
      "experiment_beer1pos_N_4_rttol_15\n",
      "experiment_beer1pos_N_5_rttol_15\n",
      "experiment_beer1pos_N_6_rttol_15\n",
      "experiment_beer1pos_N_7_rttol_15\n",
      "experiment_beer1pos_N_8_rttol_15\n",
      "experiment_beer1pos_N_9_rttol_15\n",
      "experiment_beer1pos_N_10_rttol_15\n",
      "experiment_beer1pos_N_15_rttol_15\n",
      "experiment_beer1pos_N_20_rttol_15\n",
      "experiment_beer1pos_N_25_rttol_15\n",
      "experiment_beer1pos_N_30_rttol_15\n",
      "experiment_beer1pos_N_35_rttol_15\n",
      "experiment_beer1pos_N_40_rttol_15\n",
      "experiment_beer1pos_N_45_rttol_15\n",
      "experiment_beer1pos_N_50_rttol_15\n",
      "experiment_beer1pos_N_55_rttol_15\n",
      "experiment_beer1pos_N_60_rttol_15\n",
      "experiment_beer1pos_N_65_rttol_15\n",
      "experiment_beer1pos_N_70_rttol_15\n",
      "experiment_beer1pos_N_75_rttol_15\n",
      "experiment_beer1pos_N_80_rttol_15\n",
      "experiment_beer1pos_N_85_rttol_15\n",
      "experiment_beer1pos_N_90_rttol_15\n",
      "experiment_beer1pos_N_95_rttol_15\n",
      "experiment_beer1pos_N_100_rttol_15\n",
      "CPU times: user 1.65 s, sys: 88.4 ms, total: 1.74 s\n",
      "Wall time: 14min 10s\n"
     ]
    }
   ],
   "source": [
    "%time run_parallel_experiment(params)"
   ]
  },
  {
   "cell_type": "markdown",
   "metadata": {},
   "source": [
    "## 5. Analyse Results"
   ]
  },
  {
   "cell_type": "markdown",
   "metadata": {},
   "source": [
    "Now we need to load the ground truth peaks found by xcms from each mzML file.\n",
    "- P = peaks picked by XCMS from the full-scan file\n",
    "- Q = peaks picked by XCMS from the fragmentation file\n",
    "\n",
    "Peak picking was done using the script `extract_peaks.R` in the `example_data/results/ground_truth` folder. "
   ]
  },
  {
   "cell_type": "markdown",
   "metadata": {},
   "source": [
    "**Manual step: to generate the lists of ground truth peaks for evaluation, please run the R script on both the full-scan and simulated fragmentation files.**\n",
    "\n",
    "Requirements:\n",
    "- Ensure that XCMS3 has been installed: https://bioconductor.org/packages/release/bioc/html/xcms.html.\n",
    "\n",
    "Steps for peak picking on simulated fragmentation files:\n",
    "1. Ensure that fragmentation .mzML file are located in `examples\\example_data\\results\\beer1pos`.\n",
    "2. Open a new R window and run the R script `examples\\example_data\\results\\beer1pos\\extract_peaks.R`. The script will process any files found in an `mzML` folder relative to its current location.\n",
    "3. The file `extracted_peaks_ms1.csv` will be created in the folder of step 2.\n",
    "\n",
    "We have provided the peak-picking result for the full-scan file, but to do it manually, follow the same steps as above. \n",
    "1. Place your full-scan .mzML file in `examples\\example_data\\results\\ground_truth\\mzML`.\n",
    "2. Open a new R window and run the R script `examples\\example_data\\results\\ground_truth\\extract_peaks.R`. The script will process any files found in an `mzML` folder relative to its current location.\n",
    "3. The file `extracted_peaks_ms1.csv` will be created in the folder of step 2."
   ]
  },
  {
   "cell_type": "code",
   "execution_count": 31,
   "metadata": {},
   "outputs": [],
   "source": [
    "min_ms1_intensity = 0\n",
    "rt_range = [(min_rt, max_rt)]\n",
    "mz_range = [(0, math.inf)]\n",
    "results_dir = os.path.join(base_dir, 'results', 'ground_truth', 'mzML')   \n",
    "csv_file = os.path.join(results_dir, 'extracted_peaks_ms1.csv')\n",
    "P_peaks_df = get_df(csv_file, min_ms1_intensity, rt_range, mz_range)"
   ]
  },
  {
   "cell_type": "code",
   "execution_count": 32,
   "metadata": {},
   "outputs": [],
   "source": [
    "csv_file = os.path.join(experiment_out_dir, 'extracted_peaks_ms1.csv')\n",
    "Q_peaks_df = get_df(csv_file, min_ms1_intensity, rt_range, mz_range)"
   ]
  },
  {
   "cell_type": "code",
   "execution_count": 33,
   "metadata": {},
   "outputs": [],
   "source": [
    "fullscan_filename = 'Beer_multibeers_1_fullscan1.mzML'   \n",
    "matching_mz_tol = 10 # ppm\n",
    "matching_rt_tol = 30 # seconds"
   ]
  },
  {
   "cell_type": "code",
   "execution_count": 34,
   "metadata": {},
   "outputs": [
    {
     "name": "stdout",
     "output_type": "stream",
     "text": [
      "Loading experiment_beer1pos_N_1_rttol_15\n",
      "Matched 3678/10079 in fullscan data, 6642/10079 in fragmentation data\n",
      "beer1pos N=1 rt_tol=15 tp=1193 fp=945 fn=2485 prec=0.558 rec=0.324 f1=0.410\n",
      "Loading experiment_beer1pos_N_2_rttol_15\n",
      "Matched 3678/10079 in fullscan data, 6539/10079 in fragmentation data\n",
      "beer1pos N=2 rt_tol=15 tp=1525 fp=1160 fn=2153 prec=0.568 rec=0.415 f1=0.479\n",
      "Loading experiment_beer1pos_N_3_rttol_15\n",
      "Matched 3678/10079 in fullscan data, 6332/10079 in fragmentation data\n",
      "beer1pos N=3 rt_tol=15 tp=1666 fp=1207 fn=2012 prec=0.580 rec=0.453 f1=0.509\n",
      "Loading experiment_beer1pos_N_4_rttol_15\n",
      "Matched 3678/10079 in fullscan data, 6019/10079 in fragmentation data\n",
      "beer1pos N=4 rt_tol=15 tp=1761 fp=1216 fn=1917 prec=0.592 rec=0.479 f1=0.529\n",
      "Loading experiment_beer1pos_N_5_rttol_15\n",
      "Matched 3678/10079 in fullscan data, 5782/10079 in fragmentation data\n",
      "beer1pos N=5 rt_tol=15 tp=1799 fp=1182 fn=1879 prec=0.603 rec=0.489 f1=0.540\n",
      "Loading experiment_beer1pos_N_6_rttol_15\n",
      "Matched 3678/10079 in fullscan data, 5384/10079 in fragmentation data\n",
      "beer1pos N=6 rt_tol=15 tp=1838 fp=1135 fn=1840 prec=0.618 rec=0.500 f1=0.553\n",
      "Loading experiment_beer1pos_N_7_rttol_15\n",
      "Matched 3678/10079 in fullscan data, 5186/10079 in fragmentation data\n",
      "beer1pos N=7 rt_tol=15 tp=1845 fp=1093 fn=1833 prec=0.628 rec=0.502 f1=0.558\n",
      "Loading experiment_beer1pos_N_8_rttol_15\n",
      "Matched 3678/10079 in fullscan data, 4973/10079 in fragmentation data\n",
      "beer1pos N=8 rt_tol=15 tp=1845 fp=1044 fn=1833 prec=0.639 rec=0.502 f1=0.562\n",
      "Loading experiment_beer1pos_N_9_rttol_15\n",
      "Matched 3678/10079 in fullscan data, 4942/10079 in fragmentation data\n",
      "beer1pos N=9 rt_tol=15 tp=1868 fp=1058 fn=1810 prec=0.638 rec=0.508 f1=0.566\n",
      "Loading experiment_beer1pos_N_10_rttol_15\n",
      "Matched 3678/10079 in fullscan data, 4749/10079 in fragmentation data\n",
      "beer1pos N=10 rt_tol=15 tp=1862 fp=1001 fn=1816 prec=0.650 rec=0.506 f1=0.569\n",
      "Loading experiment_beer1pos_N_15_rttol_15\n",
      "Matched 3678/10079 in fullscan data, 2900/10079 in fragmentation data\n",
      "beer1pos N=15 rt_tol=15 tp=1522 fp=492 fn=2156 prec=0.756 rec=0.414 f1=0.535\n",
      "Loading experiment_beer1pos_N_20_rttol_15\n",
      "Matched 3678/10079 in fullscan data, 2357/10079 in fragmentation data\n",
      "beer1pos N=20 rt_tol=15 tp=1291 fp=430 fn=2387 prec=0.750 rec=0.351 f1=0.478\n",
      "Loading experiment_beer1pos_N_25_rttol_15\n",
      "Matched 3678/10079 in fullscan data, 1906/10079 in fragmentation data\n",
      "beer1pos N=25 rt_tol=15 tp=1061 fp=354 fn=2617 prec=0.750 rec=0.288 f1=0.417\n",
      "Loading experiment_beer1pos_N_30_rttol_15\n",
      "Matched 3678/10079 in fullscan data, 1523/10079 in fragmentation data\n",
      "beer1pos N=30 rt_tol=15 tp=837 fp=330 fn=2841 prec=0.717 rec=0.228 f1=0.346\n",
      "Loading experiment_beer1pos_N_35_rttol_15\n",
      "Matched 3678/10079 in fullscan data, 1214/10079 in fragmentation data\n",
      "beer1pos N=35 rt_tol=15 tp=653 fp=283 fn=3025 prec=0.698 rec=0.178 f1=0.283\n",
      "Loading experiment_beer1pos_N_40_rttol_15\n",
      "Matched 3678/10079 in fullscan data, 1033/10079 in fragmentation data\n",
      "beer1pos N=40 rt_tol=15 tp=539 fp=264 fn=3139 prec=0.671 rec=0.147 f1=0.241\n",
      "Loading experiment_beer1pos_N_45_rttol_15\n",
      "Matched 3678/10079 in fullscan data, 844/10079 in fragmentation data\n",
      "beer1pos N=45 rt_tol=15 tp=449 fp=223 fn=3229 prec=0.668 rec=0.122 f1=0.206\n",
      "Loading experiment_beer1pos_N_50_rttol_15\n",
      "Matched 3678/10079 in fullscan data, 685/10079 in fragmentation data\n",
      "beer1pos N=50 rt_tol=15 tp=353 fp=197 fn=3325 prec=0.642 rec=0.096 f1=0.167\n",
      "Loading experiment_beer1pos_N_55_rttol_15\n",
      "Matched 3678/10079 in fullscan data, 570/10079 in fragmentation data\n",
      "beer1pos N=55 rt_tol=15 tp=293 fp=153 fn=3385 prec=0.657 rec=0.080 f1=0.142\n",
      "Loading experiment_beer1pos_N_60_rttol_15\n",
      "Matched 3678/10079 in fullscan data, 505/10079 in fragmentation data\n",
      "beer1pos N=60 rt_tol=15 tp=266 fp=142 fn=3412 prec=0.652 rec=0.072 f1=0.130\n",
      "Loading experiment_beer1pos_N_65_rttol_15\n",
      "Matched 3678/10079 in fullscan data, 172/10079 in fragmentation data\n",
      "beer1pos N=65 rt_tol=15 tp=85 fp=56 fn=3593 prec=0.603 rec=0.023 f1=0.045\n",
      "Loading experiment_beer1pos_N_70_rttol_15\n",
      "Matched 3678/10079 in fullscan data, 107/10079 in fragmentation data\n",
      "beer1pos N=70 rt_tol=15 tp=43 fp=50 fn=3635 prec=0.462 rec=0.012 f1=0.023\n",
      "Loading experiment_beer1pos_N_75_rttol_15\n",
      "Matched 3678/10079 in fullscan data, 93/10079 in fragmentation data\n",
      "beer1pos N=75 rt_tol=15 tp=44 fp=39 fn=3634 prec=0.530 rec=0.012 f1=0.023\n",
      "Loading experiment_beer1pos_N_80_rttol_15\n",
      "Matched 3678/10079 in fullscan data, 93/10079 in fragmentation data\n",
      "beer1pos N=80 rt_tol=15 tp=34 fp=47 fn=3644 prec=0.420 rec=0.009 f1=0.018\n",
      "Loading experiment_beer1pos_N_85_rttol_15\n",
      "Matched 3678/10079 in fullscan data, 80/10079 in fragmentation data\n",
      "beer1pos N=85 rt_tol=15 tp=28 fp=37 fn=3650 prec=0.431 rec=0.008 f1=0.015\n",
      "Loading experiment_beer1pos_N_90_rttol_15\n",
      "Matched 3678/10079 in fullscan data, 76/10079 in fragmentation data\n",
      "beer1pos N=90 rt_tol=15 tp=30 fp=37 fn=3648 prec=0.448 rec=0.008 f1=0.016\n",
      "Loading experiment_beer1pos_N_95_rttol_15\n",
      "Matched 3678/10079 in fullscan data, 105/10079 in fragmentation data\n",
      "beer1pos N=95 rt_tol=15 tp=41 fp=43 fn=3637 prec=0.488 rec=0.011 f1=0.022\n",
      "Loading experiment_beer1pos_N_100_rttol_15\n",
      "Matched 3678/10079 in fullscan data, 85/10079 in fragmentation data\n",
      "beer1pos N=100 rt_tol=15 tp=29 fp=43 fn=3649 prec=0.403 rec=0.008 f1=0.015\n"
     ]
    }
   ],
   "source": [
    "results = []\n",
    "for N in Ns:\n",
    "    for rt_tol in rt_tols:\n",
    "\n",
    "        # load chemicals and check for matching\n",
    "        chemicals = load_obj(os.path.join(experiment_out_dir, 'dataset.p'))           \n",
    "        fragfile_filename = 'experiment_%s_N_%d_rttol_%d.mzML' % (experiment_name, N, rt_tol) \n",
    "\n",
    "        # load controller and compute performance\n",
    "        controller = load_controller(experiment_out_dir, experiment_name, N, rt_tol)\n",
    "        if controller is not None:\n",
    "            tp, fp, fn, prec, rec, f1 = compute_performance_scenario_2(controller, chemicals, min_ms1_intensity,\n",
    "                                                                       fullscan_filename, fragfile_filename,\n",
    "                                                                       P_peaks_df, Q_peaks_df, matching_mz_tol, matching_rt_tol)\n",
    "            print('%s N=%d rt_tol=%d tp=%d fp=%d fn=%d prec=%.3f rec=%.3f f1=%.3f' % (experiment_name, \n",
    "                N, rt_tol, tp, fp, fn, prec, rec, f1))\n",
    "            res = (experiment_name, N, rt_tol, tp, fp, fn, prec, rec, f1)    \n",
    "            results.append(res)  "
   ]
  },
  {
   "cell_type": "code",
   "execution_count": 35,
   "metadata": {},
   "outputs": [],
   "source": [
    "result_df = pd.DataFrame(results, columns=['experiment', 'N', 'rt_tol', 'TP', 'FP', 'FN', 'Prec', 'Rec', 'F1'])"
   ]
  },
  {
   "cell_type": "markdown",
   "metadata": {},
   "source": [
    "### Plot precision, recall, f1"
   ]
  },
  {
   "cell_type": "code",
   "execution_count": 36,
   "metadata": {},
   "outputs": [
    {
     "data": {
      "image/png": "[encoded data removed]",
      "text/plain": [
       "<Figure size 864x432 with 1 Axes>"
      ]
     },
     "metadata": {
      "needs_background": "light"
     },
     "output_type": "display_data"
    }
   ],
   "source": [
    "plt.figure(figsize=(12, 6))\n",
    "ax = sns.lineplot(x='N', y='Prec', hue='experiment', legend='brief', data=result_df)\n",
    "plt.title('Top-N Precision')\n",
    "for l in ax.lines:\n",
    "    plt.setp(l, linewidth=5)\n",
    "plt.ylabel('Precision')\n",
    "plt.xlabel(r'Top-$N$')\n",
    "plt.legend(prop={'size': 20})\n",
    "plt.tight_layout()\n",
    "\n",
    "fig_out = os.path.join(experiment_out_dir, 'topN_precision.png')\n",
    "plt.savefig(fig_out, dpi=300)"
   ]
  },
  {
   "cell_type": "code",
   "execution_count": 37,
   "metadata": {},
   "outputs": [
    {
     "data": {
      "image/png": "[encoded data removed]",
      "text/plain": [
       "<Figure size 864x432 with 1 Axes>"
      ]
     },
     "metadata": {
      "needs_background": "light"
     },
     "output_type": "display_data"
    }
   ],
   "source": [
    "plt.figure(figsize=(12, 6))\n",
    "ax = sns.lineplot(x='N', y='Rec', hue='experiment', legend='brief', data=result_df)\n",
    "plt.title('Top-N Recall')\n",
    "for l in ax.lines:\n",
    "    plt.setp(l, linewidth=5)\n",
    "plt.ylabel('Recall')\n",
    "plt.xlabel(r'Top-$N$')\n",
    "plt.legend(prop={'size': 20})\n",
    "plt.tight_layout()\n",
    "\n",
    "fig_out = os.path.join(experiment_out_dir, 'topN_recall.png')\n",
    "plt.savefig(fig_out, dpi=300)"
   ]
  },
  {
   "cell_type": "code",
   "execution_count": 38,
   "metadata": {},
   "outputs": [
    {
     "data": {
      "image/png": "[encoded data removed]",
      "text/plain": [
       "<Figure size 864x432 with 1 Axes>"
      ]
     },
     "metadata": {
      "needs_background": "light"
     },
     "output_type": "display_data"
    }
   ],
   "source": [
    "plt.figure(figsize=(12, 6))\n",
    "ax = sns.lineplot(x='N', y='F1', hue='experiment', legend='brief', data=result_df)\n",
    "plt.title('Top-N F1')\n",
    "for l in ax.lines:\n",
    "    plt.setp(l, linewidth=5)\n",
    "plt.ylabel(r'$F_{1}\\;score$')\n",
    "plt.xlabel(r'Top-$N$')\n",
    "plt.legend(prop={'size': 20})\n",
    "plt.tight_layout()\n",
    "\n",
    "fig_out = os.path.join(experiment_out_dir, 'topN_f1.png')\n",
    "plt.savefig(fig_out, dpi=300)"
   ]
  }
 ],
 "metadata": {
  "kernelspec": {
   "display_name": "Python 3",
   "language": "python",
   "name": "python3"
  },
  "language_info": {
   "codemirror_mode": {
    "name": "ipython",
    "version": 3
   },
   "file_extension": ".py",
   "mimetype": "text/x-python",
   "name": "python",
   "nbconvert_exporter": "python",
   "pygments_lexer": "ipython3",
   "version": "3.7.3"
  }
 },
 "nbformat": 4,
 "nbformat_minor": 2
}
