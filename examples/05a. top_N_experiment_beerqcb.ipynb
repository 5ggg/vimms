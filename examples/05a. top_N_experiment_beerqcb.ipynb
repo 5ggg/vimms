{
 "cells": [
  {
   "cell_type": "markdown",
   "metadata": {},
   "source": [
    "# Virtual Metabolomics Mass Spectrometer (ViMMS) pipeline"
   ]
  },
  {
   "cell_type": "code",
   "execution_count": null,
   "metadata": {},
   "outputs": [],
   "source": [
    "import sys\n",
    "sys.path.append('C:\\\\Users\\\\joewa\\\\Work\\\\git\\\\clms\\\\Simulator\\\\codes')\n",
    "\n",
    "%load_ext autoreload\n",
    "%autoreload 2\n",
    "%matplotlib inline"
   ]
  },
  {
   "cell_type": "code",
   "execution_count": null,
   "metadata": {},
   "outputs": [],
   "source": [
    "import numpy as np\n",
    "import pandas as pd\n",
    "import pylab as plt\n",
    "import matplotlib.patches as mpatches"
   ]
  },
  {
   "cell_type": "code",
   "execution_count": null,
   "metadata": {},
   "outputs": [],
   "source": [
    "from VMSfunctions.Chemicals import *\n",
    "from VMSfunctions.Chromatograms import *\n",
    "from VMSfunctions.MassSpec import *\n",
    "from VMSfunctions.Controller import *\n",
    "from VMSfunctions.Common import *\n",
    "from VMSfunctions.DataGenerator import *\n",
    "from VMSfunctions.TopNExperiment import *\n",
    "from VMSfunctions.Roi import *\n",
    "from VMSfunctions.PlotsForPaper import *"
   ]
  },
  {
   "cell_type": "code",
   "execution_count": null,
   "metadata": {},
   "outputs": [],
   "source": [
    "set_log_level_info()"
   ]
  },
  {
   "cell_type": "markdown",
   "metadata": {},
   "source": [
    "## Parameters"
   ]
  },
  {
   "cell_type": "code",
   "execution_count": null,
   "metadata": {},
   "outputs": [],
   "source": [
    "base_dir = 'C:\\\\Users\\\\joewa\\\\University of Glasgow\\\\Vinny Davies - CLDS Metabolomics Project\\\\'\n",
    "mzml_path = os.path.join(base_dir, 'Data\\\\Fusion_1578_Ronan_Daly_CLP_pHILIC_22May19\\\\Positive\\\\fragmentation\\\\mzML')\n",
    "# fragfile = 'QCB_N10_DEW015.mzML'\n",
    "fullscan_file = os.path.join(base_dir, 'Data\\\\Fusion_1578_Ronan_Daly_CLP_pHILIC_22May19\\\\Positive\\\\fullscan\\\\QCB_22May19_1.mzML')\n",
    "\n",
    "experiment_name = 'beerqcb'\n",
    "experiment_out_dir = os.path.join(base_dir, 'C:\\\\Users\\\\joewa\\\\Work\\\\data\\\\evaluation\\\\beerqcb\\\\mzML')"
   ]
  },
  {
   "cell_type": "code",
   "execution_count": null,
   "metadata": {},
   "outputs": [],
   "source": [
    "min_rt = 0\n",
    "max_rt = 1600\n",
    "\n",
    "# min_rt = 3*60\n",
    "# max_rt = 21*60"
   ]
  },
  {
   "cell_type": "code",
   "execution_count": null,
   "metadata": {},
   "outputs": [],
   "source": [
    "# kde_min_ms1_intensity = 0 # min intensity to be selected for kdes\n",
    "# kde_min_ms2_intensity = 0"
   ]
  },
  {
   "cell_type": "markdown",
   "metadata": {},
   "source": [
    "ROI extraction parameters"
   ]
  },
  {
   "cell_type": "code",
   "execution_count": null,
   "metadata": {},
   "outputs": [],
   "source": [
    "roi_mz_tol = 30\n",
    "roi_min_length = 1\n",
    "roi_min_intensity = 0\n",
    "roi_start_rt = min_rt\n",
    "roi_stop_rt = max_rt"
   ]
  },
  {
   "cell_type": "code",
   "execution_count": null,
   "metadata": {},
   "outputs": [],
   "source": [
    "# roi_mz_tol = 10\n",
    "# roi_min_length = 2\n",
    "# roi_min_intensity = 10000\n",
    "# roi_start_rt = min_rt\n",
    "# roi_stop_rt = max_rt"
   ]
  },
  {
   "cell_type": "markdown",
   "metadata": {},
   "source": [
    "Top-N parameters"
   ]
  },
  {
   "cell_type": "code",
   "execution_count": null,
   "metadata": {},
   "outputs": [],
   "source": [
    "isolation_window = 1   # the isolation window in Dalton around a selected precursor ion\n",
    "ionisation_mode = POSITIVE\n",
    "N = 10\n",
    "rt_tol = 15\n",
    "mz_tol = 10\n",
    "min_ms1_intensity = 0 # minimum ms1 intensity to fragment"
   ]
  },
  {
   "cell_type": "markdown",
   "metadata": {},
   "source": [
    "## Train densities"
   ]
  },
  {
   "cell_type": "code",
   "execution_count": null,
   "metadata": {
    "scrolled": false
   },
   "outputs": [],
   "source": [
    "# ds = DataSource()\n",
    "# ds.load_data(mzml_path, file_name=fragfile)\n",
    "# print('MS1')\n",
    "# ds.plot_data(fragfile, ms_level=1, max_data=100000, min_rt=min_rt, max_rt=max_rt)\n",
    "# print('MS2')\n",
    "# ds.plot_data(fragfile, ms_level=2, max_data=100000, min_rt=min_rt, max_rt=max_rt)"
   ]
  },
  {
   "cell_type": "markdown",
   "metadata": {},
   "source": [
    "#### Fit KDEs for (mz, intensity), rt and number of peaks for ms_level=2 only"
   ]
  },
  {
   "cell_type": "code",
   "execution_count": null,
   "metadata": {},
   "outputs": [],
   "source": [
    "# densities = PeakDensityEstimator(kde_min_ms1_intensity, kde_min_ms2_intensity, min_rt, max_rt, plot=True)\n",
    "# densities.kde(ds, fragfile, 2, bandwidth_mz_intensity_rt=1.0, bandwidth_n_peaks=1.0)\n",
    "# ps = PeakSampler(densities)"
   ]
  },
  {
   "cell_type": "markdown",
   "metadata": {},
   "source": [
    "## Prepare dataset"
   ]
  },
  {
   "cell_type": "markdown",
   "metadata": {},
   "source": [
    "Extract all ROIs"
   ]
  },
  {
   "cell_type": "code",
   "execution_count": null,
   "metadata": {
    "scrolled": true
   },
   "outputs": [],
   "source": [
    "mzml_file = fullscan_file\n",
    "good_roi, junk = make_roi(mzml_file, mz_tol=roi_mz_tol, mz_units='ppm', min_length=roi_min_length,\n",
    "                          min_intensity=0, start_rt=roi_start_rt, stop_rt=roi_stop_rt)\n",
    "all_roi = good_roi"
   ]
  },
  {
   "cell_type": "code",
   "execution_count": null,
   "metadata": {},
   "outputs": [],
   "source": [
    "len(all_roi)"
   ]
  },
  {
   "cell_type": "markdown",
   "metadata": {},
   "source": [
    "How many singleton ROIs?"
   ]
  },
  {
   "cell_type": "code",
   "execution_count": null,
   "metadata": {},
   "outputs": [],
   "source": [
    "len([roi for roi in all_roi if roi.n == 1])"
   ]
  },
  {
   "cell_type": "markdown",
   "metadata": {},
   "source": [
    "Keep only ROIs that can possibly be fragmented above min_ms1_intensity"
   ]
  },
  {
   "cell_type": "code",
   "execution_count": null,
   "metadata": {},
   "outputs": [],
   "source": [
    "# keep = []\n",
    "# for roi in all_roi:\n",
    "#     if np.count_nonzero(np.array(roi.intensity_list) > roi_min_intensity) > 0:\n",
    "#         keep.append(roi)\n",
    "\n",
    "# print(len(keep))"
   ]
  },
  {
   "cell_type": "code",
   "execution_count": null,
   "metadata": {},
   "outputs": [],
   "source": [
    "keep = all_roi"
   ]
  },
  {
   "cell_type": "markdown",
   "metadata": {},
   "source": [
    "Turn ROIs into chromatograms/chemicals"
   ]
  },
  {
   "cell_type": "code",
   "execution_count": null,
   "metadata": {},
   "outputs": [],
   "source": [
    "set_log_level_debug()\n",
    "rtcc = RoiToChemicalCreator(None, keep)"
   ]
  },
  {
   "cell_type": "code",
   "execution_count": null,
   "metadata": {},
   "outputs": [],
   "source": [
    "data = rtcc.chemicals\n",
    "save_obj(data, os.path.join(experiment_out_dir, 'dataset.p'))"
   ]
  },
  {
   "cell_type": "markdown",
   "metadata": {},
   "source": [
    "## Run Top-N Experiments"
   ]
  },
  {
   "cell_type": "code",
   "execution_count": null,
   "metadata": {},
   "outputs": [],
   "source": [
    "# density = ps.density_estimator"
   ]
  },
  {
   "cell_type": "code",
   "execution_count": null,
   "metadata": {},
   "outputs": [],
   "source": [
    "density = None\n",
    "set_log_level_warning()\n",
    "pbar = False"
   ]
  },
  {
   "cell_type": "code",
   "execution_count": null,
   "metadata": {},
   "outputs": [],
   "source": [
    "Ns = [1, 2, 3, 4, 5, 6, 7, 8, 9, 10, 15, 20, 25, 30, 35, 40, 45, 50, 55, 60, 65, 70, 75, 80, 85, 90, 95, 100]\n",
    "rt_tols = [1, 5, 10, 15, 20, 25, 30, 45, 60, 90, 120]\n",
    "\n",
    "Ns = [1, 2, 3, 4, 5, 10, 15, 20, 35, 50]\n",
    "rt_tols = [15, 30, 60, 120]"
   ]
  },
  {
   "cell_type": "code",
   "execution_count": null,
   "metadata": {},
   "outputs": [],
   "source": [
    "fragfiles = {}\n",
    "for N in Ns:\n",
    "    for rt_tol in rt_tols:\n",
    "        filename = 'QCB_N%02d_DEW%03d.mzML' % (N, rt_tol)\n",
    "        fragfiles[(N, rt_tol, )] = filename"
   ]
  },
  {
   "cell_type": "code",
   "execution_count": null,
   "metadata": {},
   "outputs": [],
   "source": [
    "params = get_params(experiment_name, Ns, rt_tols, mz_tol, isolation_window, ionisation_mode, data, density, \n",
    "                    min_ms1_intensity, min_rt, max_rt, experiment_out_dir, pbar, mzml_path, fragfiles)"
   ]
  },
  {
   "cell_type": "code",
   "execution_count": null,
   "metadata": {
    "scrolled": true
   },
   "outputs": [],
   "source": [
    "# for i in range(len(params)):\n",
    "#     param = params[i]\n",
    "#     run_serial_experiment(param, i, len(params))"
   ]
  },
  {
   "cell_type": "code",
   "execution_count": null,
   "metadata": {},
   "outputs": [],
   "source": [
    "%time run_parallel_experiment(params)"
   ]
  },
  {
   "cell_type": "code",
   "execution_count": null,
   "metadata": {},
   "outputs": [],
   "source": []
  }
 ],
 "metadata": {
  "kernelspec": {
   "display_name": "Python 3",
   "language": "python",
   "name": "python3"
  },
  "language_info": {
   "codemirror_mode": {
    "name": "ipython",
    "version": 3
   },
   "file_extension": ".py",
   "mimetype": "text/x-python",
   "name": "python",
   "nbconvert_exporter": "python",
   "pygments_lexer": "ipython3",
   "version": "3.7.3"
  }
 },
 "nbformat": 4,
 "nbformat_minor": 2
}
